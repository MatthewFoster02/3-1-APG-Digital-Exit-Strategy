{
 "cells": [
  {
   "cell_type": "code",
   "execution_count": 26,
   "metadata": {
    "collapsed": true
   },
   "outputs": [],
   "source": [
    "import pandas as pd"
   ]
  },
  {
   "cell_type": "code",
   "execution_count": 27,
   "outputs": [],
   "source": [
    "url_references_new = pd.read_excel('C:/Users/01din\\Desktop\\data APG\\scrape_results/url-reference.xlsx')\n",
    "url_references_old = pd.read_csv('C:/Users/01din/Desktop/data APG/references/references_for_shortened_data/references/url_references.csv')"
   ],
   "metadata": {
    "collapsed": false
   }
  },
  {
   "cell_type": "code",
   "execution_count": 28,
   "outputs": [],
   "source": [
    "unique_urls = url_references_old.urls.unique()"
   ],
   "metadata": {
    "collapsed": false
   }
  },
  {
   "cell_type": "code",
   "execution_count": 29,
   "outputs": [
    {
     "data": {
      "text/plain": "        id                                               urls\n0        1                               https://mijn.abp.nl/\n1        2                        https://mijn.abp.nl/welkom/\n2        3                         https://mijn.abp.nl/welkom\n3        4  https://mijn.abp.nl/plan-uw-pensioen/zelf-same...\n4        5  https://mijn.abp.nl/plan-uw-pensioen/zelf-same...\n...    ...                                                ...\n5032  5033               https://www.abp.nl/pensionanvulllend\n5033  5034                  https://www.abp.nl/sneloodehoogte\n5034  5035                          https://www.abp.nl/srmmen\n5035  5036           https://www.abp.nl/uw-dituatie-verandert\n5036  5037  https://www.abp.nl/werken/meer-minder/pensioen...\n\n[5037 rows x 2 columns]",
      "text/html": "<div>\n<style scoped>\n    .dataframe tbody tr th:only-of-type {\n        vertical-align: middle;\n    }\n\n    .dataframe tbody tr th {\n        vertical-align: top;\n    }\n\n    .dataframe thead th {\n        text-align: right;\n    }\n</style>\n<table border=\"1\" class=\"dataframe\">\n  <thead>\n    <tr style=\"text-align: right;\">\n      <th></th>\n      <th>id</th>\n      <th>urls</th>\n    </tr>\n  </thead>\n  <tbody>\n    <tr>\n      <th>0</th>\n      <td>1</td>\n      <td>https://mijn.abp.nl/</td>\n    </tr>\n    <tr>\n      <th>1</th>\n      <td>2</td>\n      <td>https://mijn.abp.nl/welkom/</td>\n    </tr>\n    <tr>\n      <th>2</th>\n      <td>3</td>\n      <td>https://mijn.abp.nl/welkom</td>\n    </tr>\n    <tr>\n      <th>3</th>\n      <td>4</td>\n      <td>https://mijn.abp.nl/plan-uw-pensioen/zelf-same...</td>\n    </tr>\n    <tr>\n      <th>4</th>\n      <td>5</td>\n      <td>https://mijn.abp.nl/plan-uw-pensioen/zelf-same...</td>\n    </tr>\n    <tr>\n      <th>...</th>\n      <td>...</td>\n      <td>...</td>\n    </tr>\n    <tr>\n      <th>5032</th>\n      <td>5033</td>\n      <td>https://www.abp.nl/pensionanvulllend</td>\n    </tr>\n    <tr>\n      <th>5033</th>\n      <td>5034</td>\n      <td>https://www.abp.nl/sneloodehoogte</td>\n    </tr>\n    <tr>\n      <th>5034</th>\n      <td>5035</td>\n      <td>https://www.abp.nl/srmmen</td>\n    </tr>\n    <tr>\n      <th>5035</th>\n      <td>5036</td>\n      <td>https://www.abp.nl/uw-dituatie-verandert</td>\n    </tr>\n    <tr>\n      <th>5036</th>\n      <td>5037</td>\n      <td>https://www.abp.nl/werken/meer-minder/pensioen...</td>\n    </tr>\n  </tbody>\n</table>\n<p>5037 rows × 2 columns</p>\n</div>"
     },
     "execution_count": 29,
     "metadata": {},
     "output_type": "execute_result"
    }
   ],
   "source": [
    "for url in unique_urls:\n",
    "    # Cut off everythin before a ? - indicates a key specific to a user\n",
    "    if '?' in url:\n",
    "        url = url.partition(\"?\")[0]\n",
    "    if '#' in url:\n",
    "        url = url.partition(\"#\")[0]\n",
    "    #Reduce 'foutpagina', which means error, to error\n",
    "    if 'foutpagina' in url:\n",
    "        url = 'error'\n",
    "    #Reduce logout pages to logout\n",
    "    if 'uitgelogd' in url:\n",
    "        url = 'logout'\n",
    "    #Reduce login pages to login\n",
    "    if 'login' in url:\n",
    "        url = 'login'\n",
    "    #Reduce search pages to search\n",
    "    if '#addsearch=' in url:\n",
    "        url = 'search'\n",
    "    # Check if the url is in the Url-refernce file, if not, add it together with id\n",
    "    if url not in url_references_new.urls.values:\n",
    "        url_references_new = pd.concat([url_references_new, pd.DataFrame([[url_references_new.id.iloc[-1]+1, url]], columns=['id', 'urls'], index=[url_references_new.id.iloc[-1]])])\n",
    "url_references_new"
   ],
   "metadata": {
    "collapsed": false
   }
  },
  {
   "cell_type": "code",
   "execution_count": 30,
   "outputs": [],
   "source": [
    "url_references_new.to_csv('C:/Users/01din\\Desktop\\data APG/references/references_for_shortened_data/references/url_references_reduced.csv', index=False)"
   ],
   "metadata": {
    "collapsed": false
   }
  },
  {
   "cell_type": "code",
   "execution_count": 30,
   "outputs": [],
   "source": [],
   "metadata": {
    "collapsed": false
   }
  }
 ],
 "metadata": {
  "kernelspec": {
   "display_name": "Python 3",
   "language": "python",
   "name": "python3"
  },
  "language_info": {
   "codemirror_mode": {
    "name": "ipython",
    "version": 2
   },
   "file_extension": ".py",
   "mimetype": "text/x-python",
   "name": "python",
   "nbconvert_exporter": "python",
   "pygments_lexer": "ipython2",
   "version": "2.7.6"
  }
 },
 "nbformat": 4,
 "nbformat_minor": 0
}
