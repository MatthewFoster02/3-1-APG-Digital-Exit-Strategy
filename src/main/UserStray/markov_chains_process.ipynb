{
 "cells": [
  {
   "cell_type": "code",
   "execution_count": 33,
   "outputs": [],
   "source": [
    "import pandas as pd\n",
    "from sklearn.model_selection import train_test_split"
   ],
   "metadata": {
    "collapsed": false
   }
  },
  {
   "cell_type": "code",
   "execution_count": 69,
   "outputs": [],
   "source": [
    "# functions\n",
    "def add_address_of_data(given_address): # could be useful for easily allowing others to use this file\n",
    "    return \"\".join([given_address, \"/cluster_paths.csv\"])\n",
    "\n",
    "def create_markov_chain_of_given_cluster(cluster): # creating transition matrix of given cluster\n",
    "    # assuming the cluster as a list of visit arrays\n",
    "    number_of_occurences = { }\n",
    "\n",
    "    for current_visit in cluster: # accessing cluster\n",
    "        if len(current_visit) > 1: # skipping visits with only one page\n",
    "            for x in range(len(current_visit)-1):\n",
    "                if current_visit[x] not in number_of_occurences.keys():\n",
    "                    number_of_occurences[current_visit[x]] = {} # create \"from\" page if empty\n",
    "\n",
    "                if current_visit[x+1] not in number_of_occurences[current_visit[x]].keys():\n",
    "                    number_of_occurences[current_visit[x]][current_visit[x+1]] = 1 # create \"to\" page if empty\n",
    "\n",
    "                number_of_occurences[current_visit[x]][current_visit[x+1]] = number_of_occurences[current_visit[x]][current_visit[x+1]] + 1 # increasing visit number from page x to page y\n",
    "\n",
    "    # in the end normalize to get prob. of each transition\n",
    "    for key in number_of_occurences.keys(): # for each \"from\" page\n",
    "        temp_sub_dict = number_of_occurences[key]\n",
    "        sum_of_row = sum(temp_sub_dict.values()) # find total number of outward visits from this page\n",
    "        for sub_key in temp_sub_dict.keys(): # adding final prob. values\n",
    "            number_of_occurences[key][sub_key] = number_of_occurences[key][sub_key] / sum_of_row\n",
    "\n",
    "    return number_of_occurences\n",
    "\n",
    "# calculates the probability of the given visit\n",
    "def calculate_prob_of_visit(given_visit, list_of_chains):\n",
    "    highest_prob_of_seq = 0\n",
    "    total_prob = 0\n",
    "    highest_prob_of_seq_label = 0\n",
    "    label_count = 0\n",
    "\n",
    "    # goes through each chain (cluster/label)\n",
    "    for chain in list_of_chains:\n",
    "\n",
    "        prob_of_seq = 1\n",
    "\n",
    "        for x in range(len(given_visit)-1):\n",
    "            temp_key = given_visit[x]\n",
    "            temp_sub_key = given_visit[x+1]\n",
    "            if temp_key in chain.keys():\n",
    "                if temp_sub_key in chain[temp_key].keys():\n",
    "                    prob_of_seq *= chain[temp_key][temp_sub_key]\n",
    "                # else: # taken path (so \"from\" exists but \"to\" page does not) is not on the chain, so need to give some sort of penalty\n",
    "                    # the penalty value is up to us\n",
    "                    # prob_of_seq = prob_of_seq**4 # since it's between 0-1 it will decrease\n",
    "            # else: # in this case \"from\" page doesn't exist too, need to give higher penalty\n",
    "                # prob_of_seq = prob_of_seq**8 # larger penalty\n",
    "\n",
    "        if highest_prob_of_seq < prob_of_seq:\n",
    "\n",
    "            highest_prob_of_seq = prob_of_seq\n",
    "            highest_prob_of_seq_label = label_count\n",
    "        label_count += 1\n",
    "        total_prob += prob_of_seq\n",
    "\n",
    "\n",
    "    if total_prob <= 0: # means visit size is 1 or 0 hence immediately skipping all code above\n",
    "        return 0, -1\n",
    "    else:\n",
    "        # instead of returning the actual prob., returning a percentage that compares with all other prob. for visual purposes\n",
    "        return highest_prob_of_seq / total_prob, highest_prob_of_seq_label\n",
    "        # this can be used instead for later, to define a min. threshold\n",
    "        # return highest_prob_of_seq, highest_prob_of_seq_label\n",
    "\n",
    "def get_list(given_lists):\n",
    "    temp = [given_list for given_list in given_lists] # creating nested list\n",
    "    return temp"
   ],
   "metadata": {
    "collapsed": false
   }
  },
  {
   "cell_type": "code",
   "execution_count": 35,
   "outputs": [],
   "source": [
    "my_address = \"C:/Users/dnaen/APG_data\"  # only this has to be modified\n",
    "df = pd.read_csv(add_address_of_data(my_address))\n",
    "train, test = train_test_split(df, test_size=0.2)"
   ],
   "metadata": {
    "collapsed": false
   }
  },
  {
   "cell_type": "code",
   "execution_count": 36,
   "outputs": [
    {
     "data": {
      "text/plain": "         visit_id  cluster_label                                path\n7488    134151[1]              0               [3, 1, 14, 21, 14, 5]\n67826   348931[6]             -1  [23, 3, 13, 32, 1, 13, 32, 17, 32]\n82229  622175[25]              1           [188, 966, 188, 237, 188]\n9544     53852[1]             11                [188, 187, 3, 1, 13]\n62022  216927[11]             -1      [618, 901, 681, 901, 481, 439]",
      "text/html": "<div>\n<style scoped>\n    .dataframe tbody tr th:only-of-type {\n        vertical-align: middle;\n    }\n\n    .dataframe tbody tr th {\n        vertical-align: top;\n    }\n\n    .dataframe thead th {\n        text-align: right;\n    }\n</style>\n<table border=\"1\" class=\"dataframe\">\n  <thead>\n    <tr style=\"text-align: right;\">\n      <th></th>\n      <th>visit_id</th>\n      <th>cluster_label</th>\n      <th>path</th>\n    </tr>\n  </thead>\n  <tbody>\n    <tr>\n      <th>7488</th>\n      <td>134151[1]</td>\n      <td>0</td>\n      <td>[3, 1, 14, 21, 14, 5]</td>\n    </tr>\n    <tr>\n      <th>67826</th>\n      <td>348931[6]</td>\n      <td>-1</td>\n      <td>[23, 3, 13, 32, 1, 13, 32, 17, 32]</td>\n    </tr>\n    <tr>\n      <th>82229</th>\n      <td>622175[25]</td>\n      <td>1</td>\n      <td>[188, 966, 188, 237, 188]</td>\n    </tr>\n    <tr>\n      <th>9544</th>\n      <td>53852[1]</td>\n      <td>11</td>\n      <td>[188, 187, 3, 1, 13]</td>\n    </tr>\n    <tr>\n      <th>62022</th>\n      <td>216927[11]</td>\n      <td>-1</td>\n      <td>[618, 901, 681, 901, 481, 439]</td>\n    </tr>\n  </tbody>\n</table>\n</div>"
     },
     "execution_count": 36,
     "metadata": {},
     "output_type": "execute_result"
    }
   ],
   "source": [
    "train.head()"
   ],
   "metadata": {
    "collapsed": false
   }
  },
  {
   "cell_type": "code",
   "execution_count": 37,
   "outputs": [],
   "source": [
    "# this part goes through the clusters\n",
    "list_of_markov_chains = []\n",
    "clusters = []\n",
    "\n",
    "# creating clusters with given file\n",
    "for x in range(0, train[\"cluster_label\"].max()): # going through each label\n",
    "    clusters.append(get_list(train.loc[train[\"cluster_label\"] == x, \"path\"]))\n",
    "\n",
    "for cluster in clusters: # saving each markov chain\n",
    "    list_of_markov_chains.append(create_markov_chain_of_given_cluster(cluster))"
   ],
   "metadata": {
    "collapsed": false
   }
  },
  {
   "cell_type": "code",
   "execution_count": 38,
   "outputs": [
    {
     "data": {
      "text/plain": "(0.9999712799388378, 35)"
     },
     "execution_count": 38,
     "metadata": {},
     "output_type": "execute_result"
    }
   ],
   "source": [
    "# trial\n",
    "calculate_prob_of_visit(get_list(test[\"path\"].iloc[34]), list_of_markov_chains)"
   ],
   "metadata": {
    "collapsed": false
   }
  },
  {
   "cell_type": "code",
   "execution_count": 70,
   "outputs": [
    {
     "name": "stdout",
     "output_type": "stream",
     "text": [
      "Accurate prediction with prob.\n",
      "0.07589914179300772\n",
      "False prediction with prob.\n",
      "0.24371660763395178\n"
     ]
    }
   ],
   "source": [
    "# experiment\n",
    "accurate_estimation_prob = 0\n",
    "false_estimation_prob = 0\n",
    "\n",
    "total_accurate_prob = 0\n",
    "total_false_prob = 0\n",
    "\n",
    "# row size\n",
    "row_size = len(test.axes[0])\n",
    "\n",
    "# using each data point of given dataset as a new visit\n",
    "for x in range(0, row_size):\n",
    "    if test.iloc[x][\"cluster_label\"] >= 0: # if visits actual label >= 0, then continue (meaning it's labelled data)\n",
    "        estimated_prob, estimated_label = calculate_prob_of_visit(get_list(test[\"path\"].iloc[x]), list_of_markov_chains)\n",
    "        correct_label = test.iloc[x][\"cluster_label\"]\n",
    "\n",
    "        if estimated_label == correct_label:\n",
    "            total_accurate_prob += estimated_prob\n",
    "        else:\n",
    "            total_false_prob += estimated_prob\n",
    "\n",
    "accurate_estimation_prob = total_accurate_prob / row_size\n",
    "false_estimation_prob = total_false_prob / row_size\n",
    "\n",
    "print(\"Accurate prediction with prob.\")\n",
    "print(accurate_estimation_prob)\n",
    "print(\"False prediction with prob.\")\n",
    "print(false_estimation_prob)"
   ],
   "metadata": {
    "collapsed": false
   }
  },
  {
   "cell_type": "code",
   "execution_count": null,
   "outputs": [],
   "source": [],
   "metadata": {
    "collapsed": false
   }
  },
  {
   "cell_type": "code",
   "execution_count": 40,
   "outputs": [
    {
     "data": {
      "text/plain": "'\\n--- NEW DATA ---\\n- with data split -\\n\\n\\n\\n\\n\\n- with data split -\\n---\\nwith \"**4\", \"**8\"\\nAccurate prediction with prob.\\n0.2388692717237677\\nFalse prediction with prob.\\n0.43046396467076636\\n---\\nwith \"**2\", \"**4\"\\nAccurate prediction with prob.\\n0.23843819277924\\nFalse prediction with prob.\\n0.43074425945854444\\n---\\nAccurate prediction with prob.\\n0.15161087259582942\\nFalse prediction with prob.\\n0.5060816486264718\\n---\\n\\n- without data split -\\n---\\nwith \"**2\", \"**4\"\\nAccurate prediction with prob.\\n0.23586278072337818\\nFalse prediction with prob.\\n0.43129438494374694\\n---\\n---\\nwith \"**4\", \"**8\"\\nAccurate prediction with prob.\\n0.2361750165115125\\nFalse prediction with prob.\\n0.4311013386871281\\n---\\n---\\nwithout \"**2\", \"**4\"\\nAccurate prediction with prob.\\n0.15800201996288196\\nFalse prediction with prob.\\n0.5001289899211507\\n'"
     },
     "execution_count": 40,
     "metadata": {},
     "output_type": "execute_result"
    }
   ],
   "source": [
    "\"\"\"\n",
    "--- NEW DATA ---\n",
    "- with data split -\n",
    "---\n",
    "with \"**2\", \"**4\"\n",
    "Accurate prediction with prob.\n",
    "0.16584946834774958\n",
    "False prediction with prob.\n",
    "0.1284352770748932\n",
    "---\n",
    "with \"**4\", \"**8\"\n",
    "Accurate prediction with prob.\n",
    "0.16603716939094812\n",
    "False prediction with prob.\n",
    "0.1284816459135557\n",
    "---\n",
    "without penalty\n",
    "Accurate prediction with prob.\n",
    "0.07589914179300772\n",
    "False prediction with prob.\n",
    "0.24371660763395178\n",
    "---\n",
    "\n",
    "\n",
    "\n",
    "- with data split -\n",
    "---\n",
    "with \"**4\", \"**8\"\n",
    "Accurate prediction with prob.\n",
    "0.2388692717237677\n",
    "False prediction with prob.\n",
    "0.43046396467076636\n",
    "---\n",
    "with \"**2\", \"**4\"\n",
    "Accurate prediction with prob.\n",
    "0.23843819277924\n",
    "False prediction with prob.\n",
    "0.43074425945854444\n",
    "---\n",
    "Accurate prediction with prob.\n",
    "0.15161087259582942\n",
    "False prediction with prob.\n",
    "0.5060816486264718\n",
    "---\n",
    "\n",
    "- without data split -\n",
    "---\n",
    "with \"**2\", \"**4\"\n",
    "Accurate prediction with prob.\n",
    "0.23586278072337818\n",
    "False prediction with prob.\n",
    "0.43129438494374694\n",
    "---\n",
    "---\n",
    "with \"**4\", \"**8\"\n",
    "Accurate prediction with prob.\n",
    "0.2361750165115125\n",
    "False prediction with prob.\n",
    "0.4311013386871281\n",
    "---\n",
    "---\n",
    "without \"**2\", \"**4\"\n",
    "Accurate prediction with prob.\n",
    "0.15800201996288196\n",
    "False prediction with prob.\n",
    "0.5001289899211507\n",
    "\"\"\""
   ],
   "metadata": {
    "collapsed": false
   }
  }
 ],
 "metadata": {
  "kernelspec": {
   "display_name": "Python 3",
   "language": "python",
   "name": "python3"
  },
  "language_info": {
   "codemirror_mode": {
    "name": "ipython",
    "version": 2
   },
   "file_extension": ".py",
   "mimetype": "text/x-python",
   "name": "python",
   "nbconvert_exporter": "python",
   "pygments_lexer": "ipython2",
   "version": "2.7.6"
  }
 },
 "nbformat": 4,
 "nbformat_minor": 0
}
