{
 "cells": [
  {
   "cell_type": "code",
   "execution_count": 62,
   "outputs": [],
   "source": [
    "import pandas as pd\n",
    "import numpy as np\n",
    "from collections import Counter\n",
    "from ast import literal_eval\n",
    "from matplotlib import pyplot as plt\n",
    "from scipy.stats import t\n",
    "import csv"
   ],
   "metadata": {
    "collapsed": false
   }
  },
  {
   "cell_type": "code",
   "execution_count": 58,
   "outputs": [],
   "source": [
    "# functions\n",
    "def add_address_of_data(given_address): # could be useful for easily allowing others to use this file\n",
    "    return \"\".join([given_address, \"/cluster_paths.csv\"])\n",
    "\n",
    "def create_markov_chain_of_given_cluster(cluster): # creating transition matrix of given cluster\n",
    "    # assuming the cluster as a list of visit arrays\n",
    "    number_of_occurences = { }\n",
    "\n",
    "    for current_visit in cluster: # accessing cluster\n",
    "        if len(current_visit) > 1: # skipping visits with only one page\n",
    "            for x in range(len(current_visit)-1):\n",
    "                if current_visit[x] not in number_of_occurences.keys():\n",
    "                    number_of_occurences[current_visit[x]] = {} # create \"from\" page if empty\n",
    "\n",
    "                if current_visit[x+1] not in number_of_occurences[current_visit[x]].keys():\n",
    "                    number_of_occurences[current_visit[x]][current_visit[x+1]] = 1 # create \"to\" page if empty\n",
    "\n",
    "                number_of_occurences[current_visit[x]][current_visit[x+1]] = number_of_occurences[current_visit[x]][current_visit[x+1]] + 1 # increasing visit number from page x to page y\n",
    "\n",
    "    # in the end normalize to get prob. of each transition\n",
    "    for key in number_of_occurences.keys(): # for each \"from\" page\n",
    "        temp_sub_dict = number_of_occurences[key]\n",
    "        sum_of_row = sum(temp_sub_dict.values()) # find total number of outward visits from this page\n",
    "        for sub_key in temp_sub_dict.keys(): # adding final prob. values\n",
    "            number_of_occurences[key][sub_key] = number_of_occurences[key][sub_key] / sum_of_row\n",
    "\n",
    "    return number_of_occurences\n",
    "\n",
    "# need to decide if we should alter the prob. in the end (perhaps compare with other prob. in the end?)\n",
    "def calculate_prob_of_visit(given_visit, list_of_chains):\n",
    "    highest_prob_of_seq = 0\n",
    "    total_prob = 0\n",
    "    highest_prob_of_seq_label = 0\n",
    "    label_count = 0\n",
    "    for chain in list_of_chains:\n",
    "\n",
    "        prob_of_seq = 1\n",
    "\n",
    "        for x in range(len(given_visit)-1):\n",
    "            temp_key = given_visit[x]\n",
    "            temp_sub_key = given_visit[x+1]\n",
    "            if temp_key in chain.keys():\n",
    "                if temp_sub_key in chain[temp_key].keys():\n",
    "                    prob_of_seq *= chain[temp_key][temp_sub_key]\n",
    "                else: # TODO: what should we do if taken path is not on the chain\n",
    "                    prob_of_seq = prob_of_seq**4 # since it's between 0-1 it will decrease\n",
    "            else: # TODO: what should we do if taken path is not on the chain\n",
    "                prob_of_seq = prob_of_seq**8 # larger penalty\n",
    "\n",
    "        if highest_prob_of_seq < prob_of_seq:\n",
    "            highest_prob_of_seq = prob_of_seq\n",
    "            highest_prob_of_seq_label = label_count\n",
    "        label_count += 1\n",
    "        total_prob += prob_of_seq\n",
    "\n",
    "    # Maybe instead return a percentage that compares with all other prob. for visual purposes?\n",
    "    if total_prob <= 0:\n",
    "        return 0, -1\n",
    "    else:\n",
    "        return highest_prob_of_seq /total_prob, highest_prob_of_seq_label\n",
    "    # return highest_prob_of_seq, highest_prob_of_seq_label\n",
    "\n",
    "def get_list(given_lists):\n",
    "    temp = [given_list for given_list in given_lists] # should length of 0 not be added at all?\n",
    "    return temp"
   ],
   "metadata": {
    "collapsed": false
   }
  },
  {
   "cell_type": "code",
   "execution_count": 3,
   "outputs": [],
   "source": [
    "my_address = \"C:/Users/dnaen/APG_data\"  # only this has to be modified\n",
    "conv = {\"url_id_path\": literal_eval, \"seconds_spent_path\": literal_eval}\n",
    "df = pd.read_csv(add_address_of_data(my_address), converters = conv)"
   ],
   "metadata": {
    "collapsed": false
   }
  },
  {
   "cell_type": "code",
   "execution_count": 5,
   "outputs": [],
   "source": [
    "# this part goes through the clusters\n",
    "list_of_markov_chains = []\n",
    "clusters = []\n",
    "\n",
    "# creating temp clusters\n",
    "# for x in range(0, 10000, 1000):\n",
    "#    clusters.append(get_list(df[\"url_id_path\"].iloc[x:x+1000]))\n",
    "\n",
    "# creating clusters with given file\n",
    "for x in range(0, df[\"cluster_label\"].max()):\n",
    "    clusters.append(get_list(df.loc[df[\"cluster_label\"] == x, \"path\"]))\n",
    "\n",
    "for cluster in clusters: # saving each markov chain\n",
    "    list_of_markov_chains.append(create_markov_chain_of_given_cluster(cluster))"
   ],
   "metadata": {
    "collapsed": false
   }
  },
  {
   "cell_type": "code",
   "execution_count": 35,
   "outputs": [
    {
     "data": {
      "text/plain": "(0.5403888246399355, 7)"
     },
     "execution_count": 35,
     "metadata": {},
     "output_type": "execute_result"
    }
   ],
   "source": [
    "# trial\n",
    "calculate_prob_of_visit(get_list(df[\"path\"].iloc[34]), list_of_markov_chains)"
   ],
   "metadata": {
    "collapsed": false
   }
  },
  {
   "cell_type": "code",
   "execution_count": 64,
   "outputs": [
    {
     "data": {
      "text/plain": "{'[': {'1': 0.8338322056860499,\n  '2': 0.11113489063795604,\n  '6': 0.005020908840243719,\n  '8': 0.011867421727475342,\n  '3': 0.011115878076725141,\n  '9': 0.015776444133430354,\n  '7': 0.00661657039276368,\n  '5': 0.0030897900555345963,\n  '4': 0.0015458904498212719},\n '1': {'8': 0.08534055333592942,\n  '5': 0.2424139992824969,\n  ',': 0.26586273613977207,\n  '3': 0.08210553427917003,\n  '4': 0.11043746224676587,\n  '6': 0.03301446351312816,\n  '2': 0.08069996412484554,\n  '7': 0.04834131070030141,\n  '9': 0.027486378173188074,\n  ']': 0.010488546013718413,\n  '0': 0.008512162290613282,\n  '1': 0.00529688990007083},\n '8': {'8': 0.23344863781363223,\n  ',': 0.4588614205905008,\n  '6': 0.03194925235788904,\n  '0': 0.0222793119667595,\n  '9': 0.034946997960917804,\n  '7': 0.08120891556969342,\n  '4': 0.02213384632933164,\n  '5': 0.02907454376977724,\n  ']': 0.029304597354960507,\n  '3': 0.012856086423249894,\n  '1': 0.019736546991809066,\n  '2': 0.024199842871478867},\n ',': {' ': 1.0},\n ' ': {'1': 0.5700383945408123,\n  '3': 0.10233777525608127,\n  '2': 0.13528664971367763,\n  '5': 0.03427798537558659,\n  '8': 0.018289973132807114,\n  '9': 0.020500879099343575,\n  '7': 0.08262703723624346,\n  '4': 0.01558707961443717,\n  '6': 0.021054226031010877},\n '5': {'5': 0.4270182765891485,\n  '7': 0.2777137556039151,\n  ',': 0.0924136201555448,\n  '6': 0.14147169706445226,\n  '9': 0.018115007666502717,\n  '1': 0.004983819230393864,\n  '0': 0.004729813140710972,\n  ']': 0.00770614403890365,\n  '8': 0.005396606056375564,\n  '2': 0.015628160937741362,\n  '4': 0.003473140094807396,\n  '3': 0.0013499594215038238},\n '7': {',': 0.8469885097053316,\n  ']': 0.06913863778146126,\n  '4': 0.009742521559930228,\n  '7': 0.018176270609210655,\n  '8': 0.009729228102748295,\n  '9': 0.015239682615544672,\n  '3': 0.005895964771072425,\n  '5': 0.006533417694034625,\n  '2': 0.005261676956963065,\n  '6': 0.006567284358760024,\n  '0': 0.004168131848306461,\n  '1': 0.0025586739966367554},\n '3': {',': 0.6863704747660938,\n  '3': 0.03491992715301803,\n  '6': 0.01039400980877446,\n  '1': 0.05708853597826092,\n  '7': 0.03181548144343897,\n  '2': 0.03980131193574885,\n  '9': 0.05526780378381415,\n  '5': 0.011920576087451767,\n  '4': 0.026578443433221462,\n  ']': 0.005136623479571394,\n  '0': 0.030623777718502238,\n  '8': 0.010083034412103889},\n '4': {',': 0.7322864531570346,\n  '8': 0.014565187715052288,\n  '2': 0.06811950687720793,\n  '9': 0.026124587118742673,\n  '7': 0.013943872389231724,\n  '6': 0.027037423085117647,\n  '1': 0.03147976387466016,\n  '3': 0.012666157196604837,\n  '4': 0.016221815950325392,\n  ']': 0.023286566703367224,\n  '5': 0.015717236460875635,\n  '0': 0.018551429471779908},\n '2': {'1': 0.08979236387277018,\n  ',': 0.3479976137306487,\n  '2': 0.1123378419282676,\n  '8': 0.014466513045951358,\n  '0': 0.1641337316544115,\n  '3': 0.06954433945106009,\n  '4': 0.056897569028914415,\n  '5': 0.02217519488029633,\n  ']': 0.02261013067338967,\n  '9': 0.04162420437280267,\n  '7': 0.01727302441354688,\n  '6': 0.0411474729479406},\n '6': {',': 0.4968776532063032,\n  ']': 0.2687854890982789,\n  '2': 0.009810476703508255,\n  '9': 0.09194270525172422,\n  '1': 0.01058948645910735,\n  '3': 0.006490696668109044,\n  '0': 0.009712706248352096,\n  '8': 0.02685722864283254,\n  '5': 0.016761009899416278,\n  '4': 0.012710789947431035,\n  '6': 0.04317101755705064,\n  '7': 0.006290740317886442},\n '9': {',': 0.5181867601714409,\n  '2': 0.006094299518259301,\n  '5': 0.05211661760695832,\n  '4': 0.03607199541332513,\n  '6': 0.05991868440740301,\n  '7': 0.13526583136977968,\n  '8': 0.05670853638925208,\n  '0': 0.0326721925844095,\n  '9': 0.024147339938331597,\n  ']': 0.03517616047768541,\n  '1': 0.03059822546024066,\n  '3': 0.013043356662914356},\n '0': {',': 0.6695754533426725,\n  '2': 0.026501332788543854,\n  '7': 0.010366808701066231,\n  '8': 0.02623745038524399,\n  '4': 0.09836976612965989,\n  ']': 0.04306998599112771,\n  '1': 0.05370918943108413,\n  '6': 0.010873900692660907,\n  '9': 0.013555286403611175,\n  '0': 0.03561439606195035,\n  '3': 0.0027263794847848083,\n  '5': 0.009400050587594366}}"
     },
     "execution_count": 64,
     "metadata": {},
     "output_type": "execute_result"
    }
   ],
   "source": [
    "list_of_markov_chains[0]"
   ],
   "metadata": {
    "collapsed": false
   }
  },
  {
   "cell_type": "code",
   "execution_count": 61,
   "outputs": [
    {
     "ename": "AttributeError",
     "evalue": "'list' object has no attribute 'to_csv'",
     "output_type": "error",
     "traceback": [
      "\u001B[1;31m---------------------------------------------------------------------------\u001B[0m",
      "\u001B[1;31mAttributeError\u001B[0m                            Traceback (most recent call last)",
      "\u001B[1;32m<ipython-input-61-af855f98e6ca>\u001B[0m in \u001B[0;36m<module>\u001B[1;34m\u001B[0m\n\u001B[1;32m----> 1\u001B[1;33m \u001B[0mlist_of_markov_chains\u001B[0m\u001B[1;33m.\u001B[0m\u001B[0mto_csv\u001B[0m\u001B[1;33m(\u001B[0m\u001B[1;34m\"C:/Users/dnaen/APG_data/list_of_markov_chains.csv\"\u001B[0m\u001B[1;33m,\u001B[0m \u001B[0mindex\u001B[0m\u001B[1;33m=\u001B[0m\u001B[1;32mFalse\u001B[0m\u001B[1;33m)\u001B[0m\u001B[1;33m\u001B[0m\u001B[1;33m\u001B[0m\u001B[0m\n\u001B[0m",
      "\u001B[1;31mAttributeError\u001B[0m: 'list' object has no attribute 'to_csv'"
     ]
    }
   ],
   "source": [
    "list_of_markov_chains.to_csv(\"C:/Users/dnaen/APG_data/list_of_markov_chains.csv\", index=False)"
   ],
   "metadata": {
    "collapsed": false
   }
  },
  {
   "cell_type": "code",
   "execution_count": 59,
   "outputs": [
    {
     "name": "stdout",
     "output_type": "stream",
     "text": [
      "Accurate prediction with prob.\n",
      "0.2361750165115125\n",
      "False prediction with prob.\n",
      "0.4311013386871281\n"
     ]
    }
   ],
   "source": [
    "# experiment\n",
    "accurate_estimation_prob = 0\n",
    "false_estimation_prob = 0\n",
    "\n",
    "total_accurate_prob = 0\n",
    "total_false_prob = 0\n",
    "\n",
    "# row size\n",
    "row_size = len(df.axes[0])\n",
    "\n",
    "for x in range(0, len(df.axes[0])):\n",
    "    if df.loc[x][\"cluster_label\"] >= 0:\n",
    "        estimated_prob, estimated_label = calculate_prob_of_visit(get_list(df[\"path\"].iloc[x]), list_of_markov_chains)\n",
    "        correct_label = df.loc[x][\"cluster_label\"]\n",
    "\n",
    "        if estimated_label == correct_label:\n",
    "            total_accurate_prob += estimated_prob\n",
    "        else:\n",
    "            total_false_prob += estimated_prob\n",
    "\n",
    "accurate_estimation_prob = total_accurate_prob / row_size\n",
    "false_estimation_prob = total_false_prob / row_size\n",
    "\n",
    "print(\"Accurate prediction with prob.\")\n",
    "print(accurate_estimation_prob)\n",
    "print(\"False prediction with prob.\")\n",
    "print(false_estimation_prob)"
   ],
   "metadata": {
    "collapsed": false
   }
  },
  {
   "cell_type": "code",
   "execution_count": 51,
   "outputs": [
    {
     "data": {
      "text/plain": "'[188, 1557, 1, 12, 7, 12, 19, 13, 12, 19, 13, 1559, 12, 19, 13, 1559, 1556, 1557, 1, 12, 13]'"
     },
     "execution_count": 51,
     "metadata": {},
     "output_type": "execute_result"
    }
   ],
   "source": [
    "\"\"\"\n",
    "with \"**2\", \"**4\"\n",
    "Accurate prediction with prob.\n",
    "0.23586278072337818\n",
    "False prediction with prob.\n",
    "0.43129438494374694\n",
    "\"\"\"\n",
    "\"\"\"\n",
    "with \"**4\", \"**8\"\n",
    "Accurate prediction with prob.\n",
    "0.2361750165115125\n",
    "False prediction with prob.\n",
    "0.4311013386871281\n",
    "\"\"\"\n",
    "\"\"\"\n",
    "without \"**2\", \"**4\"\n",
    "Accurate prediction with prob.\n",
    "0.15800201996288196\n",
    "False prediction with prob.\n",
    "0.5001289899211507\n",
    "\"\"\""
   ],
   "metadata": {
    "collapsed": false
   }
  }
 ],
 "metadata": {
  "kernelspec": {
   "display_name": "Python 3",
   "language": "python",
   "name": "python3"
  },
  "language_info": {
   "codemirror_mode": {
    "name": "ipython",
    "version": 2
   },
   "file_extension": ".py",
   "mimetype": "text/x-python",
   "name": "python",
   "nbconvert_exporter": "python",
   "pygments_lexer": "ipython2",
   "version": "2.7.6"
  }
 },
 "nbformat": 4,
 "nbformat_minor": 0
}
