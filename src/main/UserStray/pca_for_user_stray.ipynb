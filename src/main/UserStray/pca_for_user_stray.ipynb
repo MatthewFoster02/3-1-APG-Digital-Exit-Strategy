{
 "cells": [
  {
   "cell_type": "code",
   "execution_count": 1,
   "metadata": {
    "collapsed": true
   },
   "outputs": [],
   "source": [
    "import numpy as np\n",
    "import matplotlib.pyplot as plt\n",
    "import matplotlib.patches as mpatches\n",
    "from sklearn.decomposition import PCA\n",
    "from sklearn.preprocessing import StandardScaler\n",
    "import pandas as pd\n",
    "from sklearn.model_selection import train_test_split\n",
    "from sklearn.ensemble import RandomForestClassifier\n",
    "from sklearn.metrics import confusion_matrix\n",
    "from sklearn.metrics import accuracy_score\n",
    "from sklearn.tree import DecisionTreeClassifier\n",
    "from ast import literal_eval"
   ]
  },
  {
   "cell_type": "code",
   "execution_count": null,
   "outputs": [],
   "source": [
    "# meanings will give us several hundreds of variables and each cluster will have a set of data points (each data point containing values of each of these variables)\n",
    "\n",
    "# Creating 20 data points and 5 variables for each data point (between 10 and 50)\n",
    "#example_data = np.random.randint(10,50,100).reshape(20,5)\n",
    "#example_data[0:10:]\n",
    "\n",
    "# trying on a real data\n",
    "url = \"https://archive.ics.uci.edu/ml/machine-learning-databases/iris/iris.data\"\n",
    "names = ['sepal-length', 'sepal-width', 'petal-length', 'petal-width', 'Class']\n",
    "dataset = pd.read_csv(url, names=names)\n",
    "\n",
    "dataset.head()\n",
    "\n",
    "# dividing the dataset into a feature set and corresponding labels\n",
    "features_X = dataset.drop('Class', 1)\n",
    "labels_Y = dataset['Class']\n"
   ],
   "metadata": {
    "collapsed": false
   }
  },
  {
   "cell_type": "code",
   "execution_count": 2,
   "outputs": [],
   "source": [
    "def add_address_of_data(given_address): # could be useful for easily allowing others to use this file\n",
    "    return \"\".join([given_address, \"/visit_meaning_vectors/visit_meanings.csv\"])\n",
    "\n",
    "# main data\n",
    "my_address = \"C:/Users/dnaen/APG_data\"  # only this has to be modified\n",
    "df = pd.read_csv(add_address_of_data(my_address))\n"
   ],
   "metadata": {
    "collapsed": false
   }
  },
  {
   "cell_type": "code",
   "execution_count": 3,
   "outputs": [
    {
     "data": {
      "text/plain": "  visit_id  cluster_label                                               path\n0     0[1]              0  [188, 1557, 3, 1, 13, 14, 21, 16, 14, 18, 14, ...\n1     5[1]              0      [1557, 3, 1, 13, 1, 1559, 12, 1559, 17, 1556]\n2     9[1]              0  [1557, 3, 86, 3, 86, 3, 92, 3, 7, 19, 14, 18, ...\n3    11[1]              0  [188, 228, 1557, 3, 1, 12, 7, 20, 1, 7, 1, 12,...\n4    12[4]             18                          [1557, 1, 17, 12, 17, 13]",
      "text/html": "<div>\n<style scoped>\n    .dataframe tbody tr th:only-of-type {\n        vertical-align: middle;\n    }\n\n    .dataframe tbody tr th {\n        vertical-align: top;\n    }\n\n    .dataframe thead th {\n        text-align: right;\n    }\n</style>\n<table border=\"1\" class=\"dataframe\">\n  <thead>\n    <tr style=\"text-align: right;\">\n      <th></th>\n      <th>visit_id</th>\n      <th>cluster_label</th>\n      <th>path</th>\n    </tr>\n  </thead>\n  <tbody>\n    <tr>\n      <th>0</th>\n      <td>0[1]</td>\n      <td>0</td>\n      <td>[188, 1557, 3, 1, 13, 14, 21, 16, 14, 18, 14, ...</td>\n    </tr>\n    <tr>\n      <th>1</th>\n      <td>5[1]</td>\n      <td>0</td>\n      <td>[1557, 3, 1, 13, 1, 1559, 12, 1559, 17, 1556]</td>\n    </tr>\n    <tr>\n      <th>2</th>\n      <td>9[1]</td>\n      <td>0</td>\n      <td>[1557, 3, 86, 3, 86, 3, 92, 3, 7, 19, 14, 18, ...</td>\n    </tr>\n    <tr>\n      <th>3</th>\n      <td>11[1]</td>\n      <td>0</td>\n      <td>[188, 228, 1557, 3, 1, 12, 7, 20, 1, 7, 1, 12,...</td>\n    </tr>\n    <tr>\n      <th>4</th>\n      <td>12[4]</td>\n      <td>18</td>\n      <td>[1557, 1, 17, 12, 17, 13]</td>\n    </tr>\n  </tbody>\n</table>\n</div>"
     },
     "execution_count": 3,
     "metadata": {},
     "output_type": "execute_result"
    }
   ],
   "source": [
    "# will be used to get the labels\n",
    "combined_address = \"\".join([my_address, \"/cluster_paths.csv\"])\n",
    "df_with_labels = pd.read_csv(combined_address)\n",
    "\n",
    "df_with_labels.head()"
   ],
   "metadata": {
    "collapsed": false
   }
  },
  {
   "cell_type": "code",
   "execution_count": 4,
   "outputs": [],
   "source": [
    "# dividing the dataset into a feature set and corresponding labels\n",
    "features_X = df.pop(\"meaning_vectors\")\n",
    "labels_Y = df_with_labels.pop(\"cluster_label\")\n"
   ],
   "metadata": {
    "collapsed": false
   }
  },
  {
   "cell_type": "code",
   "execution_count": 15,
   "outputs": [
    {
     "data": {
      "text/plain": "0     0\n1     0\n2     0\n3     0\n4    18\nName: cluster_label, dtype: int64"
     },
     "execution_count": 15,
     "metadata": {},
     "output_type": "execute_result"
    }
   ],
   "source": [
    "labels_Y.head()"
   ],
   "metadata": {
    "collapsed": false
   }
  },
  {
   "cell_type": "code",
   "execution_count": 5,
   "outputs": [],
   "source": [
    "features_X = features_X.to_frame(name=\"meaning_vectors\")"
   ],
   "metadata": {
    "collapsed": false
   }
  },
  {
   "cell_type": "code",
   "execution_count": 6,
   "outputs": [
    {
     "data": {
      "text/plain": "                      0                     1                      2   \\\n0   [-1.0013970414243027   0.10410662986918126    -0.7069594929319728   \n1  [-0.22001658113151915   -2.2507345794274003   -0.39334745766392143   \n2     [1.597802667104453   -1.3318458039597452    -1.7876896274176677   \n3  [-0.08318374597228116   -0.8729878666888199    0.04103715385277553   \n4    [-2.879218311253632   -1.2799126645257008     1.4575141945832106   \n5   [-0.8369180614741538   -0.9360479342720077    -1.4600495143301906   \n6   [0.41522979898676204    -1.159737958953214   -0.24958176524187306   \n7   [-2.9608902166864195   -1.0956738286472025     1.5058700002833443   \n8  [-0.21947748986132684   -2.2178541207713884   -0.41563905313300975   \n9     [1.636401249004699   -1.3215432693000375     -1.799365303324645   \n\n                      3                        4                      5   \\\n0   -0.36709259026598773      -2.1300366871439413     0.5969171592180543   \n1   -0.22047120988704638      -0.7654681601639308     -1.142924618070034   \n2     0.1531999657748357      -0.9184955153229891    -0.5461559025055277   \n3     0.4616454791874244      -1.2901850509770025   -0.32690479632566644   \n4     -1.166744513134016      -1.3042470403141233    -2.9598892548443834   \n5     0.6728528936018906      -2.0424073705869854     0.8780426693652943   \n6   -0.13623317566661258   -0.0028182256505899146     -0.113359035790069   \n7    -1.4171404701882868       -1.330844679769079    -3.2280216641241934   \n8   -0.22944012568942837      -0.7795311621539934    -1.1547154513449471   \n9    0.12268648799344105      -0.9487439002267276    -0.5580854809242989   \n\n                      6                      7                    8   \\\n0   -0.03271988515836363    0.22249206804431765   2.0278810990021037   \n1      -1.86187248369162    -2.3556492318840334   0.4819600693957551   \n2    -1.3570081626634485     1.0627681533667157   0.9851826480709566   \n3    -1.1119495148239313    -0.4324641976679138   1.0586961520473588   \n4     -3.275919495479953    -0.8904921384608795    3.356320868826463   \n5     0.6503694747009278    -0.7550821150290333    0.987214469378856   \n6    -1.5764256339857223     -2.286969566939029   0.7884043577574544   \n7     -2.914351798926398   -0.15371908870942233      3.7869134416421   \n8    -1.8051821470791596    -2.2811334928079656   0.5249316969983312   \n9     -1.336901155508226      1.116053957525558   1.0041238951464682   \n\n                     9   ...                     90                     91  \\\n0     0.827870212403462  ...     0.6548517055350448   -0.38468799598436426   \n1   0.18859658647643737  ...    -2.9357195712888546    -1.4991282068852751   \n2    1.2266712267690123  ...   -0.08874881949668298     -2.042117278138647   \n3   -1.0272654039747169  ...    -1.0450595649908427   -0.21682913857705483   \n4     -2.58905896196911  ...    -1.6676139719707401     -1.561016979377544   \n5   -1.8657573549489026  ...    -0.7416060416975647   -0.03952623912108067   \n6   -0.8258271395134206  ...     0.9086259165978999    -0.9989015212295889   \n7   -3.0848926771574683  ...    -1.0075266551915474     -1.431580054894582   \n8   0.20879004035050058  ...     -2.856059562474998    -1.5353509528367395   \n9    1.2598132746366242  ...   -0.05103576905599793     -2.083416129378853   \n\n                     92                     93                     94  \\\n0    1.1044825047930154     0.3155223956828208    -2.8847950848931903   \n1    1.0062288988970693    -0.8182551957518548   -0.03623077012179573   \n2   0.44127326653992904   -0.11127071569812472   0.013890977112452017   \n3    0.5135529541165453    0.24952462880443266    -0.4754690515821106   \n4   -0.6728326083361991     0.4044155336332753    -0.7633771138154553   \n5    0.7452824610817166     1.3450202088510912    -1.0320636113872825   \n6   -0.6314352109646598     -2.632272249209213     -1.091078694284572   \n7   -0.9603913965546478     0.6739031904247236    -0.7635178779790973   \n8    0.9520496397599718    -0.7985087925155984   -0.04356704773773685   \n9    0.4702529315839726   -0.10329644329994535    0.04284644537085021   \n\n                      95                     96                     97  \\\n0    -0.7553962498890037    -1.4720945990902772      2.653286573843067   \n1    -1.7267140207545708    0.42753339462984424    -0.2442145154380059   \n2       0.95533802751127    -0.8402656332947769   0.061700693517540386   \n3    -0.8941292800735631     0.7727549164157642     1.0482704489062364   \n4    -3.7231811983314644     1.7113150440592182     0.6782706184706131   \n5   -0.36690024502287766    -0.3993312144790031      1.434885437273656   \n6   -0.06114190398377731   0.013034119396266025    0.23678484198785382   \n7     -3.653489183589961     1.4316337850813414     0.8270008493919788   \n8    -1.7113681682832265     0.4324085498406598    -0.2619146641405508   \n9     0.9636512408517387    -0.8638822929503234    0.02346379734516011   \n\n                     98                      99  \n0   0.19436177212666456     0.1434588478106824]  \n1     1.433941992453667    -1.8641315484083514]  \n2     1.174434637245242    -1.3317815829510649]  \n3    0.7197991172110915    0.45537440922683853]  \n4    1.3848466663654022    -0.3254715591507867]  \n5   0.22887428557260156     1.6715811412887076]  \n6    1.3449782613104728     -0.538909557924523]  \n7     1.434033033769334   0.030364470567248808]  \n8    1.4221927650774926     -1.854721102828428]  \n9     1.211031653527771     -1.348301502039101]  \n\n[10 rows x 100 columns]",
      "text/html": "<div>\n<style scoped>\n    .dataframe tbody tr th:only-of-type {\n        vertical-align: middle;\n    }\n\n    .dataframe tbody tr th {\n        vertical-align: top;\n    }\n\n    .dataframe thead th {\n        text-align: right;\n    }\n</style>\n<table border=\"1\" class=\"dataframe\">\n  <thead>\n    <tr style=\"text-align: right;\">\n      <th></th>\n      <th>0</th>\n      <th>1</th>\n      <th>2</th>\n      <th>3</th>\n      <th>4</th>\n      <th>5</th>\n      <th>6</th>\n      <th>7</th>\n      <th>8</th>\n      <th>9</th>\n      <th>...</th>\n      <th>90</th>\n      <th>91</th>\n      <th>92</th>\n      <th>93</th>\n      <th>94</th>\n      <th>95</th>\n      <th>96</th>\n      <th>97</th>\n      <th>98</th>\n      <th>99</th>\n    </tr>\n  </thead>\n  <tbody>\n    <tr>\n      <th>0</th>\n      <td>[-1.0013970414243027</td>\n      <td>0.10410662986918126</td>\n      <td>-0.7069594929319728</td>\n      <td>-0.36709259026598773</td>\n      <td>-2.1300366871439413</td>\n      <td>0.5969171592180543</td>\n      <td>-0.03271988515836363</td>\n      <td>0.22249206804431765</td>\n      <td>2.0278810990021037</td>\n      <td>0.827870212403462</td>\n      <td>...</td>\n      <td>0.6548517055350448</td>\n      <td>-0.38468799598436426</td>\n      <td>1.1044825047930154</td>\n      <td>0.3155223956828208</td>\n      <td>-2.8847950848931903</td>\n      <td>-0.7553962498890037</td>\n      <td>-1.4720945990902772</td>\n      <td>2.653286573843067</td>\n      <td>0.19436177212666456</td>\n      <td>0.1434588478106824]</td>\n    </tr>\n    <tr>\n      <th>1</th>\n      <td>[-0.22001658113151915</td>\n      <td>-2.2507345794274003</td>\n      <td>-0.39334745766392143</td>\n      <td>-0.22047120988704638</td>\n      <td>-0.7654681601639308</td>\n      <td>-1.142924618070034</td>\n      <td>-1.86187248369162</td>\n      <td>-2.3556492318840334</td>\n      <td>0.4819600693957551</td>\n      <td>0.18859658647643737</td>\n      <td>...</td>\n      <td>-2.9357195712888546</td>\n      <td>-1.4991282068852751</td>\n      <td>1.0062288988970693</td>\n      <td>-0.8182551957518548</td>\n      <td>-0.03623077012179573</td>\n      <td>-1.7267140207545708</td>\n      <td>0.42753339462984424</td>\n      <td>-0.2442145154380059</td>\n      <td>1.433941992453667</td>\n      <td>-1.8641315484083514]</td>\n    </tr>\n    <tr>\n      <th>2</th>\n      <td>[1.597802667104453</td>\n      <td>-1.3318458039597452</td>\n      <td>-1.7876896274176677</td>\n      <td>0.1531999657748357</td>\n      <td>-0.9184955153229891</td>\n      <td>-0.5461559025055277</td>\n      <td>-1.3570081626634485</td>\n      <td>1.0627681533667157</td>\n      <td>0.9851826480709566</td>\n      <td>1.2266712267690123</td>\n      <td>...</td>\n      <td>-0.08874881949668298</td>\n      <td>-2.042117278138647</td>\n      <td>0.44127326653992904</td>\n      <td>-0.11127071569812472</td>\n      <td>0.013890977112452017</td>\n      <td>0.95533802751127</td>\n      <td>-0.8402656332947769</td>\n      <td>0.061700693517540386</td>\n      <td>1.174434637245242</td>\n      <td>-1.3317815829510649]</td>\n    </tr>\n    <tr>\n      <th>3</th>\n      <td>[-0.08318374597228116</td>\n      <td>-0.8729878666888199</td>\n      <td>0.04103715385277553</td>\n      <td>0.4616454791874244</td>\n      <td>-1.2901850509770025</td>\n      <td>-0.32690479632566644</td>\n      <td>-1.1119495148239313</td>\n      <td>-0.4324641976679138</td>\n      <td>1.0586961520473588</td>\n      <td>-1.0272654039747169</td>\n      <td>...</td>\n      <td>-1.0450595649908427</td>\n      <td>-0.21682913857705483</td>\n      <td>0.5135529541165453</td>\n      <td>0.24952462880443266</td>\n      <td>-0.4754690515821106</td>\n      <td>-0.8941292800735631</td>\n      <td>0.7727549164157642</td>\n      <td>1.0482704489062364</td>\n      <td>0.7197991172110915</td>\n      <td>0.45537440922683853]</td>\n    </tr>\n    <tr>\n      <th>4</th>\n      <td>[-2.879218311253632</td>\n      <td>-1.2799126645257008</td>\n      <td>1.4575141945832106</td>\n      <td>-1.166744513134016</td>\n      <td>-1.3042470403141233</td>\n      <td>-2.9598892548443834</td>\n      <td>-3.275919495479953</td>\n      <td>-0.8904921384608795</td>\n      <td>3.356320868826463</td>\n      <td>-2.58905896196911</td>\n      <td>...</td>\n      <td>-1.6676139719707401</td>\n      <td>-1.561016979377544</td>\n      <td>-0.6728326083361991</td>\n      <td>0.4044155336332753</td>\n      <td>-0.7633771138154553</td>\n      <td>-3.7231811983314644</td>\n      <td>1.7113150440592182</td>\n      <td>0.6782706184706131</td>\n      <td>1.3848466663654022</td>\n      <td>-0.3254715591507867]</td>\n    </tr>\n    <tr>\n      <th>5</th>\n      <td>[-0.8369180614741538</td>\n      <td>-0.9360479342720077</td>\n      <td>-1.4600495143301906</td>\n      <td>0.6728528936018906</td>\n      <td>-2.0424073705869854</td>\n      <td>0.8780426693652943</td>\n      <td>0.6503694747009278</td>\n      <td>-0.7550821150290333</td>\n      <td>0.987214469378856</td>\n      <td>-1.8657573549489026</td>\n      <td>...</td>\n      <td>-0.7416060416975647</td>\n      <td>-0.03952623912108067</td>\n      <td>0.7452824610817166</td>\n      <td>1.3450202088510912</td>\n      <td>-1.0320636113872825</td>\n      <td>-0.36690024502287766</td>\n      <td>-0.3993312144790031</td>\n      <td>1.434885437273656</td>\n      <td>0.22887428557260156</td>\n      <td>1.6715811412887076]</td>\n    </tr>\n    <tr>\n      <th>6</th>\n      <td>[0.41522979898676204</td>\n      <td>-1.159737958953214</td>\n      <td>-0.24958176524187306</td>\n      <td>-0.13623317566661258</td>\n      <td>-0.0028182256505899146</td>\n      <td>-0.113359035790069</td>\n      <td>-1.5764256339857223</td>\n      <td>-2.286969566939029</td>\n      <td>0.7884043577574544</td>\n      <td>-0.8258271395134206</td>\n      <td>...</td>\n      <td>0.9086259165978999</td>\n      <td>-0.9989015212295889</td>\n      <td>-0.6314352109646598</td>\n      <td>-2.632272249209213</td>\n      <td>-1.091078694284572</td>\n      <td>-0.06114190398377731</td>\n      <td>0.013034119396266025</td>\n      <td>0.23678484198785382</td>\n      <td>1.3449782613104728</td>\n      <td>-0.538909557924523]</td>\n    </tr>\n    <tr>\n      <th>7</th>\n      <td>[-2.9608902166864195</td>\n      <td>-1.0956738286472025</td>\n      <td>1.5058700002833443</td>\n      <td>-1.4171404701882868</td>\n      <td>-1.330844679769079</td>\n      <td>-3.2280216641241934</td>\n      <td>-2.914351798926398</td>\n      <td>-0.15371908870942233</td>\n      <td>3.7869134416421</td>\n      <td>-3.0848926771574683</td>\n      <td>...</td>\n      <td>-1.0075266551915474</td>\n      <td>-1.431580054894582</td>\n      <td>-0.9603913965546478</td>\n      <td>0.6739031904247236</td>\n      <td>-0.7635178779790973</td>\n      <td>-3.653489183589961</td>\n      <td>1.4316337850813414</td>\n      <td>0.8270008493919788</td>\n      <td>1.434033033769334</td>\n      <td>0.030364470567248808]</td>\n    </tr>\n    <tr>\n      <th>8</th>\n      <td>[-0.21947748986132684</td>\n      <td>-2.2178541207713884</td>\n      <td>-0.41563905313300975</td>\n      <td>-0.22944012568942837</td>\n      <td>-0.7795311621539934</td>\n      <td>-1.1547154513449471</td>\n      <td>-1.8051821470791596</td>\n      <td>-2.2811334928079656</td>\n      <td>0.5249316969983312</td>\n      <td>0.20879004035050058</td>\n      <td>...</td>\n      <td>-2.856059562474998</td>\n      <td>-1.5353509528367395</td>\n      <td>0.9520496397599718</td>\n      <td>-0.7985087925155984</td>\n      <td>-0.04356704773773685</td>\n      <td>-1.7113681682832265</td>\n      <td>0.4324085498406598</td>\n      <td>-0.2619146641405508</td>\n      <td>1.4221927650774926</td>\n      <td>-1.854721102828428]</td>\n    </tr>\n    <tr>\n      <th>9</th>\n      <td>[1.636401249004699</td>\n      <td>-1.3215432693000375</td>\n      <td>-1.799365303324645</td>\n      <td>0.12268648799344105</td>\n      <td>-0.9487439002267276</td>\n      <td>-0.5580854809242989</td>\n      <td>-1.336901155508226</td>\n      <td>1.116053957525558</td>\n      <td>1.0041238951464682</td>\n      <td>1.2598132746366242</td>\n      <td>...</td>\n      <td>-0.05103576905599793</td>\n      <td>-2.083416129378853</td>\n      <td>0.4702529315839726</td>\n      <td>-0.10329644329994535</td>\n      <td>0.04284644537085021</td>\n      <td>0.9636512408517387</td>\n      <td>-0.8638822929503234</td>\n      <td>0.02346379734516011</td>\n      <td>1.211031653527771</td>\n      <td>-1.348301502039101]</td>\n    </tr>\n  </tbody>\n</table>\n<p>10 rows × 100 columns</p>\n</div>"
     },
     "execution_count": 6,
     "metadata": {},
     "output_type": "execute_result"
    }
   ],
   "source": [
    "features_X_expanded = features_X.meaning_vectors.str.split(\",\",expand=True,)\n",
    "features_X_expanded.head(10)"
   ],
   "metadata": {
    "collapsed": false
   }
  },
  {
   "cell_type": "code",
   "execution_count": 7,
   "outputs": [
    {
     "name": "stderr",
     "output_type": "stream",
     "text": [
      "<ipython-input-7-8b710f41baf2>:1: FutureWarning: The default value of regex will change from True to False in a future version. In addition, single character regular expressions will*not* be treated as literal strings when regex=True.\n",
      "  fixed_first_column = features_X_expanded[0].str.replace(\"[\",\"\")\n",
      "<ipython-input-7-8b710f41baf2>:2: FutureWarning: The default value of regex will change from True to False in a future version. In addition, single character regular expressions will*not* be treated as literal strings when regex=True.\n",
      "  fixed_last_column = features_X_expanded[99].str.replace(\"]\",\"\")\n"
     ]
    },
    {
     "data": {
      "text/plain": "                      0                     1                      2  \\\n0   -1.0013970414243027   0.10410662986918126    -0.7069594929319728   \n1  -0.22001658113151915   -2.2507345794274003   -0.39334745766392143   \n2     1.597802667104453   -1.3318458039597452    -1.7876896274176677   \n3  -0.08318374597228116   -0.8729878666888199    0.04103715385277553   \n4    -2.879218311253632   -1.2799126645257008     1.4575141945832106   \n\n                       3                     4                      5  \\\n0   -0.36709259026598773   -2.1300366871439413     0.5969171592180543   \n1   -0.22047120988704638   -0.7654681601639308     -1.142924618070034   \n2     0.1531999657748357   -0.9184955153229891    -0.5461559025055277   \n3     0.4616454791874244   -1.2901850509770025   -0.32690479632566644   \n4     -1.166744513134016   -1.3042470403141233    -2.9598892548443834   \n\n                       6                     7                    8  \\\n0   -0.03271988515836363   0.22249206804431765   2.0278810990021037   \n1      -1.86187248369162   -2.3556492318840334   0.4819600693957551   \n2    -1.3570081626634485    1.0627681533667157   0.9851826480709566   \n3    -1.1119495148239313   -0.4324641976679138   1.0586961520473588   \n4     -3.275919495479953   -0.8904921384608795    3.356320868826463   \n\n                      9  ...                     91                    92  \\\n0     0.827870212403462  ...   -0.38468799598436426    1.1044825047930154   \n1   0.18859658647643737  ...    -1.4991282068852751    1.0062288988970693   \n2    1.2266712267690123  ...     -2.042117278138647   0.44127326653992904   \n3   -1.0272654039747169  ...   -0.21682913857705483    0.5135529541165453   \n4     -2.58905896196911  ...     -1.561016979377544   -0.6728326083361991   \n\n                      93                     94                    95  \\\n0     0.3155223956828208    -2.8847950848931903   -0.7553962498890037   \n1    -0.8182551957518548   -0.03623077012179573   -1.7267140207545708   \n2   -0.11127071569812472   0.013890977112452017      0.95533802751127   \n3    0.24952462880443266    -0.4754690515821106   -0.8941292800735631   \n4     0.4044155336332753    -0.7633771138154553   -3.7231811983314644   \n\n                     96                     97                    98  \\\n0   -1.4720945990902772      2.653286573843067   0.19436177212666456   \n1   0.42753339462984424    -0.2442145154380059     1.433941992453667   \n2   -0.8402656332947769   0.061700693517540386     1.174434637245242   \n3    0.7727549164157642     1.0482704489062364    0.7197991172110915   \n4    1.7113150440592182     0.6782706184706131    1.3848466663654022   \n\n                      99                    99  \n0    0.1434588478106824]    0.1434588478106824  \n1   -1.8641315484083514]   -1.8641315484083514  \n2   -1.3317815829510649]   -1.3317815829510649  \n3   0.45537440922683853]   0.45537440922683853  \n4   -0.3254715591507867]   -0.3254715591507867  \n\n[5 rows x 101 columns]",
      "text/html": "<div>\n<style scoped>\n    .dataframe tbody tr th:only-of-type {\n        vertical-align: middle;\n    }\n\n    .dataframe tbody tr th {\n        vertical-align: top;\n    }\n\n    .dataframe thead th {\n        text-align: right;\n    }\n</style>\n<table border=\"1\" class=\"dataframe\">\n  <thead>\n    <tr style=\"text-align: right;\">\n      <th></th>\n      <th>0</th>\n      <th>1</th>\n      <th>2</th>\n      <th>3</th>\n      <th>4</th>\n      <th>5</th>\n      <th>6</th>\n      <th>7</th>\n      <th>8</th>\n      <th>9</th>\n      <th>...</th>\n      <th>91</th>\n      <th>92</th>\n      <th>93</th>\n      <th>94</th>\n      <th>95</th>\n      <th>96</th>\n      <th>97</th>\n      <th>98</th>\n      <th>99</th>\n      <th>99</th>\n    </tr>\n  </thead>\n  <tbody>\n    <tr>\n      <th>0</th>\n      <td>-1.0013970414243027</td>\n      <td>0.10410662986918126</td>\n      <td>-0.7069594929319728</td>\n      <td>-0.36709259026598773</td>\n      <td>-2.1300366871439413</td>\n      <td>0.5969171592180543</td>\n      <td>-0.03271988515836363</td>\n      <td>0.22249206804431765</td>\n      <td>2.0278810990021037</td>\n      <td>0.827870212403462</td>\n      <td>...</td>\n      <td>-0.38468799598436426</td>\n      <td>1.1044825047930154</td>\n      <td>0.3155223956828208</td>\n      <td>-2.8847950848931903</td>\n      <td>-0.7553962498890037</td>\n      <td>-1.4720945990902772</td>\n      <td>2.653286573843067</td>\n      <td>0.19436177212666456</td>\n      <td>0.1434588478106824]</td>\n      <td>0.1434588478106824</td>\n    </tr>\n    <tr>\n      <th>1</th>\n      <td>-0.22001658113151915</td>\n      <td>-2.2507345794274003</td>\n      <td>-0.39334745766392143</td>\n      <td>-0.22047120988704638</td>\n      <td>-0.7654681601639308</td>\n      <td>-1.142924618070034</td>\n      <td>-1.86187248369162</td>\n      <td>-2.3556492318840334</td>\n      <td>0.4819600693957551</td>\n      <td>0.18859658647643737</td>\n      <td>...</td>\n      <td>-1.4991282068852751</td>\n      <td>1.0062288988970693</td>\n      <td>-0.8182551957518548</td>\n      <td>-0.03623077012179573</td>\n      <td>-1.7267140207545708</td>\n      <td>0.42753339462984424</td>\n      <td>-0.2442145154380059</td>\n      <td>1.433941992453667</td>\n      <td>-1.8641315484083514]</td>\n      <td>-1.8641315484083514</td>\n    </tr>\n    <tr>\n      <th>2</th>\n      <td>1.597802667104453</td>\n      <td>-1.3318458039597452</td>\n      <td>-1.7876896274176677</td>\n      <td>0.1531999657748357</td>\n      <td>-0.9184955153229891</td>\n      <td>-0.5461559025055277</td>\n      <td>-1.3570081626634485</td>\n      <td>1.0627681533667157</td>\n      <td>0.9851826480709566</td>\n      <td>1.2266712267690123</td>\n      <td>...</td>\n      <td>-2.042117278138647</td>\n      <td>0.44127326653992904</td>\n      <td>-0.11127071569812472</td>\n      <td>0.013890977112452017</td>\n      <td>0.95533802751127</td>\n      <td>-0.8402656332947769</td>\n      <td>0.061700693517540386</td>\n      <td>1.174434637245242</td>\n      <td>-1.3317815829510649]</td>\n      <td>-1.3317815829510649</td>\n    </tr>\n    <tr>\n      <th>3</th>\n      <td>-0.08318374597228116</td>\n      <td>-0.8729878666888199</td>\n      <td>0.04103715385277553</td>\n      <td>0.4616454791874244</td>\n      <td>-1.2901850509770025</td>\n      <td>-0.32690479632566644</td>\n      <td>-1.1119495148239313</td>\n      <td>-0.4324641976679138</td>\n      <td>1.0586961520473588</td>\n      <td>-1.0272654039747169</td>\n      <td>...</td>\n      <td>-0.21682913857705483</td>\n      <td>0.5135529541165453</td>\n      <td>0.24952462880443266</td>\n      <td>-0.4754690515821106</td>\n      <td>-0.8941292800735631</td>\n      <td>0.7727549164157642</td>\n      <td>1.0482704489062364</td>\n      <td>0.7197991172110915</td>\n      <td>0.45537440922683853]</td>\n      <td>0.45537440922683853</td>\n    </tr>\n    <tr>\n      <th>4</th>\n      <td>-2.879218311253632</td>\n      <td>-1.2799126645257008</td>\n      <td>1.4575141945832106</td>\n      <td>-1.166744513134016</td>\n      <td>-1.3042470403141233</td>\n      <td>-2.9598892548443834</td>\n      <td>-3.275919495479953</td>\n      <td>-0.8904921384608795</td>\n      <td>3.356320868826463</td>\n      <td>-2.58905896196911</td>\n      <td>...</td>\n      <td>-1.561016979377544</td>\n      <td>-0.6728326083361991</td>\n      <td>0.4044155336332753</td>\n      <td>-0.7633771138154553</td>\n      <td>-3.7231811983314644</td>\n      <td>1.7113150440592182</td>\n      <td>0.6782706184706131</td>\n      <td>1.3848466663654022</td>\n      <td>-0.3254715591507867]</td>\n      <td>-0.3254715591507867</td>\n    </tr>\n  </tbody>\n</table>\n<p>5 rows × 101 columns</p>\n</div>"
     },
     "execution_count": 7,
     "metadata": {},
     "output_type": "execute_result"
    }
   ],
   "source": [
    "fixed_first_column = features_X_expanded[0].str.replace(\"[\",\"\")\n",
    "fixed_last_column = features_X_expanded[99].str.replace(\"]\",\"\")\n",
    "\n",
    "features_X_expanded[0] = fixed_first_column\n",
    "features_X_expanded[99] = fixed_last_column\n",
    "\n",
    "features_X_expanded.head()"
   ],
   "metadata": {
    "collapsed": false
   }
  },
  {
   "cell_type": "code",
   "execution_count": 10,
   "outputs": [
    {
     "data": {
      "text/plain": "array([2.99052111e-01, 2.11635274e-01, 1.12139899e-01, 7.03316791e-02,\n       4.43235614e-02, 3.53286958e-02, 2.65834053e-02, 2.60338620e-02,\n       1.82591112e-02, 1.51380968e-02, 1.37404036e-02, 1.07784921e-02,\n       9.58772469e-03, 9.05525877e-03, 8.07615460e-03, 7.52654514e-03,\n       7.07935086e-03, 6.38050206e-03, 5.27969026e-03, 4.54148326e-03,\n       4.16694148e-03, 3.86960991e-03, 3.40682486e-03, 3.13813599e-03,\n       2.77692621e-03, 2.48912408e-03, 2.32455065e-03, 2.27586505e-03,\n       2.09114190e-03, 1.90919109e-03, 1.80432504e-03, 1.72603346e-03,\n       1.58407774e-03, 1.54590261e-03, 1.31708167e-03, 1.23876183e-03,\n       1.23052628e-03, 1.15343776e-03, 1.11717690e-03, 9.73371330e-04,\n       9.32470025e-04, 8.92737715e-04, 8.46773012e-04, 8.30122007e-04,\n       7.40074730e-04, 6.65547573e-04, 6.40088476e-04, 6.15663814e-04,\n       5.95952510e-04, 5.52631049e-04, 5.11234427e-04, 5.02037727e-04,\n       4.91942279e-04, 4.46952075e-04, 4.28733407e-04, 3.93364657e-04,\n       3.81959182e-04, 3.76197972e-04, 3.40482427e-04, 3.20888140e-04,\n       2.98373712e-04, 2.87676396e-04, 2.77973066e-04, 2.69446554e-04,\n       2.62654891e-04, 2.40972405e-04, 2.24875904e-04, 2.12288384e-04,\n       2.04440259e-04, 2.03364680e-04, 1.91487890e-04, 1.78630159e-04,\n       1.70398899e-04, 1.67739406e-04, 1.52726724e-04, 1.50018115e-04,\n       1.45586335e-04, 1.41827504e-04, 1.37924725e-04, 1.23955600e-04,\n       1.19894567e-04, 1.10658127e-04, 1.06354970e-04, 1.02159712e-04,\n       9.51107357e-05, 9.14515009e-05, 8.64122030e-05, 8.54459944e-05,\n       7.80943020e-05, 7.39028367e-05, 6.66150601e-05, 6.23891438e-05,\n       6.00967125e-05, 5.78299405e-05, 5.49657853e-05, 5.25197529e-05,\n       5.02420330e-05, 4.64517028e-05, 3.95088040e-05, 1.37530727e-06])"
     },
     "execution_count": 10,
     "metadata": {},
     "output_type": "execute_result"
    }
   ],
   "source": [
    "    # Perform PCA on all data\n",
    "\n",
    "# Scaling features such that they all have a mean of 0 and a variance of 1\n",
    "scaler = StandardScaler()\n",
    "scaled_data = scaler.fit_transform(features_X_expanded)\n",
    "\n",
    "pca = PCA() # can be replaced with \"PCA(n_components=2)\" but need to check variance ratio first\n",
    "pca_data = pca.fit_transform(scaled_data)\n",
    "\n",
    "pca.explained_variance_ratio_ # observing how much each PCA is responsible for the variance"
   ],
   "metadata": {
    "collapsed": false
   }
  },
  {
   "cell_type": "code",
   "execution_count": 48,
   "outputs": [],
   "source": [
    "pca = PCA(n_components=2)\n",
    "pca_data_2comp = pca.fit_transform(scaled_data)\n",
    "pca_data_2comp_df = pd.DataFrame(pca_data_2comp, columns = ['PC1','PC2'])\n",
    "pca_data_2comp_df[\"Labels\"] = labels_Y"
   ],
   "metadata": {
    "collapsed": false
   }
  },
  {
   "cell_type": "code",
   "execution_count": 50,
   "outputs": [
    {
     "data": {
      "text/plain": "              PC1       PC2  Labels\n297926  -2.671005 -0.582621      -1\n1392337 -1.088543 -1.647219      -1\n1341028 -6.194049 -2.545746      -1\n180382  -2.528904 -2.998015      -1\n607497  -2.604695 -2.612323      -1\n992916  -3.428668 -2.844442      -1\n1154659 -4.379559 -1.489158      -1\n398164  -2.210939 -2.109961      -1\n1102740 -4.489199  1.498144      -1\n580377  -2.288275 -2.246409      -1",
      "text/html": "<div>\n<style scoped>\n    .dataframe tbody tr th:only-of-type {\n        vertical-align: middle;\n    }\n\n    .dataframe tbody tr th {\n        vertical-align: top;\n    }\n\n    .dataframe thead th {\n        text-align: right;\n    }\n</style>\n<table border=\"1\" class=\"dataframe\">\n  <thead>\n    <tr style=\"text-align: right;\">\n      <th></th>\n      <th>PC1</th>\n      <th>PC2</th>\n      <th>Labels</th>\n    </tr>\n  </thead>\n  <tbody>\n    <tr>\n      <th>297926</th>\n      <td>-2.671005</td>\n      <td>-0.582621</td>\n      <td>-1</td>\n    </tr>\n    <tr>\n      <th>1392337</th>\n      <td>-1.088543</td>\n      <td>-1.647219</td>\n      <td>-1</td>\n    </tr>\n    <tr>\n      <th>1341028</th>\n      <td>-6.194049</td>\n      <td>-2.545746</td>\n      <td>-1</td>\n    </tr>\n    <tr>\n      <th>180382</th>\n      <td>-2.528904</td>\n      <td>-2.998015</td>\n      <td>-1</td>\n    </tr>\n    <tr>\n      <th>607497</th>\n      <td>-2.604695</td>\n      <td>-2.612323</td>\n      <td>-1</td>\n    </tr>\n    <tr>\n      <th>992916</th>\n      <td>-3.428668</td>\n      <td>-2.844442</td>\n      <td>-1</td>\n    </tr>\n    <tr>\n      <th>1154659</th>\n      <td>-4.379559</td>\n      <td>-1.489158</td>\n      <td>-1</td>\n    </tr>\n    <tr>\n      <th>398164</th>\n      <td>-2.210939</td>\n      <td>-2.109961</td>\n      <td>-1</td>\n    </tr>\n    <tr>\n      <th>1102740</th>\n      <td>-4.489199</td>\n      <td>1.498144</td>\n      <td>-1</td>\n    </tr>\n    <tr>\n      <th>580377</th>\n      <td>-2.288275</td>\n      <td>-2.246409</td>\n      <td>-1</td>\n    </tr>\n  </tbody>\n</table>\n</div>"
     },
     "execution_count": 50,
     "metadata": {},
     "output_type": "execute_result"
    }
   ],
   "source": [
    "pca_data_2comp_df_sorted = pca_data_2comp_df.sort_values(by=[\"Labels\"])\n",
    "pca_data_2comp_df_sorted.head(10)"
   ],
   "metadata": {
    "collapsed": false
   }
  },
  {
   "cell_type": "code",
   "execution_count": 72,
   "outputs": [],
   "source": [
    "# calculating Euclidean distance\n",
    "def calculate_prob_of_visit(given_visit, given_pca_sorted):\n",
    "    # assuming given visit is a meaning vector, with number of variables same as number of PCs\n",
    "\n",
    "    # given_pca_sorted = given_pca.sort_values(by=[\"Labels\"]) # sorting given PCA list by labels\n",
    "    prev_label = 0\n",
    "    current_label = 0\n",
    "    lowest_dist_to_visit = 0\n",
    "    current_labels_dist = 0\n",
    "    total_dist = 0\n",
    "    lowest_dist_to_visits_label = 0\n",
    "\n",
    "    for x in range(0, len(given_pca_sorted)):\n",
    "        current_label = given_pca_sorted.at[given_pca_sorted.index[x], \"Labels\"] # get current label\n",
    "\n",
    "        # extracting required variables of the point in PCA data\n",
    "        temp_point = given_pca_sorted.iloc[x]\n",
    "        temp_point = temp_point.tolist()\n",
    "        temp_point = temp_point[:-1]\n",
    "\n",
    "        if current_label >= 0: # to skip \"-1\" labels\n",
    "            if current_label == prev_label: current_labels_dist += np.linalg.norm(np.array(given_visit) - np.array(temp_point))\n",
    "            else: # have arrived to next label in the sorted PCA\n",
    "                if current_labels_dist < lowest_dist_to_visit:\n",
    "                    lowest_dist_to_visit = current_labels_dist\n",
    "                    lowest_dist_to_visits_label = current_label\n",
    "                prev_label = current_label\n",
    "                total_dist += current_labels_dist\n",
    "                current_labels_dist = 0 # since we are going to next label, reset distance\n",
    "\n",
    "    if total_dist == 0: print(len(given_visit))\n",
    "    return 1 - (lowest_dist_to_visits_label / total_dist), lowest_dist_to_visits_label"
   ],
   "metadata": {
    "collapsed": false
   }
  },
  {
   "cell_type": "code",
   "execution_count": 74,
   "outputs": [
    {
     "ename": "KeyboardInterrupt",
     "evalue": "",
     "output_type": "error",
     "traceback": [
      "\u001B[1;31m---------------------------------------------------------------------------\u001B[0m",
      "\u001B[1;31mKeyboardInterrupt\u001B[0m                         Traceback (most recent call last)",
      "\u001B[1;32m<ipython-input-74-a3f3159c78e0>\u001B[0m in \u001B[0;36m<module>\u001B[1;34m\u001B[0m\n\u001B[0;32m     16\u001B[0m         \u001B[0mcurrent_visit\u001B[0m \u001B[1;33m=\u001B[0m \u001B[0mcurrent_visit\u001B[0m\u001B[1;33m[\u001B[0m\u001B[1;33m:\u001B[0m\u001B[1;33m-\u001B[0m\u001B[1;36m1\u001B[0m\u001B[1;33m]\u001B[0m\u001B[1;33m\u001B[0m\u001B[1;33m\u001B[0m\u001B[0m\n\u001B[0;32m     17\u001B[0m \u001B[1;33m\u001B[0m\u001B[0m\n\u001B[1;32m---> 18\u001B[1;33m         \u001B[0mestimated_prob\u001B[0m\u001B[1;33m,\u001B[0m \u001B[0mestimated_label\u001B[0m \u001B[1;33m=\u001B[0m \u001B[0mcalculate_prob_of_visit\u001B[0m\u001B[1;33m(\u001B[0m\u001B[0mcurrent_visit\u001B[0m\u001B[1;33m,\u001B[0m \u001B[0mpca_data_2comp_df_sorted\u001B[0m\u001B[1;33m)\u001B[0m\u001B[1;33m\u001B[0m\u001B[1;33m\u001B[0m\u001B[0m\n\u001B[0m\u001B[0;32m     19\u001B[0m \u001B[1;33m\u001B[0m\u001B[0m\n\u001B[0;32m     20\u001B[0m         \u001B[1;32mif\u001B[0m \u001B[0mestimated_label\u001B[0m \u001B[1;33m==\u001B[0m \u001B[0mlabel\u001B[0m\u001B[1;33m:\u001B[0m\u001B[1;33m\u001B[0m\u001B[1;33m\u001B[0m\u001B[0m\n",
      "\u001B[1;32m<ipython-input-72-21f2fe1bfd6a>\u001B[0m in \u001B[0;36mcalculate_prob_of_visit\u001B[1;34m(given_visit, given_pca_sorted)\u001B[0m\n\u001B[0;32m     20\u001B[0m \u001B[1;33m\u001B[0m\u001B[0m\n\u001B[0;32m     21\u001B[0m         \u001B[1;32mif\u001B[0m \u001B[0mcurrent_label\u001B[0m \u001B[1;33m>=\u001B[0m \u001B[1;36m0\u001B[0m\u001B[1;33m:\u001B[0m \u001B[1;31m# to skip \"-1\" labels\u001B[0m\u001B[1;33m\u001B[0m\u001B[1;33m\u001B[0m\u001B[0m\n\u001B[1;32m---> 22\u001B[1;33m             \u001B[1;32mif\u001B[0m \u001B[0mcurrent_label\u001B[0m \u001B[1;33m==\u001B[0m \u001B[0mprev_label\u001B[0m\u001B[1;33m:\u001B[0m \u001B[0mcurrent_labels_dist\u001B[0m \u001B[1;33m+=\u001B[0m \u001B[0mnp\u001B[0m\u001B[1;33m.\u001B[0m\u001B[0mlinalg\u001B[0m\u001B[1;33m.\u001B[0m\u001B[0mnorm\u001B[0m\u001B[1;33m(\u001B[0m\u001B[0mnp\u001B[0m\u001B[1;33m.\u001B[0m\u001B[0marray\u001B[0m\u001B[1;33m(\u001B[0m\u001B[0mgiven_visit\u001B[0m\u001B[1;33m)\u001B[0m \u001B[1;33m-\u001B[0m \u001B[0mnp\u001B[0m\u001B[1;33m.\u001B[0m\u001B[0marray\u001B[0m\u001B[1;33m(\u001B[0m\u001B[0mtemp_point\u001B[0m\u001B[1;33m)\u001B[0m\u001B[1;33m)\u001B[0m\u001B[1;33m\u001B[0m\u001B[1;33m\u001B[0m\u001B[0m\n\u001B[0m\u001B[0;32m     23\u001B[0m             \u001B[1;32melse\u001B[0m\u001B[1;33m:\u001B[0m \u001B[1;31m# have arrived to next label in the sorted PCA\u001B[0m\u001B[1;33m\u001B[0m\u001B[1;33m\u001B[0m\u001B[0m\n\u001B[0;32m     24\u001B[0m                 \u001B[1;32mif\u001B[0m \u001B[0mcurrent_labels_dist\u001B[0m \u001B[1;33m<\u001B[0m \u001B[0mlowest_dist_to_visit\u001B[0m\u001B[1;33m:\u001B[0m\u001B[1;33m\u001B[0m\u001B[1;33m\u001B[0m\u001B[0m\n",
      "\u001B[1;32m<__array_function__ internals>\u001B[0m in \u001B[0;36mnorm\u001B[1;34m(*args, **kwargs)\u001B[0m\n",
      "\u001B[1;32m~\\anaconda3\\lib\\site-packages\\numpy\\linalg\\linalg.py\u001B[0m in \u001B[0;36mnorm\u001B[1;34m(x, ord, axis, keepdims)\u001B[0m\n\u001B[0;32m   2527\u001B[0m                 \u001B[0msqnorm\u001B[0m \u001B[1;33m=\u001B[0m \u001B[0mdot\u001B[0m\u001B[1;33m(\u001B[0m\u001B[0mx\u001B[0m\u001B[1;33m.\u001B[0m\u001B[0mreal\u001B[0m\u001B[1;33m,\u001B[0m \u001B[0mx\u001B[0m\u001B[1;33m.\u001B[0m\u001B[0mreal\u001B[0m\u001B[1;33m)\u001B[0m \u001B[1;33m+\u001B[0m \u001B[0mdot\u001B[0m\u001B[1;33m(\u001B[0m\u001B[0mx\u001B[0m\u001B[1;33m.\u001B[0m\u001B[0mimag\u001B[0m\u001B[1;33m,\u001B[0m \u001B[0mx\u001B[0m\u001B[1;33m.\u001B[0m\u001B[0mimag\u001B[0m\u001B[1;33m)\u001B[0m\u001B[1;33m\u001B[0m\u001B[1;33m\u001B[0m\u001B[0m\n\u001B[0;32m   2528\u001B[0m             \u001B[1;32melse\u001B[0m\u001B[1;33m:\u001B[0m\u001B[1;33m\u001B[0m\u001B[1;33m\u001B[0m\u001B[0m\n\u001B[1;32m-> 2529\u001B[1;33m                 \u001B[0msqnorm\u001B[0m \u001B[1;33m=\u001B[0m \u001B[0mdot\u001B[0m\u001B[1;33m(\u001B[0m\u001B[0mx\u001B[0m\u001B[1;33m,\u001B[0m \u001B[0mx\u001B[0m\u001B[1;33m)\u001B[0m\u001B[1;33m\u001B[0m\u001B[1;33m\u001B[0m\u001B[0m\n\u001B[0m\u001B[0;32m   2530\u001B[0m             \u001B[0mret\u001B[0m \u001B[1;33m=\u001B[0m \u001B[0msqrt\u001B[0m\u001B[1;33m(\u001B[0m\u001B[0msqnorm\u001B[0m\u001B[1;33m)\u001B[0m\u001B[1;33m\u001B[0m\u001B[1;33m\u001B[0m\u001B[0m\n\u001B[0;32m   2531\u001B[0m             \u001B[1;32mif\u001B[0m \u001B[0mkeepdims\u001B[0m\u001B[1;33m:\u001B[0m\u001B[1;33m\u001B[0m\u001B[1;33m\u001B[0m\u001B[0m\n",
      "\u001B[1;32m<__array_function__ internals>\u001B[0m in \u001B[0;36mdot\u001B[1;34m(*args, **kwargs)\u001B[0m\n",
      "\u001B[1;31mKeyboardInterrupt\u001B[0m: "
     ]
    }
   ],
   "source": [
    "# experiment\n",
    "accurate_estimation_prob = 0\n",
    "false_estimation_prob = 0\n",
    "\n",
    "total_accurate_prob = 0\n",
    "total_false_prob = 0\n",
    "\n",
    "# row size\n",
    "row_size = len(pca_data_2comp_df_sorted.axes[0])\n",
    "\n",
    "for x in range(0, len(pca_data_2comp_df_sorted.axes[0])):\n",
    "    label = pca_data_2comp_df_sorted.at[pca_data_2comp_df_sorted.index[x], \"Labels\"]\n",
    "    if label >= 0:\n",
    "        current_visit = pca_data_2comp_df_sorted.iloc[x]\n",
    "        current_visit = current_visit.tolist()\n",
    "        current_visit = current_visit[:-1]\n",
    "\n",
    "        estimated_prob, estimated_label = calculate_prob_of_visit(current_visit, pca_data_2comp_df_sorted)\n",
    "\n",
    "        if estimated_label == label:\n",
    "            total_accurate_prob += estimated_prob\n",
    "        else:\n",
    "            total_false_prob += estimated_prob\n",
    "\n",
    "accurate_estimation_prob = total_accurate_prob / row_size\n",
    "false_estimation_prob = total_false_prob / row_size\n",
    "\n",
    "print(\"Accurate prediction with prob.\")\n",
    "print(accurate_estimation_prob)\n",
    "print(\"False prediction with prob.\")\n",
    "print(false_estimation_prob)"
   ],
   "metadata": {
    "collapsed": false
   }
  },
  {
   "cell_type": "code",
   "execution_count": null,
   "outputs": [],
   "source": [],
   "metadata": {
    "collapsed": false
   }
  },
  {
   "cell_type": "code",
   "execution_count": null,
   "outputs": [],
   "source": [
    "\"\"\"\n",
    "Keeping it just in case\n",
    "\"\"\"\n",
    "# ----------------------------------------\n",
    "classifier = DecisionTreeClassifier()\n",
    "classifier.fit(pca_data, labels_Y) # train classifier\n",
    "\n",
    "# assuming we got new data\n",
    "newdata = []\n",
    "\n",
    "# just transforming to pca, no re-fit again needed\n",
    "scaled_new_data = scaler.transform(newdata)\n",
    "pca_new_data = pca.transform(scaled_new_data)\n",
    "\n",
    "pred_labels = classifier.predict_proba(pca_new_data)\n",
    "\n",
    "# ---------------------------------------------\n",
    "\n",
    "# Splitting the dataset into the training set and test set such that it can be used for classification\n",
    "X_train, X_test, y_train, y_test = train_test_split(features_X, labels_Y, test_size=0.2, random_state=0)\n",
    "\n",
    "# Scaling features such that they all have a mean of 0 and a variance of 1\n",
    "scaler = StandardScaler()\n",
    "scaled_X_train = scaler.fit_transform(X_train)\n",
    "scaled_X_test = scaler.transform(X_test)\n",
    "\n",
    "pca = PCA() # can be replaced with \"PCA(n_components=2)\" if data is too much\n",
    "pca_X_train = pca.fit_transform(scaled_X_train)\n",
    "pca_X_test = pca.transform(scaled_X_test)\n",
    "\n",
    "pca.explained_variance_ratio_ # observing how much each PCA is responsible for the variance\n",
    "\n",
    "# Training, Making Predictions and Performance Evaluation\n",
    "classifier = RandomForestClassifier(max_depth=2, random_state=0)\n",
    "classifier.fit(pca_X_train, y_train)\n",
    "\n",
    "# Predicting the test set results and making performance evaluation\n",
    "y_pred = classifier.predict(pca_X_test)\n",
    "\n",
    "cm = confusion_matrix(y_test, y_pred)\n",
    "print(\"Accuracy:\")\n",
    "print(accuracy_score(y_test, y_pred))\n"
   ],
   "metadata": {
    "collapsed": false
   }
  }
 ],
 "metadata": {
  "kernelspec": {
   "display_name": "Python 3",
   "language": "python",
   "name": "python3"
  },
  "language_info": {
   "codemirror_mode": {
    "name": "ipython",
    "version": 2
   },
   "file_extension": ".py",
   "mimetype": "text/x-python",
   "name": "python",
   "nbconvert_exporter": "python",
   "pygments_lexer": "ipython2",
   "version": "2.7.6"
  }
 },
 "nbformat": 4,
 "nbformat_minor": 0
}
