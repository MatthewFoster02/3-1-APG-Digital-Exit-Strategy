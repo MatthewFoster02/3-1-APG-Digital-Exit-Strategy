{
 "cells": [
  {
   "cell_type": "code",
   "execution_count": 1,
   "id": "16b1b526",
   "metadata": {},
   "outputs": [],
   "source": [
    "import pandas as pd\n",
    "import numpy as np\n",
    "from ast import literal_eval"
   ]
  },
  {
   "cell_type": "markdown",
   "id": "53fb55fd",
   "metadata": {},
   "source": [
    "# Load in Grouped Data File"
   ]
  },
  {
   "cell_type": "code",
   "execution_count": 2,
   "id": "a4fc2052",
   "metadata": {},
   "outputs": [],
   "source": [
    "generic = lambda x: literal_eval(x)\n",
    "\n",
    "conv = {'url_id_path': generic,\n",
    "        'seconds_spent_path': generic}\n",
    "\n",
    "df = pd.read_csv('DATA/Data/testGrouped.csv', converters=conv)"
   ]
  },
  {
   "cell_type": "markdown",
   "id": "903b1a40",
   "metadata": {},
   "source": [
    "# Load in Test Data File\n",
    "### Used to test the validity and correctness of the below methods"
   ]
  },
  {
   "cell_type": "code",
   "execution_count": 3,
   "id": "d478314f",
   "metadata": {},
   "outputs": [],
   "source": [
    "# load test data\n",
    "testDF = pd.read_csv('DATA/Data/testVis.csv', converters=conv)"
   ]
  },
  {
   "cell_type": "markdown",
   "id": "216ef9f9",
   "metadata": {},
   "source": [
    "# Method to get the number of visits which visit an unscraped URL"
   ]
  },
  {
   "cell_type": "code",
   "execution_count": 4,
   "id": "c008bb45",
   "metadata": {},
   "outputs": [],
   "source": [
    "def get_number_of_visits_to_unscraped_urls():\n",
    "    count_visits_to_unscraped_urls = 0\n",
    "    for index, row in df.iterrows():\n",
    "        found_unscraped_url = False\n",
    "        for url_id in row.url_id_path:\n",
    "            # If there is a new visit which visits an unscraped URL, increase counter\n",
    "            if url_id > 1559 and not found_unscraped_url:\n",
    "                count_visits_to_unscraped_urls += 1\n",
    "                found_unscraped_url = True\n",
    "        if index % 100000 == 0: # Update on progress as can take quite a few minutes.\n",
    "            print(f\"{index} rows complete...\")\n",
    "    print(\"DONE!\")\n",
    "    return count_visits_to_unscraped_urls"
   ]
  },
  {
   "cell_type": "markdown",
   "id": "0903b0a7",
   "metadata": {},
   "source": [
    "# The % of visits which visit an unscraped URL\n",
    "11% of visits visit an unscraped URL."
   ]
  },
  {
   "cell_type": "markdown",
   "id": "5e9e7c15",
   "metadata": {},
   "source": [
    "# Method to get number of visits less than 20 seconds and path length of those visits"
   ]
  },
  {
   "cell_type": "code",
   "execution_count": 27,
   "id": "ae0a3597",
   "metadata": {},
   "outputs": [],
   "source": [
    "def get_number_of_visits_less_20_seconds_and_their_path_lengths():\n",
    "    visits_less_20_seconds = 0\n",
    "    path_lengths = []\n",
    "    times_spent = []\n",
    "    for index, row in df.iterrows():\n",
    "        timeSpent = sum(row.seconds_spent_path)\n",
    "        if timeSpent < 20: # Change here for less than or greater than 20\n",
    "            visits_less_20_seconds += 1\n",
    "            path_lengths.append(len(row.url_id_path)) # Keep track of path lengths for sub 20 seconds visits\n",
    "            times_spent.append(timeSpent)\n",
    "        if index % 100000 == 0:\n",
    "            print(f\"{index} rows complete...\")\n",
    "\n",
    "    print(\"DONE!\")\n",
    "    return [times_spent, visits_less_20_seconds, path_lengths]"
   ]
  },
  {
   "cell_type": "code",
   "execution_count": null,
   "id": "c390474a",
   "metadata": {},
   "outputs": [],
   "source": [
    "returned = get_number_of_visits_less_20_seconds_and_their_path_lengths()\n",
    "times_20 = returned[0]\n",
    "visits_less_20 = returned[1]\n",
    "path_lengths_under_20 = returned[2]"
   ]
  },
  {
   "cell_type": "code",
   "execution_count": 30,
   "id": "619b178b",
   "metadata": {},
   "outputs": [
    {
     "name": "stdout",
     "output_type": "stream",
     "text": [
      "0.3356965426419714\n"
     ]
    }
   ],
   "source": [
    "print(visits_less_20/len(df.index))"
   ]
  },
  {
   "cell_type": "code",
   "execution_count": 31,
   "id": "03b16dd5",
   "metadata": {},
   "outputs": [
    {
     "name": "stdout",
     "output_type": "stream",
     "text": [
      "1.1697623223123246\n"
     ]
    }
   ],
   "source": [
    "print(sum(path_lengths_under_20)/len(path_lengths_under_20))"
   ]
  },
  {
   "cell_type": "code",
   "execution_count": 32,
   "id": "08da5e73",
   "metadata": {},
   "outputs": [
    {
     "name": "stdout",
     "output_type": "stream",
     "text": [
      "1.9427805207294973\n"
     ]
    }
   ],
   "source": [
    "print(sum(times_20)/len(times_20))"
   ]
  },
  {
   "cell_type": "markdown",
   "id": "394e5b20",
   "metadata": {},
   "source": [
    "# Information about visits that are less than 20 seconds in duration\n",
    "\n",
    "## The % of visits that are less than 20 seconds in duration\n",
    "33.5% of visits are less than 20 seconds in duration.\n",
    "\n",
    "## The average path lengths in visits under 20 seconds in duration\n",
    "1.1697623223123246 is the average path length.\n",
    "\n",
    "## Average time spent in visits under 20 seconds in duration\n",
    "1.9427805207294973 is the average time spent."
   ]
  },
  {
   "cell_type": "code",
   "execution_count": null,
   "id": "d0d49e29",
   "metadata": {
    "scrolled": false
   },
   "outputs": [],
   "source": [
    "visits_greater_20, path_lengths = get_number_of_visits_less_20_seconds_and_their_path_lengths()"
   ]
  },
  {
   "cell_type": "code",
   "execution_count": 20,
   "id": "d1632566",
   "metadata": {},
   "outputs": [
    {
     "name": "stdout",
     "output_type": "stream",
     "text": [
      "0.6643034573580285\n"
     ]
    }
   ],
   "source": [
    "print(visits_greater_20/len(df.index))"
   ]
  },
  {
   "cell_type": "code",
   "execution_count": 21,
   "id": "d61a3c0e",
   "metadata": {},
   "outputs": [
    {
     "name": "stdout",
     "output_type": "stream",
     "text": [
      "7.4080256085265805\n"
     ]
    }
   ],
   "source": [
    "print(sum(path_lengths)/len(path_lengths))"
   ]
  },
  {
   "cell_type": "code",
   "execution_count": null,
   "id": "d98eccb9",
   "metadata": {
    "scrolled": true
   },
   "outputs": [],
   "source": [
    "times_spent = get_number_of_visits_less_20_seconds_and_their_path_lengths()"
   ]
  },
  {
   "cell_type": "code",
   "execution_count": 22,
   "id": "ac866f4e",
   "metadata": {},
   "outputs": [
    {
     "name": "stdout",
     "output_type": "stream",
     "text": [
      "482.03758769414577\n"
     ]
    }
   ],
   "source": [
    "print(sum(times_spent)/len(times_spent))"
   ]
  },
  {
   "cell_type": "markdown",
   "id": "cfa15884",
   "metadata": {},
   "source": [
    "# Information about visits over or equal to 20 seconds\n",
    "\n",
    "## The % of visits over or equal to 20 seconds\n",
    "66.4% of visits are over or equal to 20 seconds\n",
    "\n",
    "## The average path length in visits over or equal to 20 seconds\n",
    "7.4 Pages visited in the path on average\n",
    "\n",
    "## The average time spent by visitors with visits over or equal to 20 seconds\n",
    "482 seconds or over 8 minutes!\n"
   ]
  },
  {
   "cell_type": "code",
   "execution_count": null,
   "id": "9d784024",
   "metadata": {},
   "outputs": [],
   "source": []
  }
 ],
 "metadata": {
  "kernelspec": {
   "display_name": "Python 3 (ipykernel)",
   "language": "python",
   "name": "python3"
  },
  "language_info": {
   "codemirror_mode": {
    "name": "ipython",
    "version": 3
   },
   "file_extension": ".py",
   "mimetype": "text/x-python",
   "name": "python",
   "nbconvert_exporter": "python",
   "pygments_lexer": "ipython3",
   "version": "3.9.1"
  }
 },
 "nbformat": 4,
 "nbformat_minor": 5
}
