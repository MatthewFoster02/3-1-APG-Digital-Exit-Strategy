{
 "cells": [
  {
   "cell_type": "code",
   "execution_count": 53,
   "id": "faba7254",
   "metadata": {},
   "outputs": [],
   "source": [
    "import pandas as pd\n",
    "import numpy as np\n",
    "import matplotlib.pyplot as plt \n",
    "from ast import literal_eval"
   ]
  },
  {
   "cell_type": "markdown",
   "id": "30a45da6",
   "metadata": {},
   "source": [
    "# Load in Grouped Data File"
   ]
  },
  {
   "cell_type": "code",
   "execution_count": 2,
   "id": "279b0ff0",
   "metadata": {},
   "outputs": [],
   "source": [
    "generic = lambda x: literal_eval(x)\n",
    "\n",
    "conv = {'url_id_path': generic,\n",
    "        'seconds_spent_path': generic}\n",
    "\n",
    "df = pd.read_csv('DATA/Data/testGrouped.csv', converters=conv)"
   ]
  },
  {
   "cell_type": "markdown",
   "id": "a550bcbf",
   "metadata": {},
   "source": [
    "# Load in Test Data File\n",
    "### Used to test the validity and correctness of the below methods"
   ]
  },
  {
   "cell_type": "code",
   "execution_count": 16,
   "id": "54745938",
   "metadata": {},
   "outputs": [],
   "source": [
    "# load test data\n",
    "testDF = pd.read_csv('DATA/Data/testVis.csv', converters=conv)"
   ]
  },
  {
   "cell_type": "markdown",
   "id": "e4b6a64e",
   "metadata": {},
   "source": [
    "# Below method is to get the frequency of each ID"
   ]
  },
  {
   "cell_type": "code",
   "execution_count": 12,
   "id": "c6e694e1",
   "metadata": {},
   "outputs": [],
   "source": [
    "def get_frequencies_of_url_ids():\n",
    "    # Find the most visited pages\n",
    "    # Create an array to count the number of times a web page ID is visited.\n",
    "    no_of_visits = np.zeros(5038, dtype=int) \n",
    "    # Loop through every row and every path list and increase the value of each ID when it occurs.\n",
    "    for index, row in df.iterrows():\n",
    "        if index % 100000 == 0:\n",
    "            print(f\"{index} rows complete!\")\n",
    "        for url_id in row.url_id_path:\n",
    "            no_of_visits[url_id] += 1\n",
    "    print(\"DONE!\")\n",
    "    return no_of_visits"
   ]
  },
  {
   "cell_type": "code",
   "execution_count": null,
   "id": "956f920a",
   "metadata": {},
   "outputs": [],
   "source": [
    "url_id_frequency = get_frequencies_of_url_ids()"
   ]
  },
  {
   "cell_type": "markdown",
   "id": "04ecc32f",
   "metadata": {},
   "source": [
    "# Method below returns a dictionary where the key is a url ID and the value is the count of how many times that ID was a dropout page. You can decide to include logouts or look at the page before the logout"
   ]
  },
  {
   "cell_type": "code",
   "execution_count": 23,
   "id": "fe413f7a",
   "metadata": {},
   "outputs": [],
   "source": [
    "# Method which returns a dictionary of dropout frequencies\n",
    "# You can decide whether to include logouts, or look at the page previous.\n",
    "def get_frequency_of_dropout(include_logout=True):\n",
    "    # Dictionary where key is url_id, value is the # of times it is a 'dropout' page\n",
    "    dropouts = {}\n",
    "    for index, row in df.iterrows():\n",
    "        id_path = row.url_id_path\n",
    "        if len(id_path) > 1: # Just checking that the visit is 2 or more pages long\n",
    "            # Check whether last page is a logout, then whether we want to include logouts\n",
    "            if id_path[-1] == 1556 and not include_logout:\n",
    "                # If we do not want to include logouts, we look at the previous page\n",
    "                if id_path[-2] in dropouts:\n",
    "                    dropouts[id_path[-2]] += 1\n",
    "                else:\n",
    "                    dropouts[id_path[-2]] = 1\n",
    "            else:\n",
    "                if id_path[-1] in dropouts:\n",
    "                    dropouts[id_path[-1]] += 1\n",
    "                else:\n",
    "                    dropouts[id_path[-1]] = 1\n",
    "        if index % 100000 == 0:\n",
    "            print(f\"{index} rows complete!\")\n",
    "    print(\"DONE!!\")\n",
    "    return dropouts                "
   ]
  },
  {
   "cell_type": "code",
   "execution_count": null,
   "id": "56925492",
   "metadata": {},
   "outputs": [],
   "source": [
    "# Get 2 dictionaries, one with logouts and one without.\n",
    "dropouts_with_logouts = get_frequency_of_dropout()\n",
    "dropouts_no_logouts = get_frequency_of_dropout(include_logout=False)"
   ]
  },
  {
   "cell_type": "markdown",
   "id": "c9781115",
   "metadata": {},
   "source": [
    "# Method below takes the dropout dictionary as input and divided the dropout frequency by the visit frequency"
   ]
  },
  {
   "cell_type": "code",
   "execution_count": 45,
   "id": "0c5585d3",
   "metadata": {},
   "outputs": [],
   "source": [
    "# Normalise by dividing dropout frequency with visit frequency.\n",
    "# Essentially, dropout_frequency/visit_frequency.\n",
    "def scale_dropouts(dropouts_to_be_scaled, visits_url_id):\n",
    "    scaled_dropout_frequency = {}\n",
    "\n",
    "    for key, value in dropouts_to_be_scaled.items():\n",
    "        if key < 1560 and not visits_url_id[key] < 10:\n",
    "            scaled_dropout_frequency[key] = value/visits_url_id[key] # dropout frequency/visit frequency of that ID\n",
    "    return scaled_dropout_frequency"
   ]
  },
  {
   "cell_type": "code",
   "execution_count": 46,
   "id": "24618f00",
   "metadata": {},
   "outputs": [
    {
     "data": {
      "text/plain": [
       "{0: 0.1, 1: 0.23333333333333334, 2: 0.1875, 5: 0.13636363636363635}"
      ]
     },
     "execution_count": 46,
     "metadata": {},
     "output_type": "execute_result"
    }
   ],
   "source": [
    "visit_urls = [10, 30, 112, 3, 7, 22]\n",
    "dropout_dict = {\n",
    "                0: 1,\n",
    "                1: 7,\n",
    "                2: 21,\n",
    "                3: 0,\n",
    "                4: 2,\n",
    "                5: 3\n",
    "                }\n",
    "\n",
    "scaled_dropouts = scale_dropouts(dropout_dict, visit_urls)\n",
    "# EXPECTED: {0: 0.1, 1: 0.233, 2: 0.1875, 5: 0.136}\n",
    "scaled_dropouts"
   ]
  },
  {
   "cell_type": "code",
   "execution_count": 47,
   "id": "7be92f3d",
   "metadata": {},
   "outputs": [],
   "source": [
    "# Get scaled dictionaries for logouts and no logouts\n",
    "scaled_dropouts_with_logouts = scale_dropouts(dropouts_with_logouts, url_id_frequency)\n",
    "scaled_dropouts_no_logouts = scale_dropouts(dropouts_no_logouts, url_id_frequency)"
   ]
  },
  {
   "cell_type": "markdown",
   "id": "7c9bdd55",
   "metadata": {},
   "source": [
    "# Now to visualise both dictionaries"
   ]
  },
  {
   "cell_type": "code",
   "execution_count": 48,
   "id": "354f6061",
   "metadata": {},
   "outputs": [
    {
     "data": {
      "text/plain": [
       "{1556: 0.6402318929223794,\n",
       " 60: 0.5979822161422709,\n",
       " 277: 0.5374129500666766,\n",
       " 471: 0.49377593360995853,\n",
       " 54: 0.4743245913671908,\n",
       " 279: 0.4614848379226211,\n",
       " 1462: 0.4477791116446579,\n",
       " 59: 0.44514959202175886,\n",
       " 297: 0.4303969548667754,\n",
       " 1084: 0.42298850574712643}"
      ]
     },
     "execution_count": 48,
     "metadata": {},
     "output_type": "execute_result"
    }
   ],
   "source": [
    "# First let's visualise the scaled dropouts with logouts\n",
    "# Get 10 highest values\n",
    "sort_scaled_logouts = dict(sorted(scaled_dropouts_with_logouts.items(), key=lambda item: item[1], reverse=True))\n",
    "sort_scaled_logouts_10 = dict(zip(list(sort_scaled_logouts.keys())[:10], list(sort_scaled_logouts.values())[:10]))\n",
    "sort_scaled_logouts_10"
   ]
  },
  {
   "cell_type": "code",
   "execution_count": 56,
   "id": "38ccba09",
   "metadata": {},
   "outputs": [
    {
     "data": {
      "image/png": "[encoded data removed]",
      "text/plain": [
       "<Figure size 432x288 with 1 Axes>"
      ]
     },
     "metadata": {
      "needs_background": "light"
     },
     "output_type": "display_data"
    }
   ],
   "source": [
    "df_scaled_logouts = pd.DataFrame(sort_scaled_logouts_10.items(), columns=['Page_ID', 'Scaled_Dropout_Rate'])\n",
    "ax = df_scaled_logouts.plot.bar(x='Page_ID', y='Scaled_Dropout_Rate', color=['red', 'orange', 'yellow', 'green', 'blue', 'indigo', 'violet', 'magenta', 'crimson', 'cyan'], rot=0, legend=False)\n",
    "ax.set_xlabel(\"Page ID\")\n",
    "ax.set_ylabel(\"# dropouts / # visits\")\n",
    "ax.set_title(\"Number of dropouts over the number of visits (with logout)\")\n",
    "plt.ticklabel_format(style='plain', axis='y')"
   ]
  },
  {
   "cell_type": "code",
   "execution_count": 55,
   "id": "2b09559a",
   "metadata": {},
   "outputs": [
    {
     "data": {
      "text/plain": [
       "{60: 0.5988714090287278,\n",
       " 277: 0.5387464809601422,\n",
       " 133: 0.5081967213114754,\n",
       " 471: 0.49377593360995853,\n",
       " 54: 0.47449397284250344,\n",
       " 37: 0.46852836879432624,\n",
       " 279: 0.46427326594632273,\n",
       " 1462: 0.45666266506602643,\n",
       " 59: 0.44673617407071625,\n",
       " 112: 0.4421052631578947}"
      ]
     },
     "execution_count": 55,
     "metadata": {},
     "output_type": "execute_result"
    }
   ],
   "source": [
    "# Next let's visualise the scaled dropouts without logouts (logouts replaced with the previos page)\n",
    "# Get 10 highest values\n",
    "sort_scaled_no_logouts = dict(sorted(scaled_dropouts_no_logouts.items(), key=lambda item: item[1], reverse=True))\n",
    "sort_scaled_no_logouts_10 = dict(zip(list(sort_scaled_no_logouts.keys())[:10], list(sort_scaled_no_logouts.values())[:10]))\n",
    "sort_scaled_no_logouts_10"
   ]
  },
  {
   "cell_type": "code",
   "execution_count": 58,
   "id": "acbaabdf",
   "metadata": {},
   "outputs": [
    {
     "data": {
      "image/png": "[encoded data removed]",
      "text/plain": [
       "<Figure size 432x288 with 1 Axes>"
      ]
     },
     "metadata": {
      "needs_background": "light"
     },
     "output_type": "display_data"
    }
   ],
   "source": [
    "df_scaled_no_logouts = pd.DataFrame(sort_scaled_no_logouts_10.items(), columns=['Page_ID', 'Scaled_Dropout_Rate'])\n",
    "ax = df_scaled_no_logouts.plot.bar(x='Page_ID', y='Scaled_Dropout_Rate', color=['red', 'orange', 'yellow', 'green', 'blue', 'indigo', 'violet', 'magenta', 'crimson', 'cyan'], rot=0, legend=False)\n",
    "ax.set_xlabel(\"Page ID\")\n",
    "ax.set_ylabel(\"# dropouts / # visits\")\n",
    "ax.set_title(\"Number of dropouts over the number of visits (without logout)\")\n",
    "plt.ticklabel_format(style='plain', axis='y')"
   ]
  },
  {
   "cell_type": "code",
   "execution_count": null,
   "id": "67c0e8fe",
   "metadata": {},
   "outputs": [],
   "source": []
  }
 ],
 "metadata": {
  "kernelspec": {
   "display_name": "Python 3 (ipykernel)",
   "language": "python",
   "name": "python3"
  },
  "language_info": {
   "codemirror_mode": {
    "name": "ipython",
    "version": 3
   },
   "file_extension": ".py",
   "mimetype": "text/x-python",
   "name": "python",
   "nbconvert_exporter": "python",
   "pygments_lexer": "ipython3",
   "version": "3.9.1"
  }
 },
 "nbformat": 4,
 "nbformat_minor": 5
}
