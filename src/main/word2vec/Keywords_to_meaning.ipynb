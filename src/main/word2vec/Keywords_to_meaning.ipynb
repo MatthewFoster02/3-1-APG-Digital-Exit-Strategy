{
 "cells": [
  {
   "cell_type": "code",
   "execution_count": 1,
   "id": "6e9e1f51",
   "metadata": {},
   "outputs": [],
   "source": [
    "import numpy as np\n",
    "import pandas as pd\n",
    "import json\n",
    "from gensim.models import Word2Vec\n",
    "from gensim.models import KeyedVectors"
   ]
  },
  {
   "cell_type": "markdown",
   "id": "6afc0fb3",
   "metadata": {},
   "source": [
    "# Load in the 4 separate json files and combine into 1"
   ]
  },
  {
   "cell_type": "code",
   "execution_count": 2,
   "id": "871adf61",
   "metadata": {},
   "outputs": [],
   "source": [
    "# Dino\n",
    "with open('C:/Users/01din\\Desktop\\data APG\\keywords_split/dino_keywords.json', 'r') as jf_dino:\n",
    "    keywords = json.load(jf_dino)"
   ]
  },
  {
   "cell_type": "code",
   "execution_count": 4,
   "id": "158ffbe7",
   "metadata": {},
   "outputs": [],
   "source": [
    "# Load in the word2vec model\n",
    "wordvecs = KeyedVectors.load('C:/Users/01din\\Desktop\\data APG\\scrape_results/custom_model.wordvectors', mmap='r').wv\n"
   ]
  },
  {
   "cell_type": "code",
   "execution_count": 5,
   "id": "6bc3da02",
   "metadata": {},
   "outputs": [],
   "source": [
    "length = len(keywords)\n",
    "counter = 0"
   ]
  },
  {
   "cell_type": "code",
   "execution_count": 6,
   "id": "4a08cebc",
   "metadata": {},
   "outputs": [],
   "source": [
    "# Method to find average vector of top 10 keywords for each visit\n",
    "def keywords2vec(keywords, weights):\n",
    "    '''\n",
    "    input: equal sized arrays of the keywords and their respective weights\n",
    "    output: weighted average of the keywords' vectors\n",
    "    '''\n",
    "    global counter\n",
    "    meaning_vec = np.zeros(100)\n",
    "    for keyword, weight in zip(keywords, weights):\n",
    "        word_vec = wordvecs[keyword]\n",
    "        meaning_vec += (word_vec * weight)\n",
    "    if sum(weights) != 0:\n",
    "        meaning_vec /= sum(weights)\n",
    "    else:\n",
    "        counter += 1\n",
    "    \n",
    "    \n",
    "    return meaning_vec"
   ]
  },
  {
   "cell_type": "code",
   "execution_count": 7,
   "id": "cb3b5964",
   "metadata": {},
   "outputs": [],
   "source": [
    "def calculatePercentComplete(decimal_complete):\n",
    "    return round(decimal_complete*100)"
   ]
  },
  {
   "cell_type": "code",
   "execution_count": 8,
   "id": "a7c0b6cf",
   "metadata": {},
   "outputs": [],
   "source": [
    "def get_meanings(keywords_):\n",
    "    visit_meanings = {}\n",
    "    i = 1\n",
    "    previous_percent = -1\n",
    "    for visit_id, keywords_weights in keywords_.items():\n",
    "        visit_meanings[visit_id] = keywords2vec(keywords_weights.keys(), keywords_weights.values())\n",
    "        percent = calculatePercentComplete(i/length)\n",
    "        if percent != previous_percent:\n",
    "            print(f\"{percent}% done...\")\n",
    "            previous_percent = percent\n",
    "        i += 1\n",
    "    print(\"DONE!\")\n",
    "    return visit_meanings\n",
    "        "
   ]
  },
  {
   "cell_type": "code",
   "execution_count": 9,
   "id": "9e01c451",
   "metadata": {
    "scrolled": true
   },
   "outputs": [
    {
     "name": "stdout",
     "output_type": "stream",
     "text": [
      "0% done...\n",
      "1% done...\n",
      "2% done...\n",
      "3% done...\n",
      "4% done...\n",
      "5% done...\n",
      "6% done...\n",
      "7% done...\n",
      "8% done...\n",
      "9% done...\n",
      "10% done...\n",
      "11% done...\n",
      "12% done...\n",
      "13% done...\n",
      "14% done...\n",
      "15% done...\n",
      "16% done...\n",
      "17% done...\n",
      "18% done...\n",
      "19% done...\n",
      "20% done...\n",
      "21% done...\n",
      "22% done...\n",
      "23% done...\n",
      "24% done...\n",
      "25% done...\n",
      "26% done...\n",
      "27% done...\n",
      "28% done...\n",
      "29% done...\n",
      "30% done...\n",
      "31% done...\n",
      "32% done...\n",
      "33% done...\n",
      "34% done...\n",
      "35% done...\n",
      "36% done...\n",
      "37% done...\n",
      "38% done...\n",
      "39% done...\n",
      "40% done...\n",
      "41% done...\n",
      "42% done...\n",
      "43% done...\n",
      "44% done...\n",
      "45% done...\n",
      "46% done...\n",
      "47% done...\n",
      "48% done...\n",
      "49% done...\n",
      "50% done...\n",
      "51% done...\n",
      "52% done...\n",
      "53% done...\n",
      "54% done...\n",
      "55% done...\n",
      "56% done...\n",
      "57% done...\n",
      "58% done...\n",
      "59% done...\n",
      "60% done...\n",
      "61% done...\n",
      "62% done...\n",
      "63% done...\n",
      "64% done...\n",
      "65% done...\n",
      "66% done...\n",
      "67% done...\n",
      "68% done...\n",
      "69% done...\n",
      "70% done...\n",
      "71% done...\n",
      "72% done...\n",
      "73% done...\n",
      "74% done...\n",
      "75% done...\n",
      "76% done...\n",
      "77% done...\n",
      "78% done...\n",
      "79% done...\n",
      "80% done...\n",
      "81% done...\n",
      "82% done...\n",
      "83% done...\n",
      "84% done...\n",
      "85% done...\n",
      "86% done...\n",
      "87% done...\n",
      "88% done...\n",
      "89% done...\n",
      "90% done...\n",
      "91% done...\n",
      "92% done...\n",
      "93% done...\n",
      "94% done...\n",
      "95% done...\n",
      "96% done...\n",
      "97% done...\n",
      "98% done...\n",
      "99% done...\n",
      "100% done...\n",
      "DONE!\n"
     ]
    }
   ],
   "source": [
    "meanings = get_meanings(keywords)"
   ]
  },
  {
   "cell_type": "code",
   "execution_count": 10,
   "id": "8d193c64",
   "metadata": {},
   "outputs": [],
   "source": [
    "keys_to_remove = []\n",
    "for key, vec in meanings.items():\n",
    "    if sum(vec) == 0:\n",
    "        keys_to_remove.append(key)\n",
    "\n",
    "for key in keys_to_remove:\n",
    "    del meanings[key]"
   ]
  },
  {
   "cell_type": "code",
   "execution_count": 13,
   "id": "1e059ac3",
   "metadata": {},
   "outputs": [
    {
     "name": "stdout",
     "output_type": "stream",
     "text": [
      "99740\n"
     ]
    }
   ],
   "source": [
    "new_length = length - counter\n",
    "print(new_length)"
   ]
  },
  {
   "cell_type": "code",
   "execution_count": 14,
   "id": "77a41197",
   "metadata": {},
   "outputs": [
    {
     "name": "stdout",
     "output_type": "stream",
     "text": [
      "99740\n"
     ]
    }
   ],
   "source": [
    "print(len(meanings))"
   ]
  },
  {
   "cell_type": "code",
   "execution_count": 15,
   "id": "24ca2f0f",
   "metadata": {},
   "outputs": [],
   "source": [
    "meaning_list = []\n",
    "for vec in meanings.values():\n",
    "    meaning_list.append(vec.tolist())"
   ]
  },
  {
   "cell_type": "code",
   "execution_count": 16,
   "id": "679bad43",
   "metadata": {},
   "outputs": [
    {
     "name": "stdout",
     "output_type": "stream",
     "text": [
      "<class 'list'>\n"
     ]
    }
   ],
   "source": [
    "print(type(meaning_list[0]))"
   ]
  },
  {
   "cell_type": "code",
   "execution_count": 17,
   "id": "4dab3bcd",
   "metadata": {},
   "outputs": [],
   "source": [
    "df = pd.DataFrame()"
   ]
  },
  {
   "cell_type": "code",
   "execution_count": 18,
   "id": "bb2aad20",
   "metadata": {},
   "outputs": [],
   "source": [
    "df['visit_id'] = meanings.keys()"
   ]
  },
  {
   "cell_type": "code",
   "execution_count": 19,
   "id": "853af117",
   "metadata": {},
   "outputs": [],
   "source": [
    "df['meaning_vectors'] = meaning_list"
   ]
  },
  {
   "cell_type": "code",
   "execution_count": 20,
   "id": "7c2efa69",
   "metadata": {
    "scrolled": true
   },
   "outputs": [
    {
     "data": {
      "text/plain": "         visit_id                                    meaning_vectors\n0        33888[1]  [-2.8568043961120506, -1.0411711915039288, 1.0...\n1       445844[2]  [-0.37217951978468866, -0.6032857196871719, -0...\n2        39476[1]  [0.8520023563924629, -0.74428102453283, -0.308...\n3       671874[9]  [0.13135490096017363, -0.8527024690877495, -0....\n4       381389[1]  [-0.18643798272444848, -1.4383675231123787, -0...\n...           ...                                                ...\n99735  675581[16]  [-0.808745111753831, -1.0339257878640125, -0.3...\n99736    26049[1]  [-0.49259110292462266, -1.332196389035972, -0....\n99737   625944[1]  [-0.41092000328722017, -0.5800180383061275, -0...\n99738  533016[22]  [-0.29364888932315314, -1.6183073339440335, -0...\n99739   665782[1]  [-3.329542398452759, -1.0657744407653809, 1.58...\n\n[99740 rows x 2 columns]",
      "text/html": "<div>\n<style scoped>\n    .dataframe tbody tr th:only-of-type {\n        vertical-align: middle;\n    }\n\n    .dataframe tbody tr th {\n        vertical-align: top;\n    }\n\n    .dataframe thead th {\n        text-align: right;\n    }\n</style>\n<table border=\"1\" class=\"dataframe\">\n  <thead>\n    <tr style=\"text-align: right;\">\n      <th></th>\n      <th>visit_id</th>\n      <th>meaning_vectors</th>\n    </tr>\n  </thead>\n  <tbody>\n    <tr>\n      <th>0</th>\n      <td>33888[1]</td>\n      <td>[-2.8568043961120506, -1.0411711915039288, 1.0...</td>\n    </tr>\n    <tr>\n      <th>1</th>\n      <td>445844[2]</td>\n      <td>[-0.37217951978468866, -0.6032857196871719, -0...</td>\n    </tr>\n    <tr>\n      <th>2</th>\n      <td>39476[1]</td>\n      <td>[0.8520023563924629, -0.74428102453283, -0.308...</td>\n    </tr>\n    <tr>\n      <th>3</th>\n      <td>671874[9]</td>\n      <td>[0.13135490096017363, -0.8527024690877495, -0....</td>\n    </tr>\n    <tr>\n      <th>4</th>\n      <td>381389[1]</td>\n      <td>[-0.18643798272444848, -1.4383675231123787, -0...</td>\n    </tr>\n    <tr>\n      <th>...</th>\n      <td>...</td>\n      <td>...</td>\n    </tr>\n    <tr>\n      <th>99735</th>\n      <td>675581[16]</td>\n      <td>[-0.808745111753831, -1.0339257878640125, -0.3...</td>\n    </tr>\n    <tr>\n      <th>99736</th>\n      <td>26049[1]</td>\n      <td>[-0.49259110292462266, -1.332196389035972, -0....</td>\n    </tr>\n    <tr>\n      <th>99737</th>\n      <td>625944[1]</td>\n      <td>[-0.41092000328722017, -0.5800180383061275, -0...</td>\n    </tr>\n    <tr>\n      <th>99738</th>\n      <td>533016[22]</td>\n      <td>[-0.29364888932315314, -1.6183073339440335, -0...</td>\n    </tr>\n    <tr>\n      <th>99739</th>\n      <td>665782[1]</td>\n      <td>[-3.329542398452759, -1.0657744407653809, 1.58...</td>\n    </tr>\n  </tbody>\n</table>\n<p>99740 rows × 2 columns</p>\n</div>"
     },
     "execution_count": 20,
     "metadata": {},
     "output_type": "execute_result"
    }
   ],
   "source": [
    "df"
   ]
  },
  {
   "cell_type": "code",
   "execution_count": 24,
   "id": "c63e1d83",
   "metadata": {},
   "outputs": [
    {
     "name": "stdout",
     "output_type": "stream",
     "text": [
      "{'aow': 1.0, 'samenstellen': 0.9584364903893892, 'netto': 0.7587906420464642, 'tegelijk': 0.7318806122834185, 'genieten': 0.6745254160739258, 'plan': 0.6695221904184309, 'hetzelfde': 0.5394127247125724, 'aanvragen': 0.47807823907388947, 'bedrag': 0.44690965014187767, 'eerder': 0.4066391422034157}\n"
     ]
    }
   ],
   "source": [
    "print(keywords['445844[2]'])"
   ]
  },
  {
   "cell_type": "code",
   "execution_count": 25,
   "id": "c0c564ae",
   "metadata": {},
   "outputs": [
    {
     "name": "stdout",
     "output_type": "stream",
     "text": [
      "samenstellen\n"
     ]
    }
   ],
   "source": [
    "print(wordvecs.most_similar(meanings['445844[2]'], topn=1)[0][0])"
   ]
  },
  {
   "cell_type": "code",
   "execution_count": 26,
   "id": "b39184c3",
   "metadata": {
    "scrolled": true
   },
   "outputs": [
    {
     "name": "stdout",
     "output_type": "stream",
     "text": [
      "0 complete...\n",
      "10000 complete...\n",
      "20000 complete...\n",
      "30000 complete...\n",
      "40000 complete...\n",
      "50000 complete...\n",
      "60000 complete...\n",
      "70000 complete...\n",
      "80000 complete...\n",
      "90000 complete...\n",
      "DONE!!!\n"
     ]
    }
   ],
   "source": [
    "meaning_words = []\n",
    "for index, meaning_vec in enumerate(meanings.values()):\n",
    "    meaning_words.append(wordvecs.most_similar(meaning_vec, topn=1)[0][0])\n",
    "    if index % 10000 == 0:\n",
    "        print(f\"{index} complete...\")\n",
    "        \n",
    "print(\"DONE!!!\")"
   ]
  },
  {
   "cell_type": "code",
   "execution_count": 27,
   "id": "a2af68da",
   "metadata": {},
   "outputs": [
    {
     "name": "stdout",
     "output_type": "stream",
     "text": [
      "['berichten', 'samenstellen', 'diensttijd', 'meer', 'berichten', 'diensttijd', 'diensttijd', 'academisch', 'academisch', 'academisch', 'diensttijd', 'diensttijd', 'pensioenoverzicht', 'pensioenaangroei', 'diensttijd', 'academisch', 'berichten', 'berichten', 'diensttijd', 'diensttijd', 'berichten', 'berichten', 'verhoging', 'diensttijd', 'pensioenaangroei', 'berichten', 'samenstellen', 'diensttijd', 'pensioenaangroei', 'later', 'berichten', 'samenstellen', 'berichten', 'diensttijd', 'berichten', 'inzicht', 'berichten', 'dekkingsgraad', 'berichten', 'berichten', 'academisch', 'digid', 'pensioenoverzicht', 'pensioenoverzicht', 'diensttijd', 'diensttijd', 'berichten', 'pensioenaangroei', 'academisch', 'berichten', 'berichten', 'berichten', 'inzicht', 'pensioenaangroei', 'berichten', 'pensioenaangroei', 'academisch', 'bouw', 'zvw', 'sessie', 'berichten', 'berichten', 'nabestaandenpensioen', 'mijnabp', 'diensttijd', 'samenstellen', 'berichten', 'of', 'diensttijd', 'samenstellen', 'diensttijd', 'berichten', 'diensttijd', 'inzicht', 'diensttijd', 'diensttijd', 'berichten', 'berichten', 'pensioenaangroei', 'berichten', 'diensttijd', 'berichten', 'service', 'diensttijd', 'berichten', 'sessie', 'samenstellen', 'academisch', 'diensttijd', 'inzicht', 'berichten', 'diensttijd', 'diensttijd', 'berichten', 'berichten', 'berichten', 'partner', 'diensttijd', 'ineens', 'academisch']\n"
     ]
    }
   ],
   "source": [
    "print(meaning_words[:100])"
   ]
  },
  {
   "cell_type": "code",
   "execution_count": 28,
   "id": "a809e08c",
   "metadata": {},
   "outputs": [
    {
     "name": "stdout",
     "output_type": "stream",
     "text": [
      "99740 363\n"
     ]
    }
   ],
   "source": [
    "unique = set()\n",
    "for word in meaning_words:\n",
    "    unique.add(word)\n",
    "    \n",
    "print(len(meaning_words), len(unique))"
   ]
  },
  {
   "cell_type": "code",
   "execution_count": 29,
   "id": "83a2162e",
   "metadata": {},
   "outputs": [],
   "source": [
    "df['meaning_words'] = meaning_words"
   ]
  },
  {
   "cell_type": "code",
   "execution_count": 30,
   "id": "f00ff2ca",
   "metadata": {},
   "outputs": [
    {
     "data": {
      "text/plain": "         visit_id                                    meaning_vectors  \\\n0        33888[1]  [-2.8568043961120506, -1.0411711915039288, 1.0...   \n1       445844[2]  [-0.37217951978468866, -0.6032857196871719, -0...   \n2        39476[1]  [0.8520023563924629, -0.74428102453283, -0.308...   \n3       671874[9]  [0.13135490096017363, -0.8527024690877495, -0....   \n4       381389[1]  [-0.18643798272444848, -1.4383675231123787, -0...   \n...           ...                                                ...   \n99735  675581[16]  [-0.808745111753831, -1.0339257878640125, -0.3...   \n99736    26049[1]  [-0.49259110292462266, -1.332196389035972, -0....   \n99737   625944[1]  [-0.41092000328722017, -0.5800180383061275, -0...   \n99738  533016[22]  [-0.29364888932315314, -1.6183073339440335, -0...   \n99739   665782[1]  [-3.329542398452759, -1.0657744407653809, 1.58...   \n\n      meaning_words  \n0         berichten  \n1      samenstellen  \n2        diensttijd  \n3              meer  \n4         berichten  \n...             ...  \n99735     berichten  \n99736     berichten  \n99737  samenstellen  \n99738        eerder  \n99739     berichten  \n\n[99740 rows x 3 columns]",
      "text/html": "<div>\n<style scoped>\n    .dataframe tbody tr th:only-of-type {\n        vertical-align: middle;\n    }\n\n    .dataframe tbody tr th {\n        vertical-align: top;\n    }\n\n    .dataframe thead th {\n        text-align: right;\n    }\n</style>\n<table border=\"1\" class=\"dataframe\">\n  <thead>\n    <tr style=\"text-align: right;\">\n      <th></th>\n      <th>visit_id</th>\n      <th>meaning_vectors</th>\n      <th>meaning_words</th>\n    </tr>\n  </thead>\n  <tbody>\n    <tr>\n      <th>0</th>\n      <td>33888[1]</td>\n      <td>[-2.8568043961120506, -1.0411711915039288, 1.0...</td>\n      <td>berichten</td>\n    </tr>\n    <tr>\n      <th>1</th>\n      <td>445844[2]</td>\n      <td>[-0.37217951978468866, -0.6032857196871719, -0...</td>\n      <td>samenstellen</td>\n    </tr>\n    <tr>\n      <th>2</th>\n      <td>39476[1]</td>\n      <td>[0.8520023563924629, -0.74428102453283, -0.308...</td>\n      <td>diensttijd</td>\n    </tr>\n    <tr>\n      <th>3</th>\n      <td>671874[9]</td>\n      <td>[0.13135490096017363, -0.8527024690877495, -0....</td>\n      <td>meer</td>\n    </tr>\n    <tr>\n      <th>4</th>\n      <td>381389[1]</td>\n      <td>[-0.18643798272444848, -1.4383675231123787, -0...</td>\n      <td>berichten</td>\n    </tr>\n    <tr>\n      <th>...</th>\n      <td>...</td>\n      <td>...</td>\n      <td>...</td>\n    </tr>\n    <tr>\n      <th>99735</th>\n      <td>675581[16]</td>\n      <td>[-0.808745111753831, -1.0339257878640125, -0.3...</td>\n      <td>berichten</td>\n    </tr>\n    <tr>\n      <th>99736</th>\n      <td>26049[1]</td>\n      <td>[-0.49259110292462266, -1.332196389035972, -0....</td>\n      <td>berichten</td>\n    </tr>\n    <tr>\n      <th>99737</th>\n      <td>625944[1]</td>\n      <td>[-0.41092000328722017, -0.5800180383061275, -0...</td>\n      <td>samenstellen</td>\n    </tr>\n    <tr>\n      <th>99738</th>\n      <td>533016[22]</td>\n      <td>[-0.29364888932315314, -1.6183073339440335, -0...</td>\n      <td>eerder</td>\n    </tr>\n    <tr>\n      <th>99739</th>\n      <td>665782[1]</td>\n      <td>[-3.329542398452759, -1.0657744407653809, 1.58...</td>\n      <td>berichten</td>\n    </tr>\n  </tbody>\n</table>\n<p>99740 rows × 3 columns</p>\n</div>"
     },
     "execution_count": 30,
     "metadata": {},
     "output_type": "execute_result"
    }
   ],
   "source": [
    "df"
   ]
  },
  {
   "cell_type": "code",
   "execution_count": 31,
   "id": "c0d8b8d5",
   "metadata": {},
   "outputs": [
    {
     "data": {
      "text/plain": "berichten           26021\ndiensttijd          16483\npensioenaangroei     8763\nacademisch           7086\nsamenstellen         6384\n                    ...  \nsectormanagers          1\nwerknemerspremie        1\nfnv                     1\nstaan                   1\noudste                  1\nName: meaning_words, Length: 363, dtype: int64"
     },
     "execution_count": 31,
     "metadata": {},
     "output_type": "execute_result"
    }
   ],
   "source": [
    "df['meaning_words'].value_counts()"
   ]
  },
  {
   "cell_type": "code",
   "execution_count": 33,
   "id": "4d728175",
   "metadata": {},
   "outputs": [
    {
     "data": {
      "text/plain": "pandas.core.series.Series"
     },
     "execution_count": 33,
     "metadata": {},
     "output_type": "execute_result"
    }
   ],
   "source": [
    "type(df['meaning_vectors'])"
   ]
  },
  {
   "cell_type": "code",
   "execution_count": 34,
   "id": "dc228b83",
   "metadata": {},
   "outputs": [
    {
     "data": {
      "text/plain": "         visit_id                                    meaning_vectors  \\\n0        33888[1]  [-2.8568043961120506, -1.0411711915039288, 1.0...   \n1       445844[2]  [-0.37217951978468866, -0.6032857196871719, -0...   \n2        39476[1]  [0.8520023563924629, -0.74428102453283, -0.308...   \n3       671874[9]  [0.13135490096017363, -0.8527024690877495, -0....   \n4       381389[1]  [-0.18643798272444848, -1.4383675231123787, -0...   \n...           ...                                                ...   \n99735  675581[16]  [-0.808745111753831, -1.0339257878640125, -0.3...   \n99736    26049[1]  [-0.49259110292462266, -1.332196389035972, -0....   \n99737   625944[1]  [-0.41092000328722017, -0.5800180383061275, -0...   \n99738  533016[22]  [-0.29364888932315314, -1.6183073339440335, -0...   \n99739   665782[1]  [-3.329542398452759, -1.0657744407653809, 1.58...   \n\n      meaning_words  \n0         berichten  \n1      samenstellen  \n2        diensttijd  \n3              meer  \n4         berichten  \n...             ...  \n99735     berichten  \n99736     berichten  \n99737  samenstellen  \n99738        eerder  \n99739     berichten  \n\n[99740 rows x 3 columns]",
      "text/html": "<div>\n<style scoped>\n    .dataframe tbody tr th:only-of-type {\n        vertical-align: middle;\n    }\n\n    .dataframe tbody tr th {\n        vertical-align: top;\n    }\n\n    .dataframe thead th {\n        text-align: right;\n    }\n</style>\n<table border=\"1\" class=\"dataframe\">\n  <thead>\n    <tr style=\"text-align: right;\">\n      <th></th>\n      <th>visit_id</th>\n      <th>meaning_vectors</th>\n      <th>meaning_words</th>\n    </tr>\n  </thead>\n  <tbody>\n    <tr>\n      <th>0</th>\n      <td>33888[1]</td>\n      <td>[-2.8568043961120506, -1.0411711915039288, 1.0...</td>\n      <td>berichten</td>\n    </tr>\n    <tr>\n      <th>1</th>\n      <td>445844[2]</td>\n      <td>[-0.37217951978468866, -0.6032857196871719, -0...</td>\n      <td>samenstellen</td>\n    </tr>\n    <tr>\n      <th>2</th>\n      <td>39476[1]</td>\n      <td>[0.8520023563924629, -0.74428102453283, -0.308...</td>\n      <td>diensttijd</td>\n    </tr>\n    <tr>\n      <th>3</th>\n      <td>671874[9]</td>\n      <td>[0.13135490096017363, -0.8527024690877495, -0....</td>\n      <td>meer</td>\n    </tr>\n    <tr>\n      <th>4</th>\n      <td>381389[1]</td>\n      <td>[-0.18643798272444848, -1.4383675231123787, -0...</td>\n      <td>berichten</td>\n    </tr>\n    <tr>\n      <th>...</th>\n      <td>...</td>\n      <td>...</td>\n      <td>...</td>\n    </tr>\n    <tr>\n      <th>99735</th>\n      <td>675581[16]</td>\n      <td>[-0.808745111753831, -1.0339257878640125, -0.3...</td>\n      <td>berichten</td>\n    </tr>\n    <tr>\n      <th>99736</th>\n      <td>26049[1]</td>\n      <td>[-0.49259110292462266, -1.332196389035972, -0....</td>\n      <td>berichten</td>\n    </tr>\n    <tr>\n      <th>99737</th>\n      <td>625944[1]</td>\n      <td>[-0.41092000328722017, -0.5800180383061275, -0...</td>\n      <td>samenstellen</td>\n    </tr>\n    <tr>\n      <th>99738</th>\n      <td>533016[22]</td>\n      <td>[-0.29364888932315314, -1.6183073339440335, -0...</td>\n      <td>eerder</td>\n    </tr>\n    <tr>\n      <th>99739</th>\n      <td>665782[1]</td>\n      <td>[-3.329542398452759, -1.0657744407653809, 1.58...</td>\n      <td>berichten</td>\n    </tr>\n  </tbody>\n</table>\n<p>99740 rows × 3 columns</p>\n</div>"
     },
     "execution_count": 34,
     "metadata": {},
     "output_type": "execute_result"
    }
   ],
   "source": [
    "df"
   ]
  },
  {
   "cell_type": "code",
   "execution_count": 35,
   "id": "be56c3d2",
   "metadata": {},
   "outputs": [],
   "source": [
    "df.to_csv('C:/Users/01din\\Desktop\\data APG\\meaning/visit_meanings.csv', index=False)"
   ]
  },
  {
   "cell_type": "code",
   "execution_count": null,
   "id": "82a1c39f",
   "metadata": {},
   "outputs": [],
   "source": []
  }
 ],
 "metadata": {
  "kernelspec": {
   "display_name": "Python 3 (ipykernel)",
   "language": "python",
   "name": "python3"
  },
  "language_info": {
   "codemirror_mode": {
    "name": "ipython",
    "version": 3
   },
   "file_extension": ".py",
   "mimetype": "text/x-python",
   "name": "python",
   "nbconvert_exporter": "python",
   "pygments_lexer": "ipython3",
   "version": "3.9.1"
  }
 },
 "nbformat": 4,
 "nbformat_minor": 5
}
