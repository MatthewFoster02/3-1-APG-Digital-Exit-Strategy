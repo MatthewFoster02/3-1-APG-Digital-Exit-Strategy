{
 "cells": [
  {
   "cell_type": "code",
   "execution_count": 1,
   "id": "6e9e1f51",
   "metadata": {},
   "outputs": [],
   "source": [
    "import numpy as np\n",
    "import pandas as pd\n",
    "import json\n",
    "from gensim.models import Word2Vec\n",
    "from gensim.models import KeyedVectors"
   ]
  },
  {
   "cell_type": "markdown",
   "id": "6afc0fb3",
   "metadata": {},
   "source": [
    "# Load in the 4 separate json files and combine into 1"
   ]
  },
  {
   "cell_type": "code",
   "execution_count": null,
   "id": "871adf61",
   "metadata": {},
   "outputs": [],
   "source": [
    "# Dino\n",
    "with open('C:/Users/mattf/Downloads/dino_keywords.json', 'r') as jf_dino:\n",
    "    dino_keywords = json.load(jf_dino)"
   ]
  },
  {
   "cell_type": "code",
   "execution_count": null,
   "id": "57e26fea",
   "metadata": {},
   "outputs": [],
   "source": [
    "# Laurence\n",
    "with open('C:/Users/mattf/Downloads/laurence_keywords.json', 'r') as jf_laurence:\n",
    "    laurence_keywords = json.load(jf_laurence)"
   ]
  },
  {
   "cell_type": "code",
   "execution_count": null,
   "id": "ac475daf",
   "metadata": {},
   "outputs": [],
   "source": [
    "# Matthew\n",
    "with open('C:/Users/mattf/Downloads/matthew_keywords.json', 'r') as jf_matthew:\n",
    "    matthew_keywords = json.load(jf_matthew)"
   ]
  },
  {
   "cell_type": "code",
   "execution_count": null,
   "id": "9e5e1b91",
   "metadata": {},
   "outputs": [],
   "source": [
    "# Matthijs\n",
    "with open('C:/Users/mattf/Downloads/matthijs_keywords.json', 'r') as jf_matthijs:\n",
    "    matthijs_keywords = json.load(jf_matthijs)"
   ]
  },
  {
   "cell_type": "code",
   "execution_count": null,
   "id": "d6a89f09",
   "metadata": {},
   "outputs": [],
   "source": [
    "# Combine\n",
    "#print(len(dino_keywords)+len(laurence_keywords)+len(matthew_keywords)+len(matthijs_keywords))\n",
    "dino_keywords.update(laurence_keywords)\n",
    "dino_keywords.update(matthew_keywords)\n",
    "dino_keywords.update(matthijs_keywords)"
   ]
  },
  {
   "cell_type": "code",
   "execution_count": null,
   "id": "bf8e5e22",
   "metadata": {},
   "outputs": [],
   "source": [
    "# Save\n",
    "#print(len(dino_keywords))\n",
    "with open('C:/Users/mattf/Downloads/all_visit_keywords.json', 'w') as jf:\n",
    "    json.dump(dino_keywords, jf)"
   ]
  },
  {
   "cell_type": "code",
   "execution_count": 2,
   "id": "4707e6ca",
   "metadata": {},
   "outputs": [],
   "source": [
    "# Load back in the complete json file\n",
    "with open('C:/Users/mattf/Downloads/all_visit_keywords.json', 'r') as jf:\n",
    "    keywords = json.load(jf)"
   ]
  },
  {
   "cell_type": "code",
   "execution_count": 3,
   "id": "40a85351",
   "metadata": {},
   "outputs": [
    {
     "name": "stdout",
     "output_type": "stream",
     "text": [
      "1442046\n"
     ]
    }
   ],
   "source": [
    "length = len(keywords)\n",
    "print(length)"
   ]
  },
  {
   "cell_type": "code",
   "execution_count": 4,
   "id": "158ffbe7",
   "metadata": {},
   "outputs": [],
   "source": [
    "# Load in the word2vec model\n",
    "wordvecs = KeyedVectors.load('C:/Users/mattf/Downloads/custom_model.wordvectors', mmap='r').wv"
   ]
  },
  {
   "cell_type": "code",
   "execution_count": 5,
   "id": "6bc3da02",
   "metadata": {},
   "outputs": [],
   "source": [
    "counter = 0"
   ]
  },
  {
   "cell_type": "code",
   "execution_count": 6,
   "id": "4a08cebc",
   "metadata": {},
   "outputs": [],
   "source": [
    "# Method to find average vector of top 10 keywords for each visit\n",
    "def keywords2vec(keywords, weights):\n",
    "    '''\n",
    "    input: equal sized arrays of the keywords and their respective weights\n",
    "    output: weighted average of the keywords' vectors\n",
    "    '''\n",
    "    global counter\n",
    "    meaning_vec = np.zeros(100)\n",
    "    for keyword, weight in zip(keywords, weights):\n",
    "        word_vec = wordvecs[keyword]\n",
    "        meaning_vec += (word_vec * weight)\n",
    "    if sum(weights) != 0:\n",
    "        meaning_vec /= sum(weights)\n",
    "    else:\n",
    "        counter += 1\n",
    "    \n",
    "    \n",
    "    return meaning_vec"
   ]
  },
  {
   "cell_type": "code",
   "execution_count": 7,
   "id": "cb3b5964",
   "metadata": {},
   "outputs": [],
   "source": [
    "def calculatePercentComplete(decimal_complete):\n",
    "    return round(decimal_complete*100)"
   ]
  },
  {
   "cell_type": "code",
   "execution_count": 8,
   "id": "a7c0b6cf",
   "metadata": {},
   "outputs": [],
   "source": [
    "def get_meanings(keywords_):\n",
    "    visit_meanings = {}\n",
    "    i = 1\n",
    "    previous_percent = -1\n",
    "    for visit_id, keywords_weights in keywords_.items():\n",
    "        visit_meanings[visit_id] = keywords2vec(keywords_weights.keys(), keywords_weights.values())\n",
    "        percent = calculatePercentComplete(i/length)\n",
    "        if percent != previous_percent:\n",
    "            print(f\"{percent}% done...\")\n",
    "            previous_percent = percent\n",
    "        i += 1\n",
    "    print(\"DONE!\")\n",
    "    return visit_meanings\n",
    "        "
   ]
  },
  {
   "cell_type": "code",
   "execution_count": 9,
   "id": "9e01c451",
   "metadata": {
    "scrolled": true
   },
   "outputs": [
    {
     "name": "stdout",
     "output_type": "stream",
     "text": [
      "0% done...\n",
      "1% done...\n",
      "2% done...\n",
      "3% done...\n",
      "4% done...\n",
      "5% done...\n",
      "6% done...\n",
      "7% done...\n",
      "8% done...\n",
      "9% done...\n",
      "10% done...\n",
      "11% done...\n",
      "12% done...\n",
      "13% done...\n",
      "14% done...\n",
      "15% done...\n",
      "16% done...\n",
      "17% done...\n",
      "18% done...\n",
      "19% done...\n",
      "20% done...\n",
      "21% done...\n",
      "22% done...\n",
      "23% done...\n",
      "24% done...\n",
      "25% done...\n",
      "26% done...\n",
      "27% done...\n",
      "28% done...\n",
      "29% done...\n",
      "30% done...\n",
      "31% done...\n",
      "32% done...\n",
      "33% done...\n",
      "34% done...\n",
      "35% done...\n",
      "36% done...\n",
      "37% done...\n",
      "38% done...\n",
      "39% done...\n",
      "40% done...\n",
      "41% done...\n",
      "42% done...\n",
      "43% done...\n",
      "44% done...\n",
      "45% done...\n",
      "46% done...\n",
      "47% done...\n",
      "48% done...\n",
      "49% done...\n",
      "50% done...\n",
      "51% done...\n",
      "52% done...\n",
      "53% done...\n",
      "54% done...\n",
      "55% done...\n",
      "56% done...\n",
      "57% done...\n",
      "58% done...\n",
      "59% done...\n",
      "60% done...\n",
      "61% done...\n",
      "62% done...\n",
      "63% done...\n",
      "64% done...\n",
      "65% done...\n",
      "66% done...\n",
      "67% done...\n",
      "68% done...\n",
      "69% done...\n",
      "70% done...\n",
      "71% done...\n",
      "72% done...\n",
      "73% done...\n",
      "74% done...\n",
      "75% done...\n",
      "76% done...\n",
      "77% done...\n",
      "78% done...\n",
      "79% done...\n",
      "80% done...\n",
      "81% done...\n",
      "82% done...\n",
      "83% done...\n",
      "84% done...\n",
      "85% done...\n",
      "86% done...\n",
      "87% done...\n",
      "88% done...\n",
      "89% done...\n",
      "90% done...\n",
      "91% done...\n",
      "92% done...\n",
      "93% done...\n",
      "94% done...\n",
      "95% done...\n",
      "96% done...\n",
      "97% done...\n",
      "98% done...\n",
      "99% done...\n",
      "100% done...\n",
      "DONE!\n"
     ]
    }
   ],
   "source": [
    "meanings = get_meanings(keywords)"
   ]
  },
  {
   "cell_type": "code",
   "execution_count": 10,
   "id": "8d193c64",
   "metadata": {},
   "outputs": [],
   "source": [
    "keys_to_remove = []\n",
    "for key, vec in meanings.items():\n",
    "    if sum(vec) == 0:\n",
    "        keys_to_remove.append(key)\n",
    "\n",
    "for key in keys_to_remove:\n",
    "    del meanings[key]"
   ]
  },
  {
   "cell_type": "code",
   "execution_count": 11,
   "id": "1e059ac3",
   "metadata": {},
   "outputs": [
    {
     "name": "stdout",
     "output_type": "stream",
     "text": [
      "1438474\n"
     ]
    }
   ],
   "source": [
    "new_length = length - counter\n",
    "print(new_length)"
   ]
  },
  {
   "cell_type": "code",
   "execution_count": 12,
   "id": "77a41197",
   "metadata": {},
   "outputs": [
    {
     "name": "stdout",
     "output_type": "stream",
     "text": [
      "1438474\n"
     ]
    }
   ],
   "source": [
    "print(len(meanings))"
   ]
  },
  {
   "cell_type": "code",
   "execution_count": 13,
   "id": "24ca2f0f",
   "metadata": {},
   "outputs": [],
   "source": [
    "meaning_list = []\n",
    "for vec in meanings.values():\n",
    "    meaning_list.append(vec.tolist())"
   ]
  },
  {
   "cell_type": "code",
   "execution_count": 14,
   "id": "679bad43",
   "metadata": {},
   "outputs": [
    {
     "name": "stdout",
     "output_type": "stream",
     "text": [
      "<class 'list'>\n"
     ]
    }
   ],
   "source": [
    "print(type(meaning_list[0]))"
   ]
  },
  {
   "cell_type": "code",
   "execution_count": 15,
   "id": "4dab3bcd",
   "metadata": {},
   "outputs": [],
   "source": [
    "df = pd.DataFrame()"
   ]
  },
  {
   "cell_type": "code",
   "execution_count": 16,
   "id": "bb2aad20",
   "metadata": {},
   "outputs": [],
   "source": [
    "df['visit_id'] = meanings.keys()"
   ]
  },
  {
   "cell_type": "code",
   "execution_count": 17,
   "id": "853af117",
   "metadata": {},
   "outputs": [],
   "source": [
    "df['meaning_vectors'] = meaning_list"
   ]
  },
  {
   "cell_type": "code",
   "execution_count": 18,
   "id": "7c2efa69",
   "metadata": {
    "scrolled": true
   },
   "outputs": [
    {
     "data": {
      "text/html": [
       "<div>\n",
       "<style scoped>\n",
       "    .dataframe tbody tr th:only-of-type {\n",
       "        vertical-align: middle;\n",
       "    }\n",
       "\n",
       "    .dataframe tbody tr th {\n",
       "        vertical-align: top;\n",
       "    }\n",
       "\n",
       "    .dataframe thead th {\n",
       "        text-align: right;\n",
       "    }\n",
       "</style>\n",
       "<table border=\"1\" class=\"dataframe\">\n",
       "  <thead>\n",
       "    <tr style=\"text-align: right;\">\n",
       "      <th></th>\n",
       "      <th>visit_id</th>\n",
       "      <th>meaning_vectors</th>\n",
       "    </tr>\n",
       "  </thead>\n",
       "  <tbody>\n",
       "    <tr>\n",
       "      <th>0</th>\n",
       "      <td>0[1]</td>\n",
       "      <td>[-1.0013970414243027, 0.10410662986918126, -0....</td>\n",
       "    </tr>\n",
       "    <tr>\n",
       "      <th>1</th>\n",
       "      <td>5[1]</td>\n",
       "      <td>[-0.22001658113151915, -2.2507345794274003, -0...</td>\n",
       "    </tr>\n",
       "    <tr>\n",
       "      <th>2</th>\n",
       "      <td>9[1]</td>\n",
       "      <td>[1.597802667104453, -1.3318458039597452, -1.78...</td>\n",
       "    </tr>\n",
       "    <tr>\n",
       "      <th>3</th>\n",
       "      <td>11[1]</td>\n",
       "      <td>[-0.08318374597228116, -0.8729878666888199, 0....</td>\n",
       "    </tr>\n",
       "    <tr>\n",
       "      <th>4</th>\n",
       "      <td>12[4]</td>\n",
       "      <td>[-2.879218311253632, -1.2799126645257008, 1.45...</td>\n",
       "    </tr>\n",
       "    <tr>\n",
       "      <th>...</th>\n",
       "      <td>...</td>\n",
       "      <td>...</td>\n",
       "    </tr>\n",
       "    <tr>\n",
       "      <th>1438469</th>\n",
       "      <td>3225280[4]</td>\n",
       "      <td>[-0.4230218508741044, -0.5701299575644465, -0....</td>\n",
       "    </tr>\n",
       "    <tr>\n",
       "      <th>1438470</th>\n",
       "      <td>3225288[1]</td>\n",
       "      <td>[-1.0013952444434233, 0.10410391425423672, -0....</td>\n",
       "    </tr>\n",
       "    <tr>\n",
       "      <th>1438471</th>\n",
       "      <td>3225289[1]</td>\n",
       "      <td>[0.05429920975746043, -0.5528191649698502, -0....</td>\n",
       "    </tr>\n",
       "    <tr>\n",
       "      <th>1438472</th>\n",
       "      <td>3225293[14]</td>\n",
       "      <td>[-2.990184207726811, -1.079842092991908, 1.132...</td>\n",
       "    </tr>\n",
       "    <tr>\n",
       "      <th>1438473</th>\n",
       "      <td>3225294[1]</td>\n",
       "      <td>[-2.2760482229023986, -1.112274723572677, 0.87...</td>\n",
       "    </tr>\n",
       "  </tbody>\n",
       "</table>\n",
       "<p>1438474 rows × 2 columns</p>\n",
       "</div>"
      ],
      "text/plain": [
       "            visit_id                                    meaning_vectors\n",
       "0               0[1]  [-1.0013970414243027, 0.10410662986918126, -0....\n",
       "1               5[1]  [-0.22001658113151915, -2.2507345794274003, -0...\n",
       "2               9[1]  [1.597802667104453, -1.3318458039597452, -1.78...\n",
       "3              11[1]  [-0.08318374597228116, -0.8729878666888199, 0....\n",
       "4              12[4]  [-2.879218311253632, -1.2799126645257008, 1.45...\n",
       "...              ...                                                ...\n",
       "1438469   3225280[4]  [-0.4230218508741044, -0.5701299575644465, -0....\n",
       "1438470   3225288[1]  [-1.0013952444434233, 0.10410391425423672, -0....\n",
       "1438471   3225289[1]  [0.05429920975746043, -0.5528191649698502, -0....\n",
       "1438472  3225293[14]  [-2.990184207726811, -1.079842092991908, 1.132...\n",
       "1438473   3225294[1]  [-2.2760482229023986, -1.112274723572677, 0.87...\n",
       "\n",
       "[1438474 rows x 2 columns]"
      ]
     },
     "execution_count": 18,
     "metadata": {},
     "output_type": "execute_result"
    }
   ],
   "source": [
    "df"
   ]
  },
  {
   "cell_type": "code",
   "execution_count": 117,
   "id": "c63e1d83",
   "metadata": {},
   "outputs": [
    {
     "name": "stdout",
     "output_type": "stream",
     "text": [
      "{'samenstellen': 1.0, 'samenvatting': 0.827525233542248, 'kiezen': 0.7723737391369604, 'ineens': 0.6123716137701762, 'deeltijdpensioen': 0.5929520285530497, 'loonheffingskorting': 0.5611539441798471, 'aanpassen': 0.53955965829896, 'tijdelijk': 0.4865041594637931, 'pensioenleeftijd': 0.48519226173782226, 'bedrag': 0.46629031115610226}\n"
     ]
    }
   ],
   "source": [
    "print(keywords['0[1]'])"
   ]
  },
  {
   "cell_type": "code",
   "execution_count": 119,
   "id": "c0c564ae",
   "metadata": {},
   "outputs": [
    {
     "name": "stdout",
     "output_type": "stream",
     "text": [
      "samenstellen\n"
     ]
    }
   ],
   "source": [
    "print(wordvecs.most_similar(meanings['0[1]'], topn=1)[0][0])"
   ]
  },
  {
   "cell_type": "code",
   "execution_count": 19,
   "id": "b39184c3",
   "metadata": {
    "scrolled": true
   },
   "outputs": [
    {
     "name": "stdout",
     "output_type": "stream",
     "text": [
      "0 complete...\n",
      "10000 complete...\n",
      "20000 complete...\n",
      "30000 complete...\n",
      "40000 complete...\n",
      "50000 complete...\n",
      "60000 complete...\n",
      "70000 complete...\n",
      "80000 complete...\n",
      "90000 complete...\n",
      "100000 complete...\n",
      "110000 complete...\n",
      "120000 complete...\n",
      "130000 complete...\n",
      "140000 complete...\n",
      "150000 complete...\n",
      "160000 complete...\n",
      "170000 complete...\n",
      "180000 complete...\n",
      "190000 complete...\n",
      "200000 complete...\n",
      "210000 complete...\n",
      "220000 complete...\n",
      "230000 complete...\n",
      "240000 complete...\n",
      "250000 complete...\n",
      "260000 complete...\n",
      "270000 complete...\n",
      "280000 complete...\n",
      "290000 complete...\n",
      "300000 complete...\n",
      "310000 complete...\n",
      "320000 complete...\n",
      "330000 complete...\n",
      "340000 complete...\n",
      "350000 complete...\n",
      "360000 complete...\n",
      "370000 complete...\n",
      "380000 complete...\n",
      "390000 complete...\n",
      "400000 complete...\n",
      "410000 complete...\n",
      "420000 complete...\n",
      "430000 complete...\n",
      "440000 complete...\n",
      "450000 complete...\n",
      "460000 complete...\n",
      "470000 complete...\n",
      "480000 complete...\n",
      "490000 complete...\n",
      "500000 complete...\n",
      "510000 complete...\n",
      "520000 complete...\n",
      "530000 complete...\n",
      "540000 complete...\n",
      "550000 complete...\n",
      "560000 complete...\n",
      "570000 complete...\n",
      "580000 complete...\n",
      "590000 complete...\n",
      "600000 complete...\n",
      "610000 complete...\n",
      "620000 complete...\n",
      "630000 complete...\n",
      "640000 complete...\n",
      "650000 complete...\n",
      "660000 complete...\n",
      "670000 complete...\n",
      "680000 complete...\n",
      "690000 complete...\n",
      "700000 complete...\n",
      "710000 complete...\n",
      "720000 complete...\n",
      "730000 complete...\n",
      "740000 complete...\n",
      "750000 complete...\n",
      "760000 complete...\n",
      "770000 complete...\n",
      "780000 complete...\n",
      "790000 complete...\n",
      "800000 complete...\n",
      "810000 complete...\n",
      "820000 complete...\n",
      "830000 complete...\n",
      "840000 complete...\n",
      "850000 complete...\n",
      "860000 complete...\n",
      "870000 complete...\n",
      "880000 complete...\n",
      "890000 complete...\n",
      "900000 complete...\n",
      "910000 complete...\n",
      "920000 complete...\n",
      "930000 complete...\n",
      "940000 complete...\n",
      "950000 complete...\n",
      "960000 complete...\n",
      "970000 complete...\n",
      "980000 complete...\n",
      "990000 complete...\n",
      "1000000 complete...\n",
      "1010000 complete...\n",
      "1020000 complete...\n",
      "1030000 complete...\n",
      "1040000 complete...\n",
      "1050000 complete...\n",
      "1060000 complete...\n",
      "1070000 complete...\n",
      "1080000 complete...\n",
      "1090000 complete...\n",
      "1100000 complete...\n",
      "1110000 complete...\n",
      "1120000 complete...\n",
      "1130000 complete...\n",
      "1140000 complete...\n",
      "1150000 complete...\n",
      "1160000 complete...\n",
      "1170000 complete...\n",
      "1180000 complete...\n",
      "1190000 complete...\n",
      "1200000 complete...\n",
      "1210000 complete...\n",
      "1220000 complete...\n",
      "1230000 complete...\n",
      "1240000 complete...\n",
      "1250000 complete...\n",
      "1260000 complete...\n",
      "1270000 complete...\n",
      "1280000 complete...\n",
      "1290000 complete...\n",
      "1300000 complete...\n",
      "1310000 complete...\n",
      "1320000 complete...\n",
      "1330000 complete...\n",
      "1340000 complete...\n",
      "1350000 complete...\n",
      "1360000 complete...\n",
      "1370000 complete...\n",
      "1380000 complete...\n",
      "1390000 complete...\n",
      "1400000 complete...\n",
      "1410000 complete...\n",
      "1420000 complete...\n",
      "1430000 complete...\n",
      "DONE!!!\n"
     ]
    }
   ],
   "source": [
    "meaning_words = []\n",
    "for index, meaning_vec in enumerate(meanings.values()):\n",
    "    meaning_words.append(wordvecs.most_similar(meaning_vec, topn=1)[0][0])\n",
    "    if index % 10000 == 0:\n",
    "        print(f\"{index} complete...\")\n",
    "        \n",
    "print(\"DONE!!!\")"
   ]
  },
  {
   "cell_type": "code",
   "execution_count": 123,
   "id": "a2af68da",
   "metadata": {},
   "outputs": [
    {
     "name": "stdout",
     "output_type": "stream",
     "text": [
      "['samenstellen', 'sessie', 'academisch', 'diensttijd', 'berichten', 'belasting', 'inzicht', 'berichten', 'sessie', 'academisch', 'berichten', 'academisch', 'pensioen', 'periodes', 'inzicht', 'academisch', 'academisch', 'berichten', 'waardeoverdracht', 'samenstellen', 'academisch', 'sessie', 'sessie', 'berichten', 'sessie', 'loonheffing', 'berichten', 'sessie', 'pensioenopbouw', 'pensioenaangroei', 'berichten', 'academisch', 'academisch', 'sessie', 'berichten', 'berichten', 'pensioenaangroei', 'berichten', 'zvw', 'berichten', 'pensioenaangroei', 'waardeoverdracht', 'sessie', 'berichten', 'berichten', 'berichten', 'berichten', 'uw', 'pensioenpot', 'sessie', 'cms', 'academisch', 'academisch', 'pensioengegevens', 'berichten', 'partner', 'sessie', 'harmen', 'berichten', 'berichten', 'berichten', 'academisch', 'gevonden', 'uitgaven', 'uitgaven', 'berichten', 'pensioenaangroei', 'sessie', 'sessie', 'sessie', 'academisch', 'academisch', 'pensioenaangroei', 'berichten', 'sessie', 'loonheffingskorting', 'sessie', 'ineens', 'berichten', 'berichten', 'berichten', 'uitloggen', 'berichten', 'berichten', 'berichten', 'verantwoordingsorgaan', 'academisch', 'berichten', 'academisch', 'sessie', 'sessie', 'zvw', 'berichten', 'berichten', 'sessie', 'sessie', 'berichten', 'uitloggen', 'sessie', 'pensioenaangroei']\n"
     ]
    }
   ],
   "source": [
    "print(meaning_words[:100])"
   ]
  },
  {
   "cell_type": "code",
   "execution_count": 125,
   "id": "a809e08c",
   "metadata": {},
   "outputs": [
    {
     "name": "stdout",
     "output_type": "stream",
     "text": [
      "1438474 779\n"
     ]
    }
   ],
   "source": [
    "unique = set()\n",
    "for word in meaning_words:\n",
    "    unique.add(word)\n",
    "    \n",
    "print(len(meaning_words), len(unique))"
   ]
  },
  {
   "cell_type": "code",
   "execution_count": 20,
   "id": "83a2162e",
   "metadata": {},
   "outputs": [],
   "source": [
    "df['meaning_words'] = meaning_words"
   ]
  },
  {
   "cell_type": "code",
   "execution_count": 21,
   "id": "f00ff2ca",
   "metadata": {},
   "outputs": [
    {
     "data": {
      "text/html": [
       "<div>\n",
       "<style scoped>\n",
       "    .dataframe tbody tr th:only-of-type {\n",
       "        vertical-align: middle;\n",
       "    }\n",
       "\n",
       "    .dataframe tbody tr th {\n",
       "        vertical-align: top;\n",
       "    }\n",
       "\n",
       "    .dataframe thead th {\n",
       "        text-align: right;\n",
       "    }\n",
       "</style>\n",
       "<table border=\"1\" class=\"dataframe\">\n",
       "  <thead>\n",
       "    <tr style=\"text-align: right;\">\n",
       "      <th></th>\n",
       "      <th>visit_id</th>\n",
       "      <th>meaning_vectors</th>\n",
       "      <th>meaning_words</th>\n",
       "    </tr>\n",
       "  </thead>\n",
       "  <tbody>\n",
       "    <tr>\n",
       "      <th>0</th>\n",
       "      <td>0[1]</td>\n",
       "      <td>[-1.0013970414243027, 0.10410662986918126, -0....</td>\n",
       "      <td>samenstellen</td>\n",
       "    </tr>\n",
       "    <tr>\n",
       "      <th>1</th>\n",
       "      <td>5[1]</td>\n",
       "      <td>[-0.22001658113151915, -2.2507345794274003, -0...</td>\n",
       "      <td>sessie</td>\n",
       "    </tr>\n",
       "    <tr>\n",
       "      <th>2</th>\n",
       "      <td>9[1]</td>\n",
       "      <td>[1.597802667104453, -1.3318458039597452, -1.78...</td>\n",
       "      <td>academisch</td>\n",
       "    </tr>\n",
       "    <tr>\n",
       "      <th>3</th>\n",
       "      <td>11[1]</td>\n",
       "      <td>[-0.08318374597228116, -0.8729878666888199, 0....</td>\n",
       "      <td>diensttijd</td>\n",
       "    </tr>\n",
       "    <tr>\n",
       "      <th>4</th>\n",
       "      <td>12[4]</td>\n",
       "      <td>[-2.879218311253632, -1.2799126645257008, 1.45...</td>\n",
       "      <td>berichten</td>\n",
       "    </tr>\n",
       "    <tr>\n",
       "      <th>...</th>\n",
       "      <td>...</td>\n",
       "      <td>...</td>\n",
       "      <td>...</td>\n",
       "    </tr>\n",
       "    <tr>\n",
       "      <th>1438469</th>\n",
       "      <td>3225280[4]</td>\n",
       "      <td>[-0.4230218508741044, -0.5701299575644465, -0....</td>\n",
       "      <td>samenstellen</td>\n",
       "    </tr>\n",
       "    <tr>\n",
       "      <th>1438470</th>\n",
       "      <td>3225288[1]</td>\n",
       "      <td>[-1.0013952444434233, 0.10410391425423672, -0....</td>\n",
       "      <td>samenstellen</td>\n",
       "    </tr>\n",
       "    <tr>\n",
       "      <th>1438471</th>\n",
       "      <td>3225289[1]</td>\n",
       "      <td>[0.05429920975746043, -0.5528191649698502, -0....</td>\n",
       "      <td>pensioen</td>\n",
       "    </tr>\n",
       "    <tr>\n",
       "      <th>1438472</th>\n",
       "      <td>3225293[14]</td>\n",
       "      <td>[-2.990184207726811, -1.079842092991908, 1.132...</td>\n",
       "      <td>berichten</td>\n",
       "    </tr>\n",
       "    <tr>\n",
       "      <th>1438473</th>\n",
       "      <td>3225294[1]</td>\n",
       "      <td>[-2.2760482229023986, -1.112274723572677, 0.87...</td>\n",
       "      <td>berichten</td>\n",
       "    </tr>\n",
       "  </tbody>\n",
       "</table>\n",
       "<p>1438474 rows × 3 columns</p>\n",
       "</div>"
      ],
      "text/plain": [
       "            visit_id                                    meaning_vectors  \\\n",
       "0               0[1]  [-1.0013970414243027, 0.10410662986918126, -0....   \n",
       "1               5[1]  [-0.22001658113151915, -2.2507345794274003, -0...   \n",
       "2               9[1]  [1.597802667104453, -1.3318458039597452, -1.78...   \n",
       "3              11[1]  [-0.08318374597228116, -0.8729878666888199, 0....   \n",
       "4              12[4]  [-2.879218311253632, -1.2799126645257008, 1.45...   \n",
       "...              ...                                                ...   \n",
       "1438469   3225280[4]  [-0.4230218508741044, -0.5701299575644465, -0....   \n",
       "1438470   3225288[1]  [-1.0013952444434233, 0.10410391425423672, -0....   \n",
       "1438471   3225289[1]  [0.05429920975746043, -0.5528191649698502, -0....   \n",
       "1438472  3225293[14]  [-2.990184207726811, -1.079842092991908, 1.132...   \n",
       "1438473   3225294[1]  [-2.2760482229023986, -1.112274723572677, 0.87...   \n",
       "\n",
       "        meaning_words  \n",
       "0        samenstellen  \n",
       "1              sessie  \n",
       "2          academisch  \n",
       "3          diensttijd  \n",
       "4           berichten  \n",
       "...               ...  \n",
       "1438469  samenstellen  \n",
       "1438470  samenstellen  \n",
       "1438471      pensioen  \n",
       "1438472     berichten  \n",
       "1438473     berichten  \n",
       "\n",
       "[1438474 rows x 3 columns]"
      ]
     },
     "execution_count": 21,
     "metadata": {},
     "output_type": "execute_result"
    }
   ],
   "source": [
    "df"
   ]
  },
  {
   "cell_type": "code",
   "execution_count": 128,
   "id": "c0d8b8d5",
   "metadata": {},
   "outputs": [
    {
     "data": {
      "text/plain": [
       "berichten           307969\n",
       "sessie              258466\n",
       "pensioenaangroei    135893\n",
       "academisch          133902\n",
       "samenstellen         77604\n",
       "                     ...  \n",
       "manifestatie             1\n",
       "publieksprijs            1\n",
       "popup                    1\n",
       "dienstverlening          1\n",
       "se                       1\n",
       "Name: meaning_words, Length: 779, dtype: int64"
      ]
     },
     "execution_count": 128,
     "metadata": {},
     "output_type": "execute_result"
    }
   ],
   "source": [
    "df['meaning_words'].value_counts()"
   ]
  },
  {
   "cell_type": "code",
   "execution_count": 131,
   "id": "4d728175",
   "metadata": {},
   "outputs": [
    {
     "data": {
      "text/plain": [
       "pandas.core.series.Series"
      ]
     },
     "execution_count": 131,
     "metadata": {},
     "output_type": "execute_result"
    }
   ],
   "source": [
    "type(df['meaning_vectors'])"
   ]
  },
  {
   "cell_type": "code",
   "execution_count": 132,
   "id": "dc228b83",
   "metadata": {},
   "outputs": [
    {
     "data": {
      "text/html": [
       "<div>\n",
       "<style scoped>\n",
       "    .dataframe tbody tr th:only-of-type {\n",
       "        vertical-align: middle;\n",
       "    }\n",
       "\n",
       "    .dataframe tbody tr th {\n",
       "        vertical-align: top;\n",
       "    }\n",
       "\n",
       "    .dataframe thead th {\n",
       "        text-align: right;\n",
       "    }\n",
       "</style>\n",
       "<table border=\"1\" class=\"dataframe\">\n",
       "  <thead>\n",
       "    <tr style=\"text-align: right;\">\n",
       "      <th></th>\n",
       "      <th>visit_id</th>\n",
       "      <th>meaning_vectors</th>\n",
       "      <th>meaning_words</th>\n",
       "    </tr>\n",
       "  </thead>\n",
       "  <tbody>\n",
       "    <tr>\n",
       "      <th>0</th>\n",
       "      <td>0[1]</td>\n",
       "      <td>[-1.0013970414243027, 0.10410662986918126, -0....</td>\n",
       "      <td>samenstellen</td>\n",
       "    </tr>\n",
       "    <tr>\n",
       "      <th>1</th>\n",
       "      <td>5[1]</td>\n",
       "      <td>[-0.22001658113151915, -2.2507345794274003, -0...</td>\n",
       "      <td>sessie</td>\n",
       "    </tr>\n",
       "    <tr>\n",
       "      <th>2</th>\n",
       "      <td>9[1]</td>\n",
       "      <td>[1.597802667104453, -1.3318458039597452, -1.78...</td>\n",
       "      <td>academisch</td>\n",
       "    </tr>\n",
       "    <tr>\n",
       "      <th>3</th>\n",
       "      <td>11[1]</td>\n",
       "      <td>[-0.08318374597228116, -0.8729878666888199, 0....</td>\n",
       "      <td>diensttijd</td>\n",
       "    </tr>\n",
       "    <tr>\n",
       "      <th>4</th>\n",
       "      <td>12[4]</td>\n",
       "      <td>[-2.879218311253632, -1.2799126645257008, 1.45...</td>\n",
       "      <td>berichten</td>\n",
       "    </tr>\n",
       "    <tr>\n",
       "      <th>...</th>\n",
       "      <td>...</td>\n",
       "      <td>...</td>\n",
       "      <td>...</td>\n",
       "    </tr>\n",
       "    <tr>\n",
       "      <th>1438469</th>\n",
       "      <td>3225280[4]</td>\n",
       "      <td>[-0.4230218508741044, -0.5701299575644465, -0....</td>\n",
       "      <td>samenstellen</td>\n",
       "    </tr>\n",
       "    <tr>\n",
       "      <th>1438470</th>\n",
       "      <td>3225288[1]</td>\n",
       "      <td>[-1.0013952444434233, 0.10410391425423672, -0....</td>\n",
       "      <td>samenstellen</td>\n",
       "    </tr>\n",
       "    <tr>\n",
       "      <th>1438471</th>\n",
       "      <td>3225289[1]</td>\n",
       "      <td>[0.05429920975746043, -0.5528191649698502, -0....</td>\n",
       "      <td>pensioen</td>\n",
       "    </tr>\n",
       "    <tr>\n",
       "      <th>1438472</th>\n",
       "      <td>3225293[14]</td>\n",
       "      <td>[-2.990184207726811, -1.079842092991908, 1.132...</td>\n",
       "      <td>berichten</td>\n",
       "    </tr>\n",
       "    <tr>\n",
       "      <th>1438473</th>\n",
       "      <td>3225294[1]</td>\n",
       "      <td>[-2.2760482229023986, -1.112274723572677, 0.87...</td>\n",
       "      <td>berichten</td>\n",
       "    </tr>\n",
       "  </tbody>\n",
       "</table>\n",
       "<p>1438474 rows × 3 columns</p>\n",
       "</div>"
      ],
      "text/plain": [
       "            visit_id                                    meaning_vectors  \\\n",
       "0               0[1]  [-1.0013970414243027, 0.10410662986918126, -0....   \n",
       "1               5[1]  [-0.22001658113151915, -2.2507345794274003, -0...   \n",
       "2               9[1]  [1.597802667104453, -1.3318458039597452, -1.78...   \n",
       "3              11[1]  [-0.08318374597228116, -0.8729878666888199, 0....   \n",
       "4              12[4]  [-2.879218311253632, -1.2799126645257008, 1.45...   \n",
       "...              ...                                                ...   \n",
       "1438469   3225280[4]  [-0.4230218508741044, -0.5701299575644465, -0....   \n",
       "1438470   3225288[1]  [-1.0013952444434233, 0.10410391425423672, -0....   \n",
       "1438471   3225289[1]  [0.05429920975746043, -0.5528191649698502, -0....   \n",
       "1438472  3225293[14]  [-2.990184207726811, -1.079842092991908, 1.132...   \n",
       "1438473   3225294[1]  [-2.2760482229023986, -1.112274723572677, 0.87...   \n",
       "\n",
       "        meaning_words  \n",
       "0        samenstellen  \n",
       "1              sessie  \n",
       "2          academisch  \n",
       "3          diensttijd  \n",
       "4           berichten  \n",
       "...               ...  \n",
       "1438469  samenstellen  \n",
       "1438470  samenstellen  \n",
       "1438471      pensioen  \n",
       "1438472     berichten  \n",
       "1438473     berichten  \n",
       "\n",
       "[1438474 rows x 3 columns]"
      ]
     },
     "execution_count": 132,
     "metadata": {},
     "output_type": "execute_result"
    }
   ],
   "source": [
    "df"
   ]
  },
  {
   "cell_type": "code",
   "execution_count": 22,
   "id": "be56c3d2",
   "metadata": {},
   "outputs": [],
   "source": [
    "df.to_csv('C:/Users/mattf/Downloads/visit_meanings.csv', index=False)"
   ]
  },
  {
   "cell_type": "code",
   "execution_count": null,
   "id": "82a1c39f",
   "metadata": {},
   "outputs": [],
   "source": []
  }
 ],
 "metadata": {
  "kernelspec": {
   "display_name": "Python 3 (ipykernel)",
   "language": "python",
   "name": "python3"
  },
  "language_info": {
   "codemirror_mode": {
    "name": "ipython",
    "version": 3
   },
   "file_extension": ".py",
   "mimetype": "text/x-python",
   "name": "python",
   "nbconvert_exporter": "python",
   "pygments_lexer": "ipython3",
   "version": "3.9.1"
  }
 },
 "nbformat": 4,
 "nbformat_minor": 5
}
