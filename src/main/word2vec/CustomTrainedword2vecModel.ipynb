{
 "cells": [
  {
   "cell_type": "code",
   "execution_count": 46,
   "id": "180cc168",
   "metadata": {},
   "outputs": [],
   "source": [
    "import numpy as np\n",
    "import pandas as pd\n",
    "from gensim.test.utils import datapath\n",
    "from gensim import utils\n",
    "import string\n",
    "import re\n",
    "import gensim.models\n",
    "import tempfile\n",
    "from gensim.models import Word2Vec\n",
    "import time"
   ]
  },
  {
   "cell_type": "markdown",
   "id": "539562c0",
   "metadata": {},
   "source": [
    "# Training our model"
   ]
  },
  {
   "cell_type": "code",
   "execution_count": 47,
   "id": "4e768ca2",
   "metadata": {},
   "outputs": [],
   "source": [
    "filter_stopwords = False\n",
    "filter_pronouns = True\n",
    "\n",
    "# Reading in our sentences from the scrape results\n",
    "matthew = False\n",
    "path = \"C:/Users/laure/OneDrive/Documenten/Project 3.1 APG Files/\"\n",
    "filename = 'public_and_private_sentences_{}_filtered.csv'.format('all' if filter_stopwords and filter_pronouns else 'stopwords' if filter_stopwords else 'pronouns' if filter_pronouns else 'none')\n",
    "if matthew:\n",
    "    df = pd.read_csv('DATA/scrape_results/' + filename)\n",
    "else:\n",
    "    df = pd.read_csv(path + filename)\n"
   ]
  },
  {
   "cell_type": "code",
   "execution_count": 48,
   "id": "a6e62793",
   "metadata": {},
   "outputs": [],
   "source": [
    "# Converting to list\n",
    "corpus = df['sentences'].tolist()"
   ]
  },
  {
   "cell_type": "code",
   "execution_count": 49,
   "id": "fcd6c687",
   "metadata": {},
   "outputs": [],
   "source": [
    "# Break each sentence into list of individual words\n",
    "sentences = []\n",
    "for sentence in corpus:\n",
    "    sentences.append(sentence.split(\" \"))"
   ]
  },
  {
   "cell_type": "code",
   "execution_count": 50,
   "id": "240a6f83",
   "metadata": {},
   "outputs": [
    {
     "name": "stdout",
     "output_type": "stream",
     "text": [
      "Time elapsed (seconds): 17.416813373565674\n"
     ]
    }
   ],
   "source": [
    "# Create custom word2vec model with given parameters (from internet)\n",
    "custom_model = Word2Vec(window = 10, min_count = 5, workers = 20, negative = 5, sample = 1e-5)\n",
    "\n",
    "# Build the vocab by giving the sentences\n",
    "custom_model.build_vocab(sentences, progress_per=10000)\n",
    "\n",
    "# Train the model on the inputted sentences, epoch = 50, higher epochs give better output but increase time\n",
    "start = time.time()\n",
    "custom_model.train(sentences, total_examples=custom_model.corpus_count, epochs=50, report_delay=1)\n",
    "end = time.time()\n",
    "\n",
    "print(\"Time elapsed (seconds): \" + str(end - start))"
   ]
  },
  {
   "cell_type": "code",
   "execution_count": 51,
   "id": "222f1b06",
   "metadata": {},
   "outputs": [],
   "source": [
    "# Save the model for re-use\n",
    "filename = 'custom_model_{}_filtered.csv'.format('all' if filter_stopwords and filter_pronouns else 'stopwords' if filter_stopwords else 'pronouns' if filter_pronouns else 'none')\n",
    "if matthew:\n",
    "    custom_model.save('DATA/Data/' + filename)\n",
    "else:\n",
    "    custom_model.save(path + filename)"
   ]
  },
  {
   "cell_type": "code",
   "execution_count": 52,
   "id": "8c97d538",
   "metadata": {},
   "outputs": [
    {
     "name": "stdout",
     "output_type": "stream",
     "text": [
      "Number of words: 6119\n"
     ]
    }
   ],
   "source": [
    "# Some small tests\n",
    "number_of_words = str(len(custom_model.wv))\n",
    "print('Number of words: ' + number_of_words)"
   ]
  },
  {
   "cell_type": "code",
   "execution_count": 53,
   "id": "c6215b6b",
   "metadata": {},
   "outputs": [
    {
     "name": "stdout",
     "output_type": "stream",
     "text": [
      "Words most similar to pensioen:  [('keuzepensioen', 0.7536688446998596), ('opgebouwde', 0.7353907227516174), ('brutoinkomen', 0.7202438712120056), ('uitvalt', 0.7131568193435669), ('afkoop', 0.7065716981887817), ('aowoverbrugging', 0.7033266425132751), ('ouderdomspensioen', 0.6991603374481201), ('rekenen', 0.6983091831207275), ('gedeelte', 0.6942805647850037), ('ruilt', 0.6924105882644653)]\n"
     ]
    }
   ],
   "source": [
    "# Test to see what words are similar to pensioen\n",
    "most_similar_to_pensioen = custom_model.wv.most_similar(positive='pensioen')\n",
    "print(\"Words most similar to pensioen: \", most_similar_to_pensioen)"
   ]
  }
 ],
 "metadata": {
  "kernelspec": {
   "display_name": "Python 3 (ipykernel)",
   "language": "python",
   "name": "python3"
  },
  "language_info": {
   "codemirror_mode": {
    "name": "ipython",
    "version": 3
   },
   "file_extension": ".py",
   "mimetype": "text/x-python",
   "name": "python",
   "nbconvert_exporter": "python",
   "pygments_lexer": "ipython3",
   "version": "3.9.1"
  }
 },
 "nbformat": 4,
 "nbformat_minor": 5
}