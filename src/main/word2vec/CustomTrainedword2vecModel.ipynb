{
 "cells": [
  {
   "cell_type": "code",
   "execution_count": 21,
   "id": "180cc168",
   "metadata": {},
   "outputs": [],
   "source": [
    "import numpy as np\n",
    "import pandas as pd\n",
    "from gensim.test.utils import datapath\n",
    "from gensim import utils\n",
    "import string\n",
    "import re\n",
    "import gensim.models\n",
    "import tempfile\n",
    "from gensim.models import Word2Vec\n",
    "import time"
   ]
  },
  {
   "cell_type": "markdown",
   "id": "539562c0",
   "metadata": {},
   "source": [
    "# Training our model"
   ]
  },
  {
   "cell_type": "code",
   "execution_count": 22,
   "id": "4e768ca2",
   "metadata": {},
   "outputs": [],
   "source": [
    "filter_stopwords = False\n",
    "filter_pronouns = False\n",
    "\n",
    "# Reading in our sentences from the scrape results\n",
    "matthew = False\n",
    "Dino = True\n",
    "path = \"C:/Users/laure/OneDrive/Documenten/Project 3.1 APG Files/\"\n",
    "filename = 'final.csv'\n",
    "    # 'public_and_private_paragraphs_none_filtered.csv'\n",
    "if matthew:\n",
    "    df = pd.read_csv('DATA/scrape_results/' + filename)\n",
    "elif Dino:\n",
    "    df = pd.read_csv('C:/Users/01din/Desktop/data APG/scrape_results/' + filename)\n",
    "else:\n",
    "    df = pd.read_csv(path + filename)\n"
   ]
  },
  {
   "cell_type": "code",
   "execution_count": 23,
   "id": "a6e62793",
   "metadata": {},
   "outputs": [],
   "source": [
    "# Converting to list\n",
    "corpus = df['paragraphs'].tolist()"
   ]
  },
  {
   "cell_type": "code",
   "execution_count": 24,
   "id": "fcd6c687",
   "metadata": {},
   "outputs": [],
   "source": [
    "# Break each sentence into list of individual words\n",
    "sentences = []\n",
    "for sentence in corpus:\n",
    "    sentences.append(sentence.split(\" \"))"
   ]
  },
  {
   "cell_type": "code",
   "execution_count": 25,
   "id": "240a6f83",
   "metadata": {},
   "outputs": [
    {
     "name": "stdout",
     "output_type": "stream",
     "text": [
      "Time elapsed (seconds): 6.03676700592041\n"
     ]
    }
   ],
   "source": [
    "# Create custom word2vec model with given parameters (from internet)\n",
    "custom_model = Word2Vec(window = 10, min_count = 5, workers = 20, negative = 5, sample = 1e-5)\n",
    "\n",
    "# Build the vocab by giving the sentences\n",
    "custom_model.build_vocab(sentences, progress_per=10000)\n",
    "\n",
    "# Train the model on the inputted sentences, epoch = 50, higher epochs give better output but increase time\n",
    "start = time.time()\n",
    "custom_model.train(sentences, total_examples=custom_model.corpus_count, epochs=50, report_delay=1)\n",
    "end = time.time()\n",
    "\n",
    "print(\"Time elapsed (seconds): \" + str(end - start))"
   ]
  },
  {
   "cell_type": "code",
   "execution_count": 26,
   "id": "222f1b06",
   "metadata": {},
   "outputs": [],
   "source": [
    "# Save the model for re-use\n",
    "filename = 'custom_model_filtered.wordvectors'\n",
    "if matthew:\n",
    "    custom_model.save('DATA/Data/' + filename)\n",
    "elif Dino:\n",
    "    custom_model.save('C:/Users/01din/Desktop/data APG/scrape_results/' + filename)\n",
    "else:\n",
    "    custom_model.save(path + filename)"
   ]
  },
  {
   "cell_type": "code",
   "execution_count": 27,
   "id": "8c97d538",
   "metadata": {},
   "outputs": [
    {
     "name": "stdout",
     "output_type": "stream",
     "text": [
      "Number of words: 6157\n"
     ]
    }
   ],
   "source": [
    "# Some small tests\n",
    "number_of_words = str(len(custom_model.wv))\n",
    "print('Number of words: ' + number_of_words)"
   ]
  },
  {
   "cell_type": "code",
   "execution_count": 34,
   "id": "c6215b6b",
   "metadata": {},
   "outputs": [
    {
     "name": "stdout",
     "output_type": "stream",
     "text": [
      "Words most similar to militair:  [('aanspraak', 0.8786896467208862), ('vult', 0.8692886233329773), ('defensie', 0.8586049675941467), ('arbeidsongeschiktheid', 0.7934795022010803), ('mate', 0.7722854018211365), ('zolang', 0.7533134818077087), ('gewezen', 0.7312086820602417), ('ontslagen', 0.6885418891906738), ('hangt', 0.6765561103820801), ('verdubbelt', 0.6731672883033752)]\n"
     ]
    }
   ],
   "source": [
    "# Test to see what words are similar to pensioen\n",
    "most_similar_to_pensioen = custom_model.wv.most_similar(positive='militair')\n",
    "print(\"Words most similar to militair: \", most_similar_to_pensioen)"
   ]
  },
  {
   "cell_type": "code",
   "execution_count": 31,
   "outputs": [],
   "source": [
    "tfidf_keywords = pd.read_csv('C:/Users/01din/Desktop/data APG/tfidf/tf_idf_keywords_new.csv')\n",
    "keywords_tf_idf = tfidf_keywords[\"0\"].tolist()\n",
    "vocabulary1 = list(set(custom_model.wv.index_to_key))"
   ],
   "metadata": {
    "collapsed": false
   }
  },
  {
   "cell_type": "code",
   "execution_count": 32,
   "outputs": [
    {
     "name": "stdout",
     "output_type": "stream",
     "text": [
      "[]\n"
     ]
    }
   ],
   "source": [
    "difference = [x for x in keywords_tf_idf if x not in vocabulary1]\n",
    "print(difference)"
   ],
   "metadata": {
    "collapsed": false
   }
  },
  {
   "cell_type": "code",
   "execution_count": 30,
   "outputs": [],
   "source": [],
   "metadata": {
    "collapsed": false
   }
  }
 ],
 "metadata": {
  "kernelspec": {
   "display_name": "Python 3 (ipykernel)",
   "language": "python",
   "name": "python3"
  },
  "language_info": {
   "codemirror_mode": {
    "name": "ipython",
    "version": 3
   },
   "file_extension": ".py",
   "mimetype": "text/x-python",
   "name": "python",
   "nbconvert_exporter": "python",
   "pygments_lexer": "ipython3",
   "version": "3.9.1"
  }
 },
 "nbformat": 4,
 "nbformat_minor": 5
}
