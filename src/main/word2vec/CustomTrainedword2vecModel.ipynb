{
 "cells": [
  {
   "cell_type": "code",
   "execution_count": 27,
   "id": "180cc168",
   "metadata": {},
   "outputs": [],
   "source": [
    "import numpy as np\n",
    "import pandas as pd\n",
    "from gensim.test.utils import datapath\n",
    "from gensim import utils\n",
    "import string\n",
    "import re\n",
    "import gensim.models\n",
    "import tempfile\n",
    "from gensim.models import Word2Vec\n",
    "import time"
   ]
  },
  {
   "cell_type": "markdown",
   "id": "539562c0",
   "metadata": {},
   "source": [
    "# Training our model"
   ]
  },
  {
   "cell_type": "code",
   "execution_count": 38,
   "id": "4e768ca2",
   "metadata": {},
   "outputs": [],
   "source": [
    "# Reading in our sentences from the scrape results\n",
    "df = pd.read_csv('DATA/scrape_results/public_and_private_sentences.csv')"
   ]
  },
  {
   "cell_type": "code",
   "execution_count": 39,
   "id": "a6e62793",
   "metadata": {},
   "outputs": [],
   "source": [
    "# Converting to list\n",
    "corpus = df['sentences'].tolist()"
   ]
  },
  {
   "cell_type": "code",
   "execution_count": 40,
   "id": "fcd6c687",
   "metadata": {},
   "outputs": [],
   "source": [
    "# Break each sentence into list of individual words\n",
    "sentences = []\n",
    "for sentence in corpus:\n",
    "    sentences.append(sentence.split(\" \"))"
   ]
  },
  {
   "cell_type": "code",
   "execution_count": 41,
   "id": "240a6f83",
   "metadata": {},
   "outputs": [
    {
     "name": "stdout",
     "output_type": "stream",
     "text": [
      "Time elapsed (seconds): 38.530200242996216\n"
     ]
    }
   ],
   "source": [
    "# Create custom word2vec model with given parameters (from internet)\n",
    "custom_model = Word2Vec(window = 10, min_count = 5, workers = 20, negative = 5, sample = 1e-5)\n",
    "\n",
    "# Build the vocab by giving the sentences\n",
    "custom_model.build_vocab(sentences, progress_per=10000)\n",
    "\n",
    "# Train the model on the inputted sentences, epoch = 50, higher epochs give better output but increase time\n",
    "start = time.time()\n",
    "custom_model.train(sentences, total_examples=custom_model.corpus_count, epochs=50, report_delay=1)\n",
    "end = time.time()\n",
    "\n",
    "print(\"Time elapsed (seconds): \" + str(end - start))"
   ]
  },
  {
   "cell_type": "code",
   "execution_count": 42,
   "id": "222f1b06",
   "metadata": {},
   "outputs": [],
   "source": [
    "# Save the model for re-use\n",
    "custom_model.save('DATA/Data/custom_model')"
   ]
  },
  {
   "cell_type": "code",
   "execution_count": 43,
   "id": "8c97d538",
   "metadata": {},
   "outputs": [
    {
     "name": "stdout",
     "output_type": "stream",
     "text": [
      "Number of words: 6208\n"
     ]
    }
   ],
   "source": [
    "# Some small tests\n",
    "print('Number of words: ' + str(len(custom_model.wv)))"
   ]
  },
  {
   "cell_type": "code",
   "execution_count": 44,
   "id": "c6215b6b",
   "metadata": {},
   "outputs": [
    {
     "name": "stdout",
     "output_type": "stream",
     "text": [
      "Words most similar to pensioen:  [('keuzepensioen', 0.6008238792419434), ('gestort', 0.5896247029304504), ('ouderdomspensioen', 0.5881916284561157), ('aanvullend', 0.5851923823356628), ('opgebouwd', 0.5826515555381775), ('pensioenleeftijd', 0.5816986560821533), ('opgebouwde', 0.5815556645393372), ('u', 0.5804972052574158), ('aowoverbrugging', 0.575259268283844), ('opbouwen', 0.5752021670341492)]\n"
     ]
    }
   ],
   "source": [
    "# Test to see what words are similar to pensioen\n",
    "print(\"Words most similar to pensioen: \", custom_model.wv.most_similar(positive='pensioen'))"
   ]
  }
 ],
 "metadata": {
  "kernelspec": {
   "display_name": "Python 3 (ipykernel)",
   "language": "python",
   "name": "python3"
  },
  "language_info": {
   "codemirror_mode": {
    "name": "ipython",
    "version": 3
   },
   "file_extension": ".py",
   "mimetype": "text/x-python",
   "name": "python",
   "nbconvert_exporter": "python",
   "pygments_lexer": "ipython3",
   "version": "3.9.1"
  }
 },
 "nbformat": 4,
 "nbformat_minor": 5
}
