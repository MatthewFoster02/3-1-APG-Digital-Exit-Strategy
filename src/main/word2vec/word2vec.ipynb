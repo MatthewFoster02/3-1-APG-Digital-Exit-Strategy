{
 "cells": [
  {
   "cell_type": "markdown",
   "id": "dfdd0986",
   "metadata": {},
   "source": [
    "# word2vec implementation\n",
    "\n",
    "The below cells are implementation for converting arrays of keywords and their respective weights into one single vector using the weighted average of the keywords' vectors. The final cell gives an example of how it can be used to combine the meanings of words.\n",
    "\n",
    "I used a 320 parameter model because it gives better results. If it ends up necessary that we use a model with less parameters we can easily change this."
   ]
  },
  {
   "cell_type": "code",
   "execution_count": 2,
   "id": "cd2902fe",
   "metadata": {},
   "outputs": [],
   "source": [
    "import numpy as np\n",
    "from gensim.models import KeyedVectors\n",
    "\n",
    "# this is the model containing all the vectors for different words\n",
    "wv = KeyedVectors.load_word2vec_format('vectors/cow-320.txt', binary=False)"
   ]
  },
  {
   "cell_type": "code",
   "execution_count": 3,
   "id": "7e801d9d",
   "metadata": {},
   "outputs": [],
   "source": [
    "def keywords2vec(keywords, weights):\n",
    "    '''\n",
    "    input: equal sized arrays of the keywords and their respective weights\n",
    "    output: weighted average of the keywords' vectors\n",
    "    '''\n",
    "    meaning_vec = np.zeros(320)\n",
    "    for i in range(len(keywords)):\n",
    "        word_vec = wv[keywords[i]]\n",
    "        meaning_vec += (word_vec * weights[i])\n",
    "        \n",
    "    weights_tot = sum(weights)\n",
    "    \n",
    "    meaning_vec /= weights_tot\n",
    "    \n",
    "    return meaning_vec"
   ]
  },
  {
   "cell_type": "code",
   "execution_count": 4,
   "id": "5166d5fd",
   "metadata": {},
   "outputs": [
    {
     "name": "stdout",
     "output_type": "stream",
     "text": [
      "[('appel', 0.9236449003219604), ('banaan', 0.9236448407173157), ('ananas', 0.8367544412612915), ('sinaasappel', 0.814830482006073), ('aardbei', 0.8037692308425903), ('meloen', 0.8004668951034546), ('sinasappel', 0.7890397906303406), ('watermeloen', 0.782245397567749), ('perzik', 0.778252363204956), ('dadel', 0.776611864566803)]\n"
     ]
    }
   ],
   "source": [
    "keywords = [\"appel\", \"banaan\"]\n",
    "weights = [0.5, 0.5]\n",
    "\n",
    "vec = keywords2vec(keywords, weights)\n",
    "print(wv.most_similar(vec))"
   ]
  },
  {
   "cell_type": "code",
   "execution_count": null,
   "id": "79b96f54",
   "metadata": {},
   "outputs": [],
   "source": []
  }
 ],
 "metadata": {
  "kernelspec": {
   "display_name": "Python 3 (ipykernel)",
   "language": "python",
   "name": "python3"
  },
  "language_info": {
   "codemirror_mode": {
    "name": "ipython",
    "version": 3
   },
   "file_extension": ".py",
   "mimetype": "text/x-python",
   "name": "python",
   "nbconvert_exporter": "python",
   "pygments_lexer": "ipython3",
   "version": "3.10.0"
  }
 },
 "nbformat": 4,
 "nbformat_minor": 5
}