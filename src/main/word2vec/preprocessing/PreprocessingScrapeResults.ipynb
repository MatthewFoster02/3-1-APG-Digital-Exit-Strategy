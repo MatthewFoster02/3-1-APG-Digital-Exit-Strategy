{
 "cells": [
  {
   "cell_type": "code",
   "execution_count": 55,
   "id": "eaee89c7",
   "metadata": {},
   "outputs": [],
   "source": [
    "import pandas as pd\n",
    "import string\n",
    "import re\n",
    "from nltk.corpus import stopwords"
   ]
  },
  {
   "cell_type": "markdown",
   "id": "27c586c5",
   "metadata": {},
   "source": [
    "# Reading in and preprocessing scraped website text\n",
    "\n",
    "First, separate into paragraphs by splitting on full stops. Then covert each line to lowercase, remove numbers, punctuation and symbols, then whitespaces like tabs, etc. Finally tokenise each paragraph."
   ]
  },
  {
   "cell_type": "code",
   "execution_count": 56,
   "id": "a16e7e0c",
   "metadata": {},
   "outputs": [
    {
     "name": "stdout",
     "output_type": "stream",
     "text": [
      "\n",
      "\n",
      "\n",
      "\n",
      "\n",
      "\n",
      "\n",
      "\n",
      "\n",
      "\n",
      "Pensioen geeft waarde aan uw toekomst\n",
      "_x000D_\n",
      "\t\t\tBij ABP is uw pensioen goed geregeld. We vertellen u graag waarom pensioen een belangrijke én waardevolle arbeidsvoorwaarde in uw contract is, net als salaris en vakantiegeld._x000D_\n",
      "\t\t\n",
      "\n",
      "\n",
      "Waarom is uw pensioen zo'n belangrijke arbeidsvoorwaarde?\n",
      "_x000D_\n",
      "                In het filmpje ziet u waar u op mag rekenen als u pensioen opbouwt bij ABP._x000D_\n",
      "            \n",
      "\n",
      "\n",
      "\n",
      "\n",
      "\n",
      "De waarde van een pensioen bij ABP \n",
      "_x000D_\n",
      "                Hieronder ziet u alle voordelen van een pensioen bij ABP nog eens op een rij:_x000D_\n",
      "            \n",
      "\n",
      "\n",
      "\n",
      "\n",
      "\n",
      "\n",
      "\n",
      "\n",
      "\n",
      "\n",
      "\n",
      "\n",
      "Samen pensioen opbouwen levert meer op \n",
      "U bouwt pensioen op bij ABP. Benieuwd naar uw pensioenregeling?\n",
      "\n",
      "Meer over uw pensioenregeling\n",
      "\n",
      "\n",
      "\n",
      "\n",
      "\n",
      "\n",
      "\n",
      "Extra vangnet bij arbeidsongeschiktheid, werkeloosheid en overlijden\n",
      "Benieuwd naar de verschillende soorten pensioen bij ABP?\n",
      "\n",
      "Meer over pensioen bij ABP\n",
      "\n",
      "\n",
      "\n",
      "\n",
      "\n",
      "\n",
      "\n",
      "Inzicht en overzicht in uw inkomen voor later\n",
      "In MijnABP regelt u uw pensioenzaken eenvoudig online.\n",
      "\n",
      "Meer over MijnABP\n",
      "\n",
      "\n",
      "\n",
      "\n",
      "\n",
      "\n",
      "\n",
      "Grip op uw pensioen en vrijheid om te kiezen in elke levensfase​\n",
      "Eerder stoppen of juist langer doorwerken? \n",
      "\n",
      "Meer over uw mogelijkheden\n",
      "\n",
      "\n",
      "\n",
      "\n",
      "\n",
      "\n",
      "\n",
      "\n",
      "Persoonlijke ondersteuning wanneer het voor u nodig is\n",
      "Maak kennis met onze virtuele servicemedewerker\n",
      "\n",
      "meer over service & contact\n",
      "\n",
      "\n",
      "\n",
      "\n",
      "\n",
      "\n",
      "\n",
      "\n",
      "Meest duurzame Nederlandse Pensioenfonds \n",
      "ABP belegt pensioengeld zo duurzaam en verantwoord mogelijk\n",
      "\n",
      "Meer over duurzaam beleggen\n",
      "\n",
      "\n",
      "\n",
      "\n",
      "\n",
      "\n",
      "\n",
      "Pensioencommunicatie afgestemd op uw sector​ \n",
      "Alle informatie rondom uw pensioen in een notendop\n",
      "\n",
      "Meer informatie\n",
      "\n",
      "\n",
      "\n",
      "\n",
      "\n",
      "\n",
      "\n",
      "\n",
      "\n",
      "\n",
      "\n",
      "\n"
     ]
    }
   ],
   "source": [
    "matthew = False\n",
    "dino = True\n",
    "path = \"C:/Users/laure/OneDrive/Documenten/Project 3.1 APG Files/\"\n",
    "if matthew:\n",
    "    private_scrape = pd.read_excel('DATA/scrape_results/private_scrape_results_cleaned.xlsx')\n",
    "    public_scrape = pd.read_excel('DATA/scrape_results/public_scrape_results_cleaned.xlsx')\n",
    "elif dino:\n",
    "    private_scrape = pd.read_excel('C:/Users/01din\\Desktop\\data APG\\scrape_results/private_scrape_results.xlsx')\n",
    "    public_scrape = pd.read_excel('C:/Users/01din\\Desktop\\data APG\\scrape_results/public_scrape_results.xlsx')\n",
    "else:\n",
    "    private_scrape = pd.read_excel(path + \"private_scrape_results_cleaned.xlsx\")\n",
    "    public_scrape = pd.read_excel(path + \"public_scrape_results_cleaned.xlsx\")\n",
    "\n",
    "print(public_scrape.paragraph[55])\n",
    "dutch_stopwords = stopwords.words('dutch')\n",
    "dutch_months = ['Januari', \"Februari\", \"Maart\", \"April\", \"Mei\", \"Juni\", \"Juli\", \"Augustus\", \"September\", \"Oktober\", \"November\", \"December\", 'januari', \"februari\", \"maart\", \"april\", \"mei\", \"juni\", \"juli\", \"augustus\", \"september\", \"oktober\", \"november\", \"december\"]\n",
    "words_to_remove_dutch = dutch_stopwords + dutch_months\n",
    "dutch_pronouns = ['ik', 'je', 'jij', 'u', 'hij', 'ze', 'zij', 'hij', 'het', 'wij', 'we', 'jullie', 'me', 'mij', 'jou', 'hem', 'haar', 'ons', 'hen', 'hun', 'mijn', 'jouw', 'uw', 'zijn', 'ons', 'onze', 'zich', 'deze', 'die', 'dit', 'dat']\n",
    "dutch_stopwords = [word for word in words_to_remove_dutch if word not in dutch_pronouns]\n",
    "dutch_stopwords_and_pronouns = list(set(dutch_stopwords) | set(dutch_pronouns))"
   ]
  },
  {
   "cell_type": "code",
   "execution_count": 57,
   "outputs": [],
   "source": [
    "import numpy as np\n",
    "\n",
    "filter_stopwords = False\n",
    "filter_pronouns = False\n",
    "\n",
    "def preprocess_corpus(df):\n",
    "    df.paragraph.fillna(\"\", inplace=True)\n",
    "    paragraphs = []\n",
    "    for index, row in df.iterrows():\n",
    "        paragraphs.append(row.paragraph)\n",
    "\n",
    "    # for para in paragraphs:\n",
    "    #     sentences.extend(re.split('[.|?|!|;|\\n|\\t]', para))\n",
    "    \n",
    "    \n",
    "    for index, paragraph in enumerate(paragraphs):\n",
    "        paragraph = paragraph.replace('_x000D_', '')\n",
    "        paragraph = paragraph.replace('\\xa0', ' ')\n",
    "        paragraph = paragraph.replace('–', '')\n",
    "        paragraph = paragraph.replace('‘', '')\n",
    "        paragraph = paragraph.replace('’', '')\n",
    "        paragraph = paragraph.replace('”', '')\n",
    "        paragraph = paragraph.replace('“', '')\n",
    "        paragraph = paragraph.replace('\\n', ' ')\n",
    "        paragraph = paragraph.replace('\\t', ' ')\n",
    "        paragraph = paragraph.lower()\n",
    "        paragraph = paragraph.replace('á', 'a').replace('à', 'a').replace('ä', 'a').replace('â', 'a').replace('ã', 'a')\n",
    "        paragraph = paragraph.replace('ó', 'o').replace('ò', 'o').replace('ö', 'o').replace('ô', 'o').replace('õ', 'o')\n",
    "        paragraph = paragraph.replace('é', 'e').replace('è', 'e').replace('ë', 'e').replace('ê', 'e')\n",
    "        paragraph = paragraph.replace('í', 'i').replace('ì', 'i').replace('ï', 'i').replace('î', 'i')\n",
    "        paragraph = paragraph.replace('ú', 'u').replace('ù', 'u').replace('ü', 'u').replace('û', 'u')\n",
    "        paragraph = paragraph.replace('ý', 'y').replace('ÿ', 'y')\n",
    "        paragraph = paragraph.replace('ç', 'c')\n",
    "        paragraph = paragraph.replace('ñ', 'n')\n",
    "        paragraph = re.sub(r'\\d+', '', paragraph)\n",
    "        paragraph = re.sub('cms ' + r'\\bqa\\w+', '', paragraph)\n",
    "        paragraph = re.sub(r'\\bâ€\\w+', '', paragraph)\n",
    "        paragraph = paragraph.translate(str.maketrans(\"\",\"\", string.punctuation))\n",
    "        if filter_stopwords and filter_pronouns:\n",
    "            words = paragraph.split()\n",
    "            words = [word for word in words if word not in dutch_stopwords_and_pronouns]\n",
    "            new_paragraph = \" \".join(words)\n",
    "        elif filter_stopwords:\n",
    "            words = paragraph.split()\n",
    "            words = [word for word in words if word not in dutch_stopwords]\n",
    "            new_paragraph = \" \".join(words)\n",
    "        elif filter_pronouns:\n",
    "            words = paragraph.split()\n",
    "            words = [word for word in words if word not in dutch_pronouns]\n",
    "            new_paragraph = \" \".join(words)\n",
    "        else:\n",
    "            new_paragraph = paragraph\n",
    "        new_paragraph = re.sub(' +', ' ', new_paragraph)\n",
    "        paragraphs[index] = new_paragraph.strip()\n",
    "\n",
    "\n",
    "\n",
    "    return paragraphs\n"
   ],
   "metadata": {
    "collapsed": false
   }
  },
  {
   "cell_type": "code",
   "execution_count": 58,
   "outputs": [
    {
     "name": "stdout",
     "output_type": "stream",
     "text": [
      "1375\n",
      "180\n"
     ]
    }
   ],
   "source": [
    "# Preprocess the public and private scrape results\n",
    "processed_public_scrape = preprocess_corpus(public_scrape)\n",
    "print(len(processed_public_scrape))\n",
    "processed_private_scrape = preprocess_corpus(private_scrape)\n",
    "print(len(processed_private_scrape))"
   ],
   "metadata": {
    "collapsed": false
   }
  },
  {
   "cell_type": "code",
   "execution_count": 65,
   "outputs": [
    {
     "name": "stdout",
     "output_type": "stream",
     "text": [
      "financial situation current financial situation the dashboard shows abps financial situation at a glance read more annual report read our annual report read more\n"
     ]
    }
   ],
   "source": [
    "# Combine public and private scrape results\n",
    "processed_scrapes = processed_private_scrape + processed_public_scrape\n",
    "print(processed_scrapes[1554])"
   ],
   "metadata": {
    "collapsed": false
   }
  },
  {
   "cell_type": "code",
   "execution_count": 60,
   "outputs": [
    {
     "name": "stdout",
     "output_type": "stream",
     "text": [
      "        id                                               urls\n",
      "0        1                               https://mijn.abp.nl/\n",
      "1        2                        https://mijn.abp.nl/welkom/\n",
      "2        3                         https://mijn.abp.nl/welkom\n",
      "3        4  https://mijn.abp.nl/plan-uw-pensioen/zelf-same...\n",
      "4        5  https://mijn.abp.nl/plan-uw-pensioen/zelf-same...\n",
      "...    ...                                                ...\n",
      "1550  1551  https://www.abp.nl/werkgevers/pensioen3daagse/...\n",
      "1551  1552  https://www.abp.nl/over-abp/financiele-situati...\n",
      "1552  1553  https://www.abp.nl/english/financial-situation...\n",
      "1553  1554  https://www.abp.nl/english/financial-situation...\n",
      "1554  1555    https://www.abp.nl/english/financial-situation/\n",
      "\n",
      "[1555 rows x 2 columns]\n"
     ]
    }
   ],
   "source": [
    "url_references = pd.read_csv('C:/Users/01din\\Desktop\\data APG\\FIXED_SCRAPES/url_references_scraped_only.csv')\n",
    "print(url_references)"
   ],
   "metadata": {
    "collapsed": false
   }
  },
  {
   "cell_type": "code",
   "execution_count": 61,
   "outputs": [],
   "source": [
    "# Convert to dataframe\n",
    "processed_df = pd.DataFrame(processed_scrapes, columns=['paragraphs'])"
   ],
   "metadata": {
    "collapsed": false
   }
  },
  {
   "cell_type": "code",
   "execution_count": 62,
   "outputs": [
    {
     "ename": "OSError",
     "evalue": "Cannot save file into a non-existent directory: 'C:\\Users\\laure\\OneDrive\\Documenten\\Project 3.1 APG Files'",
     "output_type": "error",
     "traceback": [
      "\u001B[1;31m---------------------------------------------------------------------------\u001B[0m",
      "\u001B[1;31mOSError\u001B[0m                                   Traceback (most recent call last)",
      "Cell \u001B[1;32mIn [62], line 7\u001B[0m\n\u001B[0;32m      4\u001B[0m     processed_df\u001B[38;5;241m.\u001B[39mto_csv(\u001B[38;5;124m'\u001B[39m\u001B[38;5;124mDATA/scrape_results/\u001B[39m\u001B[38;5;124m'\u001B[39m \u001B[38;5;241m+\u001B[39m filename, index\u001B[38;5;241m=\u001B[39m\u001B[38;5;28;01mFalse\u001B[39;00m)\n\u001B[0;32m      6\u001B[0m \u001B[38;5;28;01melse\u001B[39;00m:\n\u001B[1;32m----> 7\u001B[0m     \u001B[43mprocessed_df\u001B[49m\u001B[38;5;241;43m.\u001B[39;49m\u001B[43mto_csv\u001B[49m\u001B[43m(\u001B[49m\u001B[43mpath\u001B[49m\u001B[43m \u001B[49m\u001B[38;5;241;43m+\u001B[39;49m\u001B[43m \u001B[49m\u001B[43mfilename\u001B[49m\u001B[43m,\u001B[49m\u001B[43m \u001B[49m\u001B[43mindex\u001B[49m\u001B[38;5;241;43m=\u001B[39;49m\u001B[38;5;28;43;01mFalse\u001B[39;49;00m\u001B[43m)\u001B[49m\n",
      "File \u001B[1;32m~\\AppData\\Local\\Programs\\Python\\Python38\\lib\\site-packages\\pandas\\util\\_decorators.py:211\u001B[0m, in \u001B[0;36mdeprecate_kwarg.<locals>._deprecate_kwarg.<locals>.wrapper\u001B[1;34m(*args, **kwargs)\u001B[0m\n\u001B[0;32m    209\u001B[0m     \u001B[38;5;28;01melse\u001B[39;00m:\n\u001B[0;32m    210\u001B[0m         kwargs[new_arg_name] \u001B[38;5;241m=\u001B[39m new_arg_value\n\u001B[1;32m--> 211\u001B[0m \u001B[38;5;28;01mreturn\u001B[39;00m \u001B[43mfunc\u001B[49m\u001B[43m(\u001B[49m\u001B[38;5;241;43m*\u001B[39;49m\u001B[43margs\u001B[49m\u001B[43m,\u001B[49m\u001B[43m \u001B[49m\u001B[38;5;241;43m*\u001B[39;49m\u001B[38;5;241;43m*\u001B[39;49m\u001B[43mkwargs\u001B[49m\u001B[43m)\u001B[49m\n",
      "File \u001B[1;32m~\\AppData\\Local\\Programs\\Python\\Python38\\lib\\site-packages\\pandas\\core\\generic.py:3720\u001B[0m, in \u001B[0;36mNDFrame.to_csv\u001B[1;34m(self, path_or_buf, sep, na_rep, float_format, columns, header, index, index_label, mode, encoding, compression, quoting, quotechar, lineterminator, chunksize, date_format, doublequote, escapechar, decimal, errors, storage_options)\u001B[0m\n\u001B[0;32m   3709\u001B[0m df \u001B[38;5;241m=\u001B[39m \u001B[38;5;28mself\u001B[39m \u001B[38;5;28;01mif\u001B[39;00m \u001B[38;5;28misinstance\u001B[39m(\u001B[38;5;28mself\u001B[39m, ABCDataFrame) \u001B[38;5;28;01melse\u001B[39;00m \u001B[38;5;28mself\u001B[39m\u001B[38;5;241m.\u001B[39mto_frame()\n\u001B[0;32m   3711\u001B[0m formatter \u001B[38;5;241m=\u001B[39m DataFrameFormatter(\n\u001B[0;32m   3712\u001B[0m     frame\u001B[38;5;241m=\u001B[39mdf,\n\u001B[0;32m   3713\u001B[0m     header\u001B[38;5;241m=\u001B[39mheader,\n\u001B[1;32m   (...)\u001B[0m\n\u001B[0;32m   3717\u001B[0m     decimal\u001B[38;5;241m=\u001B[39mdecimal,\n\u001B[0;32m   3718\u001B[0m )\n\u001B[1;32m-> 3720\u001B[0m \u001B[38;5;28;01mreturn\u001B[39;00m \u001B[43mDataFrameRenderer\u001B[49m\u001B[43m(\u001B[49m\u001B[43mformatter\u001B[49m\u001B[43m)\u001B[49m\u001B[38;5;241;43m.\u001B[39;49m\u001B[43mto_csv\u001B[49m\u001B[43m(\u001B[49m\n\u001B[0;32m   3721\u001B[0m \u001B[43m    \u001B[49m\u001B[43mpath_or_buf\u001B[49m\u001B[43m,\u001B[49m\n\u001B[0;32m   3722\u001B[0m \u001B[43m    \u001B[49m\u001B[43mlineterminator\u001B[49m\u001B[38;5;241;43m=\u001B[39;49m\u001B[43mlineterminator\u001B[49m\u001B[43m,\u001B[49m\n\u001B[0;32m   3723\u001B[0m \u001B[43m    \u001B[49m\u001B[43msep\u001B[49m\u001B[38;5;241;43m=\u001B[39;49m\u001B[43msep\u001B[49m\u001B[43m,\u001B[49m\n\u001B[0;32m   3724\u001B[0m \u001B[43m    \u001B[49m\u001B[43mencoding\u001B[49m\u001B[38;5;241;43m=\u001B[39;49m\u001B[43mencoding\u001B[49m\u001B[43m,\u001B[49m\n\u001B[0;32m   3725\u001B[0m \u001B[43m    \u001B[49m\u001B[43merrors\u001B[49m\u001B[38;5;241;43m=\u001B[39;49m\u001B[43merrors\u001B[49m\u001B[43m,\u001B[49m\n\u001B[0;32m   3726\u001B[0m \u001B[43m    \u001B[49m\u001B[43mcompression\u001B[49m\u001B[38;5;241;43m=\u001B[39;49m\u001B[43mcompression\u001B[49m\u001B[43m,\u001B[49m\n\u001B[0;32m   3727\u001B[0m \u001B[43m    \u001B[49m\u001B[43mquoting\u001B[49m\u001B[38;5;241;43m=\u001B[39;49m\u001B[43mquoting\u001B[49m\u001B[43m,\u001B[49m\n\u001B[0;32m   3728\u001B[0m \u001B[43m    \u001B[49m\u001B[43mcolumns\u001B[49m\u001B[38;5;241;43m=\u001B[39;49m\u001B[43mcolumns\u001B[49m\u001B[43m,\u001B[49m\n\u001B[0;32m   3729\u001B[0m \u001B[43m    \u001B[49m\u001B[43mindex_label\u001B[49m\u001B[38;5;241;43m=\u001B[39;49m\u001B[43mindex_label\u001B[49m\u001B[43m,\u001B[49m\n\u001B[0;32m   3730\u001B[0m \u001B[43m    \u001B[49m\u001B[43mmode\u001B[49m\u001B[38;5;241;43m=\u001B[39;49m\u001B[43mmode\u001B[49m\u001B[43m,\u001B[49m\n\u001B[0;32m   3731\u001B[0m \u001B[43m    \u001B[49m\u001B[43mchunksize\u001B[49m\u001B[38;5;241;43m=\u001B[39;49m\u001B[43mchunksize\u001B[49m\u001B[43m,\u001B[49m\n\u001B[0;32m   3732\u001B[0m \u001B[43m    \u001B[49m\u001B[43mquotechar\u001B[49m\u001B[38;5;241;43m=\u001B[39;49m\u001B[43mquotechar\u001B[49m\u001B[43m,\u001B[49m\n\u001B[0;32m   3733\u001B[0m \u001B[43m    \u001B[49m\u001B[43mdate_format\u001B[49m\u001B[38;5;241;43m=\u001B[39;49m\u001B[43mdate_format\u001B[49m\u001B[43m,\u001B[49m\n\u001B[0;32m   3734\u001B[0m \u001B[43m    \u001B[49m\u001B[43mdoublequote\u001B[49m\u001B[38;5;241;43m=\u001B[39;49m\u001B[43mdoublequote\u001B[49m\u001B[43m,\u001B[49m\n\u001B[0;32m   3735\u001B[0m \u001B[43m    \u001B[49m\u001B[43mescapechar\u001B[49m\u001B[38;5;241;43m=\u001B[39;49m\u001B[43mescapechar\u001B[49m\u001B[43m,\u001B[49m\n\u001B[0;32m   3736\u001B[0m \u001B[43m    \u001B[49m\u001B[43mstorage_options\u001B[49m\u001B[38;5;241;43m=\u001B[39;49m\u001B[43mstorage_options\u001B[49m\u001B[43m,\u001B[49m\n\u001B[0;32m   3737\u001B[0m \u001B[43m\u001B[49m\u001B[43m)\u001B[49m\n",
      "File \u001B[1;32m~\\AppData\\Local\\Programs\\Python\\Python38\\lib\\site-packages\\pandas\\util\\_decorators.py:211\u001B[0m, in \u001B[0;36mdeprecate_kwarg.<locals>._deprecate_kwarg.<locals>.wrapper\u001B[1;34m(*args, **kwargs)\u001B[0m\n\u001B[0;32m    209\u001B[0m     \u001B[38;5;28;01melse\u001B[39;00m:\n\u001B[0;32m    210\u001B[0m         kwargs[new_arg_name] \u001B[38;5;241m=\u001B[39m new_arg_value\n\u001B[1;32m--> 211\u001B[0m \u001B[38;5;28;01mreturn\u001B[39;00m \u001B[43mfunc\u001B[49m\u001B[43m(\u001B[49m\u001B[38;5;241;43m*\u001B[39;49m\u001B[43margs\u001B[49m\u001B[43m,\u001B[49m\u001B[43m \u001B[49m\u001B[38;5;241;43m*\u001B[39;49m\u001B[38;5;241;43m*\u001B[39;49m\u001B[43mkwargs\u001B[49m\u001B[43m)\u001B[49m\n",
      "File \u001B[1;32m~\\AppData\\Local\\Programs\\Python\\Python38\\lib\\site-packages\\pandas\\io\\formats\\format.py:1189\u001B[0m, in \u001B[0;36mDataFrameRenderer.to_csv\u001B[1;34m(self, path_or_buf, encoding, sep, columns, index_label, mode, compression, quoting, quotechar, lineterminator, chunksize, date_format, doublequote, escapechar, errors, storage_options)\u001B[0m\n\u001B[0;32m   1168\u001B[0m     created_buffer \u001B[38;5;241m=\u001B[39m \u001B[38;5;28;01mFalse\u001B[39;00m\n\u001B[0;32m   1170\u001B[0m csv_formatter \u001B[38;5;241m=\u001B[39m CSVFormatter(\n\u001B[0;32m   1171\u001B[0m     path_or_buf\u001B[38;5;241m=\u001B[39mpath_or_buf,\n\u001B[0;32m   1172\u001B[0m     lineterminator\u001B[38;5;241m=\u001B[39mlineterminator,\n\u001B[1;32m   (...)\u001B[0m\n\u001B[0;32m   1187\u001B[0m     formatter\u001B[38;5;241m=\u001B[39m\u001B[38;5;28mself\u001B[39m\u001B[38;5;241m.\u001B[39mfmt,\n\u001B[0;32m   1188\u001B[0m )\n\u001B[1;32m-> 1189\u001B[0m \u001B[43mcsv_formatter\u001B[49m\u001B[38;5;241;43m.\u001B[39;49m\u001B[43msave\u001B[49m\u001B[43m(\u001B[49m\u001B[43m)\u001B[49m\n\u001B[0;32m   1191\u001B[0m \u001B[38;5;28;01mif\u001B[39;00m created_buffer:\n\u001B[0;32m   1192\u001B[0m     \u001B[38;5;28;01massert\u001B[39;00m \u001B[38;5;28misinstance\u001B[39m(path_or_buf, StringIO)\n",
      "File \u001B[1;32m~\\AppData\\Local\\Programs\\Python\\Python38\\lib\\site-packages\\pandas\\io\\formats\\csvs.py:241\u001B[0m, in \u001B[0;36mCSVFormatter.save\u001B[1;34m(self)\u001B[0m\n\u001B[0;32m    237\u001B[0m \u001B[38;5;124;03m\"\"\"\u001B[39;00m\n\u001B[0;32m    238\u001B[0m \u001B[38;5;124;03mCreate the writer & save.\u001B[39;00m\n\u001B[0;32m    239\u001B[0m \u001B[38;5;124;03m\"\"\"\u001B[39;00m\n\u001B[0;32m    240\u001B[0m \u001B[38;5;66;03m# apply compression and byte/text conversion\u001B[39;00m\n\u001B[1;32m--> 241\u001B[0m \u001B[38;5;28;01mwith\u001B[39;00m \u001B[43mget_handle\u001B[49m\u001B[43m(\u001B[49m\n\u001B[0;32m    242\u001B[0m \u001B[43m    \u001B[49m\u001B[38;5;28;43mself\u001B[39;49m\u001B[38;5;241;43m.\u001B[39;49m\u001B[43mfilepath_or_buffer\u001B[49m\u001B[43m,\u001B[49m\n\u001B[0;32m    243\u001B[0m \u001B[43m    \u001B[49m\u001B[38;5;28;43mself\u001B[39;49m\u001B[38;5;241;43m.\u001B[39;49m\u001B[43mmode\u001B[49m\u001B[43m,\u001B[49m\n\u001B[0;32m    244\u001B[0m \u001B[43m    \u001B[49m\u001B[43mencoding\u001B[49m\u001B[38;5;241;43m=\u001B[39;49m\u001B[38;5;28;43mself\u001B[39;49m\u001B[38;5;241;43m.\u001B[39;49m\u001B[43mencoding\u001B[49m\u001B[43m,\u001B[49m\n\u001B[0;32m    245\u001B[0m \u001B[43m    \u001B[49m\u001B[43merrors\u001B[49m\u001B[38;5;241;43m=\u001B[39;49m\u001B[38;5;28;43mself\u001B[39;49m\u001B[38;5;241;43m.\u001B[39;49m\u001B[43merrors\u001B[49m\u001B[43m,\u001B[49m\n\u001B[0;32m    246\u001B[0m \u001B[43m    \u001B[49m\u001B[43mcompression\u001B[49m\u001B[38;5;241;43m=\u001B[39;49m\u001B[38;5;28;43mself\u001B[39;49m\u001B[38;5;241;43m.\u001B[39;49m\u001B[43mcompression\u001B[49m\u001B[43m,\u001B[49m\n\u001B[0;32m    247\u001B[0m \u001B[43m    \u001B[49m\u001B[43mstorage_options\u001B[49m\u001B[38;5;241;43m=\u001B[39;49m\u001B[38;5;28;43mself\u001B[39;49m\u001B[38;5;241;43m.\u001B[39;49m\u001B[43mstorage_options\u001B[49m\u001B[43m,\u001B[49m\n\u001B[0;32m    248\u001B[0m \u001B[43m\u001B[49m\u001B[43m)\u001B[49m \u001B[38;5;28;01mas\u001B[39;00m handles:\n\u001B[0;32m    249\u001B[0m \n\u001B[0;32m    250\u001B[0m     \u001B[38;5;66;03m# Note: self.encoding is irrelevant here\u001B[39;00m\n\u001B[0;32m    251\u001B[0m     \u001B[38;5;28mself\u001B[39m\u001B[38;5;241m.\u001B[39mwriter \u001B[38;5;241m=\u001B[39m csvlib\u001B[38;5;241m.\u001B[39mwriter(\n\u001B[0;32m    252\u001B[0m         handles\u001B[38;5;241m.\u001B[39mhandle,\n\u001B[0;32m    253\u001B[0m         lineterminator\u001B[38;5;241m=\u001B[39m\u001B[38;5;28mself\u001B[39m\u001B[38;5;241m.\u001B[39mlineterminator,\n\u001B[1;32m   (...)\u001B[0m\n\u001B[0;32m    258\u001B[0m         quotechar\u001B[38;5;241m=\u001B[39m\u001B[38;5;28mself\u001B[39m\u001B[38;5;241m.\u001B[39mquotechar,\n\u001B[0;32m    259\u001B[0m     )\n\u001B[0;32m    261\u001B[0m     \u001B[38;5;28mself\u001B[39m\u001B[38;5;241m.\u001B[39m_save()\n",
      "File \u001B[1;32m~\\AppData\\Local\\Programs\\Python\\Python38\\lib\\site-packages\\pandas\\io\\common.py:734\u001B[0m, in \u001B[0;36mget_handle\u001B[1;34m(path_or_buf, mode, encoding, compression, memory_map, is_text, errors, storage_options)\u001B[0m\n\u001B[0;32m    732\u001B[0m \u001B[38;5;66;03m# Only for write methods\u001B[39;00m\n\u001B[0;32m    733\u001B[0m \u001B[38;5;28;01mif\u001B[39;00m \u001B[38;5;124m\"\u001B[39m\u001B[38;5;124mr\u001B[39m\u001B[38;5;124m\"\u001B[39m \u001B[38;5;129;01mnot\u001B[39;00m \u001B[38;5;129;01min\u001B[39;00m mode \u001B[38;5;129;01mand\u001B[39;00m is_path:\n\u001B[1;32m--> 734\u001B[0m     \u001B[43mcheck_parent_directory\u001B[49m\u001B[43m(\u001B[49m\u001B[38;5;28;43mstr\u001B[39;49m\u001B[43m(\u001B[49m\u001B[43mhandle\u001B[49m\u001B[43m)\u001B[49m\u001B[43m)\u001B[49m\n\u001B[0;32m    736\u001B[0m \u001B[38;5;28;01mif\u001B[39;00m compression:\n\u001B[0;32m    737\u001B[0m     \u001B[38;5;28;01mif\u001B[39;00m compression \u001B[38;5;241m!=\u001B[39m \u001B[38;5;124m\"\u001B[39m\u001B[38;5;124mzstd\u001B[39m\u001B[38;5;124m\"\u001B[39m:\n\u001B[0;32m    738\u001B[0m         \u001B[38;5;66;03m# compression libraries do not like an explicit text-mode\u001B[39;00m\n",
      "File \u001B[1;32m~\\AppData\\Local\\Programs\\Python\\Python38\\lib\\site-packages\\pandas\\io\\common.py:597\u001B[0m, in \u001B[0;36mcheck_parent_directory\u001B[1;34m(path)\u001B[0m\n\u001B[0;32m    595\u001B[0m parent \u001B[38;5;241m=\u001B[39m Path(path)\u001B[38;5;241m.\u001B[39mparent\n\u001B[0;32m    596\u001B[0m \u001B[38;5;28;01mif\u001B[39;00m \u001B[38;5;129;01mnot\u001B[39;00m parent\u001B[38;5;241m.\u001B[39mis_dir():\n\u001B[1;32m--> 597\u001B[0m     \u001B[38;5;28;01mraise\u001B[39;00m \u001B[38;5;167;01mOSError\u001B[39;00m(\u001B[38;5;124mrf\u001B[39m\u001B[38;5;124m\"\u001B[39m\u001B[38;5;124mCannot save file into a non-existent directory: \u001B[39m\u001B[38;5;124m'\u001B[39m\u001B[38;5;132;01m{\u001B[39;00mparent\u001B[38;5;132;01m}\u001B[39;00m\u001B[38;5;124m'\u001B[39m\u001B[38;5;124m\"\u001B[39m)\n",
      "\u001B[1;31mOSError\u001B[0m: Cannot save file into a non-existent directory: 'C:\\Users\\laure\\OneDrive\\Documenten\\Project 3.1 APG Files'"
     ]
    }
   ],
   "source": [
    "# Save to csv\n",
    "filename = 'public_and_private_paragraphs_{}_filtered.csv'.format('all' if filter_stopwords and filter_pronouns else 'stopwords' if filter_stopwords else 'pronouns' if filter_pronouns else 'none')\n",
    "if matthew:\n",
    "    processed_df.to_csv('DATA/scrape_results/' + filename, index=False)\n",
    "\n",
    "else:\n",
    "    processed_df.to_csv(path + filename, index=False)"
   ],
   "metadata": {
    "collapsed": false
   }
  },
  {
   "cell_type": "code",
   "execution_count": 76,
   "outputs": [],
   "source": [
    "col_to_add = processed_df.paragraphs.tolist()"
   ],
   "metadata": {
    "collapsed": false
   }
  },
  {
   "cell_type": "code",
   "execution_count": 77,
   "outputs": [],
   "source": [
    "url_references['paragraphs'] = col_to_add\n"
   ],
   "metadata": {
    "collapsed": false
   }
  },
  {
   "cell_type": "code",
   "execution_count": 78,
   "outputs": [
    {
     "name": "stdout",
     "output_type": "stream",
     "text": [
      "        id                                               urls  \\\n",
      "0        1                               https://mijn.abp.nl/   \n",
      "1        2                        https://mijn.abp.nl/welkom/   \n",
      "2        3                         https://mijn.abp.nl/welkom   \n",
      "3        4  https://mijn.abp.nl/plan-uw-pensioen/zelf-same...   \n",
      "4        5  https://mijn.abp.nl/plan-uw-pensioen/zelf-same...   \n",
      "...    ...                                                ...   \n",
      "1550  1551  https://www.abp.nl/werkgevers/pensioen3daagse/...   \n",
      "1551  1552  https://www.abp.nl/over-abp/financiele-situati...   \n",
      "1552  1553  https://www.abp.nl/english/financial-situation...   \n",
      "1553  1554  https://www.abp.nl/english/financial-situation...   \n",
      "1554  1555    https://www.abp.nl/english/financial-situation/   \n",
      "\n",
      "                                             paragraphs  \n",
      "0                               mijnabp dhr laxxxxxxxxx  \n",
      "1                               mijnabp dhr laxxxxxxxxx  \n",
      "2                               mijnabp dhr laxxxxxxxxx  \n",
      "3     samenstellen pensioenleeftijd kiezen loonheffi...  \n",
      "4     samenstellen pensioenleeftijd kiezen loonheffi...  \n",
      "...                                                 ...  \n",
      "1550  strategische themas toepassen in uw organisati...  \n",
      "1551  effecten van de tussentijdse pensioenverhoging...  \n",
      "1552  annual report this is abps annual report in wh...  \n",
      "1553  financial situation the coverage ratio is the ...  \n",
      "1554  financial situation current financial situatio...  \n",
      "\n",
      "[1555 rows x 3 columns]\n"
     ]
    }
   ],
   "source": [
    "print(url_references)"
   ],
   "metadata": {
    "collapsed": false
   }
  },
  {
   "cell_type": "code",
   "execution_count": 83,
   "outputs": [],
   "source": [
    "url_references.to_csv('C:/Users/01din/Desktop/data APG/FIXED_SCRAPES/url_references_with_paragraphs.csv', index=False)"
   ],
   "metadata": {
    "collapsed": false
   }
  },
  {
   "cell_type": "code",
   "execution_count": 85,
   "outputs": [],
   "source": [
    "import re\n",
    "df = pd.read_csv(\"C:/Users/01din/Desktop/Data APG/FIXED_SCRAPES/url_references_with_paragraphs_no_english.csv\", encoding='latin-1')\n",
    "paras = df.paragraphs.tolist()\n",
    "\n",
    "for index, para in enumerate(paras):\n",
    "    paras[index] = re.sub(' +', ' ', para)\n",
    "\n",
    "new_df = pd.DataFrame(paras, columns=['paragraphs'])\n",
    "df.paragraphs = new_df.paragraphs.tolist()"
   ],
   "metadata": {
    "collapsed": false
   }
  },
  {
   "cell_type": "code",
   "execution_count": 86,
   "outputs": [
    {
     "name": "stdout",
     "output_type": "stream",
     "text": [
      "        id                                               urls  \\\n",
      "0        1                               https://mijn.abp.nl/   \n",
      "1        2                        https://mijn.abp.nl/welkom/   \n",
      "2        3                         https://mijn.abp.nl/welkom   \n",
      "3        4  https://mijn.abp.nl/plan-uw-pensioen/zelf-same...   \n",
      "4        5  https://mijn.abp.nl/plan-uw-pensioen/zelf-same...   \n",
      "...    ...                                                ...   \n",
      "1550  1551  https://www.abp.nl/werkgevers/pensioen3daagse/...   \n",
      "1551  1552  https://www.abp.nl/over-abp/financiele-situati...   \n",
      "1552  1553  https://www.abp.nl/english/financial-situation...   \n",
      "1553  1554  https://www.abp.nl/english/financial-situation...   \n",
      "1554  1555    https://www.abp.nl/english/financial-situation/   \n",
      "\n",
      "                                             paragraphs  \n",
      "0                                                        \n",
      "1                                                        \n",
      "2                                                        \n",
      "3     samenstellen pensioenleeftijd kiezen loonheffi...  \n",
      "4     samenstellen pensioenleeftijd kiezen loonheffi...  \n",
      "...                                                 ...  \n",
      "1550  strategische themas toepassen in uw organisati...  \n",
      "1551  effecten van de tussentijdse pensioenverhoging...  \n",
      "1552                                                     \n",
      "1553                                                     \n",
      "1554                                                     \n",
      "\n",
      "[1555 rows x 3 columns]\n"
     ]
    }
   ],
   "source": [
    "print(df)"
   ],
   "metadata": {
    "collapsed": false
   }
  },
  {
   "cell_type": "code",
   "execution_count": 87,
   "outputs": [],
   "source": [
    "df.to_csv(\"C:/Users/01din/Desktop/Data APG/FIXED_SCRAPES/url_references_with_paragraphs_no_english.csv\")"
   ],
   "metadata": {
    "collapsed": false
   }
  },
  {
   "cell_type": "code",
   "execution_count": null,
   "outputs": [],
   "source": [],
   "metadata": {
    "collapsed": false
   }
  }
 ],
 "metadata": {
  "kernelspec": {
   "display_name": "Python 3 (ipykernel)",
   "language": "python",
   "name": "python3"
  },
  "language_info": {
   "codemirror_mode": {
    "name": "ipython",
    "version": 3
   },
   "file_extension": ".py",
   "mimetype": "text/x-python",
   "name": "python",
   "nbconvert_exporter": "python",
   "pygments_lexer": "ipython3",
   "version": "3.9.1"
  }
 },
 "nbformat": 4,
 "nbformat_minor": 5
}
