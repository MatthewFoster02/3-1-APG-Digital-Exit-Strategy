{
 "cells": [
  {
   "cell_type": "code",
   "execution_count": 60,
   "id": "eaee89c7",
   "metadata": {},
   "outputs": [],
   "source": [
    "import pandas as pd\n",
    "import string\n",
    "import re\n",
    "from nltk.corpus import stopwords"
   ]
  },
  {
   "cell_type": "markdown",
   "id": "27c586c5",
   "metadata": {},
   "source": [
    "# Reading in and preprocessing scraped website text\n",
    "\n",
    "First, separate into paragraphs by splitting on full stops. Then covert each line to lowercase, remove numbers, punctuation and symbols, then whitespaces like tabs, etc. Finally tokenise each paragraph."
   ]
  },
  {
   "cell_type": "code",
   "execution_count": 61,
   "id": "a16e7e0c",
   "metadata": {},
   "outputs": [
    {
     "name": "stdout",
     "output_type": "stream",
     "text": [
      "\n",
      "\n",
      "\n",
      "\n",
      "\n",
      "\n",
      "\n",
      "\n",
      "\n",
      "\n",
      "Pensioen geeft waarde aan uw toekomst\n",
      "_x000D_\n",
      "\t\t\tBij ABP is uw pensioen goed geregeld. We vertellen u graag waarom pensioen een belangrijke én waardevolle arbeidsvoorwaarde in uw contract is, net als salaris en vakantiegeld._x000D_\n",
      "\t\t\n",
      "\n",
      "\n",
      "Waarom is uw pensioen zo'n belangrijke arbeidsvoorwaarde?\n",
      "_x000D_\n",
      "                In het filmpje ziet u waar u op mag rekenen als u pensioen opbouwt bij ABP._x000D_\n",
      "            \n",
      "\n",
      "\n",
      "\n",
      "\n",
      "\n",
      "De waarde van een pensioen bij ABP \n",
      "_x000D_\n",
      "                Hieronder ziet u alle voordelen van een pensioen bij ABP nog eens op een rij:_x000D_\n",
      "            \n",
      "\n",
      "\n",
      "\n",
      "\n",
      "\n",
      "\n",
      "\n",
      "\n",
      "\n",
      "\n",
      "\n",
      "\n",
      "Samen pensioen opbouwen levert meer op \n",
      "U bouwt pensioen op bij ABP. Benieuwd naar uw pensioenregeling?\n",
      "\n",
      "Meer over uw pensioenregeling\n",
      "\n",
      "\n",
      "\n",
      "\n",
      "\n",
      "\n",
      "\n",
      "Extra vangnet bij arbeidsongeschiktheid, werkeloosheid en overlijden\n",
      "Benieuwd naar de verschillende soorten pensioen bij ABP?\n",
      "\n",
      "Meer over pensioen bij ABP\n",
      "\n",
      "\n",
      "\n",
      "\n",
      "\n",
      "\n",
      "\n",
      "Inzicht en overzicht in uw inkomen voor later\n",
      "In MijnABP regelt u uw pensioenzaken eenvoudig online.\n",
      "\n",
      "Meer over MijnABP\n",
      "\n",
      "\n",
      "\n",
      "\n",
      "\n",
      "\n",
      "\n",
      "Grip op uw pensioen en vrijheid om te kiezen in elke levensfase​\n",
      "Eerder stoppen of juist langer doorwerken? \n",
      "\n",
      "Meer over uw mogelijkheden\n",
      "\n",
      "\n",
      "\n",
      "\n",
      "\n",
      "\n",
      "\n",
      "\n",
      "Persoonlijke ondersteuning wanneer het voor u nodig is\n",
      "Maak kennis met onze virtuele servicemedewerker\n",
      "\n",
      "meer over service & contact\n",
      "\n",
      "\n",
      "\n",
      "\n",
      "\n",
      "\n",
      "\n",
      "\n",
      "Meest duurzame Nederlandse Pensioenfonds \n",
      "ABP belegt pensioengeld zo duurzaam en verantwoord mogelijk\n",
      "\n",
      "Meer over duurzaam beleggen\n",
      "\n",
      "\n",
      "\n",
      "\n",
      "\n",
      "\n",
      "\n",
      "Pensioencommunicatie afgestemd op uw sector​ \n",
      "Alle informatie rondom uw pensioen in een notendop\n",
      "\n",
      "Meer informatie\n",
      "\n",
      "\n",
      "\n",
      "\n",
      "\n",
      "\n",
      "\n",
      "\n",
      "\n",
      "\n",
      "\n",
      "\n"
     ]
    }
   ],
   "source": [
    "matthew = False\n",
    "path = \"C:/Users/laure/OneDrive/Documenten/Project 3.1 APG Files/\"\n",
    "if matthew:\n",
    "    private_scrape = pd.read_excel('DATA/scrape_results/private_scrape_results_cleaned.xlsx')\n",
    "    public_scrape = pd.read_excel('DATA/scrape_results/public_scrape_results_cleaned.xlsx')\n",
    "else:\n",
    "    private_scrape = pd.read_excel(path + \"private_scrape_results_cleaned.xlsx\")\n",
    "    public_scrape = pd.read_excel(path + \"public_scrape_results_cleaned.xlsx\")\n",
    "\n",
    "print(public_scrape.paragraph[55])\n",
    "dutch_stopwords = stopwords.words('dutch')\n",
    "dutch_months = ['Januari', \"Februari\", \"Maart\", \"April\", \"Mei\", \"Juni\", \"Juli\", \"Augustus\", \"September\", \"Oktober\", \"November\", \"December\", 'januari', \"februari\", \"maart\", \"april\", \"mei\", \"juni\", \"juli\", \"augustus\", \"september\", \"oktober\", \"november\", \"december\"]\n",
    "words_to_remove_dutch = dutch_stopwords + dutch_months\n",
    "dutch_pronouns = ['ik', 'je', 'jij', 'u', 'hij', 'ze', 'zij', 'hij', 'het', 'wij', 'we', 'jullie', 'me', 'mij', 'jou', 'hem', 'haar', 'ons', 'hen', 'hun', 'mijn', 'jouw', 'uw', 'zijn', 'ons', 'onze', 'zich', 'deze', 'die', 'dit', 'dat']\n",
    "dutch_stopwords = [word for word in words_to_remove_dutch if word not in dutch_pronouns]\n",
    "dutch_stopwords_and_pronouns = list(set(dutch_stopwords) | set(dutch_pronouns))"
   ]
  },
  {
   "cell_type": "code",
   "execution_count": 62,
   "outputs": [],
   "source": [
    "filter_stopwords = False\n",
    "filter_pronouns = False\n",
    "\n",
    "def preprocess_corpus(df):\n",
    "    paragraphs = []\n",
    "    for index, row in df.iterrows():\n",
    "        paragraphs.append(row.paragraph)\n",
    "    \n",
    "    # for para in paragraphs:\n",
    "    #     sentences.extend(re.split('[.|?|!|;|\\n|\\t]', para))\n",
    "    \n",
    "    \n",
    "    for index, paragraph in enumerate(paragraphs):\n",
    "        paragraph = paragraph.replace('_x000D_', '')\n",
    "        paragraph = paragraph.replace('\\xa0', ' ')\n",
    "        paragraph = paragraph.replace('–', '')\n",
    "        paragraph = paragraph.replace('‘', '')\n",
    "        paragraph = paragraph.replace('’', '')\n",
    "        paragraph = paragraph.replace('”', '')\n",
    "        paragraph = paragraph.replace('“', '')\n",
    "        paragraph = paragraph.replace('\\n', ' ')\n",
    "        paragraph = paragraph.replace('\\t', ' ')\n",
    "        paragraph = paragraph.lower()\n",
    "        paragraph = paragraph.replace('á', 'a').replace('à', 'a').replace('ä', 'a').replace('â', 'a').replace('ã', 'a')\n",
    "        paragraph = paragraph.replace('ó', 'o').replace('ò', 'o').replace('ö', 'o').replace('ô', 'o').replace('õ', 'o')\n",
    "        paragraph = paragraph.replace('é', 'e').replace('è', 'e').replace('ë', 'e').replace('ê', 'e')\n",
    "        paragraph = paragraph.replace('í', 'i').replace('ì', 'i').replace('ï', 'i').replace('î', 'i')\n",
    "        paragraph = paragraph.replace('ú', 'u').replace('ù', 'u').replace('ü', 'u').replace('û', 'u')\n",
    "        paragraph = paragraph.replace('ý', 'y').replace('ÿ', 'y')\n",
    "        paragraph = paragraph.replace('ç', 'c')\n",
    "        paragraph = paragraph.replace('ñ', 'n')\n",
    "        paragraph = re.sub(r'\\d+', '', paragraph)\n",
    "        paragraph = re.sub('cms ' + r'\\bqa\\w+', '', paragraph)\n",
    "        paragraph = re.sub(r'\\bâ€\\w+', '', paragraph)\n",
    "        paragraph = paragraph.translate(str.maketrans(\"\",\"\", string.punctuation))\n",
    "        if filter_stopwords and filter_pronouns:\n",
    "            words = paragraph.split()\n",
    "            words = [word for word in words if word not in dutch_stopwords_and_pronouns]\n",
    "            new_paragraph = \" \".join(words)\n",
    "        elif filter_stopwords:\n",
    "            words = paragraph.split()\n",
    "            words = [word for word in words if word not in dutch_stopwords]\n",
    "            new_paragraph = \" \".join(words)\n",
    "        elif filter_pronouns:\n",
    "            words = paragraph.split()\n",
    "            words = [word for word in words if word not in dutch_pronouns]\n",
    "            new_paragraph = \" \".join(words)\n",
    "        else:\n",
    "            new_paragraph = paragraph\n",
    "        new_paragraph = re.sub(' +', ' ', new_paragraph)\n",
    "        paragraphs[index] = new_paragraph.strip()\n",
    "\n",
    "    paragraphs = list(filter(None, paragraphs))\n",
    "\n",
    "    return paragraphs\n"
   ],
   "metadata": {
    "collapsed": false,
    "pycharm": {
     "name": "#%%\n"
    }
   }
  },
  {
   "cell_type": "code",
   "execution_count": 63,
   "outputs": [],
   "source": [
    "# Preprocess the public and private scrape results\n",
    "processed_public_scrape = preprocess_corpus(public_scrape)\n",
    "length = len(processed_public_scrape)\n",
    "processed_private_scrape = preprocess_corpus(private_scrape)"
   ],
   "metadata": {
    "collapsed": false,
    "pycharm": {
     "name": "#%%\n"
    }
   }
  },
  {
   "cell_type": "code",
   "execution_count": 64,
   "outputs": [],
   "source": [
    "# Combine public and private scrape results\n",
    "processed_public_scrape.extend(processed_private_scrape)\n",
    "processed_scrapes = processed_public_scrape"
   ],
   "metadata": {
    "collapsed": false,
    "pycharm": {
     "name": "#%%\n"
    }
   }
  },
  {
   "cell_type": "code",
   "execution_count": 65,
   "outputs": [],
   "source": [
    "# Convert to dataframe\n",
    "processed_df = pd.DataFrame(processed_scrapes, columns=['paragraphs'])"
   ],
   "metadata": {
    "collapsed": false,
    "pycharm": {
     "name": "#%%\n"
    }
   }
  },
  {
   "cell_type": "code",
   "execution_count": 66,
   "outputs": [],
   "source": [
    "# Save to csv\n",
    "filename = 'public_and_private_paragraphs_{}_filtered.csv'.format('all' if filter_stopwords and filter_pronouns else 'stopwords' if filter_stopwords else 'pronouns' if filter_pronouns else 'none')\n",
    "if matthew:\n",
    "    processed_df.to_csv('DATA/scrape_results/' + filename, index=False)\n",
    "\n",
    "else:\n",
    "    processed_df.to_csv(path + filename, index=False)"
   ],
   "metadata": {
    "collapsed": false,
    "pycharm": {
     "name": "#%%\n"
    }
   }
  },
  {
   "cell_type": "code",
   "execution_count": 67,
   "outputs": [
    {
     "name": "stdout",
     "output_type": "stream",
     "text": [
      "helloworld\n",
      " The quick brown fox\n",
      "hello  qaw asjqa\n"
     ]
    }
   ],
   "source": [],
   "metadata": {
    "collapsed": false,
    "pycharm": {
     "name": "#%%\n"
    }
   }
  }
 ],
 "metadata": {
  "kernelspec": {
   "display_name": "Python 3 (ipykernel)",
   "language": "python",
   "name": "python3"
  },
  "language_info": {
   "codemirror_mode": {
    "name": "ipython",
    "version": 3
   },
   "file_extension": ".py",
   "mimetype": "text/x-python",
   "name": "python",
   "nbconvert_exporter": "python",
   "pygments_lexer": "ipython3",
   "version": "3.9.1"
  }
 },
 "nbformat": 4,
 "nbformat_minor": 5
}