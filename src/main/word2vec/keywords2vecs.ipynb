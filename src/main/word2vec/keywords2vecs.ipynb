{
 "cells": [
  {
   "cell_type": "code",
   "execution_count": 1,
   "id": "95edeebf",
   "metadata": {},
   "outputs": [],
   "source": [
    "import json\n",
    "import numpy as np\n",
    "import pandas as pd\n",
    "from gensim.models import KeyedVectors"
   ]
  },
  {
   "cell_type": "code",
   "execution_count": 2,
   "id": "5cf5f14a",
   "metadata": {},
   "outputs": [],
   "source": [
    "with open('ids_keywords_weights.json', 'r') as infile:\n",
    "    list_of_dicts = json.load(infile)"
   ]
  },
  {
   "cell_type": "code",
   "execution_count": 3,
   "id": "911e2c5e",
   "metadata": {},
   "outputs": [],
   "source": [
    "# this is the model containing all the vectors for different words\n",
    "wv = KeyedVectors.load(\"vectors/custom_model_none_filtered.wordvectors\", mmap='r').wv"
   ]
  },
  {
   "cell_type": "code",
   "execution_count": 5,
   "id": "9d373509",
   "metadata": {},
   "outputs": [],
   "source": [
    "def keywords2vec(weighted_keywords):\n",
    "    '''\n",
    "    input: equal sized arrays of the keywords and their respective weights\n",
    "    output: weighted average of the keywords' vectors\n",
    "    '''\n",
    "    meaning_vec = np.zeros(100)\n",
    "    weights_tot = 0\n",
    "    \n",
    "    for key, value in weighted_keywords.items():\n",
    "        word_vec = wv[key]\n",
    "        meaning_vec += (word_vec * value)\n",
    "        weights_tot += value\n",
    "    \n",
    "    meaning_vec /= weights_tot\n",
    "    \n",
    "    return meaning_vec"
   ]
  },
  {
   "cell_type": "code",
   "execution_count": 34,
   "id": "00c79d1f",
   "metadata": {},
   "outputs": [],
   "source": [
    "def getwords(list_of_dicts):\n",
    "    words = []\n",
    "    count = 0\n",
    "    o_count = 0\n",
    "    weight = 0\n",
    "    for visit in list_of_dicts:\n",
    "        ind_count = 0\n",
    "        ind_weight = 0\n",
    "        for key, value in visit[1].items():\n",
    "            try:\n",
    "                word_vec = wv[key]\n",
    "            except:\n",
    "                if ind_count == 0:\n",
    "                    o_count += 1\n",
    "                weight += value\n",
    "                ind_count += 1\n",
    "                count += 1\n",
    "                if count % 1000000 == 0:\n",
    "                    print(count)\n",
    "                if key not in words:\n",
    "                    words.append(key)\n",
    "        \n",
    "    avgweight = weight/o_count\n",
    "                \n",
    "    return words, count, avgweight"
   ]
  },
  {
   "cell_type": "code",
   "execution_count": 35,
   "id": "12352842",
   "metadata": {},
   "outputs": [
    {
     "name": "stdout",
     "output_type": "stream",
     "text": [
      "1000000\n",
      "2000000\n",
      "3000000\n",
      "4000000\n",
      "5000000\n",
      "6000000\n",
      "7000000\n",
      "8000000\n",
      "9000000\n",
      "10000000\n",
      "11000000\n",
      "12000000\n",
      "13000000\n",
      "14000000\n",
      "15000000\n",
      "16000000\n"
     ]
    }
   ],
   "source": [
    "words, count, avgweight = getwords(list_of_dicts)"
   ]
  },
  {
   "cell_type": "code",
   "execution_count": 36,
   "id": "835ee85e",
   "metadata": {},
   "outputs": [
    {
     "name": "stdout",
     "output_type": "stream",
     "text": [
      "0.900786825872917\n"
     ]
    }
   ],
   "source": [
    "print(avgweight)"
   ]
  },
  {
   "cell_type": "code",
   "execution_count": 25,
   "id": "01c90770",
   "metadata": {},
   "outputs": [
    {
     "name": "stdout",
     "output_type": "stream",
     "text": [
      "0.09351493126471473\n"
     ]
    }
   ],
   "source": [
    "print(avgweight)"
   ]
  },
  {
   "cell_type": "code",
   "execution_count": 6,
   "id": "30c1a181",
   "metadata": {},
   "outputs": [
    {
     "data": {
      "text/plain": [
       "array([-0.01143374,  0.66251276,  0.18173569, -0.18643185,  0.054282  ,\n",
       "       -0.1465698 , -0.40190936,  0.56815225, -0.73950344,  0.16939407,\n",
       "       -0.29150247, -0.35720884,  0.22678922,  0.28510683, -0.53886825,\n",
       "        0.09197792,  0.47143528, -0.27407067,  0.14555032, -0.1218254 ,\n",
       "       -0.00185637,  0.05787688,  0.48308795, -0.47948246, -0.25663211,\n",
       "       -0.58274894, -0.38785033, -0.44939309,  0.01082759, -0.1794339 ,\n",
       "        0.34939433, -0.1295781 ,  0.36535951,  0.09395516, -0.17297926,\n",
       "        0.42097797, -0.09437472,  0.27592352, -0.32621222, -0.00955149,\n",
       "        0.24497738, -0.35213759, -0.14234631, -0.22622108,  0.31221506,\n",
       "       -0.37230815, -0.33320059, -0.25977752,  0.07295449,  0.12835776,\n",
       "       -0.02843705, -0.04261015, -0.61118451, -0.38116893, -0.04637667,\n",
       "        0.19108424,  0.43337132, -0.77327975, -0.34022675,  0.25367963,\n",
       "       -0.46447667, -0.26073094, -0.15149071,  0.06405771, -0.04666035,\n",
       "        0.14708175,  0.14898893,  0.00167673, -0.26265125, -0.09351642,\n",
       "        0.39543676,  0.18723614,  0.29449062,  0.02298607,  0.44472219,\n",
       "       -0.22876773,  0.50985806,  0.14886284, -0.19475725,  0.07175812,\n",
       "        0.23639958, -0.34020123, -0.18804688,  0.17572449,  0.06477637,\n",
       "       -0.2458298 ,  0.06256517,  0.37193676,  0.05958613, -0.1514606 ,\n",
       "        0.22436099,  0.20819511,  0.12054129,  0.21674341,  0.83799232,\n",
       "        0.25891518, -0.02964659, -0.16798992,  0.04220091, -0.25031573])"
      ]
     },
     "execution_count": 6,
     "metadata": {},
     "output_type": "execute_result"
    }
   ],
   "source": [
    "keywords2vec(list_of_dicts[103][1])"
   ]
  },
  {
   "cell_type": "code",
   "execution_count": 59,
   "id": "1dd63f7c",
   "metadata": {},
   "outputs": [
    {
     "name": "stderr",
     "output_type": "stream",
     "text": [
      "/var/folders/yv/gpc5sh7j5k3cls_fv_dpzntc0000gn/T/ipykernel_5777/2616844223.py:2: FutureWarning: The frame.append method is deprecated and will be removed from pandas in a future version. Use pandas.concat instead.\n",
      "  df.append({'id': list_of_dicts[103][0], 'path_vector': keywords2vec(list_of_dicts[103][1])}, ignore_index=True)\n"
     ]
    },
    {
     "data": {
      "text/html": [
       "<div>\n",
       "<style scoped>\n",
       "    .dataframe tbody tr th:only-of-type {\n",
       "        vertical-align: middle;\n",
       "    }\n",
       "\n",
       "    .dataframe tbody tr th {\n",
       "        vertical-align: top;\n",
       "    }\n",
       "\n",
       "    .dataframe thead th {\n",
       "        text-align: right;\n",
       "    }\n",
       "</style>\n",
       "<table border=\"1\" class=\"dataframe\">\n",
       "  <thead>\n",
       "    <tr style=\"text-align: right;\">\n",
       "      <th></th>\n",
       "      <th>id</th>\n",
       "      <th>path_vector</th>\n",
       "    </tr>\n",
       "  </thead>\n",
       "  <tbody>\n",
       "    <tr>\n",
       "      <th>0</th>\n",
       "      <td>280</td>\n",
       "      <td>[-0.011433738623272644, 0.6625127564312141, 0....</td>\n",
       "    </tr>\n",
       "  </tbody>\n",
       "</table>\n",
       "</div>"
      ],
      "text/plain": [
       "    id                                        path_vector\n",
       "0  280  [-0.011433738623272644, 0.6625127564312141, 0...."
      ]
     },
     "execution_count": 59,
     "metadata": {},
     "output_type": "execute_result"
    }
   ],
   "source": [
    "df = pd.DataFrame(columns=['id', 'path_vector'])\n",
    "df.append({'id': list_of_dicts[103][0], 'path_vector': keywords2vec(list_of_dicts[103][1])}, ignore_index=True)"
   ]
  },
  {
   "cell_type": "code",
   "execution_count": 7,
   "id": "2dc678a5",
   "metadata": {},
   "outputs": [
    {
     "ename": "KeyError",
     "evalue": "\"Key 'abpnldigid' not present\"",
     "output_type": "error",
     "traceback": [
      "\u001b[0;31m---------------------------------------------------------------------------\u001b[0m",
      "\u001b[0;31mKeyError\u001b[0m                                  Traceback (most recent call last)",
      "Input \u001b[0;32mIn [7]\u001b[0m, in \u001b[0;36m<cell line: 1>\u001b[0;34m()\u001b[0m\n\u001b[0;32m----> 1\u001b[0m ids_meanings \u001b[38;5;241m=\u001b[39m ((list_of_dicts[\u001b[38;5;241m102\u001b[39m][\u001b[38;5;241m0\u001b[39m], \u001b[43mkeywords2vec\u001b[49m\u001b[43m(\u001b[49m\u001b[43mlist_of_dicts\u001b[49m\u001b[43m[\u001b[49m\u001b[38;5;241;43m102\u001b[39;49m\u001b[43m]\u001b[49m\u001b[43m[\u001b[49m\u001b[38;5;241;43m1\u001b[39;49m\u001b[43m]\u001b[49m\u001b[43m)\u001b[49m))\n\u001b[1;32m      2\u001b[0m ids_meanings\n",
      "Input \u001b[0;32mIn [5]\u001b[0m, in \u001b[0;36mkeywords2vec\u001b[0;34m(weighted_keywords)\u001b[0m\n\u001b[1;32m      7\u001b[0m weights_tot \u001b[38;5;241m=\u001b[39m \u001b[38;5;241m0\u001b[39m\n\u001b[1;32m      9\u001b[0m \u001b[38;5;28;01mfor\u001b[39;00m key, value \u001b[38;5;129;01min\u001b[39;00m weighted_keywords\u001b[38;5;241m.\u001b[39mitems():\n\u001b[0;32m---> 10\u001b[0m     word_vec \u001b[38;5;241m=\u001b[39m \u001b[43mwv\u001b[49m\u001b[43m[\u001b[49m\u001b[43mkey\u001b[49m\u001b[43m]\u001b[49m\n\u001b[1;32m     11\u001b[0m     meaning_vec \u001b[38;5;241m+\u001b[39m\u001b[38;5;241m=\u001b[39m (word_vec \u001b[38;5;241m*\u001b[39m value)\n\u001b[1;32m     12\u001b[0m     weights_tot \u001b[38;5;241m+\u001b[39m\u001b[38;5;241m=\u001b[39m value\n",
      "File \u001b[0;32m/Library/Frameworks/Python.framework/Versions/3.10/lib/python3.10/site-packages/gensim/models/keyedvectors.py:403\u001b[0m, in \u001b[0;36mKeyedVectors.__getitem__\u001b[0;34m(self, key_or_keys)\u001b[0m\n\u001b[1;32m    389\u001b[0m \u001b[38;5;124;03m\"\"\"Get vector representation of `key_or_keys`.\u001b[39;00m\n\u001b[1;32m    390\u001b[0m \n\u001b[1;32m    391\u001b[0m \u001b[38;5;124;03mParameters\u001b[39;00m\n\u001b[0;32m   (...)\u001b[0m\n\u001b[1;32m    400\u001b[0m \n\u001b[1;32m    401\u001b[0m \u001b[38;5;124;03m\"\"\"\u001b[39;00m\n\u001b[1;32m    402\u001b[0m \u001b[38;5;28;01mif\u001b[39;00m \u001b[38;5;28misinstance\u001b[39m(key_or_keys, _KEY_TYPES):\n\u001b[0;32m--> 403\u001b[0m     \u001b[38;5;28;01mreturn\u001b[39;00m \u001b[38;5;28;43mself\u001b[39;49m\u001b[38;5;241;43m.\u001b[39;49m\u001b[43mget_vector\u001b[49m\u001b[43m(\u001b[49m\u001b[43mkey_or_keys\u001b[49m\u001b[43m)\u001b[49m\n\u001b[1;32m    405\u001b[0m \u001b[38;5;28;01mreturn\u001b[39;00m vstack([\u001b[38;5;28mself\u001b[39m\u001b[38;5;241m.\u001b[39mget_vector(key) \u001b[38;5;28;01mfor\u001b[39;00m key \u001b[38;5;129;01min\u001b[39;00m key_or_keys])\n",
      "File \u001b[0;32m/Library/Frameworks/Python.framework/Versions/3.10/lib/python3.10/site-packages/gensim/models/keyedvectors.py:446\u001b[0m, in \u001b[0;36mKeyedVectors.get_vector\u001b[0;34m(self, key, norm)\u001b[0m\n\u001b[1;32m    422\u001b[0m \u001b[38;5;28;01mdef\u001b[39;00m \u001b[38;5;21mget_vector\u001b[39m(\u001b[38;5;28mself\u001b[39m, key, norm\u001b[38;5;241m=\u001b[39m\u001b[38;5;28;01mFalse\u001b[39;00m):\n\u001b[1;32m    423\u001b[0m     \u001b[38;5;124;03m\"\"\"Get the key's vector, as a 1D numpy array.\u001b[39;00m\n\u001b[1;32m    424\u001b[0m \n\u001b[1;32m    425\u001b[0m \u001b[38;5;124;03m    Parameters\u001b[39;00m\n\u001b[0;32m   (...)\u001b[0m\n\u001b[1;32m    444\u001b[0m \n\u001b[1;32m    445\u001b[0m \u001b[38;5;124;03m    \"\"\"\u001b[39;00m\n\u001b[0;32m--> 446\u001b[0m     index \u001b[38;5;241m=\u001b[39m \u001b[38;5;28;43mself\u001b[39;49m\u001b[38;5;241;43m.\u001b[39;49m\u001b[43mget_index\u001b[49m\u001b[43m(\u001b[49m\u001b[43mkey\u001b[49m\u001b[43m)\u001b[49m\n\u001b[1;32m    447\u001b[0m     \u001b[38;5;28;01mif\u001b[39;00m norm:\n\u001b[1;32m    448\u001b[0m         \u001b[38;5;28mself\u001b[39m\u001b[38;5;241m.\u001b[39mfill_norms()\n",
      "File \u001b[0;32m/Library/Frameworks/Python.framework/Versions/3.10/lib/python3.10/site-packages/gensim/models/keyedvectors.py:420\u001b[0m, in \u001b[0;36mKeyedVectors.get_index\u001b[0;34m(self, key, default)\u001b[0m\n\u001b[1;32m    418\u001b[0m     \u001b[38;5;28;01mreturn\u001b[39;00m default\n\u001b[1;32m    419\u001b[0m \u001b[38;5;28;01melse\u001b[39;00m:\n\u001b[0;32m--> 420\u001b[0m     \u001b[38;5;28;01mraise\u001b[39;00m \u001b[38;5;167;01mKeyError\u001b[39;00m(\u001b[38;5;124mf\u001b[39m\u001b[38;5;124m\"\u001b[39m\u001b[38;5;124mKey \u001b[39m\u001b[38;5;124m'\u001b[39m\u001b[38;5;132;01m{\u001b[39;00mkey\u001b[38;5;132;01m}\u001b[39;00m\u001b[38;5;124m'\u001b[39m\u001b[38;5;124m not present\u001b[39m\u001b[38;5;124m\"\u001b[39m)\n",
      "\u001b[0;31mKeyError\u001b[0m: \"Key 'abpnldigid' not present\""
     ]
    }
   ],
   "source": [
    "ids_meanings = ((list_of_dicts[102][0], keywords2vec(list_of_dicts[102][1])))\n",
    "ids_meanings"
   ]
  },
  {
   "cell_type": "code",
   "execution_count": 8,
   "id": "362dfc77",
   "metadata": {},
   "outputs": [
    {
     "ename": "KeyError",
     "evalue": "\"Key 'do' not present\"",
     "output_type": "error",
     "traceback": [
      "\u001b[0;31m---------------------------------------------------------------------------\u001b[0m",
      "\u001b[0;31mKeyError\u001b[0m                                  Traceback (most recent call last)",
      "Input \u001b[0;32mIn [8]\u001b[0m, in \u001b[0;36m<cell line: 2>\u001b[0;34m()\u001b[0m\n\u001b[1;32m      1\u001b[0m ids_meanings \u001b[38;5;241m=\u001b[39m []\n\u001b[1;32m      2\u001b[0m \u001b[38;5;28;01mfor\u001b[39;00m visit \u001b[38;5;129;01min\u001b[39;00m list_of_dicts:\n\u001b[0;32m----> 3\u001b[0m     ids_meanings\u001b[38;5;241m.\u001b[39mappend((visit[\u001b[38;5;241m0\u001b[39m], \u001b[43mkeywords2vec\u001b[49m\u001b[43m(\u001b[49m\u001b[43mvisit\u001b[49m\u001b[43m[\u001b[49m\u001b[38;5;241;43m1\u001b[39;49m\u001b[43m]\u001b[49m\u001b[43m)\u001b[49m))\n",
      "Input \u001b[0;32mIn [5]\u001b[0m, in \u001b[0;36mkeywords2vec\u001b[0;34m(weighted_keywords)\u001b[0m\n\u001b[1;32m      7\u001b[0m weights_tot \u001b[38;5;241m=\u001b[39m \u001b[38;5;241m0\u001b[39m\n\u001b[1;32m      9\u001b[0m \u001b[38;5;28;01mfor\u001b[39;00m key, value \u001b[38;5;129;01min\u001b[39;00m weighted_keywords\u001b[38;5;241m.\u001b[39mitems():\n\u001b[0;32m---> 10\u001b[0m     word_vec \u001b[38;5;241m=\u001b[39m \u001b[43mwv\u001b[49m\u001b[43m[\u001b[49m\u001b[43mkey\u001b[49m\u001b[43m]\u001b[49m\n\u001b[1;32m     11\u001b[0m     meaning_vec \u001b[38;5;241m+\u001b[39m\u001b[38;5;241m=\u001b[39m (word_vec \u001b[38;5;241m*\u001b[39m value)\n\u001b[1;32m     12\u001b[0m     weights_tot \u001b[38;5;241m+\u001b[39m\u001b[38;5;241m=\u001b[39m value\n",
      "File \u001b[0;32m/Library/Frameworks/Python.framework/Versions/3.10/lib/python3.10/site-packages/gensim/models/keyedvectors.py:403\u001b[0m, in \u001b[0;36mKeyedVectors.__getitem__\u001b[0;34m(self, key_or_keys)\u001b[0m\n\u001b[1;32m    389\u001b[0m \u001b[38;5;124;03m\"\"\"Get vector representation of `key_or_keys`.\u001b[39;00m\n\u001b[1;32m    390\u001b[0m \n\u001b[1;32m    391\u001b[0m \u001b[38;5;124;03mParameters\u001b[39;00m\n\u001b[0;32m   (...)\u001b[0m\n\u001b[1;32m    400\u001b[0m \n\u001b[1;32m    401\u001b[0m \u001b[38;5;124;03m\"\"\"\u001b[39;00m\n\u001b[1;32m    402\u001b[0m \u001b[38;5;28;01mif\u001b[39;00m \u001b[38;5;28misinstance\u001b[39m(key_or_keys, _KEY_TYPES):\n\u001b[0;32m--> 403\u001b[0m     \u001b[38;5;28;01mreturn\u001b[39;00m \u001b[38;5;28;43mself\u001b[39;49m\u001b[38;5;241;43m.\u001b[39;49m\u001b[43mget_vector\u001b[49m\u001b[43m(\u001b[49m\u001b[43mkey_or_keys\u001b[49m\u001b[43m)\u001b[49m\n\u001b[1;32m    405\u001b[0m \u001b[38;5;28;01mreturn\u001b[39;00m vstack([\u001b[38;5;28mself\u001b[39m\u001b[38;5;241m.\u001b[39mget_vector(key) \u001b[38;5;28;01mfor\u001b[39;00m key \u001b[38;5;129;01min\u001b[39;00m key_or_keys])\n",
      "File \u001b[0;32m/Library/Frameworks/Python.framework/Versions/3.10/lib/python3.10/site-packages/gensim/models/keyedvectors.py:446\u001b[0m, in \u001b[0;36mKeyedVectors.get_vector\u001b[0;34m(self, key, norm)\u001b[0m\n\u001b[1;32m    422\u001b[0m \u001b[38;5;28;01mdef\u001b[39;00m \u001b[38;5;21mget_vector\u001b[39m(\u001b[38;5;28mself\u001b[39m, key, norm\u001b[38;5;241m=\u001b[39m\u001b[38;5;28;01mFalse\u001b[39;00m):\n\u001b[1;32m    423\u001b[0m     \u001b[38;5;124;03m\"\"\"Get the key's vector, as a 1D numpy array.\u001b[39;00m\n\u001b[1;32m    424\u001b[0m \n\u001b[1;32m    425\u001b[0m \u001b[38;5;124;03m    Parameters\u001b[39;00m\n\u001b[0;32m   (...)\u001b[0m\n\u001b[1;32m    444\u001b[0m \n\u001b[1;32m    445\u001b[0m \u001b[38;5;124;03m    \"\"\"\u001b[39;00m\n\u001b[0;32m--> 446\u001b[0m     index \u001b[38;5;241m=\u001b[39m \u001b[38;5;28;43mself\u001b[39;49m\u001b[38;5;241;43m.\u001b[39;49m\u001b[43mget_index\u001b[49m\u001b[43m(\u001b[49m\u001b[43mkey\u001b[49m\u001b[43m)\u001b[49m\n\u001b[1;32m    447\u001b[0m     \u001b[38;5;28;01mif\u001b[39;00m norm:\n\u001b[1;32m    448\u001b[0m         \u001b[38;5;28mself\u001b[39m\u001b[38;5;241m.\u001b[39mfill_norms()\n",
      "File \u001b[0;32m/Library/Frameworks/Python.framework/Versions/3.10/lib/python3.10/site-packages/gensim/models/keyedvectors.py:420\u001b[0m, in \u001b[0;36mKeyedVectors.get_index\u001b[0;34m(self, key, default)\u001b[0m\n\u001b[1;32m    418\u001b[0m     \u001b[38;5;28;01mreturn\u001b[39;00m default\n\u001b[1;32m    419\u001b[0m \u001b[38;5;28;01melse\u001b[39;00m:\n\u001b[0;32m--> 420\u001b[0m     \u001b[38;5;28;01mraise\u001b[39;00m \u001b[38;5;167;01mKeyError\u001b[39;00m(\u001b[38;5;124mf\u001b[39m\u001b[38;5;124m\"\u001b[39m\u001b[38;5;124mKey \u001b[39m\u001b[38;5;124m'\u001b[39m\u001b[38;5;132;01m{\u001b[39;00mkey\u001b[38;5;132;01m}\u001b[39;00m\u001b[38;5;124m'\u001b[39m\u001b[38;5;124m not present\u001b[39m\u001b[38;5;124m\"\u001b[39m)\n",
      "\u001b[0;31mKeyError\u001b[0m: \"Key 'do' not present\""
     ]
    }
   ],
   "source": [
    "ids_meanings = []\n",
    "for visit in list_of_dicts:\n",
    "    ids_meanings.append((visit[0], keywords2vec(visit[1])))"
   ]
  },
  {
   "cell_type": "code",
   "execution_count": null,
   "id": "b45584a4",
   "metadata": {},
   "outputs": [],
   "source": []
  }
 ],
 "metadata": {
  "kernelspec": {
   "display_name": "Python 3 (ipykernel)",
   "language": "python",
   "name": "python3"
  },
  "language_info": {
   "codemirror_mode": {
    "name": "ipython",
    "version": 3
   },
   "file_extension": ".py",
   "mimetype": "text/x-python",
   "name": "python",
   "nbconvert_exporter": "python",
   "pygments_lexer": "ipython3",
   "version": "3.10.0"
  }
 },
 "nbformat": 4,
 "nbformat_minor": 5
}
