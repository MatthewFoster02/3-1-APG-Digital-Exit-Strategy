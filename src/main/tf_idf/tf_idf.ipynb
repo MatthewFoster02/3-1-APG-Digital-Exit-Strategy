{
 "cells": [
  {
   "cell_type": "code",
   "execution_count": 23,
   "metadata": {
    "collapsed": true
   },
   "outputs": [
    {
     "name": "stderr",
     "output_type": "stream",
     "text": [
      "[nltk_data] Downloading package stopwords to\n",
      "[nltk_data]     C:\\Users\\01din\\AppData\\Roaming\\nltk_data...\n",
      "[nltk_data]   Package stopwords is already up-to-date!\n"
     ]
    },
    {
     "data": {
      "text/plain": "True"
     },
     "execution_count": 23,
     "metadata": {},
     "output_type": "execute_result"
    }
   ],
   "source": [
    "import string\n",
    "import numpy as np\n",
    "import pickle\n",
    "import pandas as pd\n",
    "from sklearn.feature_extraction.text import TfidfVectorizer\n",
    "from sklearn.feature_extraction.text import CountVectorizer\n",
    "from matplotlib import pyplot\n",
    "import nltk\n",
    "nltk.download('stopwords')"
   ]
  },
  {
   "cell_type": "code",
   "execution_count": 24,
   "outputs": [],
   "source": [
    "#Change paths sorry\n",
    "private_scrape = pd.read_excel(\"C:/Users/01din/Desktop/data APG/scrape_results/private_scrape_results.xlsx\")\n",
    "public_scrape = pd.read_excel(\"C:/Users/01din/Desktop/data APG/scrape_results/public_scrape_results.xlsx\")"
   ],
   "metadata": {
    "collapsed": false
   }
  },
  {
   "cell_type": "code",
   "execution_count": 25,
   "outputs": [],
   "source": [
    "from nltk.corpus import stopwords\n",
    "#Gettings document values, and replace nan values with a space\n",
    "private_corpus = private_scrape.paragraph.tolist()\n",
    "public_corpus = public_scrape.paragraph.tolist()\n",
    "#Combine into 1 list\n",
    "corpus = private_corpus + public_corpus\n",
    "#Words that need to be removed, consist of stopwords in dutch and the months\n",
    "#TODO: some docs are in english\n",
    "dutch_stopwords = stopwords.words('dutch')\n",
    "months = ['Januari', \"Februari\", \"April\", \"Mei\", \"Juni\", \"Juli\", \"Augustus\", \"September\", \"Oktober\", \"November\", \"December\", 'januari', \"februari\", \"april\", \"mei\", \"juni\", \"juli\", \"augustus\", \"september\", \"oktober\", \"november\", \"December\"]\n",
    "words_to_remove = dutch_stopwords + months\n"
   ],
   "metadata": {
    "collapsed": false
   }
  },
  {
   "cell_type": "code",
   "execution_count": 53,
   "outputs": [],
   "source": [
    "#Pass the docsuments and the words that must be removed\n",
    "def clean_documents(corpus, words_to_remove):\n",
    "    for i in range(len(corpus)):\n",
    "        #Retrieve the doc and convert to str (some issues with NANs)\n",
    "        doc = str(corpus[i])\n",
    "        #Split into list of words\n",
    "        words = doc.split()\n",
    "        cleaned_doc = []\n",
    "        #Remove words in words_to_remove set\n",
    "        for word in words:\n",
    "            if word[-2:] == \"xD\":\n",
    "                word = word[:-2]\n",
    "            if word not in words_to_remove:\n",
    "                cleaned_doc.append(word)\n",
    "        #Join words list back into one string\n",
    "        cleaned_doc = \" \".join(cleaned_doc)\n",
    "        #Remove punctuation\n",
    "        cleaned_doc = cleaned_doc.translate(str.maketrans(\"\", \"\", string.punctuation))\n",
    "        #Remove numbers\n",
    "        cleaned_doc = \"\".join([i for i in cleaned_doc if not i.isdigit()])\n",
    "        #Remove double spaces\n",
    "        while \"  \" in cleaned_doc:\n",
    "            cleaned_doc = cleaned_doc.replace(\"  \", \" \")\n",
    "        corpus[i] = cleaned_doc\n",
    "    return corpus\n",
    "clean_corpus = clean_documents(corpus, words_to_remove)"
   ],
   "metadata": {
    "collapsed": false
   }
  },
  {
   "cell_type": "code",
   "execution_count": 54,
   "outputs": [],
   "source": [
    "#This max_df value seems not to give the wished results, if max_df=0.3, only words that appear in <30% of all docs should be considered\n",
    "vectorizer = TfidfVectorizer(max_df=1.0)\n",
    "vec_trained = vectorizer.fit_transform(clean_corpus)"
   ],
   "metadata": {
    "collapsed": false
   }
  },
  {
   "cell_type": "code",
   "execution_count": 55,
   "outputs": [
    {
     "data": {
      "text/plain": "array(['aa', 'aan', 'aanbieden', ..., 'óf', 'óók', 'όόk'], dtype=object)"
     },
     "execution_count": 55,
     "metadata": {},
     "output_type": "execute_result"
    }
   ],
   "source": [
    "vectorizer.get_feature_names_out()"
   ],
   "metadata": {
    "collapsed": false
   }
  },
  {
   "cell_type": "code",
   "execution_count": 36,
   "outputs": [
    {
     "data": {
      "text/plain": "(1555, 7660)"
     },
     "execution_count": 36,
     "metadata": {},
     "output_type": "execute_result"
    }
   ],
   "source": [
    "vec_trained.shape"
   ],
   "metadata": {
    "collapsed": false
   }
  },
  {
   "cell_type": "code",
   "execution_count": 30,
   "outputs": [],
   "source": [],
   "metadata": {
    "collapsed": false
   }
  }
 ],
 "metadata": {
  "kernelspec": {
   "display_name": "Python 3",
   "language": "python",
   "name": "python3"
  },
  "language_info": {
   "codemirror_mode": {
    "name": "ipython",
    "version": 2
   },
   "file_extension": ".py",
   "mimetype": "text/x-python",
   "name": "python",
   "nbconvert_exporter": "python",
   "pygments_lexer": "ipython2",
   "version": "2.7.6"
  }
 },
 "nbformat": 4,
 "nbformat_minor": 0
}
