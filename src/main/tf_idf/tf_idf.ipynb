{
 "cells": [
  {
   "cell_type": "code",
   "execution_count": 1,
   "metadata": {
    "collapsed": true
   },
   "outputs": [
    {
     "name": "stderr",
     "output_type": "stream",
     "text": [
      "[nltk_data] Downloading package stopwords to\n",
      "[nltk_data]     C:\\Users\\01din\\AppData\\Roaming\\nltk_data...\n",
      "[nltk_data]   Package stopwords is already up-to-date!\n"
     ]
    },
    {
     "data": {
      "text/plain": "True"
     },
     "execution_count": 1,
     "metadata": {},
     "output_type": "execute_result"
    }
   ],
   "source": [
    "import kpss_py3 as stemmer\n",
    "import string\n",
    "import numpy as np\n",
    "import pickle\n",
    "import pandas as pd\n",
    "from sklearn.feature_extraction.text import TfidfVectorizer\n",
    "from sklearn.feature_extraction.text import CountVectorizer\n",
    "from matplotlib import pyplot as plt\n",
    "import nltk\n",
    "import dutch_words\n",
    "nltk.download('stopwords')"
   ]
  },
  {
   "cell_type": "code",
   "execution_count": 2,
   "outputs": [],
   "source": [
    "#Change paths sorry\n",
    "private_scrape = pd.read_excel(\"C:/Users/01din/Desktop/data APG/scrape_results/private_scrape_results.xlsx\")\n",
    "public_scrape = pd.read_excel(\"C:/Users/01din/Desktop/data APG/scrape_results/public_scrape_results.xlsx\")"
   ],
   "metadata": {
    "collapsed": false
   }
  },
  {
   "cell_type": "code",
   "execution_count": 16,
   "outputs": [
    {
     "name": "stdout",
     "output_type": "stream",
     "text": [
      "['de', 'en', 'van', 'ik', 'te', 'dat', 'die', 'in', 'een', 'hij', 'het', 'niet', 'zijn', 'is', 'was', 'op', 'aan', 'met', 'als', 'voor', 'had', 'er', 'maar', 'om', 'hem', 'dan', 'zou', 'of', 'wat', 'mijn', 'men', 'dit', 'zo', 'door', 'over', 'ze', 'zich', 'bij', 'ook', 'tot', 'je', 'mij', 'uit', 'der', 'daar', 'haar', 'naar', 'heb', 'hoe', 'heeft', 'hebben', 'deze', 'u', 'want', 'nog', 'zal', 'me', 'zij', 'nu', 'ge', 'geen', 'omdat', 'iets', 'worden', 'toch', 'al', 'waren', 'veel', 'meer', 'doen', 'toen', 'moet', 'ben', 'zonder', 'kan', 'hun', 'dus', 'alles', 'onder', 'ja', 'eens', 'hier', 'wie', 'werd', 'altijd', 'doch', 'wordt', 'wezen', 'kunnen', 'ons', 'zelf', 'tegen', 'na', 'reeds', 'wil', 'kon', 'niets', 'uw', 'iemand', 'geweest', 'andere', 'Januari', 'Februari', 'April', 'Mei', 'Juni', 'Juli', 'Augustus', 'September', 'Oktober', 'November', 'December', 'januari', 'februari', 'april', 'mei', 'juni', 'juli', 'augustus', 'september', 'oktober', 'november', 'december']\n"
     ]
    }
   ],
   "source": [
    "from nltk.corpus import stopwords\n",
    "#Gettings document values, and replace nan values with a space\n",
    "private_corpus = private_scrape.paragraph.tolist()\n",
    "public_corpus = public_scrape.paragraph.tolist()\n",
    "#Combine into 1 list\n",
    "corpus = private_corpus + public_corpus\n",
    "#Words that need to be removed, consist of stopwords in dutch and the months\n",
    "#TODO: some docs are in english\n",
    "dutch_stopwords = stopwords.words('dutch')\n",
    "months = ['Januari', \"Februari\", \"April\", \"Mei\", \"Juni\", \"Juli\", \"Augustus\", \"September\", \"Oktober\", \"November\", \"December\", 'januari', \"februari\", \"april\", \"mei\", \"juni\", \"juli\", \"augustus\", \"september\", \"oktober\", \"november\", \"december\"]\n",
    "words_to_remove = dutch_stopwords + months"
   ],
   "metadata": {
    "collapsed": false
   }
  },
  {
   "cell_type": "code",
   "execution_count": 17,
   "outputs": [],
   "source": [
    "#Pass the docsuments and the words that must be removed\n",
    "\n",
    "def stem(word):\n",
    "    stemmed_word = stemmer.stem(word)\n",
    "    if stemmed_word == word:\n",
    "        #do stemming - get rid of common suffixes\n",
    "        word = word\n",
    "    return stemmed_word\n",
    "def clean_documents(corpus, words_to_remove):\n",
    "    for i in range(len(corpus)):\n",
    "        #Retrieve the doc and convert to str (some issues with NANs)\n",
    "        doc = str(corpus[i])\n",
    "        doc = doc.replace(\"á\", \"a\").replace(\"é\", \"e\").replace(\"è\", \"e\").replace(\"ó\", \"o\").replace(\"ò\", \"o\").replace(\"í\", \"i\")\n",
    "        #Split into list of words\n",
    "        words = doc.split()\n",
    "        cleaned_doc = []\n",
    "        #Remove words in words_to_remove set\n",
    "        for word in words:\n",
    "            word = word.lower()\n",
    "            if word[-2:] == \"xD\":\n",
    "                word = word[:-2]\n",
    "            if word not in words_to_remove:\n",
    "                cleaned_doc.append(word)\n",
    "        #Join words list back into one string\n",
    "        cleaned_doc = \" \".join(cleaned_doc)\n",
    "        #Remove punctuation\n",
    "        cleaned_doc = cleaned_doc.translate(str.maketrans(\"\", \"\", (string.punctuation+\"’\")))\n",
    "        #Remove numbers\n",
    "        cleaned_doc = \"\".join([i for i in cleaned_doc if not i.isdigit()])\n",
    "        #Remove double spaces\n",
    "        while \"  \" in cleaned_doc:\n",
    "            cleaned_doc = cleaned_doc.replace(\"  \", \" \")\n",
    "        stemmed_doc = []\n",
    "        words = cleaned_doc.split()\n",
    "        #perform stemming\n",
    "        for word in words:\n",
    "            word = stem(word)\n",
    "            stemmed_doc.append(word)\n",
    "        stemmed_doc = \" \".join(stemmed_doc)\n",
    "        corpus[i] = stemmed_doc\n",
    "    return corpus\n",
    "clean_corpus = clean_documents(corpus, words_to_remove)\n"
   ],
   "metadata": {
    "collapsed": false
   }
  },
  {
   "cell_type": "code",
   "execution_count": 18,
   "outputs": [],
   "source": [
    "#This max_df value seems not to give the wished results, if max_df=0.3, only words that appear in <30% of all docs should be considered\n",
    "vectorizer = TfidfVectorizer(max_df=1.0)\n",
    "vec_trained = vectorizer.fit_transform(clean_corpus)"
   ],
   "metadata": {
    "collapsed": false
   }
  },
  {
   "cell_type": "code",
   "execution_count": 19,
   "outputs": [
    {
     "data": {
      "text/plain": "array(['aa', 'aaa', 'aaf', ..., 'üpload', 'światłowod', 'όόk'],\n      dtype=object)"
     },
     "execution_count": 19,
     "metadata": {},
     "output_type": "execute_result"
    }
   ],
   "source": [
    "'''\n",
    "cm\n",
    "cmhf\n",
    "cms\n",
    "cnv\n",
    "cnvccoop\n",
    "co\n",
    "'''\n",
    "vectorizer.get_feature_names_out()"
   ],
   "metadata": {
    "collapsed": false
   }
  },
  {
   "cell_type": "code",
   "execution_count": 7,
   "outputs": [
    {
     "data": {
      "text/plain": "(1555, 17257)"
     },
     "execution_count": 7,
     "metadata": {},
     "output_type": "execute_result"
    }
   ],
   "source": [
    "vec_trained.shape"
   ],
   "metadata": {
    "collapsed": false
   }
  },
  {
   "cell_type": "code",
   "execution_count": 8,
   "outputs": [
    {
     "name": "stdout",
     "output_type": "stream",
     "text": [
      "1348\n"
     ]
    },
    {
     "data": {
      "text/plain": "(array([994., 365.,  83.,  14.,   5.,   0.,   1.,  26.,   3.,  64.]),\n array([   0. ,  285.3,  570.6,  855.9, 1141.2, 1426.5, 1711.8, 1997.1,\n        2282.4, 2567.7, 2853. ]),\n <BarContainer object of 10 artists>)"
     },
     "execution_count": 8,
     "metadata": {},
     "output_type": "execute_result"
    },
    {
     "data": {
      "text/plain": "<Figure size 640x480 with 1 Axes>",
      "image/png": "[encoded data removed]"
     },
     "metadata": {},
     "output_type": "display_data"
    }
   ],
   "source": [
    "doc_length = []\n",
    "num_above_10k = 0\n",
    "\n",
    "largest_doc_index = None\n",
    "largest_doc_length = -1\n",
    "for i in range(len(clean_corpus)):\n",
    "    doc = clean_corpus[i]\n",
    "    doc_length.append(len(doc.split()))\n",
    "    if len(doc)>largest_doc_length:\n",
    "        largest_doc_index=i\n",
    "        largest_doc_length = len(doc)\n",
    "    if len(doc)>20000:\n",
    "        num_above_10k+=1\n",
    "\n",
    "print(largest_doc_index)\n",
    "plt.hist(doc_length)\n"
   ],
   "metadata": {
    "collapsed": false
   }
  },
  {
   "cell_type": "code",
   "execution_count": 8,
   "outputs": [],
   "source": [],
   "metadata": {
    "collapsed": false
   }
  },
  {
   "cell_type": "code",
   "execution_count": 8,
   "outputs": [],
   "source": [],
   "metadata": {
    "collapsed": false
   }
  }
 ],
 "metadata": {
  "kernelspec": {
   "display_name": "Python 3",
   "language": "python",
   "name": "python3"
  },
  "language_info": {
   "codemirror_mode": {
    "name": "ipython",
    "version": 2
   },
   "file_extension": ".py",
   "mimetype": "text/x-python",
   "name": "python",
   "nbconvert_exporter": "python",
   "pygments_lexer": "ipython2",
   "version": "2.7.6"
  }
 },
 "nbformat": 4,
 "nbformat_minor": 0
}
