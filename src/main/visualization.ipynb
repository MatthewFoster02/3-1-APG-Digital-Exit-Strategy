{
 "cells": [
  {
   "cell_type": "code",
   "execution_count": 1,
   "outputs": [],
   "source": [
    "import pandas as pd"
   ],
   "metadata": {
    "collapsed": false
   }
  },
  {
   "cell_type": "code",
   "execution_count": 2,
   "outputs": [],
   "source": [
    "df = pd.read_csv('C:/Users/01din/Desktop/data APG/data/data_clean/DataCleaned/Data/allDataOneFile.csv')\n",
    "url_references = pd.read_csv('C:/Users/01din/Desktop/data APG/references/references_for_shortened_data/references/url_references.csv')"
   ],
   "metadata": {
    "collapsed": false
   }
  },
  {
   "cell_type": "code",
   "execution_count": 3,
   "outputs": [],
   "source": [
    "map_urls = dict(zip(url_references.id, url_references.urls))"
   ],
   "metadata": {
    "collapsed": false
   }
  },
  {
   "cell_type": "code",
   "execution_count": 5,
   "outputs": [],
   "source": [
    "df['page_url'] = df.page_url_id.map(map_urls)"
   ],
   "metadata": {
    "collapsed": false
   }
  },
  {
   "cell_type": "code",
   "execution_count": 6,
   "outputs": [],
   "source": [
    "df.to_csv('C:/Users/01din/Desktop/data APG\\data\\data_clean\\DataCleaned\\Data/.allDataWithUrls.csv')"
   ],
   "metadata": {
    "collapsed": false
   }
  },
  {
   "cell_type": "code",
   "execution_count": 11,
   "outputs": [
    {
     "data": {
      "text/plain": "0                                   https://www.abp.nl/\n1                                   https://www.abp.nl/\n2        https://mijn.abp.nl/account/login?TAM_OP=login\n3        https://mijn.abp.nl/account/login?TAM_OP=login\n4                            https://mijn.abp.nl/welkom\n                            ...                        \n95    https://mijn.abp.nl/plan-uw-pensioen/zelf-same...\n96    https://mijn.abp.nl/plan-uw-pensioen/zelf-same...\n97    https://mijn.abp.nl/plan-uw-pensioen/zelf-same...\n98    https://mijn.abp.nl/plan-uw-pensioen/zelf-same...\n99    https://mijn.abp.nl/plan-uw-pensioen/zelf-same...\nName: page_url_id, Length: 100, dtype: object"
     },
     "execution_count": 11,
     "metadata": {},
     "output_type": "execute_result"
    }
   ],
   "source": [
    "df.page_url.head(100)"
   ],
   "metadata": {
    "collapsed": false
   }
  },
  {
   "cell_type": "code",
   "execution_count": null,
   "outputs": [],
   "source": [
    "df.page_url.unique()"
   ],
   "metadata": {
    "collapsed": false,
    "pycharm": {
     "is_executing": true
    }
   }
  },
  {
   "cell_type": "code",
   "execution_count": null,
   "outputs": [],
   "source": [],
   "metadata": {
    "collapsed": false
   }
  }
 ],
 "metadata": {
  "kernelspec": {
   "display_name": "Python 3",
   "language": "python",
   "name": "python3"
  },
  "language_info": {
   "codemirror_mode": {
    "name": "ipython",
    "version": 2
   },
   "file_extension": ".py",
   "mimetype": "text/x-python",
   "name": "python",
   "nbconvert_exporter": "python",
   "pygments_lexer": "ipython2",
   "version": "2.7.6"
  }
 },
 "nbformat": 4,
 "nbformat_minor": 0
}
