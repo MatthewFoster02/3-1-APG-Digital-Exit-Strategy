{
 "cells": [
  {
   "cell_type": "code",
   "execution_count": 1,
   "id": "9d31bf6f",
   "metadata": {},
   "outputs": [],
   "source": [
    "import pandas as pd\n",
    "import numpy as np"
   ]
  },
  {
   "cell_type": "code",
   "execution_count": 70,
   "id": "8b29d8a8",
   "metadata": {},
   "outputs": [],
   "source": [
    "# Read in the data file\n",
    "df = pd.read_csv('DATA/Data/allDataOneFile.csv')"
   ]
  },
  {
   "cell_type": "code",
   "execution_count": 84,
   "id": "35498a93",
   "metadata": {},
   "outputs": [],
   "source": [
    "# Explanation of the column names.\n",
    "# 'visitor_id-visit_number' this is the 'primary key' for the table. The visitor_id and visit number combined.\n",
    "# 'url_id_path' A list of the url ids that the user followed during the visit.\n",
    "# 'seconds_spent_path' A list of the seconds spent on each url.\n",
    "# 'start_number' the time in milliseconds since epoch, the time the visit began.\n",
    "# 'visited_mijnovmgeving' Boolean 1/0 depending on whether the visitor visited mijnabp in the path.\n",
    "# 'event_src_site_id' id value for the source of the visit, (abp, mijnabp, etc.).\n",
    "\n",
    "grouped_df = pd.DataFrame(columns=['visitor_id[visit_number]', 'url_id_path', 'seconds_spent_path', 'start_number', 'visited_mijnomgeving', 'event_src_site_id'])"
   ]
  },
  {
   "cell_type": "code",
   "execution_count": null,
   "id": "fd891f39",
   "metadata": {},
   "outputs": [],
   "source": [
    "# I wish to extract all unique visitor_id and visit_number pairs from the data.\n",
    "\n",
    "# Set up the set for the unique_visits and dictionaries for the other columns of interest.\n",
    "unique_visits = set()\n",
    "url_id_paths = {}\n",
    "seconds_spent_paths = {}\n",
    "start_numbers = {}\n",
    "visited_mijnomgeving = {}\n",
    "event_src_site_ids = {}\n",
    "\n",
    "i = 1\n",
    "# Loop through the rows of the dataframe\n",
    "for _, row in df.iterrows():\n",
    "    # Concatenate the id and number to get visit_id\n",
    "    visit_id = str(row['visitor_id']) + '[' + str(row['visit_number']) + ']'\n",
    "    if not visit_id in unique_visits:\n",
    "        # New visit_id\n",
    "        unique_visits.add(visit_id)\n",
    "        url_id_paths[visit_id] = [row['page_url_id']]\n",
    "        seconds_spent_paths[visit_id] = [row['seconds_spent']]\n",
    "        start_numbers[visit_id] = row['start_number']\n",
    "        if row['is_mijn_omgeving_url'] == 1:\n",
    "            visited_mijnomgeving[visit_id] = 1\n",
    "        else:\n",
    "            visited_mijnomgeving[visit_id] = 0\n",
    "        event_src_site_ids[visit_id] = row['event_src_site_id']\n",
    "    else:\n",
    "        # Recurring visit\n",
    "        # This concatenates seconds spent if the click remains in the same URL\n",
    "        if url_id_paths[visit_id][-1] == row['page_url_id']:\n",
    "            seconds_spent_paths[visit_id][-1] += row['seconds_spent']\n",
    "        else:\n",
    "            # Otherwise we need a new appendum to both lists.\n",
    "            url_id_paths[visit_id].append(row['page_url_id'])\n",
    "            seconds_spent_paths[visit_id].append(row['seconds_spent'])\n",
    "        # Checking if we have already seen mijn_omgeving, and if not, check if we need to update.\n",
    "        if visited_mijnomgeving[visit_id] == 0:\n",
    "            if row['is_mijn_omgeving_url'] == 1:\n",
    "                visited_mijnomgeving[visit_id] = 1\n",
    "            else:\n",
    "                visited_mijnomgeving[visit_id] = 0\n",
    "    i+=1\n",
    "    if i % 5000000 == 0:\n",
    "        print(f\"{i} rows done\")"
   ]
  },
  {
   "cell_type": "code",
   "execution_count": null,
   "id": "c67580c2",
   "metadata": {},
   "outputs": [],
   "source": [
    "# Add the data to the columns in the grouped DataFrame.\n",
    "grouped_df['visitor_id[visit_number]'] = list(url_id_paths.keys())\n",
    "grouped_df['url_id_path'] = list(url_id_paths.values())\n",
    "grouped_df['seconds_spent_path'] = list(seconds_spent_paths.values())\n",
    "grouped_df['start_number'] = list(start_numbers.values())\n",
    "grouped_df['visited_mijnomgeving'] = list(visited_mijnomgeving.values())\n",
    "grouped_df['event_src_site_id'] = list(event_src_site_ids.values())"
   ]
  },
  {
   "cell_type": "code",
   "execution_count": 87,
   "id": "468a862e",
   "metadata": {
    "scrolled": true
   },
   "outputs": [],
   "source": [
    "# Save to file\n",
    "grouped_df.to_csv('DATA/Data/testGrouped.csv', index=False)"
   ]
  }
 ],
 "metadata": {
  "kernelspec": {
   "display_name": "Python 3 (ipykernel)",
   "language": "python",
   "name": "python3"
  },
  "language_info": {
   "codemirror_mode": {
    "name": "ipython",
    "version": 3
   },
   "file_extension": ".py",
   "mimetype": "text/x-python",
   "name": "python",
   "nbconvert_exporter": "python",
   "pygments_lexer": "ipython3",
   "version": "3.9.1"
  }
 },
 "nbformat": 4,
 "nbformat_minor": 5
}
