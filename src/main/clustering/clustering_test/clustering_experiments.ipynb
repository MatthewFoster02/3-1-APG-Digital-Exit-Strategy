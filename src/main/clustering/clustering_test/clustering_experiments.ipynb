{
 "cells": [
  {
   "cell_type": "code",
   "execution_count": 1,
   "metadata": {
    "collapsed": true
   },
   "outputs": [],
   "source": [
    "import pandas as pd\n",
    "import numpy as np\n",
    "from random import sample\n",
    "from scipy.stats import ttest_ind\n",
    "def levenshtein(a,b):\n",
    "    \"Calculates the Levenshtein distance between a and b.\"\n",
    "    n, m = len(a), len(b)\n",
    "    if n > m:\n",
    "        # Make sure n <= m, to use O(min(n,m)) space\n",
    "        a,b = b,a\n",
    "        n,m = m,n\n",
    "\n",
    "    current = range(n+1)\n",
    "    for i in range(1,m+1):\n",
    "        previous, current = current, [i]+[0]*n\n",
    "        for j in range(1,n+1):\n",
    "            add, delete = previous[j]+1, current[j-1]+1\n",
    "            change = previous[j-1]\n",
    "            if a[j-1] != b[i-1]:\n",
    "                change = change + 1\n",
    "            current[j] = min(add, delete, change)\n",
    "\n",
    "    return current[n]\n",
    "\n",
    "def jaccard_similarity(list1, list2):\n",
    "    intersection = len(list(set(list1).intersection(list2)))\n",
    "    union = (len(list1) + len(list2)) - intersection\n",
    "    return float(intersection) / union"
   ]
  },
  {
   "cell_type": "code",
   "execution_count": 7,
   "outputs": [],
   "source": [
    "df = pd.read_csv('C:/Users/01din\\Desktop\\data APG\\clusters/new clusters/cluster_paths.csv')"
   ],
   "metadata": {
    "collapsed": false
   }
  },
  {
   "cell_type": "code",
   "execution_count": 8,
   "outputs": [
    {
     "name": "stdout",
     "output_type": "stream",
     "text": [
      "[-1  0  1  2  3  4  5  6  7  8  9 10 21 11 12 13 14 15 16 17 18 19 22 20\n",
      " 38 36 23 40 24 25 39 26 27 28 29 43 30 44 31 32 33 42 34 35 37 41]\n"
     ]
    }
   ],
   "source": [
    "labels = df.cluster_label.unique()\n",
    "\n",
    "print(labels)"
   ],
   "metadata": {
    "collapsed": false
   }
  },
  {
   "cell_type": "code",
   "execution_count": 9,
   "outputs": [],
   "source": [
    "grouped_by_label = []\n",
    "for label in labels:\n",
    "    grouped_by_label.append(df.loc[df.cluster_label == label].path.tolist())"
   ],
   "metadata": {
    "collapsed": false
   }
  },
  {
   "cell_type": "code",
   "execution_count": 20,
   "outputs": [],
   "source": [
    "def experiment(data, n=1000, random=False, method='jaccard', subpath=0, max_cluster_size=1000):\n",
    "    grouped_by_label = data\n",
    "    avg_scores = []\n",
    "\n",
    "    for i in range(1, len(grouped_by_label)):\n",
    "        if random:\n",
    "            cluster = sample(df.path.tolist(), n)\n",
    "        else:\n",
    "            cluster = grouped_by_label[i]\n",
    "        if len(cluster)>max_cluster_size:\n",
    "            cluster = sample(grouped_by_label[i], n)\n",
    "        scores = []\n",
    "        for j in range(len(cluster)):\n",
    "            for k in range(len(cluster)):\n",
    "                if j!=k:\n",
    "                    if method=='levenshtein':\n",
    "                        scores.append(levenshtein(cluster[j][subpath:], cluster[k][subpath:]))\n",
    "                    elif method=='jaccard':\n",
    "                        scores.append(jaccard_similarity(cluster[j][subpath:], cluster[k][subpath:]))\n",
    "        avg_scores.append(np.mean(scores))\n",
    "    return avg_scores"
   ],
   "metadata": {
    "collapsed": false
   }
  },
  {
   "cell_type": "code",
   "execution_count": 21,
   "outputs": [
    {
     "name": "stdout",
     "output_type": "stream",
     "text": [
      "0.1641207484770164\n",
      "0.12944343008260578\n",
      "7.817384721403019e-08\n"
     ]
    }
   ],
   "source": [
    "avg_scores = experiment(grouped_by_label, random=False, method='jaccard', subpath=0)\n",
    "print(np.mean(avg_scores))\n",
    "random_avg_scores = experiment(grouped_by_label, random=True, method='jaccard', subpath=0)\n",
    "print(np.mean(random_avg_scores))\n",
    "print(ttest_ind(avg_scores, random_avg_scores).pvalue)\n"
   ],
   "metadata": {
    "collapsed": false
   }
  },
  {
   "cell_type": "code",
   "execution_count": 83,
   "outputs": [
    {
     "name": "stdout",
     "output_type": "stream",
     "text": [
      "[2.818383838383838, 2.2670707070707072, 2.04969696969697, 3.143838383838384, 1.8864646464646464, 2.4686868686868686, 2.3896969696969697, 2.2234343434343433, 2.235757575757576, 2.1103030303030303, 1.8591919191919193, 2.2404040404040404, 1.7242424242424241, 2.340606060606061, 2.3224242424242423, 2.063838383838384, 2.6151515151515152, 2.709090909090909, 2.2715151515151515, 0.21737373737373739, 1.8862626262626263, 2.5644444444444443, 2.5343434343434343, 0.3894949494949495, 1.538181818181818]\n",
      "2.1147959595959596\n"
     ]
    }
   ],
   "source": [
    "print(avg_scores)\n",
    "print(np.mean(avg_scores))\n",
    "# avg_scores = [0.11560248391375323, 0.12111510684100295, 0.1279569999098839, 0.12519938839564054, 0.12392370154248361, 0.12320391565901112, 0.08500526156428535, 0.10461413017883636, 0.10431292710852838, 0.14052474034659496, 0.08783047661375745, 0.12628411691685287, 0.1241848976815128, 0.15196398359374635, 0.12042713559244468, 0.06014344035317083, 0.11407415371906225, 0.13208545775921537, 0.12529489474826197, 0.1746679109781416, 0.13219430358275383, 0.14555668868160895, 0.12387559049134159, 0.1480475044097699, 0.13492721856687281]"
   ],
   "metadata": {
    "collapsed": false
   }
  },
  {
   "cell_type": "code",
   "execution_count": 84,
   "outputs": [
    {
     "name": "stdout",
     "output_type": "stream",
     "text": [
      "0\n",
      "1\n",
      "2\n",
      "3\n",
      "4\n",
      "5\n",
      "6\n",
      "7\n",
      "8\n",
      "9\n",
      "10\n",
      "11\n",
      "12\n",
      "13\n",
      "14\n",
      "15\n",
      "16\n",
      "17\n",
      "18\n",
      "19\n",
      "20\n",
      "21\n",
      "22\n",
      "23\n",
      "24\n"
     ]
    }
   ],
   "source": [],
   "metadata": {
    "collapsed": false
   }
  },
  {
   "cell_type": "code",
   "execution_count": 85,
   "outputs": [
    {
     "name": "stdout",
     "output_type": "stream",
     "text": [
      "[2.6535353535353536, 2.565252525252525, 2.4925252525252524, 2.6606060606060606, 2.8737373737373737, 2.756161616161616, 2.4957575757575756, 2.7785858585858585, 2.848888888888889, 2.645656565656566, 2.782020202020202, 2.4482828282828284, 2.4414141414141413, 2.631919191919192, 2.569292929292929, 2.7616161616161614, 2.769090909090909, 2.598989898989899, 2.791313131313131, 2.761010101010101, 2.527070707070707, 2.7034343434343433, 2.7014141414141415, 2.763030303030303, 2.786868686868687]\n"
     ]
    }
   ],
   "source": [],
   "metadata": {
    "collapsed": false
   }
  },
  {
   "cell_type": "code",
   "execution_count": 86,
   "outputs": [
    {
     "name": "stdout",
     "output_type": "stream",
     "text": [
      "2.1147959595959596 2.6722989898989904\n",
      "0.000112905174332777\n"
     ]
    }
   ],
   "source": [],
   "metadata": {
    "collapsed": false
   }
  },
  {
   "cell_type": "code",
   "execution_count": 86,
   "outputs": [],
   "source": [],
   "metadata": {
    "collapsed": false
   }
  }
 ],
 "metadata": {
  "kernelspec": {
   "display_name": "Python 3",
   "language": "python",
   "name": "python3"
  },
  "language_info": {
   "codemirror_mode": {
    "name": "ipython",
    "version": 2
   },
   "file_extension": ".py",
   "mimetype": "text/x-python",
   "name": "python",
   "nbconvert_exporter": "python",
   "pygments_lexer": "ipython2",
   "version": "2.7.6"
  }
 },
 "nbformat": 4,
 "nbformat_minor": 0
}
