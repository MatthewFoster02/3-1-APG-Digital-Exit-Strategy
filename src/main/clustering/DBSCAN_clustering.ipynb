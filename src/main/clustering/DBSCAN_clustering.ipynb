{
 "cells": [
  {
   "cell_type": "code",
   "execution_count": 3,
   "id": "9011b759",
   "metadata": {},
   "outputs": [],
   "source": [
    "from sklearn.cluster import DBSCAN\n",
    "import pandas as pd\n",
    "import numpy as np\n",
    "from ast import literal_eval"
   ]
  },
  {
   "cell_type": "code",
   "execution_count": 4,
   "id": "3f6f7cf9",
   "metadata": {},
   "outputs": [],
   "source": [
    "generic = lambda x: literal_eval(x)\n",
    "\n",
    "conv = {'meaning_vectors': generic}"
   ]
  },
  {
   "cell_type": "code",
   "execution_count": 5,
   "id": "e8c7c8e7",
   "metadata": {},
   "outputs": [],
   "source": [
    "# Load in the meaning data\n",
    "meaning_df = pd.read_csv('C:/Users/01din\\Desktop\\data APG/visits_meaning/visit_meaning_vectors/visit_meaning_vectors/visit_meanings.csv', converters=conv)"
   ]
  },
  {
   "cell_type": "code",
   "execution_count": 6,
   "id": "1e534d36",
   "metadata": {},
   "outputs": [
    {
     "data": {
      "text/plain": "            visit_id                                    meaning_vectors  \\\n0               0[1]  [-1.0013970414243027, 0.10410662986918126, -0....   \n1               5[1]  [-0.22001658113151915, -2.2507345794274003, -0...   \n2               9[1]  [1.597802667104453, -1.3318458039597452, -1.78...   \n3              11[1]  [-0.08318374597228116, -0.8729878666888199, 0....   \n4              12[4]  [-2.879218311253632, -1.2799126645257008, 1.45...   \n...              ...                                                ...   \n1438469   3225280[4]  [-0.4230218508741044, -0.5701299575644465, -0....   \n1438470   3225288[1]  [-1.0013952444434233, 0.10410391425423672, -0....   \n1438471   3225289[1]  [0.05429920975746043, -0.5528191649698502, -0....   \n1438472  3225293[14]  [-2.990184207726811, -1.079842092991908, 1.132...   \n1438473   3225294[1]  [-2.2760482229023986, -1.112274723572677, 0.87...   \n\n        meaning_words  \n0        samenstellen  \n1              sessie  \n2          academisch  \n3          diensttijd  \n4           berichten  \n...               ...  \n1438469  samenstellen  \n1438470  samenstellen  \n1438471      pensioen  \n1438472     berichten  \n1438473     berichten  \n\n[1438474 rows x 3 columns]",
      "text/html": "<div>\n<style scoped>\n    .dataframe tbody tr th:only-of-type {\n        vertical-align: middle;\n    }\n\n    .dataframe tbody tr th {\n        vertical-align: top;\n    }\n\n    .dataframe thead th {\n        text-align: right;\n    }\n</style>\n<table border=\"1\" class=\"dataframe\">\n  <thead>\n    <tr style=\"text-align: right;\">\n      <th></th>\n      <th>visit_id</th>\n      <th>meaning_vectors</th>\n      <th>meaning_words</th>\n    </tr>\n  </thead>\n  <tbody>\n    <tr>\n      <th>0</th>\n      <td>0[1]</td>\n      <td>[-1.0013970414243027, 0.10410662986918126, -0....</td>\n      <td>samenstellen</td>\n    </tr>\n    <tr>\n      <th>1</th>\n      <td>5[1]</td>\n      <td>[-0.22001658113151915, -2.2507345794274003, -0...</td>\n      <td>sessie</td>\n    </tr>\n    <tr>\n      <th>2</th>\n      <td>9[1]</td>\n      <td>[1.597802667104453, -1.3318458039597452, -1.78...</td>\n      <td>academisch</td>\n    </tr>\n    <tr>\n      <th>3</th>\n      <td>11[1]</td>\n      <td>[-0.08318374597228116, -0.8729878666888199, 0....</td>\n      <td>diensttijd</td>\n    </tr>\n    <tr>\n      <th>4</th>\n      <td>12[4]</td>\n      <td>[-2.879218311253632, -1.2799126645257008, 1.45...</td>\n      <td>berichten</td>\n    </tr>\n    <tr>\n      <th>...</th>\n      <td>...</td>\n      <td>...</td>\n      <td>...</td>\n    </tr>\n    <tr>\n      <th>1438469</th>\n      <td>3225280[4]</td>\n      <td>[-0.4230218508741044, -0.5701299575644465, -0....</td>\n      <td>samenstellen</td>\n    </tr>\n    <tr>\n      <th>1438470</th>\n      <td>3225288[1]</td>\n      <td>[-1.0013952444434233, 0.10410391425423672, -0....</td>\n      <td>samenstellen</td>\n    </tr>\n    <tr>\n      <th>1438471</th>\n      <td>3225289[1]</td>\n      <td>[0.05429920975746043, -0.5528191649698502, -0....</td>\n      <td>pensioen</td>\n    </tr>\n    <tr>\n      <th>1438472</th>\n      <td>3225293[14]</td>\n      <td>[-2.990184207726811, -1.079842092991908, 1.132...</td>\n      <td>berichten</td>\n    </tr>\n    <tr>\n      <th>1438473</th>\n      <td>3225294[1]</td>\n      <td>[-2.2760482229023986, -1.112274723572677, 0.87...</td>\n      <td>berichten</td>\n    </tr>\n  </tbody>\n</table>\n<p>1438474 rows × 3 columns</p>\n</div>"
     },
     "execution_count": 6,
     "metadata": {},
     "output_type": "execute_result"
    }
   ],
   "source": [
    "meaning_df"
   ]
  },
  {
   "cell_type": "code",
   "execution_count": 7,
   "id": "03a254f4",
   "metadata": {},
   "outputs": [],
   "source": [
    "meaning_vectors = meaning_df['meaning_vectors'].tolist()"
   ]
  },
  {
   "cell_type": "code",
   "execution_count": 8,
   "id": "61dc62b2",
   "metadata": {},
   "outputs": [],
   "source": [
    "meaning_words = meaning_df['meaning_words'].tolist()"
   ]
  },
  {
   "cell_type": "code",
   "execution_count": null,
   "id": "b69da201",
   "metadata": {
    "pycharm": {
     "is_executing": true
    }
   },
   "outputs": [
    {
     "name": "stderr",
     "output_type": "stream",
     "text": [
      "Exception ignored in: Exception ignored in: Exception ignored in: Exception ignored in: Exception ignored in: Exception ignored in: Exception ignored in: Exception ignored in: 'sklearn.metrics._pairwise_distances_reduction.FastEuclideanPairwiseDistancesRadiusNeighborhood._compute_and_reduce_distances_on_chunks'Exception ignored in: Exception ignored in: 'sklearn.metrics._pairwise_distances_reduction.FastEuclideanPairwiseDistancesRadiusNeighborhood._compute_and_reduce_distances_on_chunks''sklearn.metrics._pairwise_distances_reduction.FastEuclideanPairwiseDistancesRadiusNeighborhood._compute_and_reduce_distances_on_chunks''sklearn.metrics._pairwise_distances_reduction.FastEuclideanPairwiseDistancesRadiusNeighborhood._compute_and_reduce_distances_on_chunks'Exception ignored in: 'sklearn.metrics._pairwise_distances_reduction.FastEuclideanPairwiseDistancesRadiusNeighborhood._compute_and_reduce_distances_on_chunks''sklearn.metrics._pairwise_distances_reduction.FastEuclideanPairwiseDistancesRadiusNeighborhood._compute_and_reduce_distances_on_chunks''sklearn.metrics._pairwise_distances_reduction.FastEuclideanPairwiseDistancesRadiusNeighborhood._compute_and_reduce_distances_on_chunks'\n",
      "'sklearn.metrics._pairwise_distances_reduction.FastEuclideanPairwiseDistancesRadiusNeighborhood._compute_and_reduce_distances_on_chunks'\n",
      "'sklearn.metrics._pairwise_distances_reduction.FastEuclideanPairwiseDistancesRadiusNeighborhood._compute_and_reduce_distances_on_chunks'\n"
     ]
    },
    {
     "ename": "MemoryError",
     "evalue": "bad allocation",
     "output_type": "error",
     "traceback": [
      "\u001B[1;31m---------------------------------------------------------------------------\u001B[0m",
      "\u001B[1;31mMemoryError\u001B[0m                               Traceback (most recent call last)",
      "\u001B[1;31mMemoryError\u001B[0m: bad allocation"
     ]
    },
    {
     "name": "stderr",
     "output_type": "stream",
     "text": [
      "\n",
      "'sklearn.metrics._pairwise_distances_reduction.FastEuclideanPairwiseDistancesRadiusNeighborhood._compute_and_reduce_distances_on_chunks'\n",
      "\n",
      "\n",
      "\n",
      "'sklearn.metrics._pairwise_distances_reduction.FastEuclideanPairwiseDistancesRadiusNeighborhood._compute_and_reduce_distances_on_chunks'\n",
      "\n",
      "\n",
      "Exception ignored in: 'sklearn.metrics._pairwise_distances_reduction.FastEuclideanPairwiseDistancesRadiusNeighborhood._compute_and_reduce_distances_on_chunks'\n",
      "Traceback (most recent call last):\n",
      "  File \"C:\\Users\\01din\\AppData\\Local\\Programs\\Python\\Python38\\lib\\site-packages\\sklearn\\neighbors\\_base.py\", line 1097, in radius_neighbors\n"
     ]
    }
   ],
   "source": [
    "dbscan_model = DBSCAN(eps=4.5, min_samples=200).fit(meaning_vectors)"
   ]
  },
  {
   "cell_type": "code",
   "execution_count": null,
   "id": "13b69e2d",
   "metadata": {},
   "outputs": [],
   "source": [
    "labels = dbscan_model.labels_"
   ]
  },
  {
   "cell_type": "code",
   "execution_count": null,
   "id": "c66eb9b1",
   "metadata": {},
   "outputs": [],
   "source": [
    "unique_labels = set()\n",
    "for label in labels:\n",
    "    unique_labels.add(label)"
   ]
  },
  {
   "cell_type": "code",
   "execution_count": null,
   "id": "3fccd3d5",
   "metadata": {},
   "outputs": [],
   "source": [
    "df = pd.DataFrame()\n",
    "\n",
    "df['words'] = meaning_words\n",
    "\n",
    "df['labels'] = labels\n",
    "\n",
    "df"
   ]
  }
 ],
 "metadata": {
  "kernelspec": {
   "display_name": "Python 3 (ipykernel)",
   "language": "python",
   "name": "python3"
  },
  "language_info": {
   "codemirror_mode": {
    "name": "ipython",
    "version": 3
   },
   "file_extension": ".py",
   "mimetype": "text/x-python",
   "name": "python",
   "nbconvert_exporter": "python",
   "pygments_lexer": "ipython3",
   "version": "3.9.1"
  }
 },
 "nbformat": 4,
 "nbformat_minor": 5
}
