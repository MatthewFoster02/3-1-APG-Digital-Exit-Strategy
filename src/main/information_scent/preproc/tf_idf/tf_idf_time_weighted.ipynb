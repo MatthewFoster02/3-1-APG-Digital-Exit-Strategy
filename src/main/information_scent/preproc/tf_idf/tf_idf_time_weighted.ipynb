{
 "cells": [
  {
   "cell_type": "code",
   "execution_count": 1,
   "metadata": {
    "collapsed": true
   },
   "outputs": [],
   "source": [
    "import pandas as pd\n",
    "\n",
    "# Change this variable and the path in the else statement below.\n",
    "laurence = True;\n",
    "\n",
    "if laurence:\n",
    "    path = \"C:/Users/laure/OneDrive/Documenten/Project 3.1 APG Files/\";\n",
    "else:\n",
    "    path = \"C:/Users/01din/OneDrive/Documenten/apg-data/\";"
   ]
  },
  {
   "cell_type": "code",
   "execution_count": 2,
   "outputs": [],
   "source": [
    "# Download files\n",
    "private_scrape = pd.read_excel(path + \"private_scrape_results.xlsx\");\n",
    "public_scrape = pd.read_excel(path + \"public_scrape_results.xlsx\");\n",
    "tf_idf_non_weighted = pd.read_csv(path + \"tf_idf.csv\");\n",
    "tf_idf_keywords = pd.read_csv(path + \"tf_idf_keywords.csv\");\n",
    "all_data = pd.read_csv(path + \"allDataOneFile.csv\");\n",
    "url_references = pd.read_csv(path + \"url_references_reduced.csv\");"
   ],
   "metadata": {
    "collapsed": false,
    "pycharm": {
     "name": "#%%\n"
    }
   }
  },
  {
   "cell_type": "code",
   "execution_count": 3,
   "outputs": [],
   "source": [
    "# Storing all of the records of 'public_scrape' in English in a separate dataframe. 'private_scrape' does not contain any records in\n",
    "# English so this is not needed there.\n",
    "public_scrape_english = public_scrape.loc[public_scrape['full_url'].str.contains(\"english\", case=False)]\n",
    "\n",
    "# Storing all of the records of 'public_scrape' in Dutch in a separate dataframe.\n",
    "public_scrape_dutch = public_scrape.loc[~public_scrape['full_url'].str.contains(\"english\", case=False)]\n",
    "\n",
    "# Obtaining the paragraphs of these scrape results and converting them to lists, making them easier to iterare over.\n",
    "private_corpus = private_scrape.urls.tolist()\n",
    "public_corpus = public_scrape_dutch.full_url.tolist()\n",
    "public_corpus_english = public_scrape_english.full_url.tolist()\n",
    "\n",
    "# Adding the 'private_corpus' and 'public_corpus' as they are both in Dutch.\n",
    "corpus_dutch = public_corpus + private_corpus\n",
    "corpus_english = public_corpus_english\n",
    "\n",
    "corpus = corpus_dutch + corpus_english"
   ],
   "metadata": {
    "collapsed": false,
    "pycharm": {
     "name": "#%%\n"
    }
   }
  },
  {
   "cell_type": "code",
   "execution_count": 4,
   "outputs": [],
   "source": [
    "sum_of_total_time = 0\n",
    "\n",
    "for i in range(len(corpus)):\n",
    "    url_id = url_references.index[url_references['urls'] == corpus[i]].tolist()[0] + 1;\n",
    "    indices_in_all_data = all_data.index[all_data['page_url_id'] == url_id].tolist();\n",
    "    time = 0;\n",
    "    for j in range(len(indices_in_all_data)):\n",
    "        time += all_data['seconds_spent'].iloc[indices_in_all_data[j]];\n",
    "    sum_of_total_time += time;"
   ],
   "metadata": {
    "collapsed": false,
    "pycharm": {
     "name": "#%%\n"
    }
   }
  },
  {
   "cell_type": "code",
   "execution_count": null,
   "outputs": [],
   "source": [
    "from math import log10\n",
    "\n",
    "tf_idf_time_weighted = tf_idf_non_weighted;\n",
    "\n",
    "for i in range(len(corpus)):\n",
    "    # Calculate weight document\n",
    "    url_id = url_references.index[url_references['urls'] == corpus[i]].tolist()[0] + 1;\n",
    "    indices_in_all_data = all_data.index[all_data['page_url_id'] == url_id].tolist();\n",
    "    time = 0;\n",
    "    for j in range(len(indices_in_all_data)):\n",
    "        time += all_data['seconds_spent'].iloc[indices_in_all_data[j]];\n",
    "    weight = time / sum_of_total_time;\n",
    "\n",
    "    for k in range(tf_idf_keywords.shape[0]):\n",
    "        if tf_idf_time_weighted.loc[i][k] != 0 and weight != 0:\n",
    "            tf_idf_time_weighted.loc[i][k] = tf_idf_time_weighted.loc[i][k] * log10(weight);\n",
    "\n",
    "    weight = 0;"
   ],
   "metadata": {
    "collapsed": false,
    "pycharm": {
     "name": "#%%\n",
     "is_executing": true
    }
   }
  },
  {
   "cell_type": "code",
   "execution_count": null,
   "outputs": [],
   "source": [
    "tf_idf_time_weighted.to_csv(path + \"tf_idf_time_weighted.csv\");"
   ],
   "metadata": {
    "collapsed": false,
    "pycharm": {
     "name": "#%%\n"
    }
   }
  }
 ],
 "metadata": {
  "kernelspec": {
   "display_name": "Python 3",
   "language": "python",
   "name": "python3"
  },
  "language_info": {
   "codemirror_mode": {
    "name": "ipython",
    "version": 2
   },
   "file_extension": ".py",
   "mimetype": "text/x-python",
   "name": "python",
   "nbconvert_exporter": "python",
   "pygments_lexer": "ipython2",
   "version": "2.7.6"
  }
 },
 "nbformat": 4,
 "nbformat_minor": 0
}