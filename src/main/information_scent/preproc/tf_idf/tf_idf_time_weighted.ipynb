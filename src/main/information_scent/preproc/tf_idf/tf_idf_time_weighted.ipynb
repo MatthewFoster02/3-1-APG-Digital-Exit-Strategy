{
 "cells": [
  {
   "cell_type": "code",
   "execution_count": 9,
   "metadata": {
    "collapsed": true
   },
   "outputs": [],
   "source": [
    "import pandas as pd\n",
    "\n",
    "# Change this variable and the path in the else statement below.\n",
    "laurence = False;\n",
    "\n",
    "if laurence:\n",
    "    path = \"C:/Users/laure/OneDrive/Documenten/Project 3.1 APG Files/\"\n",
    "else:\n",
    "    path = \"C:/Users/01din/Desktop/data APG/tfidf/\""
   ]
  },
  {
   "cell_type": "code",
   "execution_count": 10,
   "outputs": [],
   "source": [
    "# Download files\n",
    "private_scrape = pd.read_excel(path + \"private_scrape_results.xlsx\")\n",
    "public_scrape = pd.read_excel(path + \"public_scrape_results.xlsx\")\n",
    "tf_idf_non_weighted = pd.read_csv(path + \"tf_idf_new.csv\")\n",
    "tf_idf_keywords = pd.read_csv(path + \"tf_idf_keywords_new.csv\")\n",
    "all_data = pd.read_csv(path + \"allDataOneFile.csv\")\n",
    "url_references = pd.read_csv(path + \"url_references_reduced.csv\")"
   ],
   "metadata": {
    "collapsed": false
   }
  },
  {
   "cell_type": "code",
   "execution_count": 11,
   "outputs": [],
   "source": [
    "# Storing all of the records of 'public_scrape' in English in a separate dataframe. 'private_scrape' does not contain any records in\n",
    "# English so this is not needed there.\n",
    "public_scrape_english = public_scrape.loc[public_scrape['full_url'].str.contains(\"english\", case=False)]\n",
    "\n",
    "# Storing all of the records of 'public_scrape' in Dutch in a separate dataframe.\n",
    "public_scrape_dutch = public_scrape.loc[~public_scrape['full_url'].str.contains(\"english\", case=False)]\n",
    "\n",
    "# Obtaining the paragraphs of these scrape results and converting them to lists, making them easier to iterare over.\n",
    "private_corpus = private_scrape.urls.tolist()\n",
    "public_corpus = public_scrape_dutch.full_url.tolist()\n",
    "public_corpus_english = public_scrape_english.full_url.tolist()\n",
    "\n",
    "# Adding the 'private_corpus' and 'public_corpus' as they are both in Dutch.\n",
    "corpus_dutch = public_corpus + private_corpus\n",
    "corpus_english = public_corpus_english\n",
    "\n",
    "corpus = corpus_dutch + corpus_english"
   ],
   "metadata": {
    "collapsed": false
   }
  },
  {
   "cell_type": "code",
   "execution_count": 12,
   "outputs": [],
   "source": [
    "sum_of_total_time = 0\n",
    "\n",
    "for i in range(len(corpus)):\n",
    "    url_id = url_references.index[url_references['urls'] == corpus[i]].tolist()[0] + 1;\n",
    "    indices_in_all_data = all_data.index[all_data['page_url_id'] == url_id].tolist();\n",
    "    time = 0;\n",
    "    for j in range(len(indices_in_all_data)):\n",
    "        time += all_data['seconds_spent'].iloc[indices_in_all_data[j]];\n",
    "    sum_of_total_time += time;"
   ],
   "metadata": {
    "collapsed": false
   }
  },
  {
   "cell_type": "code",
   "execution_count": 13,
   "outputs": [
    {
     "name": "stderr",
     "output_type": "stream",
     "text": [
      "C:\\Users\\01din\\AppData\\Local\\Temp\\ipykernel_5508\\1738139272.py:18: SettingWithCopyWarning: \n",
      "A value is trying to be set on a copy of a slice from a DataFrame\n",
      "\n",
      "See the caveats in the documentation: https://pandas.pydata.org/pandas-docs/stable/user_guide/indexing.html#returning-a-view-versus-a-copy\n",
      "  tf_idf_time_weighted.loc[i][k] = tf_idf_time_weighted.loc[i][k] * weight;\n"
     ]
    },
    {
     "ename": "KeyboardInterrupt",
     "evalue": "",
     "output_type": "error",
     "traceback": [
      "\u001B[1;31m---------------------------------------------------------------------------\u001B[0m",
      "\u001B[1;31mKeyboardInterrupt\u001B[0m                         Traceback (most recent call last)",
      "Cell \u001B[1;32mIn [13], line 15\u001B[0m\n\u001B[0;32m     12\u001B[0m weight \u001B[38;5;241m=\u001B[39m time \u001B[38;5;241m/\u001B[39m sum_of_total_time;\n\u001B[0;32m     14\u001B[0m \u001B[38;5;28;01mfor\u001B[39;00m k \u001B[38;5;129;01min\u001B[39;00m \u001B[38;5;28mrange\u001B[39m(tf_idf_keywords\u001B[38;5;241m.\u001B[39mshape[\u001B[38;5;241m0\u001B[39m]):\n\u001B[1;32m---> 15\u001B[0m     \u001B[38;5;28;01mif\u001B[39;00m \u001B[43mtf_idf_time_weighted\u001B[49m\u001B[38;5;241;43m.\u001B[39;49m\u001B[43mloc\u001B[49m\u001B[43m[\u001B[49m\u001B[43mi\u001B[49m\u001B[43m]\u001B[49m[k] \u001B[38;5;241m!=\u001B[39m \u001B[38;5;241m0\u001B[39m:\n\u001B[0;32m     16\u001B[0m         \u001B[38;5;28;01mif\u001B[39;00m weight \u001B[38;5;241m==\u001B[39m \u001B[38;5;241m0\u001B[39m:\n\u001B[0;32m     17\u001B[0m             weight \u001B[38;5;241m=\u001B[39m \u001B[38;5;241m0.000001\u001B[39m;\n",
      "File \u001B[1;32m~\\AppData\\Local\\Programs\\Python\\Python38\\lib\\site-packages\\pandas\\core\\indexing.py:1073\u001B[0m, in \u001B[0;36m_LocationIndexer.__getitem__\u001B[1;34m(self, key)\u001B[0m\n\u001B[0;32m   1070\u001B[0m axis \u001B[38;5;241m=\u001B[39m \u001B[38;5;28mself\u001B[39m\u001B[38;5;241m.\u001B[39maxis \u001B[38;5;129;01mor\u001B[39;00m \u001B[38;5;241m0\u001B[39m\n\u001B[0;32m   1072\u001B[0m maybe_callable \u001B[38;5;241m=\u001B[39m com\u001B[38;5;241m.\u001B[39mapply_if_callable(key, \u001B[38;5;28mself\u001B[39m\u001B[38;5;241m.\u001B[39mobj)\n\u001B[1;32m-> 1073\u001B[0m \u001B[38;5;28;01mreturn\u001B[39;00m \u001B[38;5;28;43mself\u001B[39;49m\u001B[38;5;241;43m.\u001B[39;49m\u001B[43m_getitem_axis\u001B[49m\u001B[43m(\u001B[49m\u001B[43mmaybe_callable\u001B[49m\u001B[43m,\u001B[49m\u001B[43m \u001B[49m\u001B[43maxis\u001B[49m\u001B[38;5;241;43m=\u001B[39;49m\u001B[43maxis\u001B[49m\u001B[43m)\u001B[49m\n",
      "File \u001B[1;32m~\\AppData\\Local\\Programs\\Python\\Python38\\lib\\site-packages\\pandas\\core\\indexing.py:1312\u001B[0m, in \u001B[0;36m_LocIndexer._getitem_axis\u001B[1;34m(self, key, axis)\u001B[0m\n\u001B[0;32m   1310\u001B[0m \u001B[38;5;66;03m# fall thru to straight lookup\u001B[39;00m\n\u001B[0;32m   1311\u001B[0m \u001B[38;5;28mself\u001B[39m\u001B[38;5;241m.\u001B[39m_validate_key(key, axis)\n\u001B[1;32m-> 1312\u001B[0m \u001B[38;5;28;01mreturn\u001B[39;00m \u001B[38;5;28;43mself\u001B[39;49m\u001B[38;5;241;43m.\u001B[39;49m\u001B[43m_get_label\u001B[49m\u001B[43m(\u001B[49m\u001B[43mkey\u001B[49m\u001B[43m,\u001B[49m\u001B[43m \u001B[49m\u001B[43maxis\u001B[49m\u001B[38;5;241;43m=\u001B[39;49m\u001B[43maxis\u001B[49m\u001B[43m)\u001B[49m\n",
      "File \u001B[1;32m~\\AppData\\Local\\Programs\\Python\\Python38\\lib\\site-packages\\pandas\\core\\indexing.py:1260\u001B[0m, in \u001B[0;36m_LocIndexer._get_label\u001B[1;34m(self, label, axis)\u001B[0m\n\u001B[0;32m   1258\u001B[0m \u001B[38;5;28;01mdef\u001B[39;00m \u001B[38;5;21m_get_label\u001B[39m(\u001B[38;5;28mself\u001B[39m, label, axis: \u001B[38;5;28mint\u001B[39m):\n\u001B[0;32m   1259\u001B[0m     \u001B[38;5;66;03m# GH#5567 this will fail if the label is not present in the axis.\u001B[39;00m\n\u001B[1;32m-> 1260\u001B[0m     \u001B[38;5;28;01mreturn\u001B[39;00m \u001B[38;5;28;43mself\u001B[39;49m\u001B[38;5;241;43m.\u001B[39;49m\u001B[43mobj\u001B[49m\u001B[38;5;241;43m.\u001B[39;49m\u001B[43mxs\u001B[49m\u001B[43m(\u001B[49m\u001B[43mlabel\u001B[49m\u001B[43m,\u001B[49m\u001B[43m \u001B[49m\u001B[43maxis\u001B[49m\u001B[38;5;241;43m=\u001B[39;49m\u001B[43maxis\u001B[49m\u001B[43m)\u001B[49m\n",
      "File \u001B[1;32m~\\AppData\\Local\\Programs\\Python\\Python38\\lib\\site-packages\\pandas\\core\\generic.py:4076\u001B[0m, in \u001B[0;36mNDFrame.xs\u001B[1;34m(self, key, axis, level, drop_level)\u001B[0m\n\u001B[0;32m   4070\u001B[0m     \u001B[38;5;28;01mif\u001B[39;00m \u001B[38;5;28mself\u001B[39m\u001B[38;5;241m.\u001B[39mndim \u001B[38;5;241m==\u001B[39m \u001B[38;5;241m1\u001B[39m:\n\u001B[0;32m   4071\u001B[0m         \u001B[38;5;66;03m# if we encounter an array-like and we only have 1 dim\u001B[39;00m\n\u001B[0;32m   4072\u001B[0m         \u001B[38;5;66;03m# that means that their are list/ndarrays inside the Series!\u001B[39;00m\n\u001B[0;32m   4073\u001B[0m         \u001B[38;5;66;03m# so just return them (GH 6394)\u001B[39;00m\n\u001B[0;32m   4074\u001B[0m         \u001B[38;5;28;01mreturn\u001B[39;00m \u001B[38;5;28mself\u001B[39m\u001B[38;5;241m.\u001B[39m_values[loc]\n\u001B[1;32m-> 4076\u001B[0m     new_mgr \u001B[38;5;241m=\u001B[39m \u001B[38;5;28;43mself\u001B[39;49m\u001B[38;5;241;43m.\u001B[39;49m\u001B[43m_mgr\u001B[49m\u001B[38;5;241;43m.\u001B[39;49m\u001B[43mfast_xs\u001B[49m\u001B[43m(\u001B[49m\u001B[43mloc\u001B[49m\u001B[43m)\u001B[49m\n\u001B[0;32m   4078\u001B[0m     result \u001B[38;5;241m=\u001B[39m \u001B[38;5;28mself\u001B[39m\u001B[38;5;241m.\u001B[39m_constructor_sliced(\n\u001B[0;32m   4079\u001B[0m         new_mgr, name\u001B[38;5;241m=\u001B[39m\u001B[38;5;28mself\u001B[39m\u001B[38;5;241m.\u001B[39mindex[loc]\n\u001B[0;32m   4080\u001B[0m     )\u001B[38;5;241m.\u001B[39m__finalize__(\u001B[38;5;28mself\u001B[39m)\n\u001B[0;32m   4081\u001B[0m \u001B[38;5;28;01melif\u001B[39;00m is_scalar(loc):\n",
      "File \u001B[1;32m~\\AppData\\Local\\Programs\\Python\\Python38\\lib\\site-packages\\pandas\\core\\internals\\managers.py:1107\u001B[0m, in \u001B[0;36mBlockManager.fast_xs\u001B[1;34m(self, loc)\u001B[0m\n\u001B[0;32m   1103\u001B[0m \u001B[38;5;28;01mfor\u001B[39;00m blk \u001B[38;5;129;01min\u001B[39;00m \u001B[38;5;28mself\u001B[39m\u001B[38;5;241m.\u001B[39mblocks:\n\u001B[0;32m   1104\u001B[0m     \u001B[38;5;66;03m# Such assignment may incorrectly coerce NaT to None\u001B[39;00m\n\u001B[0;32m   1105\u001B[0m     \u001B[38;5;66;03m# result[blk.mgr_locs] = blk._slice((slice(None), loc))\u001B[39;00m\n\u001B[0;32m   1106\u001B[0m     \u001B[38;5;28;01mfor\u001B[39;00m i, rl \u001B[38;5;129;01min\u001B[39;00m \u001B[38;5;28menumerate\u001B[39m(blk\u001B[38;5;241m.\u001B[39mmgr_locs):\n\u001B[1;32m-> 1107\u001B[0m         result[rl] \u001B[38;5;241m=\u001B[39m \u001B[43mblk\u001B[49m\u001B[38;5;241;43m.\u001B[39;49m\u001B[43miget\u001B[49m\u001B[43m(\u001B[49m\u001B[43m(\u001B[49m\u001B[43mi\u001B[49m\u001B[43m,\u001B[49m\u001B[43m \u001B[49m\u001B[43mloc\u001B[49m\u001B[43m)\u001B[49m\u001B[43m)\u001B[49m\n\u001B[0;32m   1109\u001B[0m \u001B[38;5;28;01mif\u001B[39;00m immutable_ea:\n\u001B[0;32m   1110\u001B[0m     dtype \u001B[38;5;241m=\u001B[39m cast(ExtensionDtype, dtype)\n",
      "File \u001B[1;32m~\\AppData\\Local\\Programs\\Python\\Python38\\lib\\site-packages\\pandas\\core\\internals\\blocks.py:825\u001B[0m, in \u001B[0;36mBlock.iget\u001B[1;34m(self, i)\u001B[0m\n\u001B[0;32m    821\u001B[0m \u001B[38;5;129m@property\u001B[39m\n\u001B[0;32m    822\u001B[0m \u001B[38;5;28;01mdef\u001B[39;00m \u001B[38;5;21mshape\u001B[39m(\u001B[38;5;28mself\u001B[39m) \u001B[38;5;241m-\u001B[39m\u001B[38;5;241m>\u001B[39m Shape:\n\u001B[0;32m    823\u001B[0m     \u001B[38;5;28;01mreturn\u001B[39;00m \u001B[38;5;28mself\u001B[39m\u001B[38;5;241m.\u001B[39mvalues\u001B[38;5;241m.\u001B[39mshape\n\u001B[1;32m--> 825\u001B[0m \u001B[38;5;28;01mdef\u001B[39;00m \u001B[38;5;21miget\u001B[39m(\u001B[38;5;28mself\u001B[39m, i: \u001B[38;5;28mint\u001B[39m \u001B[38;5;241m|\u001B[39m \u001B[38;5;28mtuple\u001B[39m[\u001B[38;5;28mint\u001B[39m, \u001B[38;5;28mint\u001B[39m] \u001B[38;5;241m|\u001B[39m \u001B[38;5;28mtuple\u001B[39m[\u001B[38;5;28mslice\u001B[39m, \u001B[38;5;28mint\u001B[39m]) \u001B[38;5;241m-\u001B[39m\u001B[38;5;241m>\u001B[39m np\u001B[38;5;241m.\u001B[39mndarray:\n\u001B[0;32m    826\u001B[0m     \u001B[38;5;66;03m# In the case where we have a tuple[slice, int], the slice will always\u001B[39;00m\n\u001B[0;32m    827\u001B[0m     \u001B[38;5;66;03m#  be slice(None)\u001B[39;00m\n\u001B[0;32m    828\u001B[0m     \u001B[38;5;66;03m# Note: only reached with self.ndim == 2\u001B[39;00m\n\u001B[0;32m    829\u001B[0m     \u001B[38;5;66;03m# Invalid index type \"Union[int, Tuple[int, int], Tuple[slice, int]]\"\u001B[39;00m\n\u001B[0;32m    830\u001B[0m     \u001B[38;5;66;03m# for \"Union[ndarray[Any, Any], ExtensionArray]\"; expected type\u001B[39;00m\n\u001B[0;32m    831\u001B[0m     \u001B[38;5;66;03m# \"Union[int, integer[Any]]\"\u001B[39;00m\n\u001B[0;32m    832\u001B[0m     \u001B[38;5;28;01mreturn\u001B[39;00m \u001B[38;5;28mself\u001B[39m\u001B[38;5;241m.\u001B[39mvalues[i]  \u001B[38;5;66;03m# type: ignore[index]\u001B[39;00m\n\u001B[0;32m    834\u001B[0m \u001B[38;5;28;01mdef\u001B[39;00m \u001B[38;5;21m_slice\u001B[39m(\n\u001B[0;32m    835\u001B[0m     \u001B[38;5;28mself\u001B[39m, slicer: \u001B[38;5;28mslice\u001B[39m \u001B[38;5;241m|\u001B[39m npt\u001B[38;5;241m.\u001B[39mNDArray[np\u001B[38;5;241m.\u001B[39mbool_] \u001B[38;5;241m|\u001B[39m npt\u001B[38;5;241m.\u001B[39mNDArray[np\u001B[38;5;241m.\u001B[39mintp]\n\u001B[0;32m    836\u001B[0m ) \u001B[38;5;241m-\u001B[39m\u001B[38;5;241m>\u001B[39m ArrayLike:\n",
      "\u001B[1;31mKeyboardInterrupt\u001B[0m: "
     ]
    }
   ],
   "source": [
    "from math import log10\n",
    "\n",
    "tf_idf_time_weighted = tf_idf_non_weighted;\n",
    "\n",
    "for i in range(len(corpus)):\n",
    "    # Calculate weight document\n",
    "    url_id = url_references.index[url_references['urls'] == corpus[i]].tolist()[0] + 1;\n",
    "    indices_in_all_data = all_data.index[all_data['page_url_id'] == url_id].tolist();\n",
    "    time = 0;\n",
    "    for j in range(len(indices_in_all_data)):\n",
    "        time += all_data['seconds_spent'].iloc[indices_in_all_data[j]];\n",
    "    weight = time / sum_of_total_time;\n",
    "\n",
    "    for k in range(tf_idf_keywords.shape[0]):\n",
    "        if tf_idf_time_weighted.loc[i][k] != 0:\n",
    "            if weight == 0:\n",
    "                weight = 0.000001;\n",
    "            tf_idf_time_weighted.loc[i][k] = tf_idf_time_weighted.loc[i][k] * weight;\n",
    "\n",
    "    weight = 0;"
   ],
   "metadata": {
    "collapsed": false
   }
  },
  {
   "cell_type": "code",
   "execution_count": null,
   "outputs": [],
   "source": [
    "tf_idf_time_weighted.to_csv(path + \"tf_idf_time_weighted.csv\");"
   ],
   "metadata": {
    "collapsed": false
   }
  }
 ],
 "metadata": {
  "kernelspec": {
   "display_name": "Python 3",
   "language": "python",
   "name": "python3"
  },
  "language_info": {
   "codemirror_mode": {
    "name": "ipython",
    "version": 2
   },
   "file_extension": ".py",
   "mimetype": "text/x-python",
   "name": "python",
   "nbconvert_exporter": "python",
   "pygments_lexer": "ipython2",
   "version": "2.7.6"
  }
 },
 "nbformat": 4,
 "nbformat_minor": 0
}
