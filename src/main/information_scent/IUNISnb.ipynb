{
 "cells": [
  {
   "cell_type": "code",
   "execution_count": 61,
   "metadata": {
    "collapsed": true
   },
   "outputs": [],
   "source": [
    "import pandas as pd\n",
    "from ast import literal_eval"
   ]
  },
  {
   "cell_type": "markdown",
   "source": [
    "I dislike classes in python but I think it makes sense to make these classes.\n",
    "I would put the adj matrix in the tfidf but that would just create confusion"
   ],
   "metadata": {
    "collapsed": false
   }
  },
  {
   "cell_type": "code",
   "execution_count": 62,
   "outputs": [],
   "source": [
    "class ProximalCues:\n",
    "    def __init__(self):\n",
    "        generic = lambda x: literal_eval(x)\n",
    "\n",
    "        conv = {'pc': generic}\n",
    "\n",
    "        self.urls = pd.read_csv(\"../data/urls/url-reference_new.csv\", converters=conv)\n",
    "\n",
    "    # Get the proximal cues by page id\n",
    "    def get_proximal_cues_by_id(self, id):\n",
    "        return self.urls.loc[self.urls.id==id].pc.iloc[0]"
   ],
   "metadata": {
    "collapsed": false
   }
  },
  {
   "cell_type": "code",
   "execution_count": 63,
   "outputs": [],
   "source": [
    "import numpy as np\n",
    "\n",
    "\n",
    "class TfIdf:\n",
    "    def __init__(self):\n",
    "        # Loading in the tf-idf\n",
    "        # Rows are documents, the first column is the document id\n",
    "        # Columns are keywords, the first row is the keyword id\n",
    "        self.tfidf = pd.read_csv(\"../data/tf_idf/tf_idf.csv\")\n",
    "\n",
    "        # Loading in the keywords\n",
    "        # Two columns, column 1 is id, column 2 is keyword\n",
    "        # We can access the weight in the tf-idf by first accessing the id number from the keyword file\n",
    "        self.tfidf_keywords = pd.read_csv(\"../data/tf_idf/tf_idf_keywords.csv\")\n",
    "        self.tfidf_keywords.columns = [\"id\", \"keyword\"]\n",
    "\n",
    "    def get_id_by_keyword(self, keyword):\n",
    "        return self.tfidf_keywords.id.iloc[self.tfidf_keywords[self.tfidf_keywords.keyword == keyword].index].values[0]\n",
    "\n",
    "\n",
    "    def get_keyword_by_id(self, id):\n",
    "        return self.tfidf_keywords.loc[self.tfidf_keywords.id==id, 'keyword'].iloc[0]\n",
    "    # Method to get the tfidf value of a keyword in a page\n",
    "    def get_tf_idf_value(self, page_id, keyword):\n",
    "        keyword_id = self.get_id_by_keyword(keyword)\n",
    "        return self.tfidf.iloc[page_id, keyword_id + 1]\n",
    "\n",
    "    def get_all_keywords_by_id(self, page_id):\n",
    "        keywords = self.tfidf.iloc[page_id][1:].values\n",
    "        return keywords\n",
    "\n",
    "    def get_all_keywords_by_id_normalized(self, page_id):\n",
    "        keywords_weights = self.get_all_keywords_by_id(page_id)\n",
    "        sum_value = sum(keywords_weights)\n",
    "        keywords_weights_normalized = keywords_weights/sum_value\n",
    "        return keywords_weights_normalized\n",
    "\n",
    "    def get_number_of_keywords(self):\n",
    "        return self.tfidf_keywords.shape[0]"
   ],
   "metadata": {
    "collapsed": false
   }
  },
  {
   "cell_type": "code",
   "execution_count": 64,
   "outputs": [],
   "source": [
    "class AdjacencyMatrix:\n",
    "    def __init__(self):\n",
    "        # Loading in the adjacency matrix\n",
    "        # First column and row are data immediately, so access directly by page id\n",
    "        # If row(page_id_1) leads to column(page_id_2) = 1 else = 0\n",
    "        self.adjacency_matrix = pd.read_csv(\"../data/matrices/adjacency_matrix.csv\", header=None)\n",
    "\n",
    "    # Method to get the adjacency value from two page ids\n",
    "    def get_adjacency_value(self, page_id_1, page_id_2):\n",
    "        return self.adjacency_matrix.iloc[page_id_1, page_id_2] == 1"
   ],
   "metadata": {
    "collapsed": false
   }
  },
  {
   "cell_type": "code",
   "execution_count": 65,
   "outputs": [],
   "source": [
    "adjacency_matrix = AdjacencyMatrix()\n",
    "proximal_cues = ProximalCues()\n",
    "tfidf = TfIdf()"
   ],
   "metadata": {
    "collapsed": false
   }
  },
  {
   "cell_type": "markdown",
   "source": [
    "The input to the model should be a list of documents and the order in which they were visited.\n",
    "Luckily this is exactly what we have."
   ],
   "metadata": {
    "collapsed": false
   }
  },
  {
   "cell_type": "code",
   "execution_count": 66,
   "outputs": [],
   "source": [
    "generic = lambda x: literal_eval(x)\n",
    "\n",
    "conv = {'url_id_path': generic,\n",
    "        'seconds_spent_path': generic}\n",
    "df = pd.read_csv('../data/clickdata/testGrouped.csv', converters=conv)\n",
    "\n",
    "paths = df.url_id_path"
   ],
   "metadata": {
    "collapsed": false
   }
  },
  {
   "cell_type": "markdown",
   "source": [
    "We have one visit path here:"
   ],
   "metadata": {
    "collapsed": false
   }
  },
  {
   "cell_type": "code",
   "execution_count": 67,
   "outputs": [],
   "source": [
    "from pandas import DataFrame\n",
    "def find_keyword_weights(path):\n",
    "    weights = np.zeros(tfidf.get_number_of_keywords())\n",
    "    pd.options.display.max_rows = 0\n",
    "    for id in path:\n",
    "        weights += tfidf.get_all_keywords_by_id_normalized(id)\n",
    "\n",
    "    df = DataFrame(weights, columns=['weights'])\n",
    "    return df.sort_values(by=['weights'], ascending=False)"
   ],
   "metadata": {
    "collapsed": false
   }
  },
  {
   "cell_type": "markdown",
   "source": [
    "Idea: for each page visited, find the weights of the keywords\n"
   ],
   "metadata": {
    "collapsed": false
   }
  },
  {
   "cell_type": "code",
   "execution_count": 75,
   "outputs": [
    {
     "name": "stdout",
     "output_type": "stream",
     "text": [
      "Keywords computed:\n",
      "sessie : 0.061652467180624136\n",
      "helppagina : 0.03261324981846278\n",
      "gegeven : 0.0325319223154668\n",
      "uitloggen : 0.03165247462089657\n",
      "aug : 0.03165247462089657\n",
      "menu : 0.03165247462089657\n",
      "uitgelogd : 0.03165247462089657\n",
      "seconden : 0.03136403819220464\n",
      "hoofdcontent : 0.031089022368813984\n",
      "verlengen : 0.030574630764241762\n",
      "\n",
      "\n",
      "Keywords computed:\n",
      "aow : 0.15353037277137443\n",
      "samenstellen : 0.14714911173106454\n",
      "netto : 0.11649741024536589\n",
      "tegelijk : 0.11236590312250572\n",
      "geniet : 0.09474545334944047\n",
      "plan : 0.09379977882996511\n",
      "hetzelfde : 0.08281623670081512\n",
      "aanvragen : 0.07339953031231955\n",
      "bedrag : 0.06420918032909485\n",
      "eerder : 0.061487022608054415\n",
      "\n",
      "\n",
      "Keywords computed:\n",
      "bericht : 8.076424575319345\n",
      "laxxxxxxxxx : 1.714131400217488\n",
      "dhr : 1.6548951778273846\n",
      "mijnabp : 0.8185606192367599\n",
      "gevonden : 0.7513311620008075\n",
      "excuses : 0.6500408432954957\n",
      "overzicht : 0.5034349153780793\n",
      "aow : 0.49622202821933953\n",
      "aanvragen : 0.47198961889129254\n",
      "samenstellen : 0.4414473351931936\n",
      "\n",
      "\n",
      "Keywords computed:\n",
      "bericht : 1.0191061438298366\n",
      "laxxxxxxxxx : 0.857065700108744\n",
      "dhr : 0.7684154866822438\n",
      "mijnabp : 0.40164601486918367\n",
      "excuses : 0.34257657836359534\n",
      "overzicht : 0.27377468698124235\n",
      "inzicht : 0.27289368080577253\n",
      "aow : 0.15353037277137443\n",
      "samenstellen : 0.14714911173106454\n",
      "onze : 0.14654346365602605\n",
      "\n",
      "\n",
      "Keywords computed:\n",
      "laxxxxxxxxx : 1.714131400217488\n",
      "dhr : 1.5097037717043158\n",
      "bericht : 1.0191061438298366\n",
      "mijnabp : 0.8310387520470146\n",
      "aow : 0.30706074554274887\n",
      "samenstellen : 0.2942982234621291\n",
      "waardeoverdracht : 0.287223949188386\n",
      "netto : 0.23299482049073178\n",
      "tegelijk : 0.22473180624501143\n",
      "plan : 0.20912044608518218\n",
      "\n",
      "\n",
      "Keywords computed:\n",
      "excuses : 0.44965790325133287\n",
      "bericht : 0.3770987608869317\n",
      "aow : 0.30706074554274887\n",
      "samenstellen : 0.2942982234621291\n",
      "netto : 0.23299482049073178\n",
      "tegelijk : 0.22473180624501143\n",
      "plan : 0.20912044608518218\n",
      "onze : 0.19234947969157198\n",
      "geniet : 0.18949090669888094\n",
      "bedrag : 0.1778029159997967\n",
      "\n",
      "\n",
      "Keywords computed:\n",
      "bericht : 1.0573184314895097\n",
      "laxxxxxxxxx : 1.0262028202474762\n",
      "dhr : 0.968958985115488\n",
      "aow : 0.7397161723915608\n",
      "samenstellen : 0.5885964469242582\n",
      "toestemming : 0.4774449667097966\n",
      "netto : 0.46598964098146356\n",
      "tegelijk : 0.44946361249002287\n",
      "plan : 0.4428114861691917\n",
      "mijnabp : 0.4037288698775759\n",
      "\n",
      "\n",
      "Keywords computed:\n",
      "laxxxxxxxxx : 0.857065700108744\n",
      "dhr : 0.7412882850220721\n",
      "mijnabp : 0.40164601486918367\n",
      "excuses : 0.34257657836359534\n",
      "aow : 0.30706074554274887\n",
      "samenstellen : 0.2942982234621291\n",
      "overzicht : 0.2558516439267637\n",
      "inzicht : 0.255028314053615\n",
      "netto : 0.23299482049073178\n",
      "tegelijk : 0.22473180624501143\n",
      "\n",
      "\n",
      "Keywords computed:\n",
      "laxxxxxxxxx : 0.428532850054372\n",
      "dhr : 0.4248985458313794\n",
      "mijnabp : 0.20082300743459183\n",
      "vlog : 0.17261322740697183\n",
      "corien : 0.12402773671096297\n",
      "sessie : 0.12330493436124827\n",
      "stelsel : 0.10031917911136873\n",
      "artikel : 0.09142286087182104\n",
      "wortmann : 0.08824613518973319\n",
      "punt : 0.08671390220709102\n",
      "\n",
      "\n",
      "Keywords computed:\n",
      "bericht : 2.0191061438298368\n",
      "laxxxxxxxxx : 0.857065700108744\n",
      "dhr : 0.7684154866822438\n",
      "mijnabp : 0.40164601486918367\n",
      "uitgaven : 0.3937460224587851\n",
      "toestemming : 0.34086056380799756\n",
      "aow : 0.30706074554274887\n",
      "samenstellen : 0.2942982234621291\n",
      "netto : 0.23299482049073178\n",
      "tegelijk : 0.22473180624501143\n",
      "\n",
      "\n",
      "Keywords computed:\n",
      "aanvragen : 0.398590088578973\n",
      "aow : 0.30706074554274887\n",
      "samenstellen : 0.2942982234621291\n",
      "overzicht : 0.2859017804187829\n",
      "periode : 0.24485486940379403\n",
      "won : 0.24256131311808332\n",
      "relatie : 0.24207411340462714\n",
      "pensioenopbouw : 0.2353753652775679\n",
      "netto : 0.23299482049073178\n",
      "tegelijk : 0.22473180624501143\n",
      "\n",
      "\n"
     ]
    },
    {
     "name": "stderr",
     "output_type": "stream",
     "text": [
      "C:\\Users\\01din\\AppData\\Local\\Temp\\ipykernel_26512\\2417980606.py:35: RuntimeWarning: invalid value encountered in true_divide\n",
      "  keywords_weights_normalized = keywords_weights/sum_value\n"
     ]
    },
    {
     "name": "stdout",
     "output_type": "stream",
     "text": [
      "Keywords computed:\n",
      "aa : nan\n",
      "aaa : nan\n",
      "aafje : nan\n",
      "aambeien : nan\n",
      "aan : nan\n",
      "aanbesteding : nan\n",
      "aanbeveling : nan\n",
      "aanbevelingen : nan\n",
      "aanbevolen : nan\n",
      "aanbieden : nan\n",
      "\n",
      "\n"
     ]
    },
    {
     "ename": "KeyboardInterrupt",
     "evalue": "",
     "output_type": "error",
     "traceback": [
      "\u001B[1;31m---------------------------------------------------------------------------\u001B[0m",
      "\u001B[1;31mKeyboardInterrupt\u001B[0m                         Traceback (most recent call last)",
      "Cell \u001B[1;32mIn [75], line 5\u001B[0m\n\u001B[0;32m      3\u001B[0m \u001B[38;5;28;01mif\u001B[39;00m \u001B[38;5;28mlen\u001B[39m(path)\u001B[38;5;241m>\u001B[39m\u001B[38;5;241m5\u001B[39m:\n\u001B[0;32m      4\u001B[0m     path[:] \u001B[38;5;241m=\u001B[39m path[\u001B[38;5;241m5\u001B[39m:]\n\u001B[1;32m----> 5\u001B[0m     top_ten_weights \u001B[38;5;241m=\u001B[39m \u001B[43mfind_keyword_weights\u001B[49m\u001B[43m(\u001B[49m\u001B[43mpath\u001B[49m\u001B[43m)\u001B[49m\u001B[38;5;241m.\u001B[39mhead(\u001B[38;5;241m10\u001B[39m)\n\u001B[0;32m      6\u001B[0m     \u001B[38;5;28mprint\u001B[39m(\u001B[38;5;124m\"\u001B[39m\u001B[38;5;124mKeywords computed:\u001B[39m\u001B[38;5;124m\"\u001B[39m)\n\u001B[0;32m      7\u001B[0m     i\u001B[38;5;241m=\u001B[39m\u001B[38;5;241m0\u001B[39m\n",
      "Cell \u001B[1;32mIn [67], line 6\u001B[0m, in \u001B[0;36mfind_keyword_weights\u001B[1;34m(path)\u001B[0m\n\u001B[0;32m      4\u001B[0m pd\u001B[38;5;241m.\u001B[39moptions\u001B[38;5;241m.\u001B[39mdisplay\u001B[38;5;241m.\u001B[39mmax_rows \u001B[38;5;241m=\u001B[39m \u001B[38;5;241m0\u001B[39m\n\u001B[0;32m      5\u001B[0m \u001B[38;5;28;01mfor\u001B[39;00m \u001B[38;5;28mid\u001B[39m \u001B[38;5;129;01min\u001B[39;00m path:\n\u001B[1;32m----> 6\u001B[0m     weights \u001B[38;5;241m+\u001B[39m\u001B[38;5;241m=\u001B[39m \u001B[43mtfidf\u001B[49m\u001B[38;5;241;43m.\u001B[39;49m\u001B[43mget_all_keywords_by_id_normalized\u001B[49m\u001B[43m(\u001B[49m\u001B[38;5;28;43mid\u001B[39;49m\u001B[43m)\u001B[49m\n\u001B[0;32m      8\u001B[0m df \u001B[38;5;241m=\u001B[39m DataFrame(weights, columns\u001B[38;5;241m=\u001B[39m[\u001B[38;5;124m'\u001B[39m\u001B[38;5;124mweights\u001B[39m\u001B[38;5;124m'\u001B[39m])\n\u001B[0;32m      9\u001B[0m \u001B[38;5;28;01mreturn\u001B[39;00m df\u001B[38;5;241m.\u001B[39msort_values(by\u001B[38;5;241m=\u001B[39m[\u001B[38;5;124m'\u001B[39m\u001B[38;5;124mweights\u001B[39m\u001B[38;5;124m'\u001B[39m], ascending\u001B[38;5;241m=\u001B[39m\u001B[38;5;28;01mFalse\u001B[39;00m)\n",
      "Cell \u001B[1;32mIn [63], line 33\u001B[0m, in \u001B[0;36mTfIdf.get_all_keywords_by_id_normalized\u001B[1;34m(self, page_id)\u001B[0m\n\u001B[0;32m     32\u001B[0m \u001B[38;5;28;01mdef\u001B[39;00m \u001B[38;5;21mget_all_keywords_by_id_normalized\u001B[39m(\u001B[38;5;28mself\u001B[39m, page_id):\n\u001B[1;32m---> 33\u001B[0m     keywords_weights \u001B[38;5;241m=\u001B[39m \u001B[38;5;28;43mself\u001B[39;49m\u001B[38;5;241;43m.\u001B[39;49m\u001B[43mget_all_keywords_by_id\u001B[49m\u001B[43m(\u001B[49m\u001B[43mpage_id\u001B[49m\u001B[43m)\u001B[49m\n\u001B[0;32m     34\u001B[0m     sum_value \u001B[38;5;241m=\u001B[39m \u001B[38;5;28msum\u001B[39m(keywords_weights)\n\u001B[0;32m     35\u001B[0m     keywords_weights_normalized \u001B[38;5;241m=\u001B[39m keywords_weights\u001B[38;5;241m/\u001B[39msum_value\n",
      "Cell \u001B[1;32mIn [63], line 29\u001B[0m, in \u001B[0;36mTfIdf.get_all_keywords_by_id\u001B[1;34m(self, page_id)\u001B[0m\n\u001B[0;32m     28\u001B[0m \u001B[38;5;28;01mdef\u001B[39;00m \u001B[38;5;21mget_all_keywords_by_id\u001B[39m(\u001B[38;5;28mself\u001B[39m, page_id):\n\u001B[1;32m---> 29\u001B[0m     keywords \u001B[38;5;241m=\u001B[39m \u001B[38;5;28;43mself\u001B[39;49m\u001B[38;5;241;43m.\u001B[39;49m\u001B[43mtfidf\u001B[49m\u001B[38;5;241;43m.\u001B[39;49m\u001B[43miloc\u001B[49m\u001B[43m[\u001B[49m\u001B[43mpage_id\u001B[49m\u001B[43m]\u001B[49m[\u001B[38;5;241m1\u001B[39m:]\u001B[38;5;241m.\u001B[39mvalues\n\u001B[0;32m     30\u001B[0m     \u001B[38;5;28;01mreturn\u001B[39;00m keywords\n",
      "File \u001B[1;32m~\\AppData\\Local\\Programs\\Python\\Python38\\lib\\site-packages\\pandas\\core\\indexing.py:1073\u001B[0m, in \u001B[0;36m_LocationIndexer.__getitem__\u001B[1;34m(self, key)\u001B[0m\n\u001B[0;32m   1070\u001B[0m axis \u001B[38;5;241m=\u001B[39m \u001B[38;5;28mself\u001B[39m\u001B[38;5;241m.\u001B[39maxis \u001B[38;5;129;01mor\u001B[39;00m \u001B[38;5;241m0\u001B[39m\n\u001B[0;32m   1072\u001B[0m maybe_callable \u001B[38;5;241m=\u001B[39m com\u001B[38;5;241m.\u001B[39mapply_if_callable(key, \u001B[38;5;28mself\u001B[39m\u001B[38;5;241m.\u001B[39mobj)\n\u001B[1;32m-> 1073\u001B[0m \u001B[38;5;28;01mreturn\u001B[39;00m \u001B[38;5;28;43mself\u001B[39;49m\u001B[38;5;241;43m.\u001B[39;49m\u001B[43m_getitem_axis\u001B[49m\u001B[43m(\u001B[49m\u001B[43mmaybe_callable\u001B[49m\u001B[43m,\u001B[49m\u001B[43m \u001B[49m\u001B[43maxis\u001B[49m\u001B[38;5;241;43m=\u001B[39;49m\u001B[43maxis\u001B[49m\u001B[43m)\u001B[49m\n",
      "File \u001B[1;32m~\\AppData\\Local\\Programs\\Python\\Python38\\lib\\site-packages\\pandas\\core\\indexing.py:1627\u001B[0m, in \u001B[0;36m_iLocIndexer._getitem_axis\u001B[1;34m(self, key, axis)\u001B[0m\n\u001B[0;32m   1624\u001B[0m \u001B[38;5;66;03m# validate the location\u001B[39;00m\n\u001B[0;32m   1625\u001B[0m \u001B[38;5;28mself\u001B[39m\u001B[38;5;241m.\u001B[39m_validate_integer(key, axis)\n\u001B[1;32m-> 1627\u001B[0m \u001B[38;5;28;01mreturn\u001B[39;00m \u001B[38;5;28;43mself\u001B[39;49m\u001B[38;5;241;43m.\u001B[39;49m\u001B[43mobj\u001B[49m\u001B[38;5;241;43m.\u001B[39;49m\u001B[43m_ixs\u001B[49m\u001B[43m(\u001B[49m\u001B[43mkey\u001B[49m\u001B[43m,\u001B[49m\u001B[43m \u001B[49m\u001B[43maxis\u001B[49m\u001B[38;5;241;43m=\u001B[39;49m\u001B[43maxis\u001B[49m\u001B[43m)\u001B[49m\n",
      "File \u001B[1;32m~\\AppData\\Local\\Programs\\Python\\Python38\\lib\\site-packages\\pandas\\core\\frame.py:3713\u001B[0m, in \u001B[0;36mDataFrame._ixs\u001B[1;34m(self, i, axis)\u001B[0m\n\u001B[0;32m   3711\u001B[0m \u001B[38;5;66;03m# irow\u001B[39;00m\n\u001B[0;32m   3712\u001B[0m \u001B[38;5;28;01mif\u001B[39;00m axis \u001B[38;5;241m==\u001B[39m \u001B[38;5;241m0\u001B[39m:\n\u001B[1;32m-> 3713\u001B[0m     new_mgr \u001B[38;5;241m=\u001B[39m \u001B[38;5;28;43mself\u001B[39;49m\u001B[38;5;241;43m.\u001B[39;49m\u001B[43m_mgr\u001B[49m\u001B[38;5;241;43m.\u001B[39;49m\u001B[43mfast_xs\u001B[49m\u001B[43m(\u001B[49m\u001B[43mi\u001B[49m\u001B[43m)\u001B[49m\n\u001B[0;32m   3715\u001B[0m     \u001B[38;5;66;03m# if we are a copy, mark as such\u001B[39;00m\n\u001B[0;32m   3716\u001B[0m     copy \u001B[38;5;241m=\u001B[39m \u001B[38;5;28misinstance\u001B[39m(new_mgr\u001B[38;5;241m.\u001B[39marray, np\u001B[38;5;241m.\u001B[39mndarray) \u001B[38;5;129;01mand\u001B[39;00m new_mgr\u001B[38;5;241m.\u001B[39marray\u001B[38;5;241m.\u001B[39mbase \u001B[38;5;129;01mis\u001B[39;00m \u001B[38;5;28;01mNone\u001B[39;00m\n",
      "File \u001B[1;32m~\\AppData\\Local\\Programs\\Python\\Python38\\lib\\site-packages\\pandas\\core\\internals\\managers.py:1107\u001B[0m, in \u001B[0;36mBlockManager.fast_xs\u001B[1;34m(self, loc)\u001B[0m\n\u001B[0;32m   1103\u001B[0m \u001B[38;5;28;01mfor\u001B[39;00m blk \u001B[38;5;129;01min\u001B[39;00m \u001B[38;5;28mself\u001B[39m\u001B[38;5;241m.\u001B[39mblocks:\n\u001B[0;32m   1104\u001B[0m     \u001B[38;5;66;03m# Such assignment may incorrectly coerce NaT to None\u001B[39;00m\n\u001B[0;32m   1105\u001B[0m     \u001B[38;5;66;03m# result[blk.mgr_locs] = blk._slice((slice(None), loc))\u001B[39;00m\n\u001B[0;32m   1106\u001B[0m     \u001B[38;5;28;01mfor\u001B[39;00m i, rl \u001B[38;5;129;01min\u001B[39;00m \u001B[38;5;28menumerate\u001B[39m(blk\u001B[38;5;241m.\u001B[39mmgr_locs):\n\u001B[1;32m-> 1107\u001B[0m         \u001B[43mresult\u001B[49m\u001B[43m[\u001B[49m\u001B[43mrl\u001B[49m\u001B[43m]\u001B[49m \u001B[38;5;241m=\u001B[39m blk\u001B[38;5;241m.\u001B[39miget((i, loc))\n\u001B[0;32m   1109\u001B[0m \u001B[38;5;28;01mif\u001B[39;00m immutable_ea:\n\u001B[0;32m   1110\u001B[0m     dtype \u001B[38;5;241m=\u001B[39m cast(ExtensionDtype, dtype)\n",
      "\u001B[1;31mKeyboardInterrupt\u001B[0m: "
     ]
    }
   ],
   "source": [
    "for path in paths:\n",
    "    path[:] = [x for x in path if x < 1556]\n",
    "    if len(path)>5:\n",
    "        path[:] = path[5:]\n",
    "        top_ten_weights = find_keyword_weights(path).head(10)\n",
    "        print(\"Keywords computed:\")\n",
    "        i=0\n",
    "        for index in top_ten_weights.index:\n",
    "            print(str(tfidf.get_keyword_by_id(index)) + \" : \" + str(top_ten_weights.weights.iloc[i]))\n",
    "            i+=1\n",
    "        print(\"\\n\")"
   ],
   "metadata": {
    "collapsed": false
   }
  },
  {
   "cell_type": "code",
   "execution_count": 71,
   "outputs": [
    {
     "name": "stdout",
     "output_type": "stream",
     "text": [
      "sessie\n",
      "helppagina\n",
      "gegeven\n",
      "uitloggen\n",
      "aug\n",
      "menu\n",
      "uitgelogd\n",
      "seconden\n",
      "hoofdcontent\n",
      "verlengen\n"
     ]
    }
   ],
   "source": [],
   "metadata": {
    "collapsed": false
   }
  },
  {
   "cell_type": "code",
   "execution_count": null,
   "outputs": [],
   "source": [],
   "metadata": {
    "collapsed": false
   }
  }
 ],
 "metadata": {
  "kernelspec": {
   "display_name": "Python 3",
   "language": "python",
   "name": "python3"
  },
  "language_info": {
   "codemirror_mode": {
    "name": "ipython",
    "version": 2
   },
   "file_extension": ".py",
   "mimetype": "text/x-python",
   "name": "python",
   "nbconvert_exporter": "python",
   "pygments_lexer": "ipython2",
   "version": "2.7.6"
  }
 },
 "nbformat": 4,
 "nbformat_minor": 0
}
