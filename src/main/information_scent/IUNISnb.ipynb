{
 "cells": [
  {
   "cell_type": "code",
   "execution_count": 1,
   "metadata": {
    "collapsed": true
   },
   "outputs": [],
   "source": [
    "import pandas as pd\n",
    "\n",
    "# Loading in the tf-idf\n",
    "# Rows are documents, the first column is the document id\n",
    "# Columns are keywords, the first row is the keyword id\n",
    "tfidf = pd.read_csv(\"../data/tf_idf/tf_idf.csv\")\n",
    "\n",
    "\n",
    "# Loading in the keywords\n",
    "# Two columns, column 1 is id, column 2 is keyword\n",
    "# We can access the weight in the tf-idf by first accessing the id number from the keyword file\n",
    "tfidf_keywords = pd.read_csv(\"../data/tf_idf/tf_idf_keywords.csv\")\n",
    "tfidf_keywords.columns = [\"id\", \"keyword\"]\n",
    "\n",
    "# Loading in the adjacency matrix\n",
    "# First column and row are data immediately, so access directly by page id\n",
    "# If row(page_id_1) leads to column(page_id_2) = 1 else = 0\n",
    "adjacency_matrix = pd.read_csv(\"../data/matrices/adjacency_matrix.csv\")"
   ]
  },
  {
   "cell_type": "code",
   "execution_count": 53,
   "outputs": [],
   "source": [
    "def get_id_by_keyword(keyword):\n",
    "    return tfidf_keywords.id.iloc[tfidf_keywords[tfidf_keywords.keyword == keyword].index].values[0]\n",
    "\n",
    "# Method to get the tfidf value of a keyword in a page\n",
    "def get_tf_idf_value(page_id, keyword):\n",
    "    keyword_id = get_id_by_keyword(keyword)\n",
    "    return tfidf.iloc[page_id,keyword_id+1]\n",
    "\n",
    "# Not sure if this indexing is correct, TODO: Matthew please confirm that the first row and first column in the adj matrix file are useless\n",
    "def get_adjacency_value(page_id_1, page_id_2):\n",
    "    return adjacency_matrix.iloc[page_id_1,page_id_2+1]==1"
   ],
   "metadata": {
    "collapsed": false
   }
  },
  {
   "cell_type": "code",
   "execution_count": null,
   "outputs": [],
   "source": [],
   "metadata": {
    "collapsed": false
   }
  }
 ],
 "metadata": {
  "kernelspec": {
   "display_name": "Python 3",
   "language": "python",
   "name": "python3"
  },
  "language_info": {
   "codemirror_mode": {
    "name": "ipython",
    "version": 2
   },
   "file_extension": ".py",
   "mimetype": "text/x-python",
   "name": "python",
   "nbconvert_exporter": "python",
   "pygments_lexer": "ipython2",
   "version": "2.7.6"
  }
 },
 "nbformat": 4,
 "nbformat_minor": 0
}
