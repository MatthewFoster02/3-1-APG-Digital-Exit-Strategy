{
 "cells": [
  {
   "cell_type": "code",
   "execution_count": 36,
   "metadata": {
    "collapsed": true
   },
   "outputs": [],
   "source": [
    "import pandas as pd\n",
    "from ast import literal_eval"
   ]
  },
  {
   "cell_type": "code",
   "execution_count": 37,
   "outputs": [],
   "source": [
    "class ProximalCues:\n",
    "    def __init__(self):\n",
    "        generic = lambda x: literal_eval(x)\n",
    "\n",
    "        conv = {'pc': generic}\n",
    "\n",
    "        self.urls = pd.read_csv(\"../data/urls/url-reference_new.csv\", converters=conv)\n",
    "\n",
    "    # Get the proximal cues by page id\n",
    "    def get_proximal_cues_by_id(self, id):\n",
    "        return self.urls.loc[self.urls.id==id].pc.iloc[0]"
   ],
   "metadata": {
    "collapsed": false
   }
  },
  {
   "cell_type": "code",
   "execution_count": 38,
   "outputs": [],
   "source": [
    "import numpy as np\n",
    "\n",
    "\n",
    "class TfIdf:\n",
    "    def __init__(self):\n",
    "        # Loading in the tf-idf\n",
    "        # Rows are documents, the first column is the document id\n",
    "        # Columns are keywords, the first row is the keyword id\n",
    "        self.tfidf = pd.read_csv(\"../data/tf_idf/tf_idf.csv\")\n",
    "\n",
    "        # Loading in the keywords\n",
    "        # Two columns, column 1 is id, column 2 is keyword\n",
    "        # We can access the weight in the tf-idf by first accessing the id number from the keyword file\n",
    "        self.tfidf_keywords = pd.read_csv(\"../data/tf_idf/tf_idf_keywords.csv\")\n",
    "        self.tfidf_keywords.columns = [\"id\", \"keyword\"]\n",
    "\n",
    "    def get_id_by_keyword(self, keyword):\n",
    "        return self.tfidf_keywords.id.iloc[self.tfidf_keywords[self.tfidf_keywords.keyword == keyword].index].values[0]\n",
    "\n",
    "\n",
    "    def get_keyword_by_id(self, id):\n",
    "        return self.tfidf_keywords.loc[self.tfidf_keywords.id==id, 'keyword'].iloc[0]\n",
    "    # Method to get the tfidf value of a keyword in a page\n",
    "    def get_tf_idf_value(self, page_id, keyword):\n",
    "        keyword_id = self.get_id_by_keyword(keyword)\n",
    "        return self.tfidf.iloc[page_id, keyword_id + 1]\n",
    "\n",
    "    def get_all_keywords_by_id(self, page_id):\n",
    "        keywords = self.tfidf.iloc[page_id][1:].values\n",
    "        return keywords\n",
    "\n",
    "    def get_all_keywords_by_id_normalized(self, page_id):\n",
    "        keywords_weights = self.get_all_keywords_by_id(page_id)\n",
    "        sum_value = sum(keywords_weights)\n",
    "        keywords_weights_normalized = keywords_weights/sum_value\n",
    "        return keywords_weights_normalized\n",
    "\n",
    "    def get_number_of_keywords(self):\n",
    "        return self.tfidf_keywords.shape[0]"
   ],
   "metadata": {
    "collapsed": false
   }
  },
  {
   "cell_type": "code",
   "execution_count": 39,
   "outputs": [],
   "source": [
    "class AdjacencyMatrix:\n",
    "    def __init__(self):\n",
    "        # Loading in the adjacency matrix\n",
    "        # First column and row are data immediately, so access directly by page id\n",
    "        # If row(page_id_1) leads to column(page_id_2) = 1 else = 0\n",
    "        self.adjacency_matrix = pd.read_csv(\"../data/matrices/adjacency_matrix.csv\", header=None)\n",
    "\n",
    "    # Method to get the adjacency value from two page ids\n",
    "    def get_adjacency_value(self, page_id_1, page_id_2):\n",
    "        return self.adjacency_matrix.iloc[page_id_1, page_id_2] == 1"
   ],
   "metadata": {
    "collapsed": false
   }
  },
  {
   "cell_type": "code",
   "execution_count": 40,
   "outputs": [],
   "source": [
    "adjacency_matrix = AdjacencyMatrix()\n",
    "proximal_cues = ProximalCues()\n",
    "tfidf = TfIdf()"
   ],
   "metadata": {
    "collapsed": false
   }
  },
  {
   "cell_type": "code",
   "execution_count": 41,
   "outputs": [],
   "source": [
    "generic = lambda x: literal_eval(x)\n",
    "\n",
    "conv = {'url_id_path': generic,\n",
    "        'seconds_spent_path': generic}\n",
    "df = pd.read_csv('../data/clickdata/dataNoUnscrapedVisitsOrUnder20Sec.csv', converters=conv)\n",
    "\n",
    "paths = df.url_id_path\n",
    "seconds = df.seconds_spent_path"
   ],
   "metadata": {
    "collapsed": false
   }
  },
  {
   "cell_type": "markdown",
   "source": [
    "I took the liberty to implement my own - perhaps but not necessarily slightly simplified - version of IUNIS.\n",
    "\n",
    "Input is the ordered list of page id's that the user has visited.\n",
    "For each page, take the TF-IDF values from that page, which is a row of keywords, with either 0 if the keyword is not present or 0<value<=1 if it is.\n",
    "\n",
    "Then, for each next page, we add the TF-IDF values onto the existing weights.\n",
    "\n",
    "Eventually we can sort the list and we will have the keywords with the highest weight on top."
   ],
   "metadata": {
    "collapsed": false
   }
  },
  {
   "cell_type": "code",
   "execution_count": 64,
   "outputs": [],
   "source": [
    "from pandas import DataFrame\n",
    "def find_keyword_weights(path, sorted):\n",
    "    weights = np.zeros(tfidf.get_number_of_keywords())\n",
    "    pd.options.display.max_rows = 0\n",
    "    for id in path:\n",
    "        weights += tfidf.get_all_keywords_by_id_normalized(id)\n",
    "        weights /= max(weights)\n",
    "    if sorted:\n",
    "        df = DataFrame(weights, columns=['weights'])\n",
    "        return df.sort_values(by=['weights'], ascending=False)\n",
    "    return weights"
   ],
   "metadata": {
    "collapsed": false
   }
  },
  {
   "cell_type": "markdown",
   "source": [
    "In this model, I introduced a factor of decay. Essentially, every iteration, all values are divided by 1.25, meaning that recent keywords are more biased.\n",
    "This is a very simple implementation, we can experiment with changing this 1.25, and also look at different implementations."
   ],
   "metadata": {
    "collapsed": false
   }
  },
  {
   "cell_type": "code",
   "execution_count": 96,
   "outputs": [],
   "source": [
    "def find_keyword_weights_more_weight_on_recent_pages(path, decay_factor, sorted):\n",
    "    weights = np.zeros(tfidf.get_number_of_keywords())\n",
    "    pd.options.display.max_rows = 0\n",
    "    for id in path:\n",
    "        weights = weights/decay_factor\n",
    "        weights += tfidf.get_all_keywords_by_id_normalized(id)\n",
    "        weights /= max(weights)\n",
    "    if sorted:\n",
    "        df = DataFrame(weights, columns=['weights'])\n",
    "        return df.sort_values(by=['weights'], ascending=False)\n",
    "    return weights"
   ],
   "metadata": {
    "collapsed": false
   }
  },
  {
   "cell_type": "markdown",
   "source": [
    "This is a method to print out the top 'num_of_words' weighted keywords."
   ],
   "metadata": {
    "collapsed": false
   }
  },
  {
   "cell_type": "code",
   "execution_count": 44,
   "outputs": [],
   "source": [
    "def print_top_weights_as_words(num_of_words, weights):\n",
    "    top_weights = weights.head(num_of_words)\n",
    "    i=0\n",
    "    for index in top_weights.index:\n",
    "        print(str(tfidf.get_keyword_by_id(index)) + \" : \" + str(top_weights.weights.iloc[i]))\n",
    "        i+=1\n",
    "    print(\"\\n\")"
   ],
   "metadata": {
    "collapsed": false
   }
  },
  {
   "cell_type": "markdown",
   "source": [
    "Line 2 in this section gets rid of all useless pages (login, logout, search, and error)\n",
    "Then, if the user has visited more than 5 pages, it will compute the keywords up until page 5."
   ],
   "metadata": {
    "collapsed": false
   }
  },
  {
   "cell_type": "code",
   "execution_count": 51,
   "outputs": [],
   "source": [
    "def remove_keywordless_pages(path, seconds):\n",
    "    indices_to_remove = []\n",
    "    for i in range(len(path)):\n",
    "        if path[i]>1555:\n",
    "            indices_to_remove.append(i)\n",
    "    for i in range(len(indices_to_remove)-1, -1, -1):\n",
    "        index = indices_to_remove[i]\n",
    "        path.pop(index)\n",
    "        seconds.pop(index)\n",
    "    return path, seconds"
   ],
   "metadata": {
    "collapsed": false
   }
  },
  {
   "cell_type": "markdown",
   "source": [
    "These sections computes the weights after each different page to see how it changes throughout the visit\n",
    "We can do interesting experiments to see how information need changes throughout the visit, and to find out at which page index we can best make our prediction final"
   ],
   "metadata": {
    "collapsed": false
   }
  },
  {
   "cell_type": "code",
   "execution_count": 46,
   "outputs": [
    {
     "name": "stdout",
     "output_type": "stream",
     "text": [
      "[188, 228, 3, 1, 12, 7, 20, 1, 7, 1, 12, 7, 13, 188, 1]\n"
     ]
    }
   ],
   "source": [
    "path = paths[12]\n",
    "path[:] = [x for x in path if x < 1556]\n",
    "print(path)"
   ],
   "metadata": {
    "collapsed": false
   }
  },
  {
   "cell_type": "code",
   "execution_count": 47,
   "outputs": [
    {
     "name": "stdout",
     "output_type": "stream",
     "text": [
      "bijverdienen : 1.0\n",
      "gekregen : 0.875277017645266\n",
      "jaaropgave : 0.8620659396774324\n",
      "betaalspecificatie : 0.8205906418828691\n",
      "nabetaling : 0.7961984147428294\n",
      "buitenland : 0.5409923820516527\n",
      "dekkingsgraad : 0.4982173030124242\n",
      "speciaal : 0.4324878278328123\n",
      "uitbetaling : 0.43123633353548013\n",
      "betaaldatums : 0.3672792338716384\n",
      "\n",
      "\n",
      "bijverdienen : 1.0\n",
      "gekregen : 0.8752770176452659\n",
      "jaaropgave : 0.8620659396774324\n",
      "betaalspecificatie : 0.8205906418828691\n",
      "nabetaling : 0.7961984147428294\n",
      "buitenland : 0.5409923820516527\n",
      "dekkingsgraad : 0.4982173030124241\n",
      "speciaal : 0.4324878278328123\n",
      "uitbetaling : 0.4312363335354801\n",
      "nabestaandenpensioen : 0.4060847339908747\n",
      "\n",
      "\n",
      "bijverdienen : 1.0\n",
      "gekregen : 0.8752770176452659\n",
      "jaaropgave : 0.8620659396774324\n",
      "betaalspecificatie : 0.8205906418828691\n",
      "nabetaling : 0.7961984147428294\n",
      "buitenland : 0.5409923820516527\n",
      "dekkingsgraad : 0.4982173030124241\n",
      "nabestaandenpensioen : 0.46733573618596824\n",
      "speciaal : 0.4324878278328123\n",
      "uitbetaling : 0.43123633353548\n",
      "\n",
      "\n",
      "bijverdienen : 1.0\n",
      "gekregen : 0.8752770176452659\n",
      "jaaropgave : 0.8620659396774324\n",
      "betaalspecificatie : 0.8205906418828691\n",
      "nabetaling : 0.7961984147428294\n",
      "buitenland : 0.5409923820516527\n",
      "laxxxxxxxxx : 0.535666062567965\n",
      "dekkingsgraad : 0.4982173030124241\n",
      "nabestaandenpensioen : 0.46733573618596824\n",
      "dhr : 0.46330517813879507\n",
      "\n",
      "\n",
      "bericht : 1.0\n",
      "bijverdienen : 0.8\n",
      "gekregen : 0.7002216141162128\n",
      "jaaropgave : 0.689652751741946\n",
      "betaalspecificatie : 0.6564725135062953\n",
      "nabetaling : 0.6369587317942635\n",
      "buitenland : 0.43279390564132214\n",
      "laxxxxxxxxx : 0.428532850054372\n",
      "dekkingsgraad : 0.3985738424099393\n",
      "nabestaandenpensioen : 0.3738685889487746\n",
      "\n",
      "\n",
      "bericht : 1.0\n",
      "laxxxxxxxxx : 0.9641989126223371\n",
      "dhr : 0.8339493206498311\n",
      "bijverdienen : 0.7999999999999999\n",
      "gekregen : 0.7002216141162128\n",
      "jaaropgave : 0.689652751741946\n",
      "betaalspecificatie : 0.6564725135062952\n",
      "nabetaling : 0.6369587317942634\n",
      "mijnabp : 0.45185176672783156\n",
      "buitenland : 0.43279390564132214\n",
      "\n",
      "\n",
      "bericht : 1.0\n",
      "laxxxxxxxxx : 0.9417083926281892\n",
      "dhr : 0.8476150049782432\n",
      "bijverdienen : 0.7813395184750992\n",
      "gekregen : 0.6838885234992732\n",
      "jaaropgave : 0.6735661862013491\n",
      "betaalspecificatie : 0.6411598969939335\n",
      "nabetaling : 0.6221012859857997\n",
      "mijnabp : 0.44131205229655857\n",
      "buitenland : 0.42269872729093527\n",
      "\n",
      "\n",
      "laxxxxxxxxx : 1.0\n",
      "dhr : 0.8873310205861007\n",
      "bericht : 0.6768764658701425\n",
      "bijverdienen : 0.528870331910104\n",
      "mijnabp : 0.46862920172656886\n",
      "gekregen : 0.4629080468353379\n",
      "jaaropgave : 0.45592109964559946\n",
      "betaalspecificatie : 0.43398604513491823\n",
      "nabetaling : 0.4210857198713389\n",
      "buitenland : 0.2861148206564954\n",
      "\n",
      "\n",
      "laxxxxxxxxx : 1.0\n",
      "dhr : 0.8795116540287023\n",
      "mijnabp : 0.46862920172656886\n",
      "bericht : 0.4407706091637259\n",
      "bijverdienen : 0.34439149552196174\n",
      "gekregen : 0.3014379611028557\n",
      "jaaropgave : 0.2968881782040562\n",
      "betaalspecificatie : 0.2826044383693678\n",
      "nabetaling : 0.27420396278549825\n",
      "buitenland : 0.1863131755207572\n",
      "\n",
      "\n",
      "laxxxxxxxxx : 1.0\n",
      "dhr : 0.8744198135902136\n",
      "mijnabp : 0.46862920172656886\n",
      "bericht : 0.28702243274599837\n",
      "bijverdienen : 0.2242619693933099\n",
      "gekregen : 0.19629134774183024\n",
      "jaaropgave : 0.1933286053789553\n",
      "betaalspecificatie : 0.18402727341437253\n",
      "nabetaling : 0.17855702451805833\n",
      "buitenland : 0.12132401702568157\n",
      "\n",
      "\n",
      "bericht : 1.0\n",
      "laxxxxxxxxx : 0.6506085914526504\n",
      "dhr : 0.568905043258218\n",
      "mijnabp : 0.3048941848489029\n",
      "bijverdienen : 0.14590676402337874\n",
      "gekregen : 0.12770883726865453\n",
      "jaaropgave : 0.1257812516331074\n",
      "betaalspecificatie : 0.11972972514499669\n",
      "nabetaling : 0.11617073421567028\n",
      "buitenland : 0.07893444782645606\n",
      "\n",
      "\n",
      "laxxxxxxxxx : 1.0\n",
      "dhr : 0.8701275188663645\n",
      "bericht : 0.842975104130162\n",
      "mijnabp : 0.46862920172656897\n",
      "bijverdienen : 0.12299576959590265\n",
      "gekregen : 0.10765537039488596\n",
      "jaaropgave : 0.10603046369304081\n",
      "betaalspecificatie : 0.10092917752157925\n",
      "nabetaling : 0.09792903677233201\n",
      "buitenland : 0.06653977437596363\n",
      "\n",
      "\n",
      "laxxxxxxxxx : 1.0\n",
      "dhr : 0.8701275188663645\n",
      "bericht : 0.842975104130162\n",
      "mijnabp : 0.46862920172656897\n",
      "samenstellen : 0.1997614860868309\n",
      "aow : 0.19191296596421803\n",
      "netto : 0.14562176280670736\n",
      "tegelijk : 0.14045737890313215\n",
      "bijverdienen : 0.12299576959590264\n",
      "plan : 0.12138562702847422\n",
      "\n",
      "\n",
      "laxxxxxxxxx : 1.0\n",
      "dhr : 0.8701275188663645\n",
      "bericht : 0.842975104130162\n",
      "mijnabp : 0.46862920172656897\n",
      "bijverdienen : 0.22785815117759126\n",
      "samenstellen : 0.1997614860868309\n",
      "gekregen : 0.19943900300888623\n",
      "jaaropgave : 0.1964287512080727\n",
      "aow : 0.19191296596421803\n",
      "betaalspecificatie : 0.18697826653306343\n",
      "\n",
      "\n",
      "laxxxxxxxxx : 1.0\n",
      "dhr : 0.8683090220639325\n",
      "bericht : 0.5489312583495696\n",
      "mijnabp : 0.4686292017265689\n",
      "bijverdienen : 0.1483774088206151\n",
      "samenstellen : 0.13008133145352352\n",
      "gekregen : 0.12987133587844038\n",
      "jaaropgave : 0.12791111036184613\n",
      "aow : 0.12497050670202227\n",
      "betaalspecificatie : 0.12175711314502542\n",
      "\n",
      "\n"
     ]
    }
   ],
   "source": [
    "for i in range(len(path)):\n",
    "    subpath = path[:i+1]\n",
    "    weights = find_keyword_weights_more_weight_on_recent_pages(subpath)\n",
    "    print_top_weights_as_words(10, weights)"
   ],
   "metadata": {
    "collapsed": false
   }
  },
  {
   "cell_type": "markdown",
   "source": [
    "Idea for evaluation:\n",
    "\n",
    "Look at the keywords at a specific time (we must make sure the weights are normalised, they are not in the implementation above), and compare it with a certain page near the end of the user visit to see if the user found their need.\n",
    "We can do either the last page, or maybe the page that the user has spent the most time on.\n",
    "The problem becomes that we want to evaluate the prediction of the information need, and there will be inaccuracies as the user data is not necessarily correct.\n",
    "But if we can create a metric and we can compare different implementations with the same metric we still have something nice.\n"
   ],
   "metadata": {
    "collapsed": false
   }
  },
  {
   "cell_type": "code",
   "execution_count": 89,
   "outputs": [],
   "source": [
    "import math\n",
    "\n",
    "\n",
    "def estimate_most_important_page(path, seconds):\n",
    "    path = path[int(len(path)/2):]\n",
    "    seconds = seconds[int(len(seconds)/2):]\n",
    "    index = seconds.index(max(seconds))\n",
    "    return path[index]\n",
    "\n",
    "def find_keywords_of_estimated_most_important_page(path, seconds):\n",
    "    id = estimate_most_important_page(path, seconds)\n",
    "    return tfidf.get_all_keywords_by_id_normalized(id)\n",
    "\n",
    "from numpy import dot\n",
    "from numpy.linalg import norm\n",
    "def similarity_estimated_information_need(information_need, keywords_most_important_page):\n",
    "    def cosine_similarity(list_1, list_2):\n",
    "        cos_sim = dot(list_1, list_2) / (norm(list_1) * norm(list_2))\n",
    "        return cos_sim\n",
    "    similarity = cosine_similarity(information_need, keywords_most_important_page)\n",
    "    if math.isnan(similarity):\n",
    "        return 0\n",
    "    return similarity"
   ],
   "metadata": {
    "collapsed": false
   }
  },
  {
   "cell_type": "code",
   "execution_count": 90,
   "outputs": [],
   "source": [
    "def compute_similarities(subpath_size):\n",
    "    count=0\n",
    "    similarity_list = []\n",
    "    for j in range(len(paths)):\n",
    "        path, second = remove_keywordless_pages(paths[j], seconds[j])\n",
    "        if count == 1000:\n",
    "            break\n",
    "        if len(path)>6:\n",
    "            count+=1\n",
    "            subpath = path[:subpath_size]\n",
    "            weights = find_keyword_weights(subpath, False)\n",
    "            similarity_list.append(similarity_estimated_information_need(weights, find_keywords_of_estimated_most_important_page(path, second)))\n",
    "    return similarity_list"
   ],
   "metadata": {
    "collapsed": false
   }
  },
  {
   "cell_type": "code",
   "execution_count": 91,
   "outputs": [
    {
     "name": "stderr",
     "output_type": "stream",
     "text": [
      "C:\\Users\\01din\\AppData\\Local\\Temp\\ipykernel_27224\\2417980606.py:35: RuntimeWarning: invalid value encountered in true_divide\n",
      "  keywords_weights_normalized = keywords_weights/sum_value\n"
     ]
    }
   ],
   "source": [
    "similarity_list_1 = compute_similarities(1)\n",
    "similarity_list_2 = compute_similarities(2)\n",
    "similarity_list_3 = compute_similarities(3)\n",
    "similarity_list_4 = compute_similarities(4)\n",
    "similarity_list_5 = compute_similarities(5)"
   ],
   "metadata": {
    "collapsed": false
   }
  },
  {
   "cell_type": "code",
   "execution_count": 95,
   "outputs": [
    {
     "name": "stdout",
     "output_type": "stream",
     "text": [
      "0.06827919047832111\n",
      "0.08763027893702857\n",
      "0.10729567178250851\n",
      "0.1444066589297204\n",
      "0.17566170221336747\n"
     ]
    }
   ],
   "source": [
    "print(np.mean(similarity_list_1))\n",
    "print(np.mean(similarity_list_2))\n",
    "print(np.mean(similarity_list_3))\n",
    "print(np.mean(similarity_list_4))\n",
    "print(np.mean(similarity_list_5))"
   ],
   "metadata": {
    "collapsed": false
   }
  },
  {
   "cell_type": "code",
   "execution_count": 125,
   "outputs": [],
   "source": [
    "def compute_similarities_decay(decay_factor):\n",
    "    count=0\n",
    "    similarity_list = []\n",
    "    for j in range(len(paths)):\n",
    "        path, second = remove_keywordless_pages(paths[j], seconds[j])\n",
    "        if count == 1000:\n",
    "            break\n",
    "        if len(path)>6:\n",
    "            count+=1\n",
    "            subpath = path[:3]\n",
    "            weights = find_keyword_weights_more_weight_on_recent_pages(subpath, decay_factor, False)\n",
    "            similarity_list.append(similarity_estimated_information_need(weights, find_keywords_of_estimated_most_important_page(path, second)))\n",
    "    return similarity_list"
   ],
   "metadata": {
    "collapsed": false
   }
  },
  {
   "cell_type": "code",
   "execution_count": 112,
   "outputs": [
    {
     "name": "stderr",
     "output_type": "stream",
     "text": [
      "C:\\Users\\01din\\AppData\\Local\\Temp\\ipykernel_27224\\2417980606.py:35: RuntimeWarning: invalid value encountered in true_divide\n",
      "  keywords_weights_normalized = keywords_weights/sum_value\n"
     ]
    }
   ],
   "source": [
    "avg_sim_list = []\n",
    "\n",
    "for i in range(1,51):\n",
    "    similarity_list = compute_similarities_decay(i)\n",
    "    avg_sim_list.append(np.mean(similarity_list))"
   ],
   "metadata": {
    "collapsed": false
   }
  },
  {
   "cell_type": "code",
   "execution_count": 113,
   "outputs": [
    {
     "data": {
      "text/plain": "[0.11406294830471776,\n 0.13815981276942568,\n 0.1525111131936669,\n 0.15984123068723938,\n 0.1633624105855915,\n 0.1648101384056773,\n 0.16510022545344458,\n 0.1647560534313497,\n 0.1641696493063086,\n 0.1636150564256052,\n 0.1629073659661259,\n 0.16208566827736165,\n 0.16124008764274808,\n 0.16038201853474557,\n 0.15953501827406444,\n 0.1587139852883536,\n 0.15791039948425087,\n 0.1571880497701824,\n 0.156491739657473,\n 0.1558239287196317,\n 0.15518277417146897,\n 0.1545680671829046,\n 0.15397779185956773,\n 0.15341117881305902,\n 0.15286920779749277,\n 0.1523180544582849,\n 0.15179044599924224,\n 0.15128920061839363,\n 0.1508094458474127,\n 0.15035108571992314,\n 0.14991319318054935,\n 0.1494946789705611,\n 0.1490945965136794,\n 0.1487130258984474,\n 0.14834818762222016,\n 0.14799865656976766,\n 0.1476635866471548,\n 0.1473421430346586,\n 0.14703314664418177,\n 0.14673724621397963,\n 0.14645494650171148,\n 0.14618299433259324,\n 0.14591891673290358,\n 0.14566170525551572,\n 0.14541197564571892,\n 0.1451682920436345,\n 0.14493325250753467,\n 0.14470643951362913,\n 0.14448745878858454,\n 0.14427592061438607]"
     },
     "execution_count": 113,
     "metadata": {},
     "output_type": "execute_result"
    }
   ],
   "source": [
    "avg_sim_list"
   ],
   "metadata": {
    "collapsed": false
   }
  },
  {
   "cell_type": "code",
   "execution_count": 129,
   "outputs": [
    {
     "data": {
      "text/plain": "<Figure size 640x480 with 1 Axes>",
      "image/png": "[encoded data removed]"
     },
     "metadata": {},
     "output_type": "display_data"
    }
   ],
   "source": [
    "from matplotlib import pyplot as plt\n",
    "plt.plot(list(range(1,51)), avg_sim_list)\n",
    "plt.xlabel(\"Factor of Decay\")\n",
    "plt.ylabel(\"Similarity\")\n",
    "plt.show()"
   ],
   "metadata": {
    "collapsed": false
   }
  },
  {
   "cell_type": "code",
   "execution_count": 126,
   "outputs": [
    {
     "name": "stderr",
     "output_type": "stream",
     "text": [
      "C:\\Users\\01din\\AppData\\Local\\Temp\\ipykernel_27224\\2417980606.py:35: RuntimeWarning: invalid value encountered in true_divide\n",
      "  keywords_weights_normalized = keywords_weights/sum_value\n"
     ]
    }
   ],
   "source": [
    "avg_sim_list_no_decay =[]\n",
    "\n",
    "for i in range(1,8):\n",
    "    similarity_list = compute_similarities(i)\n",
    "    avg_sim_list_no_decay.append(np.mean(similarity_list))"
   ],
   "metadata": {
    "collapsed": false
   }
  },
  {
   "cell_type": "code",
   "execution_count": 128,
   "outputs": [
    {
     "data": {
      "text/plain": "<Figure size 640x480 with 1 Axes>",
      "image/png": "[encoded data removed]"
     },
     "metadata": {},
     "output_type": "display_data"
    }
   ],
   "source": [
    "plt.plot(list(range(1,8)), avg_sim_list_no_decay)\n",
    "plt.xlabel(\"Prediction page\")\n",
    "plt.ylabel(\"Similarity\")\n",
    "plt.show()"
   ],
   "metadata": {
    "collapsed": false
   }
  },
  {
   "cell_type": "code",
   "execution_count": null,
   "outputs": [],
   "source": [],
   "metadata": {
    "collapsed": false
   }
  }
 ],
 "metadata": {
  "kernelspec": {
   "display_name": "Python 3",
   "language": "python",
   "name": "python3"
  },
  "language_info": {
   "codemirror_mode": {
    "name": "ipython",
    "version": 2
   },
   "file_extension": ".py",
   "mimetype": "text/x-python",
   "name": "python",
   "nbconvert_exporter": "python",
   "pygments_lexer": "ipython2",
   "version": "2.7.6"
  }
 },
 "nbformat": 4,
 "nbformat_minor": 0
}
