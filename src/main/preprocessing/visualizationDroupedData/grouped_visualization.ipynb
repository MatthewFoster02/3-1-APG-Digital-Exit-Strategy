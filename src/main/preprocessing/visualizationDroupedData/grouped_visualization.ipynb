{
 "cells": [
  {
   "cell_type": "code",
   "execution_count": 51,
   "metadata": {
    "collapsed": true
   },
   "outputs": [],
   "source": [
    "import pandas as pd\n",
    "from ast import literal_eval\n",
    "generic = lambda x: literal_eval(x)\n",
    "\n",
    "conv = {'url_id_path': generic,\n",
    "        'seconds_spent_path': generic}\n",
    "df = pd.read_csv('C:/Users/01din\\Desktop\\data APG\\data\\data_grouped/testGrouped.csv', converters=conv)"
   ]
  },
  {
   "cell_type": "code",
   "execution_count": 52,
   "outputs": [
    {
     "data": {
      "text/plain": "  visitor_id                                        url_id_path  \\\n0       0[1]  [188, 1557, 3, 1, 13, 14, 21, 16, 14, 18, 14, ...   \n1       1[1]                             [1557, 3, 1, 13, 1556]   \n2       2[1]                                              [978]   \n3       3[1]                                    [188, 194, 784]   \n4       4[1]                                  [23, 1557, 3, 13]   \n\n                                 seconds_spent_path  start_number  \\\n0  [4, 17, 5, 7, 31, 27, 126, 55, 9, 13, 3, 328, 5]  1.644100e+12   \n1                                 [14, 4, 4, 33, 0]  1.642600e+12   \n2                                               [0]  1.649780e+12   \n3                                        [5, 20, 0]  1.664380e+12   \n4                                  [0, 163, 4, 151]  1.642670e+12   \n\n   visited_mijnomgeving  event_src_site_id  \n0                     1                  0  \n1                     1                  1  \n2                     0                  0  \n3                     0                  0  \n4                     1                  1  ",
      "text/html": "<div>\n<style scoped>\n    .dataframe tbody tr th:only-of-type {\n        vertical-align: middle;\n    }\n\n    .dataframe tbody tr th {\n        vertical-align: top;\n    }\n\n    .dataframe thead th {\n        text-align: right;\n    }\n</style>\n<table border=\"1\" class=\"dataframe\">\n  <thead>\n    <tr style=\"text-align: right;\">\n      <th></th>\n      <th>visitor_id</th>\n      <th>url_id_path</th>\n      <th>seconds_spent_path</th>\n      <th>start_number</th>\n      <th>visited_mijnomgeving</th>\n      <th>event_src_site_id</th>\n    </tr>\n  </thead>\n  <tbody>\n    <tr>\n      <th>0</th>\n      <td>0[1]</td>\n      <td>[188, 1557, 3, 1, 13, 14, 21, 16, 14, 18, 14, ...</td>\n      <td>[4, 17, 5, 7, 31, 27, 126, 55, 9, 13, 3, 328, 5]</td>\n      <td>1.644100e+12</td>\n      <td>1</td>\n      <td>0</td>\n    </tr>\n    <tr>\n      <th>1</th>\n      <td>1[1]</td>\n      <td>[1557, 3, 1, 13, 1556]</td>\n      <td>[14, 4, 4, 33, 0]</td>\n      <td>1.642600e+12</td>\n      <td>1</td>\n      <td>1</td>\n    </tr>\n    <tr>\n      <th>2</th>\n      <td>2[1]</td>\n      <td>[978]</td>\n      <td>[0]</td>\n      <td>1.649780e+12</td>\n      <td>0</td>\n      <td>0</td>\n    </tr>\n    <tr>\n      <th>3</th>\n      <td>3[1]</td>\n      <td>[188, 194, 784]</td>\n      <td>[5, 20, 0]</td>\n      <td>1.664380e+12</td>\n      <td>0</td>\n      <td>0</td>\n    </tr>\n    <tr>\n      <th>4</th>\n      <td>4[1]</td>\n      <td>[23, 1557, 3, 13]</td>\n      <td>[0, 163, 4, 151]</td>\n      <td>1.642670e+12</td>\n      <td>1</td>\n      <td>1</td>\n    </tr>\n  </tbody>\n</table>\n</div>"
     },
     "execution_count": 52,
     "metadata": {},
     "output_type": "execute_result"
    }
   ],
   "source": [
    "df.head()"
   ],
   "metadata": {
    "collapsed": false
   }
  },
  {
   "cell_type": "markdown",
   "source": [
    "Looking at the visit with the most clicks."
   ],
   "metadata": {
    "collapsed": false
   }
  },
  {
   "cell_type": "code",
   "execution_count": 53,
   "outputs": [],
   "source": [
    "longest = 0\n",
    "index_longest = 0\n",
    "for i in range(len(df)):\n",
    "    if len(df.url_id_path.iloc[i])>longest:\n",
    "        longest = len(df.url_id_path.iloc[i])\n",
    "        index_longest = i"
   ],
   "metadata": {
    "collapsed": false
   }
  },
  {
   "cell_type": "markdown",
   "source": [
    "Consists of 418 clicks."
   ],
   "metadata": {
    "collapsed": false
   }
  },
  {
   "cell_type": "code",
   "execution_count": 57,
   "outputs": [
    {
     "data": {
      "text/plain": "418"
     },
     "execution_count": 57,
     "metadata": {},
     "output_type": "execute_result"
    }
   ],
   "source": [
    "len(df.url_id_path.iloc[index_longest])"
   ],
   "metadata": {
    "collapsed": false
   }
  },
  {
   "cell_type": "markdown",
   "source": [
    "All seconds between clicks on that one visit summed, it took nearly 30 minutes."
   ],
   "metadata": {
    "collapsed": false
   }
  },
  {
   "cell_type": "code",
   "execution_count": 56,
   "outputs": [
    {
     "data": {
      "text/plain": "1793"
     },
     "execution_count": 56,
     "metadata": {},
     "output_type": "execute_result"
    }
   ],
   "source": [
    "sum(df.seconds_spent_path.iloc[index_longest])"
   ],
   "metadata": {
    "collapsed": false
   }
  },
  {
   "cell_type": "code",
   "execution_count": 54,
   "outputs": [],
   "source": [],
   "metadata": {
    "collapsed": false
   }
  }
 ],
 "metadata": {
  "kernelspec": {
   "display_name": "Python 3",
   "language": "python",
   "name": "python3"
  },
  "language_info": {
   "codemirror_mode": {
    "name": "ipython",
    "version": 2
   },
   "file_extension": ".py",
   "mimetype": "text/x-python",
   "name": "python",
   "nbconvert_exporter": "python",
   "pygments_lexer": "ipython2",
   "version": "2.7.6"
  }
 },
 "nbformat": 4,
 "nbformat_minor": 0
}
