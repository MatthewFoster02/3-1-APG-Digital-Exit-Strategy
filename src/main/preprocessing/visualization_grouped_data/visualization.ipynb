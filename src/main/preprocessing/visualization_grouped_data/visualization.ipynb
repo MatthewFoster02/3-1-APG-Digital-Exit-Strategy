{
 "cells": [
  {
   "cell_type": "code",
   "execution_count": 5,
   "outputs": [],
   "source": [
    "import pandas as pd\n",
    "from matplotlib import pyplot as plt\n",
    "import time"
   ],
   "metadata": {
    "collapsed": false
   }
  },
  {
   "cell_type": "code",
   "execution_count": 6,
   "outputs": [
    {
     "name": "stdout",
     "output_type": "stream",
     "text": [
      "Loading took 163.39844369888306 seconds.\n"
     ]
    }
   ],
   "source": [
    "start = time.time()\n",
    "df = pd.read_csv('C:/Users/01din/Desktop/data APG/data/data_clean/DataCleaned/Data/allDataOneFile.csv')\n",
    "end = time.time()\n",
    "print(\"Loading took \" + str(end - start) + \" seconds.\")"
   ],
   "metadata": {
    "collapsed": false
   }
  },
  {
   "cell_type": "code",
   "execution_count": 7,
   "outputs": [
    {
     "data": {
      "text/plain": "     event_src_site_id  visitor_id  visit_number  visits  page_url_id  \\\n0                    0           0             1       1          188   \n1                    0           0             1       0          188   \n2                    1           0             1       1         1557   \n3                    1           0             1       0         1557   \n4                    1           0             1       1            3   \n..                 ...         ...           ...     ...          ...   \n995                  1          36             2       1            1   \n996                  1          36             2       1            1   \n997                  1          36             2       0            1   \n998                  0          36             2       1         1556   \n999                  0          36             2       0         1556   \n\n      start_number  personalisation  seconds_spent  page_views  \\\n0    1644099614035                0              2           1   \n1    1644099615293                0              2           1   \n2    1644099617575                0              1           1   \n3    1644099618885                0             16           1   \n4    1644099635112                0              0           1   \n..             ...              ...            ...         ...   \n995  1641647061242                1              0           1   \n996  1641647061299                1              6           1   \n997  1641647067156                1              1           1   \n998  1641647068558                0             23           1   \n999  1641647091145                0              2           1   \n\n     visit_number_in_session  has_been_in_mijn_omgeving  is_mijn_omgeving_url  \\\n0                          1                          1                     0   \n1                          2                          1                     0   \n2                          3                          1                     1   \n3                          4                          1                     1   \n4                          5                          0                     1   \n..                       ...                        ...                   ...   \n995                       21                          0                     1   \n996                       22                          0                     1   \n997                       23                          0                     1   \n998                       24                          0                     0   \n999                       25                          0                     0   \n\n     landed_in_mijnomgeving  \n0                         0  \n1                         0  \n2                         0  \n3                         0  \n4                         0  \n..                      ...  \n995                       0  \n996                       0  \n997                       0  \n998                       0  \n999                       0  \n\n[1000 rows x 13 columns]",
      "text/html": "<div>\n<style scoped>\n    .dataframe tbody tr th:only-of-type {\n        vertical-align: middle;\n    }\n\n    .dataframe tbody tr th {\n        vertical-align: top;\n    }\n\n    .dataframe thead th {\n        text-align: right;\n    }\n</style>\n<table border=\"1\" class=\"dataframe\">\n  <thead>\n    <tr style=\"text-align: right;\">\n      <th></th>\n      <th>event_src_site_id</th>\n      <th>visitor_id</th>\n      <th>visit_number</th>\n      <th>visits</th>\n      <th>page_url_id</th>\n      <th>start_number</th>\n      <th>personalisation</th>\n      <th>seconds_spent</th>\n      <th>page_views</th>\n      <th>visit_number_in_session</th>\n      <th>has_been_in_mijn_omgeving</th>\n      <th>is_mijn_omgeving_url</th>\n      <th>landed_in_mijnomgeving</th>\n    </tr>\n  </thead>\n  <tbody>\n    <tr>\n      <th>0</th>\n      <td>0</td>\n      <td>0</td>\n      <td>1</td>\n      <td>1</td>\n      <td>188</td>\n      <td>1644099614035</td>\n      <td>0</td>\n      <td>2</td>\n      <td>1</td>\n      <td>1</td>\n      <td>1</td>\n      <td>0</td>\n      <td>0</td>\n    </tr>\n    <tr>\n      <th>1</th>\n      <td>0</td>\n      <td>0</td>\n      <td>1</td>\n      <td>0</td>\n      <td>188</td>\n      <td>1644099615293</td>\n      <td>0</td>\n      <td>2</td>\n      <td>1</td>\n      <td>2</td>\n      <td>1</td>\n      <td>0</td>\n      <td>0</td>\n    </tr>\n    <tr>\n      <th>2</th>\n      <td>1</td>\n      <td>0</td>\n      <td>1</td>\n      <td>1</td>\n      <td>1557</td>\n      <td>1644099617575</td>\n      <td>0</td>\n      <td>1</td>\n      <td>1</td>\n      <td>3</td>\n      <td>1</td>\n      <td>1</td>\n      <td>0</td>\n    </tr>\n    <tr>\n      <th>3</th>\n      <td>1</td>\n      <td>0</td>\n      <td>1</td>\n      <td>0</td>\n      <td>1557</td>\n      <td>1644099618885</td>\n      <td>0</td>\n      <td>16</td>\n      <td>1</td>\n      <td>4</td>\n      <td>1</td>\n      <td>1</td>\n      <td>0</td>\n    </tr>\n    <tr>\n      <th>4</th>\n      <td>1</td>\n      <td>0</td>\n      <td>1</td>\n      <td>1</td>\n      <td>3</td>\n      <td>1644099635112</td>\n      <td>0</td>\n      <td>0</td>\n      <td>1</td>\n      <td>5</td>\n      <td>0</td>\n      <td>1</td>\n      <td>0</td>\n    </tr>\n    <tr>\n      <th>...</th>\n      <td>...</td>\n      <td>...</td>\n      <td>...</td>\n      <td>...</td>\n      <td>...</td>\n      <td>...</td>\n      <td>...</td>\n      <td>...</td>\n      <td>...</td>\n      <td>...</td>\n      <td>...</td>\n      <td>...</td>\n      <td>...</td>\n    </tr>\n    <tr>\n      <th>995</th>\n      <td>1</td>\n      <td>36</td>\n      <td>2</td>\n      <td>1</td>\n      <td>1</td>\n      <td>1641647061242</td>\n      <td>1</td>\n      <td>0</td>\n      <td>1</td>\n      <td>21</td>\n      <td>0</td>\n      <td>1</td>\n      <td>0</td>\n    </tr>\n    <tr>\n      <th>996</th>\n      <td>1</td>\n      <td>36</td>\n      <td>2</td>\n      <td>1</td>\n      <td>1</td>\n      <td>1641647061299</td>\n      <td>1</td>\n      <td>6</td>\n      <td>1</td>\n      <td>22</td>\n      <td>0</td>\n      <td>1</td>\n      <td>0</td>\n    </tr>\n    <tr>\n      <th>997</th>\n      <td>1</td>\n      <td>36</td>\n      <td>2</td>\n      <td>0</td>\n      <td>1</td>\n      <td>1641647067156</td>\n      <td>1</td>\n      <td>1</td>\n      <td>1</td>\n      <td>23</td>\n      <td>0</td>\n      <td>1</td>\n      <td>0</td>\n    </tr>\n    <tr>\n      <th>998</th>\n      <td>0</td>\n      <td>36</td>\n      <td>2</td>\n      <td>1</td>\n      <td>1556</td>\n      <td>1641647068558</td>\n      <td>0</td>\n      <td>23</td>\n      <td>1</td>\n      <td>24</td>\n      <td>0</td>\n      <td>0</td>\n      <td>0</td>\n    </tr>\n    <tr>\n      <th>999</th>\n      <td>0</td>\n      <td>36</td>\n      <td>2</td>\n      <td>0</td>\n      <td>1556</td>\n      <td>1641647091145</td>\n      <td>0</td>\n      <td>2</td>\n      <td>1</td>\n      <td>25</td>\n      <td>0</td>\n      <td>0</td>\n      <td>0</td>\n    </tr>\n  </tbody>\n</table>\n<p>1000 rows × 13 columns</p>\n</div>"
     },
     "execution_count": 7,
     "metadata": {},
     "output_type": "execute_result"
    }
   ],
   "source": [
    "df.head(1000)"
   ],
   "metadata": {
    "collapsed": false
   }
  },
  {
   "cell_type": "code",
   "execution_count": 8,
   "outputs": [
    {
     "data": {
      "text/plain": "1       67267983\n2       16270297\n3        8849446\n4        5685136\n5        4125331\n          ...   \n5604           1\n5603           1\n5601           1\n5600           1\n2278           1\nName: visit_number, Length: 3004, dtype: int64"
     },
     "execution_count": 8,
     "metadata": {},
     "output_type": "execute_result"
    }
   ],
   "source": [
    "df.visit_number.value_counts()"
   ],
   "metadata": {
    "collapsed": false
   }
  },
  {
   "cell_type": "code",
   "execution_count": 9,
   "outputs": [
    {
     "data": {
      "text/plain": "         event_src_site_id  visitor_id  visit_number  visits  page_url_id  \\\n2823849                  0       69264          6594       1         1556   \n2823850                  0       69264          6594       1         1556   \n2823851                  0       69264          6594       1         1556   \n\n          start_number  personalisation  seconds_spent  page_views  \\\n2823849  1638612774127                0            382           1   \n2823850  1638613156769                0            550           1   \n2823851  1638613705845                0              0           1   \n\n         visit_number_in_session  has_been_in_mijn_omgeving  \\\n2823849                      336                          1   \n2823850                      337                          1   \n2823851                      338                          1   \n\n         is_mijn_omgeving_url  landed_in_mijnomgeving  \n2823849                     0                       0  \n2823850                     0                       0  \n2823851                     0                       0  ",
      "text/html": "<div>\n<style scoped>\n    .dataframe tbody tr th:only-of-type {\n        vertical-align: middle;\n    }\n\n    .dataframe tbody tr th {\n        vertical-align: top;\n    }\n\n    .dataframe thead th {\n        text-align: right;\n    }\n</style>\n<table border=\"1\" class=\"dataframe\">\n  <thead>\n    <tr style=\"text-align: right;\">\n      <th></th>\n      <th>event_src_site_id</th>\n      <th>visitor_id</th>\n      <th>visit_number</th>\n      <th>visits</th>\n      <th>page_url_id</th>\n      <th>start_number</th>\n      <th>personalisation</th>\n      <th>seconds_spent</th>\n      <th>page_views</th>\n      <th>visit_number_in_session</th>\n      <th>has_been_in_mijn_omgeving</th>\n      <th>is_mijn_omgeving_url</th>\n      <th>landed_in_mijnomgeving</th>\n    </tr>\n  </thead>\n  <tbody>\n    <tr>\n      <th>2823849</th>\n      <td>0</td>\n      <td>69264</td>\n      <td>6594</td>\n      <td>1</td>\n      <td>1556</td>\n      <td>1638612774127</td>\n      <td>0</td>\n      <td>382</td>\n      <td>1</td>\n      <td>336</td>\n      <td>1</td>\n      <td>0</td>\n      <td>0</td>\n    </tr>\n    <tr>\n      <th>2823850</th>\n      <td>0</td>\n      <td>69264</td>\n      <td>6594</td>\n      <td>1</td>\n      <td>1556</td>\n      <td>1638613156769</td>\n      <td>0</td>\n      <td>550</td>\n      <td>1</td>\n      <td>337</td>\n      <td>1</td>\n      <td>0</td>\n      <td>0</td>\n    </tr>\n    <tr>\n      <th>2823851</th>\n      <td>0</td>\n      <td>69264</td>\n      <td>6594</td>\n      <td>1</td>\n      <td>1556</td>\n      <td>1638613705845</td>\n      <td>0</td>\n      <td>0</td>\n      <td>1</td>\n      <td>338</td>\n      <td>1</td>\n      <td>0</td>\n      <td>0</td>\n    </tr>\n  </tbody>\n</table>\n</div>"
     },
     "execution_count": 9,
     "metadata": {},
     "output_type": "execute_result"
    }
   ],
   "source": [
    "df.loc[df['visit_number'] == 6594]\n"
   ],
   "metadata": {
    "collapsed": false
   }
  },
  {
   "cell_type": "code",
   "execution_count": 10,
   "outputs": [
    {
     "data": {
      "text/plain": "0       59331530\n1       15044361\n2        9109669\n3        5581689\n4        3907317\n          ...   \n1724         120\n1715         119\n1739         119\n1672         119\n1723         113\nName: seconds_spent, Length: 1801, dtype: int64"
     },
     "execution_count": 10,
     "metadata": {},
     "output_type": "execute_result"
    }
   ],
   "source": [
    "df.seconds_spent.value_counts()"
   ],
   "metadata": {
    "collapsed": false
   }
  },
  {
   "cell_type": "code",
   "execution_count": 11,
   "outputs": [
    {
     "data": {
      "text/plain": "1635395309848"
     },
     "execution_count": 11,
     "metadata": {},
     "output_type": "execute_result"
    }
   ],
   "source": [
    "min(df.start_number)"
   ],
   "metadata": {
    "collapsed": false
   }
  }
 ],
 "metadata": {
  "kernelspec": {
   "display_name": "Python 3",
   "language": "python",
   "name": "python3"
  },
  "language_info": {
   "codemirror_mode": {
    "name": "ipython",
    "version": 2
   },
   "file_extension": ".py",
   "mimetype": "text/x-python",
   "name": "python",
   "nbconvert_exporter": "python",
   "pygments_lexer": "ipython2",
   "version": "2.7.6"
  }
 },
 "nbformat": 4,
 "nbformat_minor": 0
}
