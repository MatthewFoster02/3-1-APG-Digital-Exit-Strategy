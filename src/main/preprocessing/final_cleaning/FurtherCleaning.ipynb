{
 "cells": [
  {
   "cell_type": "code",
   "execution_count": 1,
   "id": "16b1b526",
   "metadata": {},
   "outputs": [],
   "source": [
    "import pandas as pd\n",
    "import numpy as np\n",
    "from ast import literal_eval"
   ]
  },
  {
   "cell_type": "markdown",
   "id": "53fb55fd",
   "metadata": {},
   "source": [
    "# Load in Grouped Data File"
   ]
  },
  {
   "cell_type": "code",
   "execution_count": null,
   "id": "a4fc2052",
   "metadata": {},
   "outputs": [],
   "source": [
    "generic = lambda x: literal_eval(x)\n",
    "\n",
    "conv = {'url_id_path': generic,\n",
    "        'seconds_spent_path': generic}\n",
    "\n",
    "df = pd.read_csv('DATA/Data/allDataOneFile.csv', converters=conv)"
   ]
  },
  {
   "cell_type": "markdown",
   "id": "903b1a40",
   "metadata": {},
   "source": [
    "# Load in Test Data File\n",
    "### Used to test the validity and correctness of the below methods"
   ]
  },
  {
   "cell_type": "code",
   "execution_count": 3,
   "id": "d478314f",
   "metadata": {},
   "outputs": [],
   "source": [
    "# load test data\n",
    "testDF = pd.read_csv('DATA/Data/testVis.csv', converters=conv)"
   ]
  },
  {
   "cell_type": "markdown",
   "id": "216ef9f9",
   "metadata": {},
   "source": [
    "# Method to get the number of visits which visit an unscraped URL"
   ]
  },
  {
   "cell_type": "code",
   "execution_count": 33,
   "id": "c008bb45",
   "metadata": {},
   "outputs": [],
   "source": [
    "def get_number_of_visits_to_unscraped_urls():\n",
    "    count_visits_to_unscraped_urls = 0\n",
    "    indices = []\n",
    "    for index, row in df.iterrows():\n",
    "        found_unscraped_url = False\n",
    "        for url_id in row.url_id_path:\n",
    "            # If there is a new visit which visits an unscraped URL, increase counter\n",
    "            if url_id > 1559 and not found_unscraped_url:\n",
    "                count_visits_to_unscraped_urls += 1\n",
    "                indices.append(index)\n",
    "                found_unscraped_url = True\n",
    "        if index % 100000 == 0: # Update on progress as can take quite a few minutes.\n",
    "            print(f\"{index} rows complete...\")\n",
    "    print(\"DONE!\")\n",
    "    return count_visits_to_unscraped_urls, indices"
   ]
  },
  {
   "cell_type": "markdown",
   "id": "0903b0a7",
   "metadata": {},
   "source": [
    "# The % of visits which visit an unscraped URL\n",
    "11% of visits visit an unscraped URL."
   ]
  },
  {
   "cell_type": "markdown",
   "id": "5e9e7c15",
   "metadata": {},
   "source": [
    "# Method to get number of visits less than 20 seconds and path length of those visits"
   ]
  },
  {
   "cell_type": "code",
   "execution_count": 5,
   "id": "ae0a3597",
   "metadata": {},
   "outputs": [],
   "source": [
    "def get_number_of_visits_less_20_seconds_and_their_path_lengths():\n",
    "    visits_less_20_seconds = 0\n",
    "    path_lengths = []\n",
    "    times_spent = []\n",
    "    for index, row in df.iterrows():\n",
    "        timeSpent = sum(row.seconds_spent_path)\n",
    "        if timeSpent < 20: # Change here for less than or greater than 20\n",
    "            visits_less_20_seconds += 1\n",
    "            path_lengths.append(len(row.url_id_path)) # Keep track of path lengths for sub 20 seconds visits\n",
    "            times_spent.append(timeSpent)\n",
    "        if index % 100000 == 0:\n",
    "            print(f\"{index} rows complete...\")\n",
    "\n",
    "    print(\"DONE!\")\n",
    "    return [times_spent, visits_less_20_seconds, path_lengths]"
   ]
  },
  {
   "cell_type": "code",
   "execution_count": null,
   "id": "c390474a",
   "metadata": {},
   "outputs": [],
   "source": [
    "returned = get_number_of_visits_less_20_seconds_and_their_path_lengths()\n",
    "times_20 = returned[0]\n",
    "visits_less_20 = returned[1]\n",
    "path_lengths_under_20 = returned[2]"
   ]
  },
  {
   "cell_type": "code",
   "execution_count": 30,
   "id": "619b178b",
   "metadata": {},
   "outputs": [
    {
     "name": "stdout",
     "output_type": "stream",
     "text": [
      "0.3356965426419714\n"
     ]
    }
   ],
   "source": [
    "print(visits_less_20/len(df.index))"
   ]
  },
  {
   "cell_type": "code",
   "execution_count": 31,
   "id": "03b16dd5",
   "metadata": {},
   "outputs": [
    {
     "name": "stdout",
     "output_type": "stream",
     "text": [
      "1.1697623223123246\n"
     ]
    }
   ],
   "source": [
    "print(sum(path_lengths_under_20)/len(path_lengths_under_20))"
   ]
  },
  {
   "cell_type": "code",
   "execution_count": 32,
   "id": "08da5e73",
   "metadata": {},
   "outputs": [
    {
     "name": "stdout",
     "output_type": "stream",
     "text": [
      "1.9427805207294973\n"
     ]
    }
   ],
   "source": [
    "print(sum(times_20)/len(times_20))"
   ]
  },
  {
   "cell_type": "markdown",
   "id": "394e5b20",
   "metadata": {},
   "source": [
    "# Information about visits that are less than 20 seconds in duration\n",
    "\n",
    "## The % of visits that are less than 20 seconds in duration\n",
    "33.5% of visits are less than 20 seconds in duration.\n",
    "\n",
    "## The average path lengths in visits under 20 seconds in duration\n",
    "1.1697623223123246 is the average path length.\n",
    "\n",
    "## Average time spent in visits under 20 seconds in duration\n",
    "1.9427805207294973 is the average time spent."
   ]
  },
  {
   "cell_type": "code",
   "execution_count": null,
   "id": "d0d49e29",
   "metadata": {
    "scrolled": false
   },
   "outputs": [],
   "source": [
    "visits_greater_20, path_lengths = get_number_of_visits_less_20_seconds_and_their_path_lengths()"
   ]
  },
  {
   "cell_type": "code",
   "execution_count": 20,
   "id": "d1632566",
   "metadata": {},
   "outputs": [
    {
     "name": "stdout",
     "output_type": "stream",
     "text": [
      "0.6643034573580285\n"
     ]
    }
   ],
   "source": [
    "print(visits_greater_20/len(df.index))"
   ]
  },
  {
   "cell_type": "code",
   "execution_count": 21,
   "id": "d61a3c0e",
   "metadata": {},
   "outputs": [
    {
     "name": "stdout",
     "output_type": "stream",
     "text": [
      "7.4080256085265805\n"
     ]
    }
   ],
   "source": [
    "print(sum(path_lengths)/len(path_lengths))"
   ]
  },
  {
   "cell_type": "code",
   "execution_count": null,
   "id": "d98eccb9",
   "metadata": {
    "scrolled": true
   },
   "outputs": [],
   "source": [
    "times_spent = get_number_of_visits_less_20_seconds_and_their_path_lengths()"
   ]
  },
  {
   "cell_type": "code",
   "execution_count": 22,
   "id": "ac866f4e",
   "metadata": {},
   "outputs": [
    {
     "name": "stdout",
     "output_type": "stream",
     "text": [
      "482.03758769414577\n"
     ]
    }
   ],
   "source": [
    "print(sum(times_spent)/len(times_spent))"
   ]
  },
  {
   "cell_type": "markdown",
   "id": "cfa15884",
   "metadata": {},
   "source": [
    "# Information about visits over or equal to 20 seconds\n",
    "\n",
    "## The % of visits over or equal to 20 seconds\n",
    "66.4% of visits are over or equal to 20 seconds\n",
    "\n",
    "## The average path length in visits over or equal to 20 seconds\n",
    "7.4 Pages visited in the path on average\n",
    "\n",
    "## The average time spent by visitors with visits over or equal to 20 seconds\n",
    "482 seconds or over 8 minutes!\n"
   ]
  },
  {
   "cell_type": "markdown",
   "id": "9932cfea",
   "metadata": {},
   "source": [
    "## Method to get the number of visits with path length <= 3 and duration < 20 seconds"
   ]
  },
  {
   "cell_type": "code",
   "execution_count": 49,
   "id": "1c620feb",
   "metadata": {},
   "outputs": [],
   "source": [
    "def get_number_visits_path_less_equal_3_and_20_seconds():\n",
    "    visit_count = 0\n",
    "    indices = []\n",
    "    for index, row in df.iterrows():\n",
    "        time = sum(row.seconds_spent_path)\n",
    "        if len(row.url_id_path) < 4 and time < 20:\n",
    "            visit_count += 1\n",
    "            indices.append(index)\n",
    "        if index % 100000 == 0:\n",
    "            print(f\"{index} rows complete...\")\n",
    "\n",
    "    print(\"DONE!\")\n",
    "    return visit_count, indices"
   ]
  },
  {
   "cell_type": "code",
   "execution_count": null,
   "id": "2aae67d3",
   "metadata": {},
   "outputs": [],
   "source": [
    "number_visits_under_4_and_20, times = get_number_visits_path_less_equal_3_and_20_seconds()"
   ]
  },
  {
   "cell_type": "markdown",
   "id": "8ec42ef5",
   "metadata": {},
   "source": [
    "# Removing the 11% of unscraped page visits.\n",
    "## Motivate assumption in report/presentation"
   ]
  },
  {
   "cell_type": "code",
   "execution_count": null,
   "id": "c1c3fd3c",
   "metadata": {},
   "outputs": [],
   "source": [
    "counts, indexes_of_unscraped_visits = get_number_of_visits_to_unscraped_urls()"
   ]
  },
  {
   "cell_type": "markdown",
   "id": "e4676d9b",
   "metadata": {},
   "source": [
    "# Drop the rows which contain visits to unscraped URLs and save to csv"
   ]
  },
  {
   "cell_type": "code",
   "execution_count": 40,
   "id": "95bad8a8",
   "metadata": {},
   "outputs": [],
   "source": [
    "df.drop(df.index[indexes_of_unscraped_visits], inplace=True)"
   ]
  },
  {
   "cell_type": "code",
   "execution_count": 42,
   "id": "f9a1cb7a",
   "metadata": {},
   "outputs": [],
   "source": [
    "df.to_csv('DATA/Data/dataNoUnscrapedVisits.csv', index=False)"
   ]
  },
  {
   "cell_type": "markdown",
   "id": "bb29bab5",
   "metadata": {},
   "source": [
    "# Recheck the amount of visits with path <=3 and duration < 20 seconds"
   ]
  },
  {
   "cell_type": "code",
   "execution_count": null,
   "id": "a9f090a7",
   "metadata": {},
   "outputs": [],
   "source": [
    "counts_path_time, indexes_of_visits_under_3_and_20 = get_number_visits_path_less_equal_3_and_20_seconds()"
   ]
  },
  {
   "cell_type": "code",
   "execution_count": 60,
   "id": "d9f33723",
   "metadata": {
    "scrolled": true
   },
   "outputs": [
    {
     "data": {
      "text/plain": [
       "1852742"
      ]
     },
     "execution_count": 60,
     "metadata": {},
     "output_type": "execute_result"
    }
   ],
   "source": [
    "counts_path_time # Amount of visits"
   ]
  },
  {
   "cell_type": "code",
   "execution_count": 63,
   "id": "9f3efc38",
   "metadata": {
    "scrolled": true
   },
   "outputs": [
    {
     "data": {
      "text/plain": [
       "0.3408249222045705"
      ]
     },
     "execution_count": 63,
     "metadata": {},
     "output_type": "execute_result"
    }
   ],
   "source": [
    "counts_path_time/len(df.index) # Percentage of rows to be removed ## 34% ##"
   ]
  },
  {
   "cell_type": "markdown",
   "id": "5f3d62b7",
   "metadata": {},
   "source": [
    "# Removing the 34%\n",
    "### Motivate these assumptions etc.\n",
    "\n",
    "## Dropping the rows which have index which contains the 34% of 'short' visits"
   ]
  },
  {
   "cell_type": "code",
   "execution_count": 65,
   "id": "ee9db41c",
   "metadata": {},
   "outputs": [],
   "source": [
    "df.drop(df.index[indexes_of_visits_under_3_and_20], inplace=True)"
   ]
  },
  {
   "cell_type": "code",
   "execution_count": 67,
   "id": "e86782d7",
   "metadata": {},
   "outputs": [],
   "source": [
    "df.to_csv('DATA/Data/dataNoUnscrapedVisitsOrUnder20Sec.csv', index=False)"
   ]
  },
  {
   "cell_type": "code",
   "execution_count": 2,
   "id": "2706f895",
   "metadata": {},
   "outputs": [],
   "source": [
    "df = pd.read_csv('DATA/Data/dataNoUnscrapedVisitsOrUnder20Sec.csv')"
   ]
  },
  {
   "cell_type": "code",
   "execution_count": 3,
   "id": "dae55a83",
   "metadata": {},
   "outputs": [
    {
     "data": {
      "text/html": [
       "<div>\n",
       "<style scoped>\n",
       "    .dataframe tbody tr th:only-of-type {\n",
       "        vertical-align: middle;\n",
       "    }\n",
       "\n",
       "    .dataframe tbody tr th {\n",
       "        vertical-align: top;\n",
       "    }\n",
       "\n",
       "    .dataframe thead th {\n",
       "        text-align: right;\n",
       "    }\n",
       "</style>\n",
       "<table border=\"1\" class=\"dataframe\">\n",
       "  <thead>\n",
       "    <tr style=\"text-align: right;\">\n",
       "      <th></th>\n",
       "      <th>visitor_id[visit_number]</th>\n",
       "      <th>url_id_path</th>\n",
       "      <th>seconds_spent_path</th>\n",
       "      <th>start_number</th>\n",
       "      <th>visited_mijnomgeving</th>\n",
       "      <th>event_src_site_id</th>\n",
       "    </tr>\n",
       "  </thead>\n",
       "  <tbody>\n",
       "    <tr>\n",
       "      <th>0</th>\n",
       "      <td>0[1]</td>\n",
       "      <td>[188, 1557, 3, 1, 13, 14, 21, 16, 14, 18, 14, ...</td>\n",
       "      <td>[4, 17, 5, 7, 31, 27, 126, 55, 9, 13, 3, 328, 5]</td>\n",
       "      <td>1644099614035</td>\n",
       "      <td>1</td>\n",
       "      <td>0</td>\n",
       "    </tr>\n",
       "    <tr>\n",
       "      <th>1</th>\n",
       "      <td>1[1]</td>\n",
       "      <td>[1557, 3, 1, 13, 1556]</td>\n",
       "      <td>[14, 4, 4, 33, 0]</td>\n",
       "      <td>1642603154936</td>\n",
       "      <td>1</td>\n",
       "      <td>1</td>\n",
       "    </tr>\n",
       "    <tr>\n",
       "      <th>2</th>\n",
       "      <td>3[1]</td>\n",
       "      <td>[188, 194, 784]</td>\n",
       "      <td>[5, 20, 0]</td>\n",
       "      <td>1664380711086</td>\n",
       "      <td>0</td>\n",
       "      <td>0</td>\n",
       "    </tr>\n",
       "    <tr>\n",
       "      <th>3</th>\n",
       "      <td>4[1]</td>\n",
       "      <td>[23, 1557, 3, 13]</td>\n",
       "      <td>[0, 163, 4, 151]</td>\n",
       "      <td>1642669318114</td>\n",
       "      <td>1</td>\n",
       "      <td>1</td>\n",
       "    </tr>\n",
       "    <tr>\n",
       "      <th>4</th>\n",
       "      <td>5[1]</td>\n",
       "      <td>[1557, 3, 1, 13, 1, 1559, 12, 1559, 17, 1556]</td>\n",
       "      <td>[12, 14, 34, 66, 358, 9, 18, 19, 908, 0]</td>\n",
       "      <td>1651248315219</td>\n",
       "      <td>1</td>\n",
       "      <td>1</td>\n",
       "    </tr>\n",
       "    <tr>\n",
       "      <th>...</th>\n",
       "      <td>...</td>\n",
       "      <td>...</td>\n",
       "      <td>...</td>\n",
       "      <td>...</td>\n",
       "      <td>...</td>\n",
       "      <td>...</td>\n",
       "    </tr>\n",
       "    <tr>\n",
       "      <th>3583305</th>\n",
       "      <td>3225293[14]</td>\n",
       "      <td>[1557, 54, 1557, 3, 37, 7, 13, 1556]</td>\n",
       "      <td>[30, 324, 131, 18, 93, 43, 20, 6]</td>\n",
       "      <td>1654507084598</td>\n",
       "      <td>1</td>\n",
       "      <td>1</td>\n",
       "    </tr>\n",
       "    <tr>\n",
       "      <th>3583306</th>\n",
       "      <td>3225293[15]</td>\n",
       "      <td>[23, 1557, 23, 1557, 13, 12]</td>\n",
       "      <td>[32, 0, 187, 95, 31, 0]</td>\n",
       "      <td>1658391870260</td>\n",
       "      <td>1</td>\n",
       "      <td>1</td>\n",
       "    </tr>\n",
       "    <tr>\n",
       "      <th>3583307</th>\n",
       "      <td>3225294[1]</td>\n",
       "      <td>[1557, 121, 14, 17, 7, 12, 13]</td>\n",
       "      <td>[15, 0, 7, 21, 2, 61, 0]</td>\n",
       "      <td>1655666642494</td>\n",
       "      <td>1</td>\n",
       "      <td>1</td>\n",
       "    </tr>\n",
       "    <tr>\n",
       "      <th>3583308</th>\n",
       "      <td>3225294[3]</td>\n",
       "      <td>[1557, 14, 121, 17]</td>\n",
       "      <td>[19, 0, 5, 0]</td>\n",
       "      <td>1656063998310</td>\n",
       "      <td>1</td>\n",
       "      <td>1</td>\n",
       "    </tr>\n",
       "    <tr>\n",
       "      <th>3583309</th>\n",
       "      <td>3225294[7]</td>\n",
       "      <td>[1557, 1559]</td>\n",
       "      <td>[27, 90]</td>\n",
       "      <td>1657480809463</td>\n",
       "      <td>1</td>\n",
       "      <td>1</td>\n",
       "    </tr>\n",
       "  </tbody>\n",
       "</table>\n",
       "<p>3583310 rows × 6 columns</p>\n",
       "</div>"
      ],
      "text/plain": [
       "        visitor_id[visit_number]  \\\n",
       "0                           0[1]   \n",
       "1                           1[1]   \n",
       "2                           3[1]   \n",
       "3                           4[1]   \n",
       "4                           5[1]   \n",
       "...                          ...   \n",
       "3583305              3225293[14]   \n",
       "3583306              3225293[15]   \n",
       "3583307               3225294[1]   \n",
       "3583308               3225294[3]   \n",
       "3583309               3225294[7]   \n",
       "\n",
       "                                               url_id_path  \\\n",
       "0        [188, 1557, 3, 1, 13, 14, 21, 16, 14, 18, 14, ...   \n",
       "1                                   [1557, 3, 1, 13, 1556]   \n",
       "2                                          [188, 194, 784]   \n",
       "3                                        [23, 1557, 3, 13]   \n",
       "4            [1557, 3, 1, 13, 1, 1559, 12, 1559, 17, 1556]   \n",
       "...                                                    ...   \n",
       "3583305               [1557, 54, 1557, 3, 37, 7, 13, 1556]   \n",
       "3583306                       [23, 1557, 23, 1557, 13, 12]   \n",
       "3583307                     [1557, 121, 14, 17, 7, 12, 13]   \n",
       "3583308                                [1557, 14, 121, 17]   \n",
       "3583309                                       [1557, 1559]   \n",
       "\n",
       "                                       seconds_spent_path   start_number  \\\n",
       "0        [4, 17, 5, 7, 31, 27, 126, 55, 9, 13, 3, 328, 5]  1644099614035   \n",
       "1                                       [14, 4, 4, 33, 0]  1642603154936   \n",
       "2                                              [5, 20, 0]  1664380711086   \n",
       "3                                        [0, 163, 4, 151]  1642669318114   \n",
       "4                [12, 14, 34, 66, 358, 9, 18, 19, 908, 0]  1651248315219   \n",
       "...                                                   ...            ...   \n",
       "3583305                 [30, 324, 131, 18, 93, 43, 20, 6]  1654507084598   \n",
       "3583306                           [32, 0, 187, 95, 31, 0]  1658391870260   \n",
       "3583307                          [15, 0, 7, 21, 2, 61, 0]  1655666642494   \n",
       "3583308                                     [19, 0, 5, 0]  1656063998310   \n",
       "3583309                                          [27, 90]  1657480809463   \n",
       "\n",
       "         visited_mijnomgeving  event_src_site_id  \n",
       "0                           1                  0  \n",
       "1                           1                  1  \n",
       "2                           0                  0  \n",
       "3                           1                  1  \n",
       "4                           1                  1  \n",
       "...                       ...                ...  \n",
       "3583305                     1                  1  \n",
       "3583306                     1                  1  \n",
       "3583307                     1                  1  \n",
       "3583308                     1                  1  \n",
       "3583309                     1                  1  \n",
       "\n",
       "[3583310 rows x 6 columns]"
      ]
     },
     "execution_count": 3,
     "metadata": {},
     "output_type": "execute_result"
    }
   ],
   "source": [
    "df"
   ]
  },
  {
   "cell_type": "code",
   "execution_count": null,
   "id": "d971d6ea",
   "metadata": {},
   "outputs": [],
   "source": []
  }
 ],
 "metadata": {
  "kernelspec": {
   "display_name": "Python 3 (ipykernel)",
   "language": "python",
   "name": "python3"
  },
  "language_info": {
   "codemirror_mode": {
    "name": "ipython",
    "version": 3
   },
   "file_extension": ".py",
   "mimetype": "text/x-python",
   "name": "python",
   "nbconvert_exporter": "python",
   "pygments_lexer": "ipython3",
   "version": "3.9.1"
  }
 },
 "nbformat": 4,
 "nbformat_minor": 5
}
