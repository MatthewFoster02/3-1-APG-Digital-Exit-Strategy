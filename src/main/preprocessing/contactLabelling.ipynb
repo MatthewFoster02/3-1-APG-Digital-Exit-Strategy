{
 "cells": [
  {
   "cell_type": "markdown",
   "id": "ca38130e",
   "metadata": {},
   "source": [
    "# Labelling the data with visited_contact_page and time_spent_contact_page\n",
    "To achieve this, loop through the visit data, and then loop through the visit paths. Check if each ID is the contact page, if so update visited_contact_page to True (1), and add the corresponding time_spent also."
   ]
  },
  {
   "cell_type": "code",
   "execution_count": 1,
   "id": "935a39a6",
   "metadata": {},
   "outputs": [],
   "source": [
    "import pandas as pd\n",
    "import numpy as np\n",
    "from ast import literal_eval"
   ]
  },
  {
   "cell_type": "code",
   "execution_count": 2,
   "id": "93e7f03d",
   "metadata": {},
   "outputs": [],
   "source": [
    "generic = lambda x: literal_eval(x)\n",
    "\n",
    "conv = {'url_id_path': generic,\n",
    "        'seconds_spent_path': generic}\n",
    "\n",
    "df = pd.read_csv('DATA/Data/final_cleaned_data/dataNoUnscrapedVisitsOrUnder20Sec.csv', converters=conv)"
   ]
  },
  {
   "cell_type": "code",
   "execution_count": 4,
   "id": "ab3d12a0",
   "metadata": {},
   "outputs": [],
   "source": [
    "references = pd.read_csv('DATA/references/url_references_reduced.csv')"
   ]
  },
  {
   "cell_type": "code",
   "execution_count": 59,
   "id": "424a8b40",
   "metadata": {},
   "outputs": [],
   "source": [
    "testDF = pd.read_csv('DATA/Data/testContact.csv', converters=conv)"
   ]
  },
  {
   "cell_type": "code",
   "execution_count": 41,
   "id": "395c62cf",
   "metadata": {},
   "outputs": [],
   "source": [
    "# gets url_ids with contact or chatbox on them\n",
    "def get_urls_with_prefix():\n",
    "    contact_url = 'https://www.abp.nl/contact'\n",
    "    chatbox_url = 'https://www.abp.nl/applicaties/chatbot'\n",
    "    \n",
    "    ids = []\n",
    "    \n",
    "    for index, row in references.iterrows():\n",
    "        if contact_url in row.urls or chatbox_url in row.urls:\n",
    "            ids.append(row.id)\n",
    "    return ids"
   ]
  },
  {
   "cell_type": "code",
   "execution_count": 49,
   "id": "234715b8",
   "metadata": {},
   "outputs": [],
   "source": [
    "# Method which checks which visits visit contact page\n",
    "def check_for_contact(contact_ids):\n",
    "    visited_contact = np.zeros(len(df.index), dtype=int)\n",
    "    time_spent = np.zeros(len(df.index), dtype=int)\n",
    "    \n",
    "    # Loop through rows in dataframe\n",
    "    for index, row in df.iterrows():\n",
    "        for index_url, url_id in enumerate(row.url_id_path):\n",
    "            if url_id in contact_ids:\n",
    "                visited_contact[index] = 1\n",
    "                time_spent[index] = row.seconds_spent_path[index_url]\n",
    "        if index % 100000 == 0:\n",
    "            print(f\"{index} rows complete...\")\n",
    "    print(\"DONE!\")\n",
    "    return visited_contact, time_spent\n",
    "    "
   ]
  },
  {
   "cell_type": "code",
   "execution_count": 42,
   "id": "df6d3c2f",
   "metadata": {},
   "outputs": [],
   "source": [
    "contact_ids = get_urls_with_prefix()"
   ]
  },
  {
   "cell_type": "code",
   "execution_count": null,
   "id": "121ecb2a",
   "metadata": {
    "scrolled": true
   },
   "outputs": [],
   "source": [
    "visited_c, times_spent = check_for_contact(contact_ids)"
   ]
  },
  {
   "cell_type": "code",
   "execution_count": 53,
   "id": "9f9e2a40",
   "metadata": {},
   "outputs": [],
   "source": [
    "df['visited_contact_page'] = list(visited_c)\n",
    "df['time_spent_contact_page'] = list(times_spent)"
   ]
  },
  {
   "cell_type": "code",
   "execution_count": 56,
   "id": "d60a8e53",
   "metadata": {},
   "outputs": [],
   "source": [
    "df.to_csv('DATA/Data/dataContactLabels.csv', index=False)"
   ]
  },
  {
   "cell_type": "code",
   "execution_count": null,
   "id": "ae0075c5",
   "metadata": {},
   "outputs": [],
   "source": [
    "# Some small statistical analysis on the new data aspects\n",
    "times_spent = []\n",
    "contact_count = 0\n",
    "\n",
    "for index, row in df.iterrows():\n",
    "    if row.visited_contact_page == 1:\n",
    "        contact_count += 1\n",
    "        times_spent.append(row.time_spent_contact_page)\n",
    "    if index % 100000 == 0:\n",
    "        print(f\"{index} rows complete...\")\n",
    "print(\"DONE!\\n\\n\")"
   ]
  },
  {
   "cell_type": "code",
   "execution_count": 66,
   "id": "3e3d4b78",
   "metadata": {},
   "outputs": [
    {
     "name": "stdout",
     "output_type": "stream",
     "text": [
      "How many visits, visited the contact page: 157394.\n",
      "Percentage of visits, visited the contact page: 4.392419299474508%\n",
      "Longest time spent on contact page: 4999.\n",
      "Shortest time spent on contact page: 0.\n",
      "Average time spent on contact page: 118.09793893032771.\n"
     ]
    }
   ],
   "source": [
    "print(f\"How many visits, visited the contact page: {contact_count}.\")\n",
    "print(f\"Percentage of visits, visited the contact page: {(contact_count/len(df.index))*100}%\")\n",
    "print(f\"Longest time spent on contact page: {max(times_spent)}.\")\n",
    "print(f\"Shortest time spent on contact page: {min(times_spent)}.\")\n",
    "print(f\"Average time spent on contact page: {sum(times_spent)/len(times_spent)}.\")"
   ]
  },
  {
   "cell_type": "code",
   "execution_count": null,
   "id": "af35d542",
   "metadata": {},
   "outputs": [],
   "source": []
  }
 ],
 "metadata": {
  "kernelspec": {
   "display_name": "Python 3 (ipykernel)",
   "language": "python",
   "name": "python3"
  },
  "language_info": {
   "codemirror_mode": {
    "name": "ipython",
    "version": 3
   },
   "file_extension": ".py",
   "mimetype": "text/x-python",
   "name": "python",
   "nbconvert_exporter": "python",
   "pygments_lexer": "ipython3",
   "version": "3.9.1"
  }
 },
 "nbformat": 4,
 "nbformat_minor": 5
}
