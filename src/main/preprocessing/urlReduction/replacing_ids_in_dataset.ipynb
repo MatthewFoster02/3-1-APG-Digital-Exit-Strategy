{
 "cells": [
  {
   "cell_type": "code",
   "execution_count": 1,
   "metadata": {
    "collapsed": true
   },
   "outputs": [],
   "source": [
    "import pandas as pd"
   ]
  },
  {
   "cell_type": "code",
   "execution_count": 3,
   "outputs": [],
   "source": [
    "df = pd.read_csv('C:/Users/01din/Desktop/data APG/data/data_clean/DataCleaned/Data/allDataOneFile.csv')\n",
    "ids_to_replace = pd.read_csv('C:/Users/01din\\Desktop\\data APG/references/references_for_shortened_data/references/url_ids_to_replace.csv')"
   ],
   "metadata": {
    "collapsed": false
   }
  },
  {
   "cell_type": "code",
   "execution_count": 4,
   "outputs": [
    {
     "data": {
      "text/plain": "           page_url_id\n0                  188\n1                  188\n2                 1557\n3                 1557\n4                    3\n...                ...\n130499995         1559\n130499996         1559\n130499997         1559\n130499998         1559\n130499999         1559\n\n[130500000 rows x 1 columns]",
      "text/html": "<div>\n<style scoped>\n    .dataframe tbody tr th:only-of-type {\n        vertical-align: middle;\n    }\n\n    .dataframe tbody tr th {\n        vertical-align: top;\n    }\n\n    .dataframe thead th {\n        text-align: right;\n    }\n</style>\n<table border=\"1\" class=\"dataframe\">\n  <thead>\n    <tr style=\"text-align: right;\">\n      <th></th>\n      <th>page_url_id</th>\n    </tr>\n  </thead>\n  <tbody>\n    <tr>\n      <th>0</th>\n      <td>188</td>\n    </tr>\n    <tr>\n      <th>1</th>\n      <td>188</td>\n    </tr>\n    <tr>\n      <th>2</th>\n      <td>1557</td>\n    </tr>\n    <tr>\n      <th>3</th>\n      <td>1557</td>\n    </tr>\n    <tr>\n      <th>4</th>\n      <td>3</td>\n    </tr>\n    <tr>\n      <th>...</th>\n      <td>...</td>\n    </tr>\n    <tr>\n      <th>130499995</th>\n      <td>1559</td>\n    </tr>\n    <tr>\n      <th>130499996</th>\n      <td>1559</td>\n    </tr>\n    <tr>\n      <th>130499997</th>\n      <td>1559</td>\n    </tr>\n    <tr>\n      <th>130499998</th>\n      <td>1559</td>\n    </tr>\n    <tr>\n      <th>130499999</th>\n      <td>1559</td>\n    </tr>\n  </tbody>\n</table>\n<p>130500000 rows × 1 columns</p>\n</div>"
     },
     "execution_count": 4,
     "metadata": {},
     "output_type": "execute_result"
    }
   ],
   "source": [
    "ids_to_replace.rename(columns={'page_url' : 'page_url_id'})"
   ],
   "metadata": {
    "collapsed": false
   }
  },
  {
   "cell_type": "code",
   "execution_count": 5,
   "outputs": [
    {
     "data": {
      "text/plain": "           event_src_site_id  visitor_id  visit_number  visits  page_url_id  \\\n130499900                  1     3225293            12       0         1557   \n130499901                  1     3225293            12       1            3   \n130499902                  1     3225293            12       1            3   \n130499903                  1     3225293            12       1            3   \n130499904                  1     3225293            12       1            3   \n...                      ...         ...           ...     ...          ...   \n130499995                  1     3225294             7       1         1559   \n130499996                  1     3225294             7       1         1559   \n130499997                  1     3225294             7       1         1559   \n130499998                  1     3225294             7       1         1559   \n130499999                  1     3225294             7       1         1559   \n\n            start_number  personalisation  seconds_spent  page_views  \\\n130499900  1642236213531                0            104           1   \n130499901  1642236317549                0             10           1   \n130499902  1642236317552                0              0           1   \n130499903  1642236317545                0              0           1   \n130499904  1642236317550                0              0           1   \n...                  ...              ...            ...         ...   \n130499995  1657480860665                1              9           1   \n130499996  1657480860658                1              0           1   \n130499997  1657480869395                1              0           1   \n130499998  1657480869402                1             57           1   \n130499999  1657480925970                1              0           1   \n\n           visit_number_in_session  has_been_in_mijn_omgeving  \\\n130499900                        2                          1   \n130499901                        3                          0   \n130499902                        4                          0   \n130499903                        5                          0   \n130499904                        6                          0   \n...                            ...                        ...   \n130499995                       38                          1   \n130499996                       39                          1   \n130499997                       40                          1   \n130499998                       41                          1   \n130499999                       42                          1   \n\n           is_mijn_omgeving_url  landed_in_mijnomgeving  \n130499900                     1                       1  \n130499901                     1                       1  \n130499902                     1                       1  \n130499903                     1                       1  \n130499904                     1                       1  \n...                         ...                     ...  \n130499995                     1                       1  \n130499996                     1                       1  \n130499997                     1                       1  \n130499998                     1                       1  \n130499999                     1                       1  \n\n[100 rows x 13 columns]",
      "text/html": "<div>\n<style scoped>\n    .dataframe tbody tr th:only-of-type {\n        vertical-align: middle;\n    }\n\n    .dataframe tbody tr th {\n        vertical-align: top;\n    }\n\n    .dataframe thead th {\n        text-align: right;\n    }\n</style>\n<table border=\"1\" class=\"dataframe\">\n  <thead>\n    <tr style=\"text-align: right;\">\n      <th></th>\n      <th>event_src_site_id</th>\n      <th>visitor_id</th>\n      <th>visit_number</th>\n      <th>visits</th>\n      <th>page_url_id</th>\n      <th>start_number</th>\n      <th>personalisation</th>\n      <th>seconds_spent</th>\n      <th>page_views</th>\n      <th>visit_number_in_session</th>\n      <th>has_been_in_mijn_omgeving</th>\n      <th>is_mijn_omgeving_url</th>\n      <th>landed_in_mijnomgeving</th>\n    </tr>\n  </thead>\n  <tbody>\n    <tr>\n      <th>130499900</th>\n      <td>1</td>\n      <td>3225293</td>\n      <td>12</td>\n      <td>0</td>\n      <td>1557</td>\n      <td>1642236213531</td>\n      <td>0</td>\n      <td>104</td>\n      <td>1</td>\n      <td>2</td>\n      <td>1</td>\n      <td>1</td>\n      <td>1</td>\n    </tr>\n    <tr>\n      <th>130499901</th>\n      <td>1</td>\n      <td>3225293</td>\n      <td>12</td>\n      <td>1</td>\n      <td>3</td>\n      <td>1642236317549</td>\n      <td>0</td>\n      <td>10</td>\n      <td>1</td>\n      <td>3</td>\n      <td>0</td>\n      <td>1</td>\n      <td>1</td>\n    </tr>\n    <tr>\n      <th>130499902</th>\n      <td>1</td>\n      <td>3225293</td>\n      <td>12</td>\n      <td>1</td>\n      <td>3</td>\n      <td>1642236317552</td>\n      <td>0</td>\n      <td>0</td>\n      <td>1</td>\n      <td>4</td>\n      <td>0</td>\n      <td>1</td>\n      <td>1</td>\n    </tr>\n    <tr>\n      <th>130499903</th>\n      <td>1</td>\n      <td>3225293</td>\n      <td>12</td>\n      <td>1</td>\n      <td>3</td>\n      <td>1642236317545</td>\n      <td>0</td>\n      <td>0</td>\n      <td>1</td>\n      <td>5</td>\n      <td>0</td>\n      <td>1</td>\n      <td>1</td>\n    </tr>\n    <tr>\n      <th>130499904</th>\n      <td>1</td>\n      <td>3225293</td>\n      <td>12</td>\n      <td>1</td>\n      <td>3</td>\n      <td>1642236317550</td>\n      <td>0</td>\n      <td>0</td>\n      <td>1</td>\n      <td>6</td>\n      <td>0</td>\n      <td>1</td>\n      <td>1</td>\n    </tr>\n    <tr>\n      <th>...</th>\n      <td>...</td>\n      <td>...</td>\n      <td>...</td>\n      <td>...</td>\n      <td>...</td>\n      <td>...</td>\n      <td>...</td>\n      <td>...</td>\n      <td>...</td>\n      <td>...</td>\n      <td>...</td>\n      <td>...</td>\n      <td>...</td>\n    </tr>\n    <tr>\n      <th>130499995</th>\n      <td>1</td>\n      <td>3225294</td>\n      <td>7</td>\n      <td>1</td>\n      <td>1559</td>\n      <td>1657480860665</td>\n      <td>1</td>\n      <td>9</td>\n      <td>1</td>\n      <td>38</td>\n      <td>1</td>\n      <td>1</td>\n      <td>1</td>\n    </tr>\n    <tr>\n      <th>130499996</th>\n      <td>1</td>\n      <td>3225294</td>\n      <td>7</td>\n      <td>1</td>\n      <td>1559</td>\n      <td>1657480860658</td>\n      <td>1</td>\n      <td>0</td>\n      <td>1</td>\n      <td>39</td>\n      <td>1</td>\n      <td>1</td>\n      <td>1</td>\n    </tr>\n    <tr>\n      <th>130499997</th>\n      <td>1</td>\n      <td>3225294</td>\n      <td>7</td>\n      <td>1</td>\n      <td>1559</td>\n      <td>1657480869395</td>\n      <td>1</td>\n      <td>0</td>\n      <td>1</td>\n      <td>40</td>\n      <td>1</td>\n      <td>1</td>\n      <td>1</td>\n    </tr>\n    <tr>\n      <th>130499998</th>\n      <td>1</td>\n      <td>3225294</td>\n      <td>7</td>\n      <td>1</td>\n      <td>1559</td>\n      <td>1657480869402</td>\n      <td>1</td>\n      <td>57</td>\n      <td>1</td>\n      <td>41</td>\n      <td>1</td>\n      <td>1</td>\n      <td>1</td>\n    </tr>\n    <tr>\n      <th>130499999</th>\n      <td>1</td>\n      <td>3225294</td>\n      <td>7</td>\n      <td>1</td>\n      <td>1559</td>\n      <td>1657480925970</td>\n      <td>1</td>\n      <td>0</td>\n      <td>1</td>\n      <td>42</td>\n      <td>1</td>\n      <td>1</td>\n      <td>1</td>\n    </tr>\n  </tbody>\n</table>\n<p>100 rows × 13 columns</p>\n</div>"
     },
     "execution_count": 5,
     "metadata": {},
     "output_type": "execute_result"
    }
   ],
   "source": [
    "df['page_url_id'] = ids_to_replace['page_url']\n",
    "df.tail(100)"
   ],
   "metadata": {
    "collapsed": false
   }
  },
  {
   "cell_type": "code",
   "execution_count": 7,
   "outputs": [],
   "source": [
    "df.to_csv('C:/Users/01din/Desktop/data APG/data/data_clean/DataCleaned/Data/allDataOneFile.csv', index=False)"
   ],
   "metadata": {
    "collapsed": false
   }
  },
  {
   "cell_type": "code",
   "execution_count": null,
   "outputs": [],
   "source": [],
   "metadata": {
    "collapsed": false
   }
  }
 ],
 "metadata": {
  "kernelspec": {
   "display_name": "Python 3",
   "language": "python",
   "name": "python3"
  },
  "language_info": {
   "codemirror_mode": {
    "name": "ipython",
    "version": 2
   },
   "file_extension": ".py",
   "mimetype": "text/x-python",
   "name": "python",
   "nbconvert_exporter": "python",
   "pygments_lexer": "ipython2",
   "version": "2.7.6"
  }
 },
 "nbformat": 4,
 "nbformat_minor": 0
}
